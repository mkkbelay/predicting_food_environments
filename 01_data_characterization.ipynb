{
 "cells": [
  {
   "cell_type": "markdown",
   "metadata": {},
   "source": [
    "## Data Characterization\n",
    "This notebook is a continuation of the notebook titled, '00_data_merging.ipynb'. It contains code for exploring the combined data set consisting of the mRFEA index [i.e, the outcome variable] and ACS variables [i.e, feature variables]."
   ]
  },
  {
   "cell_type": "code",
   "execution_count": 1,
   "metadata": {},
   "outputs": [],
   "source": [
    "## import required packages\n",
    "import numpy as np\n",
    "import pandas as pd\n",
    "from plotnine import *\n",
    "import seaborn as sns\n",
    "import matplotlib.pyplot as plt\n",
    "%matplotlib inline\n",
    "import matplotlib.ticker as mtick\n",
    "from matplotlib.ticker import FormatStrFormatter, StrMethodFormatter\n",
    "import missingno as ms "
   ]
  },
  {
   "cell_type": "code",
   "execution_count": 2,
   "metadata": {},
   "outputs": [
    {
     "name": "stderr",
     "output_type": "stream",
     "text": [
      "/Users/mkbelay/opt/anaconda3/lib/python3.8/site-packages/IPython/core/interactiveshell.py:3071: DtypeWarning: Columns (1) have mixed types.Specify dtype option on import or set low_memory=False.\n",
      "  has_raised = await self.run_ast_nodes(code_ast.body, cell_name,\n"
     ]
    },
    {
     "data": {
      "text/html": [
       "<div>\n",
       "<style scoped>\n",
       "    .dataframe tbody tr th:only-of-type {\n",
       "        vertical-align: middle;\n",
       "    }\n",
       "\n",
       "    .dataframe tbody tr th {\n",
       "        vertical-align: top;\n",
       "    }\n",
       "\n",
       "    .dataframe thead th {\n",
       "        text-align: right;\n",
       "    }\n",
       "</style>\n",
       "<table border=\"1\" class=\"dataframe\">\n",
       "  <thead>\n",
       "    <tr style=\"text-align: right;\">\n",
       "      <th></th>\n",
       "      <th>state</th>\n",
       "      <th>mrfei</th>\n",
       "      <th>fips_modified</th>\n",
       "      <th>NAME</th>\n",
       "      <th>perc_public_transport</th>\n",
       "      <th>perc_white</th>\n",
       "      <th>perc_black</th>\n",
       "      <th>perc_hispanic</th>\n",
       "      <th>perc_asian</th>\n",
       "      <th>perc_native</th>\n",
       "      <th>...</th>\n",
       "      <th>perc_snap</th>\n",
       "      <th>inequality</th>\n",
       "      <th>unemploy</th>\n",
       "      <th>below_high_school</th>\n",
       "      <th>college_no_degree</th>\n",
       "      <th>associates_degree</th>\n",
       "      <th>bach_or_more</th>\n",
       "      <th>value</th>\n",
       "      <th>perc_no_vehicle</th>\n",
       "      <th>perc_rural</th>\n",
       "    </tr>\n",
       "  </thead>\n",
       "  <tbody>\n",
       "    <tr>\n",
       "      <th>0</th>\n",
       "      <td>AL</td>\n",
       "      <td>16.666666666666668</td>\n",
       "      <td>1400000US01001020100</td>\n",
       "      <td>Census Tract 201, Autauga County, Alabama</td>\n",
       "      <td>4.651163</td>\n",
       "      <td>78.717523</td>\n",
       "      <td>16.196794</td>\n",
       "      <td>0.829187</td>\n",
       "      <td>0.000000</td>\n",
       "      <td>0.000000</td>\n",
       "      <td>...</td>\n",
       "      <td>5.747126</td>\n",
       "      <td>0.513</td>\n",
       "      <td>3.8</td>\n",
       "      <td>10.5</td>\n",
       "      <td>17.7</td>\n",
       "      <td>6.0</td>\n",
       "      <td>25.4</td>\n",
       "      <td>120700.0</td>\n",
       "      <td>7.183908</td>\n",
       "      <td>16.631799</td>\n",
       "    </tr>\n",
       "    <tr>\n",
       "      <th>1</th>\n",
       "      <td>AL</td>\n",
       "      <td>16.666666666666668</td>\n",
       "      <td>1400000US01001020200</td>\n",
       "      <td>Census Tract 202, Autauga County, Alabama</td>\n",
       "      <td>0.000000</td>\n",
       "      <td>38.465347</td>\n",
       "      <td>59.158416</td>\n",
       "      <td>0.297030</td>\n",
       "      <td>2.079208</td>\n",
       "      <td>0.000000</td>\n",
       "      <td>...</td>\n",
       "      <td>8.904110</td>\n",
       "      <td>0.386</td>\n",
       "      <td>7.9</td>\n",
       "      <td>14.9</td>\n",
       "      <td>17.2</td>\n",
       "      <td>3.3</td>\n",
       "      <td>26.7</td>\n",
       "      <td>138500.0</td>\n",
       "      <td>15.753425</td>\n",
       "      <td>0.000000</td>\n",
       "    </tr>\n",
       "    <tr>\n",
       "      <th>2</th>\n",
       "      <td>AL</td>\n",
       "      <td>17.647058823529413</td>\n",
       "      <td>1400000US01001020300</td>\n",
       "      <td>Census Tract 203, Autauga County, Alabama</td>\n",
       "      <td>0.907912</td>\n",
       "      <td>82.020886</td>\n",
       "      <td>16.596105</td>\n",
       "      <td>1.100762</td>\n",
       "      <td>0.282247</td>\n",
       "      <td>0.000000</td>\n",
       "      <td>...</td>\n",
       "      <td>9.712510</td>\n",
       "      <td>0.405</td>\n",
       "      <td>5.7</td>\n",
       "      <td>9.5</td>\n",
       "      <td>25.0</td>\n",
       "      <td>8.5</td>\n",
       "      <td>16.4</td>\n",
       "      <td>111300.0</td>\n",
       "      <td>7.847708</td>\n",
       "      <td>0.000000</td>\n",
       "    </tr>\n",
       "    <tr>\n",
       "      <th>3</th>\n",
       "      <td>AL</td>\n",
       "      <td>13.333333333333334</td>\n",
       "      <td>1400000US01001020400</td>\n",
       "      <td>Census Tract 204, Autauga County, Alabama</td>\n",
       "      <td>0.000000</td>\n",
       "      <td>93.863636</td>\n",
       "      <td>2.314050</td>\n",
       "      <td>2.644628</td>\n",
       "      <td>0.392562</td>\n",
       "      <td>0.000000</td>\n",
       "      <td>...</td>\n",
       "      <td>6.688418</td>\n",
       "      <td>0.357</td>\n",
       "      <td>4.5</td>\n",
       "      <td>6.2</td>\n",
       "      <td>24.5</td>\n",
       "      <td>6.5</td>\n",
       "      <td>25.3</td>\n",
       "      <td>126300.0</td>\n",
       "      <td>1.033170</td>\n",
       "      <td>0.000000</td>\n",
       "    </tr>\n",
       "    <tr>\n",
       "      <th>4</th>\n",
       "      <td>AL</td>\n",
       "      <td>6.25</td>\n",
       "      <td>1400000US01001020500</td>\n",
       "      <td>Census Tract 205, Autauga County, Alabama</td>\n",
       "      <td>0.000000</td>\n",
       "      <td>80.177098</td>\n",
       "      <td>11.581807</td>\n",
       "      <td>4.739384</td>\n",
       "      <td>1.730731</td>\n",
       "      <td>0.201248</td>\n",
       "      <td>...</td>\n",
       "      <td>3.742315</td>\n",
       "      <td>0.334</td>\n",
       "      <td>3.7</td>\n",
       "      <td>2.8</td>\n",
       "      <td>22.4</td>\n",
       "      <td>6.7</td>\n",
       "      <td>37.5</td>\n",
       "      <td>173000.0</td>\n",
       "      <td>5.960973</td>\n",
       "      <td>0.037154</td>\n",
       "    </tr>\n",
       "  </tbody>\n",
       "</table>\n",
       "<p>5 rows × 25 columns</p>\n",
       "</div>"
      ],
      "text/plain": [
       "  state               mrfei         fips_modified  \\\n",
       "0    AL  16.666666666666668  1400000US01001020100   \n",
       "1    AL  16.666666666666668  1400000US01001020200   \n",
       "2    AL  17.647058823529413  1400000US01001020300   \n",
       "3    AL  13.333333333333334  1400000US01001020400   \n",
       "4    AL                6.25  1400000US01001020500   \n",
       "\n",
       "                                        NAME  perc_public_transport  \\\n",
       "0  Census Tract 201, Autauga County, Alabama               4.651163   \n",
       "1  Census Tract 202, Autauga County, Alabama               0.000000   \n",
       "2  Census Tract 203, Autauga County, Alabama               0.907912   \n",
       "3  Census Tract 204, Autauga County, Alabama               0.000000   \n",
       "4  Census Tract 205, Autauga County, Alabama               0.000000   \n",
       "\n",
       "   perc_white  perc_black  perc_hispanic  perc_asian  perc_native  ...  \\\n",
       "0   78.717523   16.196794       0.829187    0.000000     0.000000  ...   \n",
       "1   38.465347   59.158416       0.297030    2.079208     0.000000  ...   \n",
       "2   82.020886   16.596105       1.100762    0.282247     0.000000  ...   \n",
       "3   93.863636    2.314050       2.644628    0.392562     0.000000  ...   \n",
       "4   80.177098   11.581807       4.739384    1.730731     0.201248  ...   \n",
       "\n",
       "   perc_snap  inequality  unemploy  below_high_school  college_no_degree  \\\n",
       "0   5.747126       0.513       3.8               10.5               17.7   \n",
       "1   8.904110       0.386       7.9               14.9               17.2   \n",
       "2   9.712510       0.405       5.7                9.5               25.0   \n",
       "3   6.688418       0.357       4.5                6.2               24.5   \n",
       "4   3.742315       0.334       3.7                2.8               22.4   \n",
       "\n",
       "   associates_degree  bach_or_more     value  perc_no_vehicle  perc_rural  \n",
       "0                6.0          25.4  120700.0         7.183908   16.631799  \n",
       "1                3.3          26.7  138500.0        15.753425    0.000000  \n",
       "2                8.5          16.4  111300.0         7.847708    0.000000  \n",
       "3                6.5          25.3  126300.0         1.033170    0.000000  \n",
       "4                6.7          37.5  173000.0         5.960973    0.037154  \n",
       "\n",
       "[5 rows x 25 columns]"
      ]
     },
     "execution_count": 2,
     "metadata": {},
     "output_type": "execute_result"
    }
   ],
   "source": [
    "## import complete dataset with all variables merged into a single file\n",
    "df=pd.read_csv('combined_data.csv')\n",
    "df.head()"
   ]
  },
  {
   "cell_type": "code",
   "execution_count": 3,
   "metadata": {},
   "outputs": [
    {
     "data": {
      "text/plain": [
       "(65345, 25)"
      ]
     },
     "execution_count": 3,
     "metadata": {},
     "output_type": "execute_result"
    }
   ],
   "source": [
    "## check dimensions\n",
    "df.shape"
   ]
  },
  {
   "cell_type": "markdown",
   "metadata": {},
   "source": [
    "The unit of analysis for this data set is the census tract. Additionally, the data is represented in a way where each observation has a fixed set of attributes [i.e, record data]. Both of these characterizations are suitable for the goal of this project, which is to distinguish between and to characterize food deserts; food swamps; and healthful areas at the census tract level. "
   ]
  },
  {
   "cell_type": "code",
   "execution_count": 4,
   "metadata": {},
   "outputs": [
    {
     "data": {
      "text/plain": [
       "state                        0\n",
       "mrfei                     1221\n",
       "fips_modified                0\n",
       "NAME                     14591\n",
       "perc_public_transport    14591\n",
       "perc_white               14534\n",
       "perc_black               14534\n",
       "perc_hispanic            14534\n",
       "perc_asian               14534\n",
       "perc_native              14534\n",
       "perc_pacific             14534\n",
       "median_income            14671\n",
       "SQMI                     14537\n",
       "pop_density              14537\n",
       "perc_pov                 14607\n",
       "perc_snap                14622\n",
       "inequality               14648\n",
       "unemploy                 14591\n",
       "below_high_school        14539\n",
       "college_no_degree        14539\n",
       "associates_degree        14539\n",
       "bach_or_more             14539\n",
       "value                    15060\n",
       "perc_no_vehicle          14622\n",
       "perc_rural               14503\n",
       "dtype: int64"
      ]
     },
     "execution_count": 4,
     "metadata": {},
     "output_type": "execute_result"
    }
   ],
   "source": [
    "## check missingness\n",
    "df.isna().sum()"
   ]
  },
  {
   "cell_type": "markdown",
   "metadata": {},
   "source": [
    "There are 14591 observations that do not have a census tract name (i.e., the variable NAME). Since other variables like perc_public_transport and perc_black have the same number of missing values, it is very likely that this is because of the same census tracts that have an mrfei value but do not have corresponding entry in the ACS 5-year estimates. \n",
    "\n",
    "Let us see which states these census tracts belong to: "
   ]
  },
  {
   "cell_type": "code",
   "execution_count": 5,
   "metadata": {},
   "outputs": [
    {
     "data": {
      "text/html": [
       "<div>\n",
       "<style scoped>\n",
       "    .dataframe tbody tr th:only-of-type {\n",
       "        vertical-align: middle;\n",
       "    }\n",
       "\n",
       "    .dataframe tbody tr th {\n",
       "        vertical-align: top;\n",
       "    }\n",
       "\n",
       "    .dataframe thead th {\n",
       "        text-align: right;\n",
       "    }\n",
       "</style>\n",
       "<table border=\"1\" class=\"dataframe\">\n",
       "  <thead>\n",
       "    <tr style=\"text-align: right;\">\n",
       "      <th></th>\n",
       "      <th>NAME</th>\n",
       "    </tr>\n",
       "    <tr>\n",
       "      <th>state</th>\n",
       "      <th></th>\n",
       "    </tr>\n",
       "  </thead>\n",
       "  <tbody>\n",
       "    <tr>\n",
       "      <th>CA</th>\n",
       "      <td>1130.0</td>\n",
       "    </tr>\n",
       "    <tr>\n",
       "      <th>CO</th>\n",
       "      <td>1075.0</td>\n",
       "    </tr>\n",
       "    <tr>\n",
       "      <th>FL</th>\n",
       "      <td>991.0</td>\n",
       "    </tr>\n",
       "    <tr>\n",
       "      <th>TX</th>\n",
       "      <td>919.0</td>\n",
       "    </tr>\n",
       "    <tr>\n",
       "      <th>NY</th>\n",
       "      <td>750.0</td>\n",
       "    </tr>\n",
       "    <tr>\n",
       "      <th>IL</th>\n",
       "      <td>582.0</td>\n",
       "    </tr>\n",
       "    <tr>\n",
       "      <th>NC</th>\n",
       "      <td>582.0</td>\n",
       "    </tr>\n",
       "    <tr>\n",
       "      <th>GA</th>\n",
       "      <td>536.0</td>\n",
       "    </tr>\n",
       "    <tr>\n",
       "      <th>PA</th>\n",
       "      <td>515.0</td>\n",
       "    </tr>\n",
       "    <tr>\n",
       "      <th>MO</th>\n",
       "      <td>491.0</td>\n",
       "    </tr>\n",
       "    <tr>\n",
       "      <th>OH</th>\n",
       "      <td>470.0</td>\n",
       "    </tr>\n",
       "    <tr>\n",
       "      <th>VA</th>\n",
       "      <td>457.0</td>\n",
       "    </tr>\n",
       "    <tr>\n",
       "      <th>MI</th>\n",
       "      <td>417.0</td>\n",
       "    </tr>\n",
       "    <tr>\n",
       "      <th>AZ</th>\n",
       "      <td>398.0</td>\n",
       "    </tr>\n",
       "    <tr>\n",
       "      <th>MN</th>\n",
       "      <td>359.0</td>\n",
       "    </tr>\n",
       "    <tr>\n",
       "      <th>TN</th>\n",
       "      <td>342.0</td>\n",
       "    </tr>\n",
       "    <tr>\n",
       "      <th>KY</th>\n",
       "      <td>285.0</td>\n",
       "    </tr>\n",
       "    <tr>\n",
       "      <th>WI</th>\n",
       "      <td>282.0</td>\n",
       "    </tr>\n",
       "    <tr>\n",
       "      <th>OK</th>\n",
       "      <td>253.0</td>\n",
       "    </tr>\n",
       "    <tr>\n",
       "      <th>SC</th>\n",
       "      <td>249.0</td>\n",
       "    </tr>\n",
       "    <tr>\n",
       "      <th>IA</th>\n",
       "      <td>238.0</td>\n",
       "    </tr>\n",
       "    <tr>\n",
       "      <th>NJ</th>\n",
       "      <td>236.0</td>\n",
       "    </tr>\n",
       "    <tr>\n",
       "      <th>MD</th>\n",
       "      <td>221.0</td>\n",
       "    </tr>\n",
       "    <tr>\n",
       "      <th>AL</th>\n",
       "      <td>210.0</td>\n",
       "    </tr>\n",
       "    <tr>\n",
       "      <th>WA</th>\n",
       "      <td>203.0</td>\n",
       "    </tr>\n",
       "    <tr>\n",
       "      <th>AR</th>\n",
       "      <td>201.0</td>\n",
       "    </tr>\n",
       "    <tr>\n",
       "      <th>IN</th>\n",
       "      <td>175.0</td>\n",
       "    </tr>\n",
       "    <tr>\n",
       "      <th>MA</th>\n",
       "      <td>175.0</td>\n",
       "    </tr>\n",
       "    <tr>\n",
       "      <th>LA</th>\n",
       "      <td>168.0</td>\n",
       "    </tr>\n",
       "    <tr>\n",
       "      <th>NV</th>\n",
       "      <td>164.0</td>\n",
       "    </tr>\n",
       "    <tr>\n",
       "      <th>KS</th>\n",
       "      <td>153.0</td>\n",
       "    </tr>\n",
       "    <tr>\n",
       "      <th>NE</th>\n",
       "      <td>141.0</td>\n",
       "    </tr>\n",
       "    <tr>\n",
       "      <th>UT</th>\n",
       "      <td>133.0</td>\n",
       "    </tr>\n",
       "    <tr>\n",
       "      <th>NM</th>\n",
       "      <td>129.0</td>\n",
       "    </tr>\n",
       "    <tr>\n",
       "      <th>OR</th>\n",
       "      <td>115.0</td>\n",
       "    </tr>\n",
       "    <tr>\n",
       "      <th>SD</th>\n",
       "      <td>107.0</td>\n",
       "    </tr>\n",
       "    <tr>\n",
       "      <th>WV</th>\n",
       "      <td>96.0</td>\n",
       "    </tr>\n",
       "    <tr>\n",
       "      <th>MS</th>\n",
       "      <td>82.0</td>\n",
       "    </tr>\n",
       "    <tr>\n",
       "      <th>MT</th>\n",
       "      <td>79.0</td>\n",
       "    </tr>\n",
       "    <tr>\n",
       "      <th>ID</th>\n",
       "      <td>74.0</td>\n",
       "    </tr>\n",
       "    <tr>\n",
       "      <th>HI</th>\n",
       "      <td>72.0</td>\n",
       "    </tr>\n",
       "    <tr>\n",
       "      <th>ME</th>\n",
       "      <td>70.0</td>\n",
       "    </tr>\n",
       "    <tr>\n",
       "      <th>ND</th>\n",
       "      <td>67.0</td>\n",
       "    </tr>\n",
       "    <tr>\n",
       "      <th>CT</th>\n",
       "      <td>51.0</td>\n",
       "    </tr>\n",
       "    <tr>\n",
       "      <th>DE</th>\n",
       "      <td>42.0</td>\n",
       "    </tr>\n",
       "    <tr>\n",
       "      <th>DC</th>\n",
       "      <td>27.0</td>\n",
       "    </tr>\n",
       "    <tr>\n",
       "      <th>NH</th>\n",
       "      <td>23.0</td>\n",
       "    </tr>\n",
       "    <tr>\n",
       "      <th>WY</th>\n",
       "      <td>21.0</td>\n",
       "    </tr>\n",
       "    <tr>\n",
       "      <th>AK</th>\n",
       "      <td>20.0</td>\n",
       "    </tr>\n",
       "    <tr>\n",
       "      <th>VT</th>\n",
       "      <td>8.0</td>\n",
       "    </tr>\n",
       "    <tr>\n",
       "      <th>RI</th>\n",
       "      <td>7.0</td>\n",
       "    </tr>\n",
       "  </tbody>\n",
       "</table>\n",
       "</div>"
      ],
      "text/plain": [
       "         NAME\n",
       "state        \n",
       "CA     1130.0\n",
       "CO     1075.0\n",
       "FL      991.0\n",
       "TX      919.0\n",
       "NY      750.0\n",
       "IL      582.0\n",
       "NC      582.0\n",
       "GA      536.0\n",
       "PA      515.0\n",
       "MO      491.0\n",
       "OH      470.0\n",
       "VA      457.0\n",
       "MI      417.0\n",
       "AZ      398.0\n",
       "MN      359.0\n",
       "TN      342.0\n",
       "KY      285.0\n",
       "WI      282.0\n",
       "OK      253.0\n",
       "SC      249.0\n",
       "IA      238.0\n",
       "NJ      236.0\n",
       "MD      221.0\n",
       "AL      210.0\n",
       "WA      203.0\n",
       "AR      201.0\n",
       "IN      175.0\n",
       "MA      175.0\n",
       "LA      168.0\n",
       "NV      164.0\n",
       "KS      153.0\n",
       "NE      141.0\n",
       "UT      133.0\n",
       "NM      129.0\n",
       "OR      115.0\n",
       "SD      107.0\n",
       "WV       96.0\n",
       "MS       82.0\n",
       "MT       79.0\n",
       "ID       74.0\n",
       "HI       72.0\n",
       "ME       70.0\n",
       "ND       67.0\n",
       "CT       51.0\n",
       "DE       42.0\n",
       "DC       27.0\n",
       "NH       23.0\n",
       "WY       21.0\n",
       "AK       20.0\n",
       "VT        8.0\n",
       "RI        7.0"
      ]
     },
     "execution_count": 5,
     "metadata": {},
     "output_type": "execute_result"
    }
   ],
   "source": [
    "df.drop('state',1).isna().groupby(df.state).sum().sort_values(by=['NAME'], ascending=False).filter(['NAME'])"
   ]
  },
  {
   "cell_type": "markdown",
   "metadata": {},
   "source": [
    "CA has the most missing values where census tracts in the mRFEI Index do not have a corresponding value in the ACS data. This could affect the generalizability of the results; there may be a reason for this systematic missingness."
   ]
  },
  {
   "cell_type": "markdown",
   "metadata": {},
   "source": [
    "### Outcome variable: mRFEI Index"
   ]
  },
  {
   "cell_type": "code",
   "execution_count": 6,
   "metadata": {},
   "outputs": [
    {
     "data": {
      "text/plain": [
       "dtype('O')"
      ]
     },
     "execution_count": 6,
     "metadata": {},
     "output_type": "execute_result"
    }
   ],
   "source": [
    "## view outcome dtype\n",
    "df.mrfei.dtype"
   ]
  },
  {
   "cell_type": "code",
   "execution_count": 7,
   "metadata": {},
   "outputs": [],
   "source": [
    "## convert mrfei to float dtype\n",
    "df['mrfei']=pd.to_numeric(df['mrfei'], errors='coerce')"
   ]
  },
  {
   "cell_type": "code",
   "execution_count": 8,
   "metadata": {
    "scrolled": true
   },
   "outputs": [
    {
     "data": {
      "text/plain": [
       "0    16.666667\n",
       "1    16.666667\n",
       "2    17.647059\n",
       "3    13.333333\n",
       "4     6.250000\n",
       "Name: mrfei, dtype: float64"
      ]
     },
     "execution_count": 8,
     "metadata": {},
     "output_type": "execute_result"
    }
   ],
   "source": [
    "## view variable values\n",
    "df.mrfei.head()"
   ]
  },
  {
   "cell_type": "markdown",
   "metadata": {},
   "source": [
    "**Explore missingness in the outcome variable**"
   ]
  },
  {
   "cell_type": "code",
   "execution_count": 9,
   "metadata": {},
   "outputs": [
    {
     "data": {
      "text/html": [
       "<div>\n",
       "<style scoped>\n",
       "    .dataframe tbody tr th:only-of-type {\n",
       "        vertical-align: middle;\n",
       "    }\n",
       "\n",
       "    .dataframe tbody tr th {\n",
       "        vertical-align: top;\n",
       "    }\n",
       "\n",
       "    .dataframe thead th {\n",
       "        text-align: right;\n",
       "    }\n",
       "</style>\n",
       "<table border=\"1\" class=\"dataframe\">\n",
       "  <thead>\n",
       "    <tr style=\"text-align: right;\">\n",
       "      <th></th>\n",
       "      <th>mrfei</th>\n",
       "      <th>state</th>\n",
       "    </tr>\n",
       "  </thead>\n",
       "  <tbody>\n",
       "    <tr>\n",
       "      <th>0</th>\n",
       "      <td>16.666667</td>\n",
       "      <td>AL</td>\n",
       "    </tr>\n",
       "    <tr>\n",
       "      <th>1</th>\n",
       "      <td>16.666667</td>\n",
       "      <td>AL</td>\n",
       "    </tr>\n",
       "    <tr>\n",
       "      <th>2</th>\n",
       "      <td>17.647059</td>\n",
       "      <td>AL</td>\n",
       "    </tr>\n",
       "    <tr>\n",
       "      <th>3</th>\n",
       "      <td>13.333333</td>\n",
       "      <td>AL</td>\n",
       "    </tr>\n",
       "    <tr>\n",
       "      <th>4</th>\n",
       "      <td>6.250000</td>\n",
       "      <td>AL</td>\n",
       "    </tr>\n",
       "  </tbody>\n",
       "</table>\n",
       "</div>"
      ],
      "text/plain": [
       "       mrfei state\n",
       "0  16.666667    AL\n",
       "1  16.666667    AL\n",
       "2  17.647059    AL\n",
       "3  13.333333    AL\n",
       "4   6.250000    AL"
      ]
     },
     "execution_count": 9,
     "metadata": {},
     "output_type": "execute_result"
    }
   ],
   "source": [
    "## create dataframe with just mrfei and state variables\n",
    "df_mrfei=df.filter(['mrfei', 'state'])\n",
    "df_mrfei.head()"
   ]
  },
  {
   "cell_type": "code",
   "execution_count": 10,
   "metadata": {},
   "outputs": [
    {
     "data": {
      "text/html": [
       "<div>\n",
       "<style scoped>\n",
       "    .dataframe tbody tr th:only-of-type {\n",
       "        vertical-align: middle;\n",
       "    }\n",
       "\n",
       "    .dataframe tbody tr th {\n",
       "        vertical-align: top;\n",
       "    }\n",
       "\n",
       "    .dataframe thead th {\n",
       "        text-align: right;\n",
       "    }\n",
       "</style>\n",
       "<table border=\"1\" class=\"dataframe\">\n",
       "  <thead>\n",
       "    <tr style=\"text-align: right;\">\n",
       "      <th></th>\n",
       "      <th>state</th>\n",
       "      <th>mrfei</th>\n",
       "    </tr>\n",
       "  </thead>\n",
       "  <tbody>\n",
       "    <tr>\n",
       "      <th>0</th>\n",
       "      <td>AK</td>\n",
       "      <td>143</td>\n",
       "    </tr>\n",
       "    <tr>\n",
       "      <th>1</th>\n",
       "      <td>AL</td>\n",
       "      <td>1073</td>\n",
       "    </tr>\n",
       "    <tr>\n",
       "      <th>2</th>\n",
       "      <td>AR</td>\n",
       "      <td>615</td>\n",
       "    </tr>\n",
       "    <tr>\n",
       "      <th>3</th>\n",
       "      <td>AZ</td>\n",
       "      <td>1071</td>\n",
       "    </tr>\n",
       "    <tr>\n",
       "      <th>4</th>\n",
       "      <td>CA</td>\n",
       "      <td>6962</td>\n",
       "    </tr>\n",
       "    <tr>\n",
       "      <th>5</th>\n",
       "      <td>CO</td>\n",
       "      <td>1050</td>\n",
       "    </tr>\n",
       "    <tr>\n",
       "      <th>6</th>\n",
       "      <td>CT</td>\n",
       "      <td>805</td>\n",
       "    </tr>\n",
       "    <tr>\n",
       "      <th>7</th>\n",
       "      <td>DC</td>\n",
       "      <td>188</td>\n",
       "    </tr>\n",
       "    <tr>\n",
       "      <th>8</th>\n",
       "      <td>DE</td>\n",
       "      <td>194</td>\n",
       "    </tr>\n",
       "    <tr>\n",
       "      <th>9</th>\n",
       "      <td>FL</td>\n",
       "      <td>3129</td>\n",
       "    </tr>\n",
       "  </tbody>\n",
       "</table>\n",
       "</div>"
      ],
      "text/plain": [
       "  state  mrfei\n",
       "0    AK    143\n",
       "1    AL   1073\n",
       "2    AR    615\n",
       "3    AZ   1071\n",
       "4    CA   6962\n",
       "5    CO   1050\n",
       "6    CT    805\n",
       "7    DC    188\n",
       "8    DE    194\n",
       "9    FL   3129"
      ]
     },
     "execution_count": 10,
     "metadata": {},
     "output_type": "execute_result"
    }
   ],
   "source": [
    "## query and save number of observations for each state [this does not include missing values]\n",
    "state_obs=df_mrfei.groupby(df_mrfei.state).count().reset_index()\n",
    "state_obs.head(10)"
   ]
  },
  {
   "cell_type": "code",
   "execution_count": 11,
   "metadata": {},
   "outputs": [
    {
     "data": {
      "text/html": [
       "<div>\n",
       "<style scoped>\n",
       "    .dataframe tbody tr th:only-of-type {\n",
       "        vertical-align: middle;\n",
       "    }\n",
       "\n",
       "    .dataframe tbody tr th {\n",
       "        vertical-align: top;\n",
       "    }\n",
       "\n",
       "    .dataframe thead th {\n",
       "        text-align: right;\n",
       "    }\n",
       "</style>\n",
       "<table border=\"1\" class=\"dataframe\">\n",
       "  <thead>\n",
       "    <tr style=\"text-align: right;\">\n",
       "      <th></th>\n",
       "      <th>state</th>\n",
       "      <th>mrfei</th>\n",
       "    </tr>\n",
       "  </thead>\n",
       "  <tbody>\n",
       "    <tr>\n",
       "      <th>0</th>\n",
       "      <td>AK</td>\n",
       "      <td>15.0</td>\n",
       "    </tr>\n",
       "    <tr>\n",
       "      <th>1</th>\n",
       "      <td>AL</td>\n",
       "      <td>8.0</td>\n",
       "    </tr>\n",
       "    <tr>\n",
       "      <th>2</th>\n",
       "      <td>AR</td>\n",
       "      <td>9.0</td>\n",
       "    </tr>\n",
       "    <tr>\n",
       "      <th>3</th>\n",
       "      <td>AZ</td>\n",
       "      <td>36.0</td>\n",
       "    </tr>\n",
       "    <tr>\n",
       "      <th>4</th>\n",
       "      <td>CA</td>\n",
       "      <td>87.0</td>\n",
       "    </tr>\n",
       "  </tbody>\n",
       "</table>\n",
       "</div>"
      ],
      "text/plain": [
       "  state  mrfei\n",
       "0    AK   15.0\n",
       "1    AL    8.0\n",
       "2    AR    9.0\n",
       "3    AZ   36.0\n",
       "4    CA   87.0"
      ]
     },
     "execution_count": 11,
     "metadata": {},
     "output_type": "execute_result"
    }
   ],
   "source": [
    "## query and save number of missing values for each state\n",
    "state_miss=df_mrfei.drop('state',1).isna().groupby(df_mrfei.state).sum().reset_index()\n",
    "state_miss.head()"
   ]
  },
  {
   "cell_type": "code",
   "execution_count": 12,
   "metadata": {},
   "outputs": [
    {
     "data": {
      "text/html": [
       "<div>\n",
       "<style scoped>\n",
       "    .dataframe tbody tr th:only-of-type {\n",
       "        vertical-align: middle;\n",
       "    }\n",
       "\n",
       "    .dataframe tbody tr th {\n",
       "        vertical-align: top;\n",
       "    }\n",
       "\n",
       "    .dataframe thead th {\n",
       "        text-align: right;\n",
       "    }\n",
       "</style>\n",
       "<table border=\"1\" class=\"dataframe\">\n",
       "  <thead>\n",
       "    <tr style=\"text-align: right;\">\n",
       "      <th></th>\n",
       "      <th>state</th>\n",
       "      <th>mrfei_x</th>\n",
       "      <th>mrfei_y</th>\n",
       "    </tr>\n",
       "  </thead>\n",
       "  <tbody>\n",
       "    <tr>\n",
       "      <th>0</th>\n",
       "      <td>AK</td>\n",
       "      <td>143</td>\n",
       "      <td>15.0</td>\n",
       "    </tr>\n",
       "    <tr>\n",
       "      <th>1</th>\n",
       "      <td>AL</td>\n",
       "      <td>1073</td>\n",
       "      <td>8.0</td>\n",
       "    </tr>\n",
       "    <tr>\n",
       "      <th>2</th>\n",
       "      <td>AR</td>\n",
       "      <td>615</td>\n",
       "      <td>9.0</td>\n",
       "    </tr>\n",
       "    <tr>\n",
       "      <th>3</th>\n",
       "      <td>AZ</td>\n",
       "      <td>1071</td>\n",
       "      <td>36.0</td>\n",
       "    </tr>\n",
       "    <tr>\n",
       "      <th>4</th>\n",
       "      <td>CA</td>\n",
       "      <td>6962</td>\n",
       "      <td>87.0</td>\n",
       "    </tr>\n",
       "  </tbody>\n",
       "</table>\n",
       "</div>"
      ],
      "text/plain": [
       "  state  mrfei_x  mrfei_y\n",
       "0    AK      143     15.0\n",
       "1    AL     1073      8.0\n",
       "2    AR      615      9.0\n",
       "3    AZ     1071     36.0\n",
       "4    CA     6962     87.0"
      ]
     },
     "execution_count": 12,
     "metadata": {},
     "output_type": "execute_result"
    }
   ],
   "source": [
    "## merge observation and missing data by state\n",
    "state_obs=state_obs.merge(state_miss, how='left', on='state').filter(['state', 'mrfei_x', 'mrfei_y'])#keep only state, number of observations [excluding those with missing]; and number of missing values\n",
    "state_obs.head()"
   ]
  },
  {
   "cell_type": "code",
   "execution_count": 13,
   "metadata": {},
   "outputs": [],
   "source": [
    "#sum columns to get total observations by state\n",
    "state_obs['total']=state_obs.mrfei_x + state_obs.mrfei_y"
   ]
  },
  {
   "cell_type": "code",
   "execution_count": 14,
   "metadata": {},
   "outputs": [
    {
     "data": {
      "text/html": [
       "<div>\n",
       "<style scoped>\n",
       "    .dataframe tbody tr th:only-of-type {\n",
       "        vertical-align: middle;\n",
       "    }\n",
       "\n",
       "    .dataframe tbody tr th {\n",
       "        vertical-align: top;\n",
       "    }\n",
       "\n",
       "    .dataframe thead th {\n",
       "        text-align: right;\n",
       "    }\n",
       "</style>\n",
       "<table border=\"1\" class=\"dataframe\">\n",
       "  <thead>\n",
       "    <tr style=\"text-align: right;\">\n",
       "      <th></th>\n",
       "      <th>state</th>\n",
       "      <th>mrfei_x</th>\n",
       "      <th>mrfei_y</th>\n",
       "      <th>total</th>\n",
       "      <th>perc_missing</th>\n",
       "    </tr>\n",
       "  </thead>\n",
       "  <tbody>\n",
       "    <tr>\n",
       "      <th>41</th>\n",
       "      <td>SD</td>\n",
       "      <td>201</td>\n",
       "      <td>34.0</td>\n",
       "      <td>235.0</td>\n",
       "      <td>14.468085</td>\n",
       "    </tr>\n",
       "    <tr>\n",
       "      <th>26</th>\n",
       "      <td>MT</td>\n",
       "      <td>237</td>\n",
       "      <td>33.0</td>\n",
       "      <td>270.0</td>\n",
       "      <td>12.222222</td>\n",
       "    </tr>\n",
       "    <tr>\n",
       "      <th>28</th>\n",
       "      <td>ND</td>\n",
       "      <td>200</td>\n",
       "      <td>27.0</td>\n",
       "      <td>227.0</td>\n",
       "      <td>11.894273</td>\n",
       "    </tr>\n",
       "    <tr>\n",
       "      <th>32</th>\n",
       "      <td>NM</td>\n",
       "      <td>411</td>\n",
       "      <td>45.0</td>\n",
       "      <td>456.0</td>\n",
       "      <td>9.868421</td>\n",
       "    </tr>\n",
       "    <tr>\n",
       "      <th>0</th>\n",
       "      <td>AK</td>\n",
       "      <td>143</td>\n",
       "      <td>15.0</td>\n",
       "      <td>158.0</td>\n",
       "      <td>9.493671</td>\n",
       "    </tr>\n",
       "    <tr>\n",
       "      <th>46</th>\n",
       "      <td>VT</td>\n",
       "      <td>167</td>\n",
       "      <td>12.0</td>\n",
       "      <td>179.0</td>\n",
       "      <td>6.703911</td>\n",
       "    </tr>\n",
       "    <tr>\n",
       "      <th>13</th>\n",
       "      <td>ID</td>\n",
       "      <td>265</td>\n",
       "      <td>15.0</td>\n",
       "      <td>280.0</td>\n",
       "      <td>5.357143</td>\n",
       "    </tr>\n",
       "    <tr>\n",
       "      <th>21</th>\n",
       "      <td>ME</td>\n",
       "      <td>326</td>\n",
       "      <td>18.0</td>\n",
       "      <td>344.0</td>\n",
       "      <td>5.232558</td>\n",
       "    </tr>\n",
       "    <tr>\n",
       "      <th>11</th>\n",
       "      <td>HI</td>\n",
       "      <td>271</td>\n",
       "      <td>14.0</td>\n",
       "      <td>285.0</td>\n",
       "      <td>4.912281</td>\n",
       "    </tr>\n",
       "    <tr>\n",
       "      <th>29</th>\n",
       "      <td>NE</td>\n",
       "      <td>481</td>\n",
       "      <td>22.0</td>\n",
       "      <td>503.0</td>\n",
       "      <td>4.373757</td>\n",
       "    </tr>\n",
       "    <tr>\n",
       "      <th>23</th>\n",
       "      <td>MN</td>\n",
       "      <td>1250</td>\n",
       "      <td>51.0</td>\n",
       "      <td>1301.0</td>\n",
       "      <td>3.920061</td>\n",
       "    </tr>\n",
       "    <tr>\n",
       "      <th>3</th>\n",
       "      <td>AZ</td>\n",
       "      <td>1071</td>\n",
       "      <td>36.0</td>\n",
       "      <td>1107.0</td>\n",
       "      <td>3.252033</td>\n",
       "    </tr>\n",
       "    <tr>\n",
       "      <th>33</th>\n",
       "      <td>NV</td>\n",
       "      <td>473</td>\n",
       "      <td>14.0</td>\n",
       "      <td>487.0</td>\n",
       "      <td>2.874743</td>\n",
       "    </tr>\n",
       "    <tr>\n",
       "      <th>36</th>\n",
       "      <td>OK</td>\n",
       "      <td>962</td>\n",
       "      <td>28.0</td>\n",
       "      <td>990.0</td>\n",
       "      <td>2.828283</td>\n",
       "    </tr>\n",
       "    <tr>\n",
       "      <th>44</th>\n",
       "      <td>UT</td>\n",
       "      <td>482</td>\n",
       "      <td>14.0</td>\n",
       "      <td>496.0</td>\n",
       "      <td>2.822581</td>\n",
       "    </tr>\n",
       "    <tr>\n",
       "      <th>16</th>\n",
       "      <td>KS</td>\n",
       "      <td>707</td>\n",
       "      <td>20.0</td>\n",
       "      <td>727.0</td>\n",
       "      <td>2.751032</td>\n",
       "    </tr>\n",
       "    <tr>\n",
       "      <th>47</th>\n",
       "      <td>WA</td>\n",
       "      <td>1283</td>\n",
       "      <td>35.0</td>\n",
       "      <td>1318.0</td>\n",
       "      <td>2.655539</td>\n",
       "    </tr>\n",
       "    <tr>\n",
       "      <th>30</th>\n",
       "      <td>NH</td>\n",
       "      <td>265</td>\n",
       "      <td>7.0</td>\n",
       "      <td>272.0</td>\n",
       "      <td>2.573529</td>\n",
       "    </tr>\n",
       "    <tr>\n",
       "      <th>22</th>\n",
       "      <td>MI</td>\n",
       "      <td>2649</td>\n",
       "      <td>69.0</td>\n",
       "      <td>2718.0</td>\n",
       "      <td>2.538631</td>\n",
       "    </tr>\n",
       "    <tr>\n",
       "      <th>12</th>\n",
       "      <td>IA</td>\n",
       "      <td>773</td>\n",
       "      <td>20.0</td>\n",
       "      <td>793.0</td>\n",
       "      <td>2.522068</td>\n",
       "    </tr>\n",
       "    <tr>\n",
       "      <th>38</th>\n",
       "      <td>PA</td>\n",
       "      <td>3057</td>\n",
       "      <td>77.0</td>\n",
       "      <td>3134.0</td>\n",
       "      <td>2.456924</td>\n",
       "    </tr>\n",
       "    <tr>\n",
       "      <th>49</th>\n",
       "      <td>WV</td>\n",
       "      <td>455</td>\n",
       "      <td>11.0</td>\n",
       "      <td>466.0</td>\n",
       "      <td>2.360515</td>\n",
       "    </tr>\n",
       "    <tr>\n",
       "      <th>5</th>\n",
       "      <td>CO</td>\n",
       "      <td>1050</td>\n",
       "      <td>25.0</td>\n",
       "      <td>1075.0</td>\n",
       "      <td>2.325581</td>\n",
       "    </tr>\n",
       "    <tr>\n",
       "      <th>15</th>\n",
       "      <td>IN</td>\n",
       "      <td>1381</td>\n",
       "      <td>31.0</td>\n",
       "      <td>1412.0</td>\n",
       "      <td>2.195467</td>\n",
       "    </tr>\n",
       "    <tr>\n",
       "      <th>48</th>\n",
       "      <td>WI</td>\n",
       "      <td>1297</td>\n",
       "      <td>26.0</td>\n",
       "      <td>1323.0</td>\n",
       "      <td>1.965231</td>\n",
       "    </tr>\n",
       "    <tr>\n",
       "      <th>17</th>\n",
       "      <td>KY</td>\n",
       "      <td>975</td>\n",
       "      <td>19.0</td>\n",
       "      <td>994.0</td>\n",
       "      <td>1.911469</td>\n",
       "    </tr>\n",
       "    <tr>\n",
       "      <th>35</th>\n",
       "      <td>OH</td>\n",
       "      <td>2882</td>\n",
       "      <td>54.0</td>\n",
       "      <td>2936.0</td>\n",
       "      <td>1.839237</td>\n",
       "    </tr>\n",
       "    <tr>\n",
       "      <th>45</th>\n",
       "      <td>VA</td>\n",
       "      <td>1506</td>\n",
       "      <td>26.0</td>\n",
       "      <td>1532.0</td>\n",
       "      <td>1.697128</td>\n",
       "    </tr>\n",
       "    <tr>\n",
       "      <th>50</th>\n",
       "      <td>WY</td>\n",
       "      <td>125</td>\n",
       "      <td>2.0</td>\n",
       "      <td>127.0</td>\n",
       "      <td>1.574803</td>\n",
       "    </tr>\n",
       "    <tr>\n",
       "      <th>8</th>\n",
       "      <td>DE</td>\n",
       "      <td>194</td>\n",
       "      <td>3.0</td>\n",
       "      <td>197.0</td>\n",
       "      <td>1.522843</td>\n",
       "    </tr>\n",
       "    <tr>\n",
       "      <th>43</th>\n",
       "      <td>TX</td>\n",
       "      <td>4322</td>\n",
       "      <td>66.0</td>\n",
       "      <td>4388.0</td>\n",
       "      <td>1.504102</td>\n",
       "    </tr>\n",
       "    <tr>\n",
       "      <th>2</th>\n",
       "      <td>AR</td>\n",
       "      <td>615</td>\n",
       "      <td>9.0</td>\n",
       "      <td>624.0</td>\n",
       "      <td>1.442308</td>\n",
       "    </tr>\n",
       "    <tr>\n",
       "      <th>6</th>\n",
       "      <td>CT</td>\n",
       "      <td>805</td>\n",
       "      <td>11.0</td>\n",
       "      <td>816.0</td>\n",
       "      <td>1.348039</td>\n",
       "    </tr>\n",
       "    <tr>\n",
       "      <th>31</th>\n",
       "      <td>NJ</td>\n",
       "      <td>1920</td>\n",
       "      <td>25.0</td>\n",
       "      <td>1945.0</td>\n",
       "      <td>1.285347</td>\n",
       "    </tr>\n",
       "    <tr>\n",
       "      <th>14</th>\n",
       "      <td>IL</td>\n",
       "      <td>2929</td>\n",
       "      <td>37.0</td>\n",
       "      <td>2966.0</td>\n",
       "      <td>1.247471</td>\n",
       "    </tr>\n",
       "    <tr>\n",
       "      <th>19</th>\n",
       "      <td>MA</td>\n",
       "      <td>1346</td>\n",
       "      <td>17.0</td>\n",
       "      <td>1363.0</td>\n",
       "      <td>1.247249</td>\n",
       "    </tr>\n",
       "    <tr>\n",
       "      <th>10</th>\n",
       "      <td>GA</td>\n",
       "      <td>1598</td>\n",
       "      <td>20.0</td>\n",
       "      <td>1618.0</td>\n",
       "      <td>1.236094</td>\n",
       "    </tr>\n",
       "    <tr>\n",
       "      <th>4</th>\n",
       "      <td>CA</td>\n",
       "      <td>6962</td>\n",
       "      <td>87.0</td>\n",
       "      <td>7049.0</td>\n",
       "      <td>1.234218</td>\n",
       "    </tr>\n",
       "    <tr>\n",
       "      <th>20</th>\n",
       "      <td>MD</td>\n",
       "      <td>1201</td>\n",
       "      <td>15.0</td>\n",
       "      <td>1216.0</td>\n",
       "      <td>1.233553</td>\n",
       "    </tr>\n",
       "    <tr>\n",
       "      <th>34</th>\n",
       "      <td>NY</td>\n",
       "      <td>4836</td>\n",
       "      <td>57.0</td>\n",
       "      <td>4893.0</td>\n",
       "      <td>1.164929</td>\n",
       "    </tr>\n",
       "    <tr>\n",
       "      <th>24</th>\n",
       "      <td>MO</td>\n",
       "      <td>1305</td>\n",
       "      <td>15.0</td>\n",
       "      <td>1320.0</td>\n",
       "      <td>1.136364</td>\n",
       "    </tr>\n",
       "    <tr>\n",
       "      <th>37</th>\n",
       "      <td>OR</td>\n",
       "      <td>747</td>\n",
       "      <td>8.0</td>\n",
       "      <td>755.0</td>\n",
       "      <td>1.059603</td>\n",
       "    </tr>\n",
       "    <tr>\n",
       "      <th>42</th>\n",
       "      <td>TN</td>\n",
       "      <td>1249</td>\n",
       "      <td>12.0</td>\n",
       "      <td>1261.0</td>\n",
       "      <td>0.951626</td>\n",
       "    </tr>\n",
       "    <tr>\n",
       "      <th>40</th>\n",
       "      <td>SC</td>\n",
       "      <td>860</td>\n",
       "      <td>7.0</td>\n",
       "      <td>867.0</td>\n",
       "      <td>0.807382</td>\n",
       "    </tr>\n",
       "    <tr>\n",
       "      <th>9</th>\n",
       "      <td>FL</td>\n",
       "      <td>3129</td>\n",
       "      <td>25.0</td>\n",
       "      <td>3154.0</td>\n",
       "      <td>0.792644</td>\n",
       "    </tr>\n",
       "    <tr>\n",
       "      <th>1</th>\n",
       "      <td>AL</td>\n",
       "      <td>1073</td>\n",
       "      <td>8.0</td>\n",
       "      <td>1081.0</td>\n",
       "      <td>0.740056</td>\n",
       "    </tr>\n",
       "    <tr>\n",
       "      <th>18</th>\n",
       "      <td>LA</td>\n",
       "      <td>1098</td>\n",
       "      <td>8.0</td>\n",
       "      <td>1106.0</td>\n",
       "      <td>0.723327</td>\n",
       "    </tr>\n",
       "    <tr>\n",
       "      <th>25</th>\n",
       "      <td>MS</td>\n",
       "      <td>601</td>\n",
       "      <td>4.0</td>\n",
       "      <td>605.0</td>\n",
       "      <td>0.661157</td>\n",
       "    </tr>\n",
       "    <tr>\n",
       "      <th>27</th>\n",
       "      <td>NC</td>\n",
       "      <td>1545</td>\n",
       "      <td>10.0</td>\n",
       "      <td>1555.0</td>\n",
       "      <td>0.643087</td>\n",
       "    </tr>\n",
       "    <tr>\n",
       "      <th>39</th>\n",
       "      <td>RI</td>\n",
       "      <td>232</td>\n",
       "      <td>1.0</td>\n",
       "      <td>233.0</td>\n",
       "      <td>0.429185</td>\n",
       "    </tr>\n",
       "    <tr>\n",
       "      <th>7</th>\n",
       "      <td>DC</td>\n",
       "      <td>188</td>\n",
       "      <td>0.0</td>\n",
       "      <td>188.0</td>\n",
       "      <td>0.000000</td>\n",
       "    </tr>\n",
       "  </tbody>\n",
       "</table>\n",
       "</div>"
      ],
      "text/plain": [
       "   state  mrfei_x  mrfei_y   total  perc_missing\n",
       "41    SD      201     34.0   235.0     14.468085\n",
       "26    MT      237     33.0   270.0     12.222222\n",
       "28    ND      200     27.0   227.0     11.894273\n",
       "32    NM      411     45.0   456.0      9.868421\n",
       "0     AK      143     15.0   158.0      9.493671\n",
       "46    VT      167     12.0   179.0      6.703911\n",
       "13    ID      265     15.0   280.0      5.357143\n",
       "21    ME      326     18.0   344.0      5.232558\n",
       "11    HI      271     14.0   285.0      4.912281\n",
       "29    NE      481     22.0   503.0      4.373757\n",
       "23    MN     1250     51.0  1301.0      3.920061\n",
       "3     AZ     1071     36.0  1107.0      3.252033\n",
       "33    NV      473     14.0   487.0      2.874743\n",
       "36    OK      962     28.0   990.0      2.828283\n",
       "44    UT      482     14.0   496.0      2.822581\n",
       "16    KS      707     20.0   727.0      2.751032\n",
       "47    WA     1283     35.0  1318.0      2.655539\n",
       "30    NH      265      7.0   272.0      2.573529\n",
       "22    MI     2649     69.0  2718.0      2.538631\n",
       "12    IA      773     20.0   793.0      2.522068\n",
       "38    PA     3057     77.0  3134.0      2.456924\n",
       "49    WV      455     11.0   466.0      2.360515\n",
       "5     CO     1050     25.0  1075.0      2.325581\n",
       "15    IN     1381     31.0  1412.0      2.195467\n",
       "48    WI     1297     26.0  1323.0      1.965231\n",
       "17    KY      975     19.0   994.0      1.911469\n",
       "35    OH     2882     54.0  2936.0      1.839237\n",
       "45    VA     1506     26.0  1532.0      1.697128\n",
       "50    WY      125      2.0   127.0      1.574803\n",
       "8     DE      194      3.0   197.0      1.522843\n",
       "43    TX     4322     66.0  4388.0      1.504102\n",
       "2     AR      615      9.0   624.0      1.442308\n",
       "6     CT      805     11.0   816.0      1.348039\n",
       "31    NJ     1920     25.0  1945.0      1.285347\n",
       "14    IL     2929     37.0  2966.0      1.247471\n",
       "19    MA     1346     17.0  1363.0      1.247249\n",
       "10    GA     1598     20.0  1618.0      1.236094\n",
       "4     CA     6962     87.0  7049.0      1.234218\n",
       "20    MD     1201     15.0  1216.0      1.233553\n",
       "34    NY     4836     57.0  4893.0      1.164929\n",
       "24    MO     1305     15.0  1320.0      1.136364\n",
       "37    OR      747      8.0   755.0      1.059603\n",
       "42    TN     1249     12.0  1261.0      0.951626\n",
       "40    SC      860      7.0   867.0      0.807382\n",
       "9     FL     3129     25.0  3154.0      0.792644\n",
       "1     AL     1073      8.0  1081.0      0.740056\n",
       "18    LA     1098      8.0  1106.0      0.723327\n",
       "25    MS      601      4.0   605.0      0.661157\n",
       "27    NC     1545     10.0  1555.0      0.643087\n",
       "39    RI      232      1.0   233.0      0.429185\n",
       "7     DC      188      0.0   188.0      0.000000"
      ]
     },
     "execution_count": 14,
     "metadata": {},
     "output_type": "execute_result"
    }
   ],
   "source": [
    "# calculate percent missing observations for each state\n",
    "state_obs['perc_missing']=(state_obs.mrfei_y/state_obs.total)*100\n",
    "state_obs.sort_values(by=['perc_missing'], ascending=False)"
   ]
  },
  {
   "cell_type": "markdown",
   "metadata": {},
   "source": [
    "SD, ND, and MT have the highest share of missing mrfei values. SD has the highest percent of missing values at about 14.5%. It also has the smallest number of census tracts at 235; these observations will further be pared down after removing missing observations. Note that, in general[i.e., outside of this project], the cenus bureau reports that SD has just over 200 census tracts.  "
   ]
  },
  {
   "cell_type": "code",
   "execution_count": 15,
   "metadata": {},
   "outputs": [
    {
     "data": {
      "text/plain": [
       "count    64100.000000\n",
       "mean        11.445051\n",
       "std         12.183212\n",
       "min          0.000000\n",
       "25%          3.276773\n",
       "50%          9.523810\n",
       "75%         15.789474\n",
       "max        100.000000\n",
       "Name: mrfei, dtype: float64"
      ]
     },
     "execution_count": 15,
     "metadata": {},
     "output_type": "execute_result"
    }
   ],
   "source": [
    "## run descriptives of outcome variable mrfei \n",
    "df['mrfei'].describe()"
   ]
  },
  {
   "cell_type": "markdown",
   "metadata": {},
   "source": [
    "NOTE: Amin et al. found a median of 9.09 and a mean of 11.30. The estimates listed above for both the mean and median are only slightly different. Looking at the standard deviation, there is quite a lot of variability/spread in the distribution of the data.\n",
    "\n",
    "Additionally, it is clear that it only contains positive, continious values ranging from 0 to 100. This means that the outcome variable is a continious attribute. Additionally, given that it has a true zero, it is also a quantitative ratio attribute where both multiplication and division are meaningful."
   ]
  },
  {
   "cell_type": "code",
   "execution_count": 16,
   "metadata": {},
   "outputs": [
    {
     "name": "stderr",
     "output_type": "stream",
     "text": [
      "/Users/mkbelay/opt/anaconda3/lib/python3.8/site-packages/numpy/lib/histograms.py:839: RuntimeWarning: invalid value encountered in greater_equal\n",
      "  keep = (tmp_a >= first_edge)\n",
      "/Users/mkbelay/opt/anaconda3/lib/python3.8/site-packages/numpy/lib/histograms.py:840: RuntimeWarning: invalid value encountered in less_equal\n",
      "  keep &= (tmp_a <= last_edge)\n"
     ]
    },
    {
     "data": {
      "image/png": "[encoded data removed]",
      "text/plain": [
       "<Figure size 432x288 with 2 Axes>"
      ]
     },
     "metadata": {
      "needs_background": "light"
     },
     "output_type": "display_data"
    }
   ],
   "source": [
    "## view distribution graphically\n",
    "f, (ax_box, ax_hist) = plt.subplots(2, sharex=True, \n",
    "                                    gridspec_kw={\"height_ratios\": (.90, 1.0)})\n",
    "\n",
    "sns.boxplot(df.mrfei, ax=ax_box)\n",
    "plt.hist(df.mrfei,bins=100,  edgecolor='k')\n",
    "plt.xlabel('mRFEI')\n",
    "plt.ylabel('Number of census tracts')\n",
    "ax_box.set(yticks=[])\n",
    "sns.despine(ax=ax_hist)\n",
    "sns.despine(ax=ax_box, left=True)\n",
    "ax_box.set_title(\"Distribution of the mRFEI index\", fontweight='bold')\n",
    "ax_box.set_xlabel(\"mRFEI\")\n",
    "fmt = '{x:,.0f}'\n",
    "tick = mtick.StrMethodFormatter(fmt)\n",
    "ax_hist.yaxis.set_major_formatter(tick) \n",
    "ax_box.xaxis.set_major_formatter(StrMethodFormatter('{x:,.0f}'))\n",
    "plt.savefig('output/images/mrfei_distribution.png')## save as png for memo #2"
   ]
  },
  {
   "cell_type": "markdown",
   "metadata": {},
   "source": [
    "Based on the plots above, the outcome variable is not normally distributed. It has a pronounced skew where majority of the census tracts have an mRFEI index of 0. According to the creators of this index, a score of 0 is associated with food deserts. We may need to consider normalizing this outcome variable before modeling.On the other hand, the fact that most of the data set is made up of zeroes could help in reducing computational expense. There are also quite a lot of outliers in the data as indicated by the box plot. Since the continious attribute will be converted in to three separate target variables, this shouldn't be to much of a concern. "
   ]
  },
  {
   "cell_type": "code",
   "execution_count": 17,
   "metadata": {},
   "outputs": [
    {
     "data": {
      "text/html": [
       "<div>\n",
       "<style scoped>\n",
       "    .dataframe tbody tr th:only-of-type {\n",
       "        vertical-align: middle;\n",
       "    }\n",
       "\n",
       "    .dataframe tbody tr th {\n",
       "        vertical-align: top;\n",
       "    }\n",
       "\n",
       "    .dataframe thead th {\n",
       "        text-align: right;\n",
       "    }\n",
       "</style>\n",
       "<table border=\"1\" class=\"dataframe\">\n",
       "  <thead>\n",
       "    <tr style=\"text-align: right;\">\n",
       "      <th></th>\n",
       "      <th>state</th>\n",
       "      <th>NAME</th>\n",
       "    </tr>\n",
       "  </thead>\n",
       "  <tbody>\n",
       "    <tr>\n",
       "      <th>7</th>\n",
       "      <td>AL</td>\n",
       "      <td>NaN</td>\n",
       "    </tr>\n",
       "    <tr>\n",
       "      <th>8</th>\n",
       "      <td>AL</td>\n",
       "      <td>Census Tract 209, Autauga County, Alabama</td>\n",
       "    </tr>\n",
       "    <tr>\n",
       "      <th>10</th>\n",
       "      <td>AL</td>\n",
       "      <td>Census Tract 211, Autauga County, Alabama</td>\n",
       "    </tr>\n",
       "    <tr>\n",
       "      <th>11</th>\n",
       "      <td>AL</td>\n",
       "      <td>Census Tract 101, Baldwin County, Alabama</td>\n",
       "    </tr>\n",
       "    <tr>\n",
       "      <th>12</th>\n",
       "      <td>AL</td>\n",
       "      <td>Census Tract 102, Baldwin County, Alabama</td>\n",
       "    </tr>\n",
       "    <tr>\n",
       "      <th>...</th>\n",
       "      <td>...</td>\n",
       "      <td>...</td>\n",
       "    </tr>\n",
       "    <tr>\n",
       "      <th>65326</th>\n",
       "      <td>WY</td>\n",
       "      <td>Census Tract 9708, Sweetwater County, Wyoming</td>\n",
       "    </tr>\n",
       "    <tr>\n",
       "      <th>65331</th>\n",
       "      <td>WY</td>\n",
       "      <td>Census Tract 9711, Sweetwater County, Wyoming</td>\n",
       "    </tr>\n",
       "    <tr>\n",
       "      <th>65332</th>\n",
       "      <td>WY</td>\n",
       "      <td>Census Tract 9712, Sweetwater County, Wyoming</td>\n",
       "    </tr>\n",
       "    <tr>\n",
       "      <th>65333</th>\n",
       "      <td>WY</td>\n",
       "      <td>Census Tract 9716, Sweetwater County, Wyoming</td>\n",
       "    </tr>\n",
       "    <tr>\n",
       "      <th>65340</th>\n",
       "      <td>WY</td>\n",
       "      <td>Census Tract 2, Washakie County, Wyoming</td>\n",
       "    </tr>\n",
       "  </tbody>\n",
       "</table>\n",
       "<p>14875 rows × 2 columns</p>\n",
       "</div>"
      ],
      "text/plain": [
       "      state                                           NAME\n",
       "7        AL                                            NaN\n",
       "8        AL      Census Tract 209, Autauga County, Alabama\n",
       "10       AL      Census Tract 211, Autauga County, Alabama\n",
       "11       AL      Census Tract 101, Baldwin County, Alabama\n",
       "12       AL      Census Tract 102, Baldwin County, Alabama\n",
       "...     ...                                            ...\n",
       "65326    WY  Census Tract 9708, Sweetwater County, Wyoming\n",
       "65331    WY  Census Tract 9711, Sweetwater County, Wyoming\n",
       "65332    WY  Census Tract 9712, Sweetwater County, Wyoming\n",
       "65333    WY  Census Tract 9716, Sweetwater County, Wyoming\n",
       "65340    WY       Census Tract 2, Washakie County, Wyoming\n",
       "\n",
       "[14875 rows x 2 columns]"
      ]
     },
     "execution_count": 17,
     "metadata": {},
     "output_type": "execute_result"
    }
   ],
   "source": [
    "## check how many observations have a mrfei value of 0\n",
    "df.filter(['state', 'NAME']).loc[df['mrfei']==0]"
   ]
  },
  {
   "cell_type": "code",
   "execution_count": 18,
   "metadata": {},
   "outputs": [
    {
     "data": {
      "text/html": [
       "<div>\n",
       "<style scoped>\n",
       "    .dataframe tbody tr th:only-of-type {\n",
       "        vertical-align: middle;\n",
       "    }\n",
       "\n",
       "    .dataframe tbody tr th {\n",
       "        vertical-align: top;\n",
       "    }\n",
       "\n",
       "    .dataframe thead th {\n",
       "        text-align: right;\n",
       "    }\n",
       "</style>\n",
       "<table border=\"1\" class=\"dataframe\">\n",
       "  <thead>\n",
       "    <tr style=\"text-align: right;\">\n",
       "      <th></th>\n",
       "      <th>NAME</th>\n",
       "    </tr>\n",
       "    <tr>\n",
       "      <th>state</th>\n",
       "      <th></th>\n",
       "    </tr>\n",
       "  </thead>\n",
       "  <tbody>\n",
       "    <tr>\n",
       "      <th>TX</th>\n",
       "      <td>914</td>\n",
       "    </tr>\n",
       "    <tr>\n",
       "      <th>CA</th>\n",
       "      <td>711</td>\n",
       "    </tr>\n",
       "    <tr>\n",
       "      <th>OH</th>\n",
       "      <td>694</td>\n",
       "    </tr>\n",
       "    <tr>\n",
       "      <th>MI</th>\n",
       "      <td>667</td>\n",
       "    </tr>\n",
       "    <tr>\n",
       "      <th>NY</th>\n",
       "      <td>647</td>\n",
       "    </tr>\n",
       "    <tr>\n",
       "      <th>IL</th>\n",
       "      <td>630</td>\n",
       "    </tr>\n",
       "    <tr>\n",
       "      <th>PA</th>\n",
       "      <td>592</td>\n",
       "    </tr>\n",
       "    <tr>\n",
       "      <th>IN</th>\n",
       "      <td>376</td>\n",
       "    </tr>\n",
       "    <tr>\n",
       "      <th>MA</th>\n",
       "      <td>334</td>\n",
       "    </tr>\n",
       "    <tr>\n",
       "      <th>FL</th>\n",
       "      <td>331</td>\n",
       "    </tr>\n",
       "    <tr>\n",
       "      <th>WI</th>\n",
       "      <td>312</td>\n",
       "    </tr>\n",
       "    <tr>\n",
       "      <th>NJ</th>\n",
       "      <td>305</td>\n",
       "    </tr>\n",
       "    <tr>\n",
       "      <th>MN</th>\n",
       "      <td>292</td>\n",
       "    </tr>\n",
       "    <tr>\n",
       "      <th>TN</th>\n",
       "      <td>291</td>\n",
       "    </tr>\n",
       "    <tr>\n",
       "      <th>OK</th>\n",
       "      <td>290</td>\n",
       "    </tr>\n",
       "    <tr>\n",
       "      <th>LA</th>\n",
       "      <td>274</td>\n",
       "    </tr>\n",
       "    <tr>\n",
       "      <th>GA</th>\n",
       "      <td>268</td>\n",
       "    </tr>\n",
       "    <tr>\n",
       "      <th>AL</th>\n",
       "      <td>245</td>\n",
       "    </tr>\n",
       "    <tr>\n",
       "      <th>VA</th>\n",
       "      <td>222</td>\n",
       "    </tr>\n",
       "    <tr>\n",
       "      <th>MD</th>\n",
       "      <td>215</td>\n",
       "    </tr>\n",
       "    <tr>\n",
       "      <th>KY</th>\n",
       "      <td>214</td>\n",
       "    </tr>\n",
       "    <tr>\n",
       "      <th>CT</th>\n",
       "      <td>214</td>\n",
       "    </tr>\n",
       "    <tr>\n",
       "      <th>WA</th>\n",
       "      <td>213</td>\n",
       "    </tr>\n",
       "    <tr>\n",
       "      <th>NC</th>\n",
       "      <td>209</td>\n",
       "    </tr>\n",
       "    <tr>\n",
       "      <th>MO</th>\n",
       "      <td>198</td>\n",
       "    </tr>\n",
       "    <tr>\n",
       "      <th>SC</th>\n",
       "      <td>191</td>\n",
       "    </tr>\n",
       "    <tr>\n",
       "      <th>MS</th>\n",
       "      <td>177</td>\n",
       "    </tr>\n",
       "    <tr>\n",
       "      <th>IA</th>\n",
       "      <td>176</td>\n",
       "    </tr>\n",
       "    <tr>\n",
       "      <th>KS</th>\n",
       "      <td>176</td>\n",
       "    </tr>\n",
       "    <tr>\n",
       "      <th>AR</th>\n",
       "      <td>138</td>\n",
       "    </tr>\n",
       "    <tr>\n",
       "      <th>AZ</th>\n",
       "      <td>115</td>\n",
       "    </tr>\n",
       "    <tr>\n",
       "      <th>OR</th>\n",
       "      <td>102</td>\n",
       "    </tr>\n",
       "    <tr>\n",
       "      <th>WV</th>\n",
       "      <td>102</td>\n",
       "    </tr>\n",
       "    <tr>\n",
       "      <th>NE</th>\n",
       "      <td>84</td>\n",
       "    </tr>\n",
       "    <tr>\n",
       "      <th>NH</th>\n",
       "      <td>79</td>\n",
       "    </tr>\n",
       "    <tr>\n",
       "      <th>ME</th>\n",
       "      <td>73</td>\n",
       "    </tr>\n",
       "    <tr>\n",
       "      <th>RI</th>\n",
       "      <td>67</td>\n",
       "    </tr>\n",
       "    <tr>\n",
       "      <th>AK</th>\n",
       "      <td>63</td>\n",
       "    </tr>\n",
       "    <tr>\n",
       "      <th>NM</th>\n",
       "      <td>63</td>\n",
       "    </tr>\n",
       "    <tr>\n",
       "      <th>UT</th>\n",
       "      <td>58</td>\n",
       "    </tr>\n",
       "    <tr>\n",
       "      <th>VT</th>\n",
       "      <td>57</td>\n",
       "    </tr>\n",
       "    <tr>\n",
       "      <th>ND</th>\n",
       "      <td>55</td>\n",
       "    </tr>\n",
       "    <tr>\n",
       "      <th>ID</th>\n",
       "      <td>52</td>\n",
       "    </tr>\n",
       "    <tr>\n",
       "      <th>MT</th>\n",
       "      <td>45</td>\n",
       "    </tr>\n",
       "    <tr>\n",
       "      <th>SD</th>\n",
       "      <td>41</td>\n",
       "    </tr>\n",
       "    <tr>\n",
       "      <th>DC</th>\n",
       "      <td>41</td>\n",
       "    </tr>\n",
       "    <tr>\n",
       "      <th>HI</th>\n",
       "      <td>33</td>\n",
       "    </tr>\n",
       "    <tr>\n",
       "      <th>WY</th>\n",
       "      <td>32</td>\n",
       "    </tr>\n",
       "    <tr>\n",
       "      <th>NV</th>\n",
       "      <td>31</td>\n",
       "    </tr>\n",
       "    <tr>\n",
       "      <th>DE</th>\n",
       "      <td>28</td>\n",
       "    </tr>\n",
       "    <tr>\n",
       "      <th>CO</th>\n",
       "      <td>0</td>\n",
       "    </tr>\n",
       "  </tbody>\n",
       "</table>\n",
       "</div>"
      ],
      "text/plain": [
       "       NAME\n",
       "state      \n",
       "TX      914\n",
       "CA      711\n",
       "OH      694\n",
       "MI      667\n",
       "NY      647\n",
       "IL      630\n",
       "PA      592\n",
       "IN      376\n",
       "MA      334\n",
       "FL      331\n",
       "WI      312\n",
       "NJ      305\n",
       "MN      292\n",
       "TN      291\n",
       "OK      290\n",
       "LA      274\n",
       "GA      268\n",
       "AL      245\n",
       "VA      222\n",
       "MD      215\n",
       "KY      214\n",
       "CT      214\n",
       "WA      213\n",
       "NC      209\n",
       "MO      198\n",
       "SC      191\n",
       "MS      177\n",
       "IA      176\n",
       "KS      176\n",
       "AR      138\n",
       "AZ      115\n",
       "OR      102\n",
       "WV      102\n",
       "NE       84\n",
       "NH       79\n",
       "ME       73\n",
       "RI       67\n",
       "AK       63\n",
       "NM       63\n",
       "UT       58\n",
       "VT       57\n",
       "ND       55\n",
       "ID       52\n",
       "MT       45\n",
       "SD       41\n",
       "DC       41\n",
       "HI       33\n",
       "WY       32\n",
       "NV       31\n",
       "DE       28\n",
       "CO        0"
      ]
     },
     "execution_count": 18,
     "metadata": {},
     "output_type": "execute_result"
    }
   ],
   "source": [
    "## see which states have the most food deserts (i.e, mrfei==0)\n",
    "df.filter(['state', 'NAME']).loc[df['mrfei']==0].groupby(['state']).count().sort_values(by=['NAME'], ascending=False)"
   ]
  },
  {
   "cell_type": "markdown",
   "metadata": {},
   "source": [
    "Out of the 65,345  observations, 14875 (i.e, approx 23%) have an mrfei value of zero. Texas has the most census tracts with a mrfei value of zero [i.e, Texas has the most food deserts]"
   ]
  },
  {
   "cell_type": "markdown",
   "metadata": {},
   "source": [
    "Let's see if each state follows the distribution above:"
   ]
  },
  {
   "cell_type": "code",
   "execution_count": 19,
   "metadata": {},
   "outputs": [
    {
     "data": {
      "text/html": [
       "<div>\n",
       "<style scoped>\n",
       "    .dataframe tbody tr th:only-of-type {\n",
       "        vertical-align: middle;\n",
       "    }\n",
       "\n",
       "    .dataframe tbody tr th {\n",
       "        vertical-align: top;\n",
       "    }\n",
       "\n",
       "    .dataframe thead th {\n",
       "        text-align: right;\n",
       "    }\n",
       "</style>\n",
       "<table border=\"1\" class=\"dataframe\">\n",
       "  <thead>\n",
       "    <tr style=\"text-align: right;\">\n",
       "      <th>state</th>\n",
       "      <th>AK</th>\n",
       "      <th>AL</th>\n",
       "      <th>AR</th>\n",
       "      <th>AZ</th>\n",
       "      <th>CA</th>\n",
       "      <th>CO</th>\n",
       "      <th>CT</th>\n",
       "      <th>DC</th>\n",
       "      <th>DE</th>\n",
       "      <th>FL</th>\n",
       "      <th>...</th>\n",
       "      <th>SD</th>\n",
       "      <th>TN</th>\n",
       "      <th>TX</th>\n",
       "      <th>UT</th>\n",
       "      <th>VA</th>\n",
       "      <th>VT</th>\n",
       "      <th>WA</th>\n",
       "      <th>WI</th>\n",
       "      <th>WV</th>\n",
       "      <th>WY</th>\n",
       "    </tr>\n",
       "  </thead>\n",
       "  <tbody>\n",
       "    <tr>\n",
       "      <th>0</th>\n",
       "      <td>NaN</td>\n",
       "      <td>16.666667</td>\n",
       "      <td>NaN</td>\n",
       "      <td>NaN</td>\n",
       "      <td>NaN</td>\n",
       "      <td>NaN</td>\n",
       "      <td>NaN</td>\n",
       "      <td>NaN</td>\n",
       "      <td>NaN</td>\n",
       "      <td>NaN</td>\n",
       "      <td>...</td>\n",
       "      <td>NaN</td>\n",
       "      <td>NaN</td>\n",
       "      <td>NaN</td>\n",
       "      <td>NaN</td>\n",
       "      <td>NaN</td>\n",
       "      <td>NaN</td>\n",
       "      <td>NaN</td>\n",
       "      <td>NaN</td>\n",
       "      <td>NaN</td>\n",
       "      <td>NaN</td>\n",
       "    </tr>\n",
       "    <tr>\n",
       "      <th>1</th>\n",
       "      <td>NaN</td>\n",
       "      <td>16.666667</td>\n",
       "      <td>NaN</td>\n",
       "      <td>NaN</td>\n",
       "      <td>NaN</td>\n",
       "      <td>NaN</td>\n",
       "      <td>NaN</td>\n",
       "      <td>NaN</td>\n",
       "      <td>NaN</td>\n",
       "      <td>NaN</td>\n",
       "      <td>...</td>\n",
       "      <td>NaN</td>\n",
       "      <td>NaN</td>\n",
       "      <td>NaN</td>\n",
       "      <td>NaN</td>\n",
       "      <td>NaN</td>\n",
       "      <td>NaN</td>\n",
       "      <td>NaN</td>\n",
       "      <td>NaN</td>\n",
       "      <td>NaN</td>\n",
       "      <td>NaN</td>\n",
       "    </tr>\n",
       "    <tr>\n",
       "      <th>2</th>\n",
       "      <td>NaN</td>\n",
       "      <td>17.647059</td>\n",
       "      <td>NaN</td>\n",
       "      <td>NaN</td>\n",
       "      <td>NaN</td>\n",
       "      <td>NaN</td>\n",
       "      <td>NaN</td>\n",
       "      <td>NaN</td>\n",
       "      <td>NaN</td>\n",
       "      <td>NaN</td>\n",
       "      <td>...</td>\n",
       "      <td>NaN</td>\n",
       "      <td>NaN</td>\n",
       "      <td>NaN</td>\n",
       "      <td>NaN</td>\n",
       "      <td>NaN</td>\n",
       "      <td>NaN</td>\n",
       "      <td>NaN</td>\n",
       "      <td>NaN</td>\n",
       "      <td>NaN</td>\n",
       "      <td>NaN</td>\n",
       "    </tr>\n",
       "    <tr>\n",
       "      <th>3</th>\n",
       "      <td>NaN</td>\n",
       "      <td>13.333333</td>\n",
       "      <td>NaN</td>\n",
       "      <td>NaN</td>\n",
       "      <td>NaN</td>\n",
       "      <td>NaN</td>\n",
       "      <td>NaN</td>\n",
       "      <td>NaN</td>\n",
       "      <td>NaN</td>\n",
       "      <td>NaN</td>\n",
       "      <td>...</td>\n",
       "      <td>NaN</td>\n",
       "      <td>NaN</td>\n",
       "      <td>NaN</td>\n",
       "      <td>NaN</td>\n",
       "      <td>NaN</td>\n",
       "      <td>NaN</td>\n",
       "      <td>NaN</td>\n",
       "      <td>NaN</td>\n",
       "      <td>NaN</td>\n",
       "      <td>NaN</td>\n",
       "    </tr>\n",
       "    <tr>\n",
       "      <th>4</th>\n",
       "      <td>NaN</td>\n",
       "      <td>6.250000</td>\n",
       "      <td>NaN</td>\n",
       "      <td>NaN</td>\n",
       "      <td>NaN</td>\n",
       "      <td>NaN</td>\n",
       "      <td>NaN</td>\n",
       "      <td>NaN</td>\n",
       "      <td>NaN</td>\n",
       "      <td>NaN</td>\n",
       "      <td>...</td>\n",
       "      <td>NaN</td>\n",
       "      <td>NaN</td>\n",
       "      <td>NaN</td>\n",
       "      <td>NaN</td>\n",
       "      <td>NaN</td>\n",
       "      <td>NaN</td>\n",
       "      <td>NaN</td>\n",
       "      <td>NaN</td>\n",
       "      <td>NaN</td>\n",
       "      <td>NaN</td>\n",
       "    </tr>\n",
       "  </tbody>\n",
       "</table>\n",
       "<p>5 rows × 51 columns</p>\n",
       "</div>"
      ],
      "text/plain": [
       "state  AK         AL  AR  AZ  CA  CO  CT  DC  DE  FL  ...  SD  TN  TX  UT  VA  \\\n",
       "0     NaN  16.666667 NaN NaN NaN NaN NaN NaN NaN NaN  ... NaN NaN NaN NaN NaN   \n",
       "1     NaN  16.666667 NaN NaN NaN NaN NaN NaN NaN NaN  ... NaN NaN NaN NaN NaN   \n",
       "2     NaN  17.647059 NaN NaN NaN NaN NaN NaN NaN NaN  ... NaN NaN NaN NaN NaN   \n",
       "3     NaN  13.333333 NaN NaN NaN NaN NaN NaN NaN NaN  ... NaN NaN NaN NaN NaN   \n",
       "4     NaN   6.250000 NaN NaN NaN NaN NaN NaN NaN NaN  ... NaN NaN NaN NaN NaN   \n",
       "\n",
       "state  VT  WA  WI  WV  WY  \n",
       "0     NaN NaN NaN NaN NaN  \n",
       "1     NaN NaN NaN NaN NaN  \n",
       "2     NaN NaN NaN NaN NaN  \n",
       "3     NaN NaN NaN NaN NaN  \n",
       "4     NaN NaN NaN NaN NaN  \n",
       "\n",
       "[5 rows x 51 columns]"
      ]
     },
     "execution_count": 19,
     "metadata": {},
     "output_type": "execute_result"
    }
   ],
   "source": [
    "## change shape of dataframe to wide to graph density plot for each state\n",
    "df_wide =df.pivot(columns='state', values='mrfei')\n",
    "df_wide.head() "
   ]
  },
  {
   "cell_type": "code",
   "execution_count": 20,
   "metadata": {},
   "outputs": [
    {
     "data": {
      "text/plain": [
       "Text(0.5, 0, 'mRFEI Index')"
      ]
     },
     "execution_count": 20,
     "metadata": {},
     "output_type": "execute_result"
    },
    {
     "data": {
      "image/png": "[encoded data removed]",
      "text/plain": [
       "<Figure size 504x504 with 1 Axes>"
      ]
     },
     "metadata": {
      "needs_background": "light"
     },
     "output_type": "display_data"
    }
   ],
   "source": [
    "## plot distribution\n",
    "df_wide.plot.density(figsize = (7, 7), linewidth = 4)\n",
    "plt.title('Density plot of mRFEI Index for each state', size=15)\n",
    "plt.xlabel('mRFEI Index',  size=14)"
   ]
  },
  {
   "cell_type": "markdown",
   "metadata": {},
   "source": [
    "Generally speaking, the mRFEI Index for each state follows a similar distribution where the mean is approximately at 11. Some states have two peaks, likely because of having several census tracts with a value of zero."
   ]
  },
  {
   "cell_type": "markdown",
   "metadata": {},
   "source": [
    "### Features"
   ]
  },
  {
   "cell_type": "markdown",
   "metadata": {},
   "source": [
    "**`Transportation`**"
   ]
  },
  {
   "cell_type": "code",
   "execution_count": 21,
   "metadata": {},
   "outputs": [
    {
     "data": {
      "text/plain": [
       "14591"
      ]
     },
     "execution_count": 21,
     "metadata": {},
     "output_type": "execute_result"
    }
   ],
   "source": [
    "## check missingness \n",
    "df.perc_public_transport.isna().sum()"
   ]
  },
  {
   "cell_type": "markdown",
   "metadata": {},
   "source": [
    "There are 14,591 census tracts are missing the census data for transport. During the preprocessing stage, these observations will be dropped since the variable is important for this analysis."
   ]
  },
  {
   "cell_type": "code",
   "execution_count": 22,
   "metadata": {},
   "outputs": [
    {
     "data": {
      "text/plain": [
       "count    50754.000000\n",
       "mean         6.145657\n",
       "std         12.563104\n",
       "min          0.000000\n",
       "25%          0.000000\n",
       "50%          1.238812\n",
       "75%          5.485570\n",
       "max        100.000000\n",
       "Name: perc_public_transport, dtype: float64"
      ]
     },
     "execution_count": 22,
     "metadata": {},
     "output_type": "execute_result"
    }
   ],
   "source": [
    "## run descriptives of transport variable \n",
    "df['perc_public_transport'].describe()"
   ]
  },
  {
   "cell_type": "markdown",
   "metadata": {},
   "source": [
    "The transport variable has values that range from 0 to 100. It is a continious , quantitative ratio attribute with a true zero [i.e, a zero means that non of the residents in a census tract us public transportation]. As evidenced by the gap between 75% and max, there are outliers in this variable. Additionally, there's quite a lot of variation in the distribution around the mean. On average, 6% of residents in a census tract use public transportation. There are outliers where 100% of the residents in a census tract use public transportation. The median is about 1.2%, while the mean is about 6.1% indicating that the outliers are influencing the value of the mean."
   ]
  },
  {
   "cell_type": "code",
   "execution_count": 23,
   "metadata": {},
   "outputs": [
    {
     "name": "stderr",
     "output_type": "stream",
     "text": [
      "/Users/mkbelay/opt/anaconda3/lib/python3.8/site-packages/numpy/lib/histograms.py:839: RuntimeWarning: invalid value encountered in greater_equal\n",
      "  keep = (tmp_a >= first_edge)\n",
      "/Users/mkbelay/opt/anaconda3/lib/python3.8/site-packages/numpy/lib/histograms.py:840: RuntimeWarning: invalid value encountered in less_equal\n",
      "  keep &= (tmp_a <= last_edge)\n"
     ]
    },
    {
     "data": {
      "image/png": "[encoded data removed]",
      "text/plain": [
       "<Figure size 432x288 with 2 Axes>"
      ]
     },
     "metadata": {
      "needs_background": "light"
     },
     "output_type": "display_data"
    }
   ],
   "source": [
    "## view distribution graphically\n",
    "f, (ax_box, ax_hist) = plt.subplots(2, sharex=True, \n",
    "                                    gridspec_kw={\"height_ratios\": (.90, 1.0)})\n",
    "\n",
    "sns.boxplot(df.perc_public_transport, ax=ax_box)\n",
    "#sns.distplot(mREFI.pop_density, ax=ax_hist)\n",
    "plt.hist(df.perc_public_transport,bins=100,  edgecolor='k')\n",
    "plt.xlabel('Public transport')\n",
    "plt.ylabel('Number of census tracts')\n",
    "ax_box.set(yticks=[])\n",
    "sns.despine(ax=ax_hist)\n",
    "sns.despine(ax=ax_box, left=True)\n",
    "ax_box.set_title(\"Distribution of % of population \\n taking public transportation\", fontweight='bold')\n",
    "ax_box.set_xlabel(\"Public transport\")\n",
    "\n",
    "fmt = '{x:,.0f}'\n",
    "tick = mtick.StrMethodFormatter(fmt)\n",
    "ax_hist.yaxis.set_major_formatter(tick) \n",
    "ax_box.xaxis.set_major_formatter(StrMethodFormatter('{x:,.0f}'))\n",
    "plt.savefig('output/images/transport.png')## export figure for memo"
   ]
  },
  {
   "cell_type": "markdown",
   "metadata": {},
   "source": [
    "**`ACS demographic estimates`**"
   ]
  },
  {
   "cell_type": "code",
   "execution_count": 24,
   "metadata": {},
   "outputs": [
    {
     "data": {
      "text/plain": [
       "perc_white       14534\n",
       "perc_black       14534\n",
       "perc_hispanic    14534\n",
       "perc_asian       14534\n",
       "perc_native      14534\n",
       "perc_pacific     14534\n",
       "dtype: int64"
      ]
     },
     "execution_count": 24,
     "metadata": {},
     "output_type": "execute_result"
    }
   ],
   "source": [
    "## check missingness \n",
    "df[['perc_white','perc_black', 'perc_hispanic', 'perc_asian', 'perc_native','perc_pacific']].isna().sum()"
   ]
  },
  {
   "cell_type": "markdown",
   "metadata": {},
   "source": [
    "There seems to be systematic missingnes in the data. let's see if the same census tracts are missing values for all these attributes"
   ]
  },
  {
   "cell_type": "code",
   "execution_count": 25,
   "metadata": {},
   "outputs": [
    {
     "data": {
      "text/html": [
       "<div>\n",
       "<style scoped>\n",
       "    .dataframe tbody tr th:only-of-type {\n",
       "        vertical-align: middle;\n",
       "    }\n",
       "\n",
       "    .dataframe tbody tr th {\n",
       "        vertical-align: top;\n",
       "    }\n",
       "\n",
       "    .dataframe thead th {\n",
       "        text-align: right;\n",
       "    }\n",
       "</style>\n",
       "<table border=\"1\" class=\"dataframe\">\n",
       "  <thead>\n",
       "    <tr style=\"text-align: right;\">\n",
       "      <th></th>\n",
       "      <th>state</th>\n",
       "      <th>mrfei</th>\n",
       "      <th>fips_modified</th>\n",
       "      <th>NAME</th>\n",
       "      <th>perc_public_transport</th>\n",
       "      <th>perc_white</th>\n",
       "      <th>perc_black</th>\n",
       "      <th>perc_hispanic</th>\n",
       "      <th>perc_asian</th>\n",
       "      <th>perc_native</th>\n",
       "      <th>...</th>\n",
       "      <th>perc_snap</th>\n",
       "      <th>inequality</th>\n",
       "      <th>unemploy</th>\n",
       "      <th>below_high_school</th>\n",
       "      <th>college_no_degree</th>\n",
       "      <th>associates_degree</th>\n",
       "      <th>bach_or_more</th>\n",
       "      <th>value</th>\n",
       "      <th>perc_no_vehicle</th>\n",
       "      <th>perc_rural</th>\n",
       "    </tr>\n",
       "  </thead>\n",
       "  <tbody>\n",
       "    <tr>\n",
       "      <th>7</th>\n",
       "      <td>AL</td>\n",
       "      <td>0.000000</td>\n",
       "      <td>1400000US01001020800</td>\n",
       "      <td>NaN</td>\n",
       "      <td>NaN</td>\n",
       "      <td>NaN</td>\n",
       "      <td>NaN</td>\n",
       "      <td>NaN</td>\n",
       "      <td>NaN</td>\n",
       "      <td>NaN</td>\n",
       "      <td>...</td>\n",
       "      <td>NaN</td>\n",
       "      <td>NaN</td>\n",
       "      <td>NaN</td>\n",
       "      <td>NaN</td>\n",
       "      <td>NaN</td>\n",
       "      <td>NaN</td>\n",
       "      <td>NaN</td>\n",
       "      <td>NaN</td>\n",
       "      <td>NaN</td>\n",
       "      <td>NaN</td>\n",
       "    </tr>\n",
       "    <tr>\n",
       "      <th>22</th>\n",
       "      <td>AL</td>\n",
       "      <td>41.176471</td>\n",
       "      <td>1400000US01003010901</td>\n",
       "      <td>NaN</td>\n",
       "      <td>NaN</td>\n",
       "      <td>NaN</td>\n",
       "      <td>NaN</td>\n",
       "      <td>NaN</td>\n",
       "      <td>NaN</td>\n",
       "      <td>NaN</td>\n",
       "      <td>...</td>\n",
       "      <td>NaN</td>\n",
       "      <td>NaN</td>\n",
       "      <td>NaN</td>\n",
       "      <td>NaN</td>\n",
       "      <td>NaN</td>\n",
       "      <td>NaN</td>\n",
       "      <td>NaN</td>\n",
       "      <td>NaN</td>\n",
       "      <td>NaN</td>\n",
       "      <td>NaN</td>\n",
       "    </tr>\n",
       "    <tr>\n",
       "      <th>23</th>\n",
       "      <td>AL</td>\n",
       "      <td>18.181818</td>\n",
       "      <td>1400000US01003010902</td>\n",
       "      <td>NaN</td>\n",
       "      <td>NaN</td>\n",
       "      <td>NaN</td>\n",
       "      <td>NaN</td>\n",
       "      <td>NaN</td>\n",
       "      <td>NaN</td>\n",
       "      <td>NaN</td>\n",
       "      <td>...</td>\n",
       "      <td>NaN</td>\n",
       "      <td>NaN</td>\n",
       "      <td>NaN</td>\n",
       "      <td>NaN</td>\n",
       "      <td>NaN</td>\n",
       "      <td>NaN</td>\n",
       "      <td>NaN</td>\n",
       "      <td>NaN</td>\n",
       "      <td>NaN</td>\n",
       "      <td>NaN</td>\n",
       "    </tr>\n",
       "    <tr>\n",
       "      <th>25</th>\n",
       "      <td>AL</td>\n",
       "      <td>16.666667</td>\n",
       "      <td>1400000US01003011100</td>\n",
       "      <td>NaN</td>\n",
       "      <td>NaN</td>\n",
       "      <td>NaN</td>\n",
       "      <td>NaN</td>\n",
       "      <td>NaN</td>\n",
       "      <td>NaN</td>\n",
       "      <td>NaN</td>\n",
       "      <td>...</td>\n",
       "      <td>NaN</td>\n",
       "      <td>NaN</td>\n",
       "      <td>NaN</td>\n",
       "      <td>NaN</td>\n",
       "      <td>NaN</td>\n",
       "      <td>NaN</td>\n",
       "      <td>NaN</td>\n",
       "      <td>NaN</td>\n",
       "      <td>NaN</td>\n",
       "      <td>NaN</td>\n",
       "    </tr>\n",
       "    <tr>\n",
       "      <th>31</th>\n",
       "      <td>AL</td>\n",
       "      <td>15.789474</td>\n",
       "      <td>1400000US01003011404</td>\n",
       "      <td>NaN</td>\n",
       "      <td>NaN</td>\n",
       "      <td>NaN</td>\n",
       "      <td>NaN</td>\n",
       "      <td>NaN</td>\n",
       "      <td>NaN</td>\n",
       "      <td>NaN</td>\n",
       "      <td>...</td>\n",
       "      <td>NaN</td>\n",
       "      <td>NaN</td>\n",
       "      <td>NaN</td>\n",
       "      <td>NaN</td>\n",
       "      <td>NaN</td>\n",
       "      <td>NaN</td>\n",
       "      <td>NaN</td>\n",
       "      <td>NaN</td>\n",
       "      <td>NaN</td>\n",
       "      <td>NaN</td>\n",
       "    </tr>\n",
       "    <tr>\n",
       "      <th>...</th>\n",
       "      <td>...</td>\n",
       "      <td>...</td>\n",
       "      <td>...</td>\n",
       "      <td>...</td>\n",
       "      <td>...</td>\n",
       "      <td>...</td>\n",
       "      <td>...</td>\n",
       "      <td>...</td>\n",
       "      <td>...</td>\n",
       "      <td>...</td>\n",
       "      <td>...</td>\n",
       "      <td>...</td>\n",
       "      <td>...</td>\n",
       "      <td>...</td>\n",
       "      <td>...</td>\n",
       "      <td>...</td>\n",
       "      <td>...</td>\n",
       "      <td>...</td>\n",
       "      <td>...</td>\n",
       "      <td>...</td>\n",
       "      <td>...</td>\n",
       "    </tr>\n",
       "    <tr>\n",
       "      <th>65312</th>\n",
       "      <td>WY</td>\n",
       "      <td>12.500000</td>\n",
       "      <td>1400000US56029995500</td>\n",
       "      <td>NaN</td>\n",
       "      <td>NaN</td>\n",
       "      <td>NaN</td>\n",
       "      <td>NaN</td>\n",
       "      <td>NaN</td>\n",
       "      <td>NaN</td>\n",
       "      <td>NaN</td>\n",
       "      <td>...</td>\n",
       "      <td>NaN</td>\n",
       "      <td>NaN</td>\n",
       "      <td>NaN</td>\n",
       "      <td>NaN</td>\n",
       "      <td>NaN</td>\n",
       "      <td>NaN</td>\n",
       "      <td>NaN</td>\n",
       "      <td>NaN</td>\n",
       "      <td>NaN</td>\n",
       "      <td>NaN</td>\n",
       "    </tr>\n",
       "    <tr>\n",
       "      <th>65321</th>\n",
       "      <td>WY</td>\n",
       "      <td>22.222222</td>\n",
       "      <td>1400000US56035000100</td>\n",
       "      <td>NaN</td>\n",
       "      <td>NaN</td>\n",
       "      <td>NaN</td>\n",
       "      <td>NaN</td>\n",
       "      <td>NaN</td>\n",
       "      <td>NaN</td>\n",
       "      <td>NaN</td>\n",
       "      <td>...</td>\n",
       "      <td>NaN</td>\n",
       "      <td>NaN</td>\n",
       "      <td>NaN</td>\n",
       "      <td>NaN</td>\n",
       "      <td>NaN</td>\n",
       "      <td>NaN</td>\n",
       "      <td>NaN</td>\n",
       "      <td>NaN</td>\n",
       "      <td>NaN</td>\n",
       "      <td>NaN</td>\n",
       "    </tr>\n",
       "    <tr>\n",
       "      <th>65334</th>\n",
       "      <td>WY</td>\n",
       "      <td>25.000000</td>\n",
       "      <td>1400000US56039997600</td>\n",
       "      <td>NaN</td>\n",
       "      <td>NaN</td>\n",
       "      <td>NaN</td>\n",
       "      <td>NaN</td>\n",
       "      <td>NaN</td>\n",
       "      <td>NaN</td>\n",
       "      <td>NaN</td>\n",
       "      <td>...</td>\n",
       "      <td>NaN</td>\n",
       "      <td>NaN</td>\n",
       "      <td>NaN</td>\n",
       "      <td>NaN</td>\n",
       "      <td>NaN</td>\n",
       "      <td>NaN</td>\n",
       "      <td>NaN</td>\n",
       "      <td>NaN</td>\n",
       "      <td>NaN</td>\n",
       "      <td>NaN</td>\n",
       "    </tr>\n",
       "    <tr>\n",
       "      <th>65335</th>\n",
       "      <td>WY</td>\n",
       "      <td>10.000000</td>\n",
       "      <td>1400000US56039997700</td>\n",
       "      <td>NaN</td>\n",
       "      <td>NaN</td>\n",
       "      <td>NaN</td>\n",
       "      <td>NaN</td>\n",
       "      <td>NaN</td>\n",
       "      <td>NaN</td>\n",
       "      <td>NaN</td>\n",
       "      <td>...</td>\n",
       "      <td>NaN</td>\n",
       "      <td>NaN</td>\n",
       "      <td>NaN</td>\n",
       "      <td>NaN</td>\n",
       "      <td>NaN</td>\n",
       "      <td>NaN</td>\n",
       "      <td>NaN</td>\n",
       "      <td>NaN</td>\n",
       "      <td>NaN</td>\n",
       "      <td>NaN</td>\n",
       "    </tr>\n",
       "    <tr>\n",
       "      <th>65336</th>\n",
       "      <td>WY</td>\n",
       "      <td>6.250000</td>\n",
       "      <td>1400000US56039997800</td>\n",
       "      <td>NaN</td>\n",
       "      <td>NaN</td>\n",
       "      <td>NaN</td>\n",
       "      <td>NaN</td>\n",
       "      <td>NaN</td>\n",
       "      <td>NaN</td>\n",
       "      <td>NaN</td>\n",
       "      <td>...</td>\n",
       "      <td>NaN</td>\n",
       "      <td>NaN</td>\n",
       "      <td>NaN</td>\n",
       "      <td>NaN</td>\n",
       "      <td>NaN</td>\n",
       "      <td>NaN</td>\n",
       "      <td>NaN</td>\n",
       "      <td>NaN</td>\n",
       "      <td>NaN</td>\n",
       "      <td>NaN</td>\n",
       "    </tr>\n",
       "  </tbody>\n",
       "</table>\n",
       "<p>14534 rows × 25 columns</p>\n",
       "</div>"
      ],
      "text/plain": [
       "      state      mrfei         fips_modified NAME  perc_public_transport  \\\n",
       "7        AL   0.000000  1400000US01001020800  NaN                    NaN   \n",
       "22       AL  41.176471  1400000US01003010901  NaN                    NaN   \n",
       "23       AL  18.181818  1400000US01003010902  NaN                    NaN   \n",
       "25       AL  16.666667  1400000US01003011100  NaN                    NaN   \n",
       "31       AL  15.789474  1400000US01003011404  NaN                    NaN   \n",
       "...     ...        ...                   ...  ...                    ...   \n",
       "65312    WY  12.500000  1400000US56029995500  NaN                    NaN   \n",
       "65321    WY  22.222222  1400000US56035000100  NaN                    NaN   \n",
       "65334    WY  25.000000  1400000US56039997600  NaN                    NaN   \n",
       "65335    WY  10.000000  1400000US56039997700  NaN                    NaN   \n",
       "65336    WY   6.250000  1400000US56039997800  NaN                    NaN   \n",
       "\n",
       "       perc_white  perc_black  perc_hispanic  perc_asian  perc_native  ...  \\\n",
       "7             NaN         NaN            NaN         NaN          NaN  ...   \n",
       "22            NaN         NaN            NaN         NaN          NaN  ...   \n",
       "23            NaN         NaN            NaN         NaN          NaN  ...   \n",
       "25            NaN         NaN            NaN         NaN          NaN  ...   \n",
       "31            NaN         NaN            NaN         NaN          NaN  ...   \n",
       "...           ...         ...            ...         ...          ...  ...   \n",
       "65312         NaN         NaN            NaN         NaN          NaN  ...   \n",
       "65321         NaN         NaN            NaN         NaN          NaN  ...   \n",
       "65334         NaN         NaN            NaN         NaN          NaN  ...   \n",
       "65335         NaN         NaN            NaN         NaN          NaN  ...   \n",
       "65336         NaN         NaN            NaN         NaN          NaN  ...   \n",
       "\n",
       "       perc_snap  inequality  unemploy  below_high_school  college_no_degree  \\\n",
       "7            NaN         NaN       NaN                NaN                NaN   \n",
       "22           NaN         NaN       NaN                NaN                NaN   \n",
       "23           NaN         NaN       NaN                NaN                NaN   \n",
       "25           NaN         NaN       NaN                NaN                NaN   \n",
       "31           NaN         NaN       NaN                NaN                NaN   \n",
       "...          ...         ...       ...                ...                ...   \n",
       "65312        NaN         NaN       NaN                NaN                NaN   \n",
       "65321        NaN         NaN       NaN                NaN                NaN   \n",
       "65334        NaN         NaN       NaN                NaN                NaN   \n",
       "65335        NaN         NaN       NaN                NaN                NaN   \n",
       "65336        NaN         NaN       NaN                NaN                NaN   \n",
       "\n",
       "       associates_degree  bach_or_more  value  perc_no_vehicle  perc_rural  \n",
       "7                    NaN           NaN    NaN              NaN         NaN  \n",
       "22                   NaN           NaN    NaN              NaN         NaN  \n",
       "23                   NaN           NaN    NaN              NaN         NaN  \n",
       "25                   NaN           NaN    NaN              NaN         NaN  \n",
       "31                   NaN           NaN    NaN              NaN         NaN  \n",
       "...                  ...           ...    ...              ...         ...  \n",
       "65312                NaN           NaN    NaN              NaN         NaN  \n",
       "65321                NaN           NaN    NaN              NaN         NaN  \n",
       "65334                NaN           NaN    NaN              NaN         NaN  \n",
       "65335                NaN           NaN    NaN              NaN         NaN  \n",
       "65336                NaN           NaN    NaN              NaN         NaN  \n",
       "\n",
       "[14534 rows x 25 columns]"
      ]
     },
     "execution_count": 25,
     "metadata": {},
     "output_type": "execute_result"
    }
   ],
   "source": [
    "df.loc[(df['perc_white'].isna())&(df['perc_black'].isna()) &(df['perc_hispanic'].isna()) & (df['perc_asian'].isna())& (df['perc_native'].isna())&(df['perc_pacific'].isna())]"
   ]
  },
  {
   "cell_type": "markdown",
   "metadata": {},
   "source": [
    "The suspicion is confirmed. The same 14534 tracts are missing all demographic estimates. This will cause issues for the generalizability of the results. Since the missingess is systematic, these tracts will be removed instead of being imputed."
   ]
  },
  {
   "cell_type": "code",
   "execution_count": 26,
   "metadata": {},
   "outputs": [
    {
     "data": {
      "text/html": [
       "<div>\n",
       "<style scoped>\n",
       "    .dataframe tbody tr th:only-of-type {\n",
       "        vertical-align: middle;\n",
       "    }\n",
       "\n",
       "    .dataframe tbody tr th {\n",
       "        vertical-align: top;\n",
       "    }\n",
       "\n",
       "    .dataframe thead th {\n",
       "        text-align: right;\n",
       "    }\n",
       "</style>\n",
       "<table border=\"1\" class=\"dataframe\">\n",
       "  <thead>\n",
       "    <tr style=\"text-align: right;\">\n",
       "      <th></th>\n",
       "      <th>perc_white</th>\n",
       "      <th>perc_black</th>\n",
       "      <th>perc_hispanic</th>\n",
       "      <th>perc_asian</th>\n",
       "      <th>perc_native</th>\n",
       "      <th>perc_pacific</th>\n",
       "    </tr>\n",
       "  </thead>\n",
       "  <tbody>\n",
       "    <tr>\n",
       "      <th>count</th>\n",
       "      <td>50811.000000</td>\n",
       "      <td>50811.000000</td>\n",
       "      <td>50811.000000</td>\n",
       "      <td>50811.000000</td>\n",
       "      <td>50811.000000</td>\n",
       "      <td>50811.000000</td>\n",
       "    </tr>\n",
       "    <tr>\n",
       "      <th>mean</th>\n",
       "      <td>63.927813</td>\n",
       "      <td>14.559633</td>\n",
       "      <td>14.387397</td>\n",
       "      <td>4.369395</td>\n",
       "      <td>0.638539</td>\n",
       "      <td>0.137540</td>\n",
       "    </tr>\n",
       "    <tr>\n",
       "      <th>std</th>\n",
       "      <td>31.114252</td>\n",
       "      <td>23.989836</td>\n",
       "      <td>20.734372</td>\n",
       "      <td>8.798366</td>\n",
       "      <td>3.842794</td>\n",
       "      <td>0.970836</td>\n",
       "    </tr>\n",
       "    <tr>\n",
       "      <th>min</th>\n",
       "      <td>0.000000</td>\n",
       "      <td>0.000000</td>\n",
       "      <td>0.000000</td>\n",
       "      <td>0.000000</td>\n",
       "      <td>0.000000</td>\n",
       "      <td>0.000000</td>\n",
       "    </tr>\n",
       "    <tr>\n",
       "      <th>25%</th>\n",
       "      <td>41.209183</td>\n",
       "      <td>0.596680</td>\n",
       "      <td>1.715937</td>\n",
       "      <td>0.000000</td>\n",
       "      <td>0.000000</td>\n",
       "      <td>0.000000</td>\n",
       "    </tr>\n",
       "    <tr>\n",
       "      <th>50%</th>\n",
       "      <td>74.762958</td>\n",
       "      <td>3.534304</td>\n",
       "      <td>5.436502</td>\n",
       "      <td>1.198213</td>\n",
       "      <td>0.000000</td>\n",
       "      <td>0.000000</td>\n",
       "    </tr>\n",
       "    <tr>\n",
       "      <th>75%</th>\n",
       "      <td>90.374382</td>\n",
       "      <td>15.581323</td>\n",
       "      <td>17.098197</td>\n",
       "      <td>4.467897</td>\n",
       "      <td>0.379185</td>\n",
       "      <td>0.000000</td>\n",
       "    </tr>\n",
       "    <tr>\n",
       "      <th>max</th>\n",
       "      <td>100.000000</td>\n",
       "      <td>100.000000</td>\n",
       "      <td>100.000000</td>\n",
       "      <td>100.000000</td>\n",
       "      <td>100.000000</td>\n",
       "      <td>58.066429</td>\n",
       "    </tr>\n",
       "  </tbody>\n",
       "</table>\n",
       "</div>"
      ],
      "text/plain": [
       "         perc_white    perc_black  perc_hispanic    perc_asian   perc_native  \\\n",
       "count  50811.000000  50811.000000   50811.000000  50811.000000  50811.000000   \n",
       "mean      63.927813     14.559633      14.387397      4.369395      0.638539   \n",
       "std       31.114252     23.989836      20.734372      8.798366      3.842794   \n",
       "min        0.000000      0.000000       0.000000      0.000000      0.000000   \n",
       "25%       41.209183      0.596680       1.715937      0.000000      0.000000   \n",
       "50%       74.762958      3.534304       5.436502      1.198213      0.000000   \n",
       "75%       90.374382     15.581323      17.098197      4.467897      0.379185   \n",
       "max      100.000000    100.000000     100.000000    100.000000    100.000000   \n",
       "\n",
       "       perc_pacific  \n",
       "count  50811.000000  \n",
       "mean       0.137540  \n",
       "std        0.970836  \n",
       "min        0.000000  \n",
       "25%        0.000000  \n",
       "50%        0.000000  \n",
       "75%        0.000000  \n",
       "max       58.066429  "
      ]
     },
     "execution_count": 26,
     "metadata": {},
     "output_type": "execute_result"
    }
   ],
   "source": [
    "## check descriptives\n",
    "df[['perc_white','perc_black', 'perc_hispanic', 'perc_asian', 'perc_native','perc_pacific']].describe()"
   ]
  },
  {
   "cell_type": "markdown",
   "metadata": {},
   "source": [
    "On average, the share of the population that is black and hispanic is about 14%, followed by 4% for share of the population that is asian and 0.5% and 0.1 for share of population that is native american and pacific islander, respectively. perc_native and perc_pacific are not as prevalent in the data; it seems like their distribution will be heavily skewed. perc_black and perc_hispanic have comparatively more spread. However, they are likely skewed as well."
   ]
  },
  {
   "cell_type": "code",
   "execution_count": 27,
   "metadata": {},
   "outputs": [
    {
     "data": {
      "text/html": [
       "<div>\n",
       "<style scoped>\n",
       "    .dataframe tbody tr th:only-of-type {\n",
       "        vertical-align: middle;\n",
       "    }\n",
       "\n",
       "    .dataframe tbody tr th {\n",
       "        vertical-align: top;\n",
       "    }\n",
       "\n",
       "    .dataframe thead th {\n",
       "        text-align: right;\n",
       "    }\n",
       "</style>\n",
       "<table border=\"1\" class=\"dataframe\">\n",
       "  <thead>\n",
       "    <tr style=\"text-align: right;\">\n",
       "      <th></th>\n",
       "      <th>variable</th>\n",
       "      <th>value</th>\n",
       "    </tr>\n",
       "  </thead>\n",
       "  <tbody>\n",
       "    <tr>\n",
       "      <th>0</th>\n",
       "      <td>perc_white</td>\n",
       "      <td>78.717523</td>\n",
       "    </tr>\n",
       "    <tr>\n",
       "      <th>1</th>\n",
       "      <td>perc_white</td>\n",
       "      <td>38.465347</td>\n",
       "    </tr>\n",
       "    <tr>\n",
       "      <th>2</th>\n",
       "      <td>perc_white</td>\n",
       "      <td>82.020886</td>\n",
       "    </tr>\n",
       "    <tr>\n",
       "      <th>3</th>\n",
       "      <td>perc_white</td>\n",
       "      <td>93.863636</td>\n",
       "    </tr>\n",
       "    <tr>\n",
       "      <th>4</th>\n",
       "      <td>perc_white</td>\n",
       "      <td>80.177098</td>\n",
       "    </tr>\n",
       "  </tbody>\n",
       "</table>\n",
       "</div>"
      ],
      "text/plain": [
       "     variable      value\n",
       "0  perc_white  78.717523\n",
       "1  perc_white  38.465347\n",
       "2  perc_white  82.020886\n",
       "3  perc_white  93.863636\n",
       "4  perc_white  80.177098"
      ]
     },
     "execution_count": 27,
     "metadata": {},
     "output_type": "execute_result"
    }
   ],
   "source": [
    "##melt copy of dataframe for graphing purposes\n",
    "df_for_graph=df[['perc_white','perc_black', 'perc_hispanic', 'perc_asian', 'perc_native','perc_pacific']].melt()\n",
    "df_for_graph.head()"
   ]
  },
  {
   "cell_type": "code",
   "execution_count": 28,
   "metadata": {},
   "outputs": [
    {
     "name": "stderr",
     "output_type": "stream",
     "text": [
      "/Users/mkbelay/opt/anaconda3/lib/python3.8/site-packages/plotnine/layer.py:360: PlotnineWarning: stat_bin : Removed 87204 rows containing non-finite values.\n",
      "  data = self.stat.compute_layer(data, params, layout)\n"
     ]
    },
    {
     "data": {
      "image/png": "[encoded data removed]",
      "text/plain": [
       "<Figure size 1000x500 with 6 Axes>"
      ]
     },
     "metadata": {},
     "output_type": "display_data"
    },
    {
     "data": {
      "text/plain": [
       "<ggplot: (8775160951025)>"
      ]
     },
     "execution_count": 28,
     "metadata": {},
     "output_type": "execute_result"
    }
   ],
   "source": [
    "## plot distributions \n",
    "(\n",
    "    ggplot(df_for_graph,aes(x=\"value\")) +\n",
    "    geom_histogram(bins=25) +\n",
    "    facet_wrap(\"variable\",scales='free') +\n",
    "    theme(figure_size=(10,5),\n",
    "          subplots_adjust={'wspace':0.25})\n",
    ")"
   ]
  },
  {
   "cell_type": "markdown",
   "metadata": {},
   "source": [
    "As suspected all the variables are heavily skewed,  with perc_native and perc_pacific being the most skewed. A log transformation is probably necessary during preprocessing. "
   ]
  },
  {
   "cell_type": "markdown",
   "metadata": {},
   "source": [
    "**`Median Household Income`**"
   ]
  },
  {
   "cell_type": "code",
   "execution_count": 29,
   "metadata": {},
   "outputs": [
    {
     "data": {
      "text/plain": [
       "14671"
      ]
     },
     "execution_count": 29,
     "metadata": {},
     "output_type": "execute_result"
    }
   ],
   "source": [
    "## check missingness\n",
    "df.median_income.isna().sum()"
   ]
  },
  {
   "cell_type": "code",
   "execution_count": 30,
   "metadata": {
    "scrolled": true
   },
   "outputs": [
    {
     "data": {
      "text/plain": [
       "count     50674.000000\n",
       "mean      54581.805995\n",
       "std       26863.442181\n",
       "min        5000.000000\n",
       "25%       36544.500000\n",
       "50%       48922.000000\n",
       "75%       66196.000000\n",
       "max      249194.000000\n",
       "Name: median_income, dtype: float64"
      ]
     },
     "execution_count": 30,
     "metadata": {},
     "output_type": "execute_result"
    }
   ],
   "source": [
    "## generate descriptives\n",
    "df.median_income.describe() "
   ]
  },
  {
   "cell_type": "code",
   "execution_count": 31,
   "metadata": {},
   "outputs": [
    {
     "name": "stderr",
     "output_type": "stream",
     "text": [
      "/Users/mkbelay/opt/anaconda3/lib/python3.8/site-packages/numpy/lib/histograms.py:839: RuntimeWarning: invalid value encountered in greater_equal\n",
      "  keep = (tmp_a >= first_edge)\n",
      "/Users/mkbelay/opt/anaconda3/lib/python3.8/site-packages/numpy/lib/histograms.py:840: RuntimeWarning: invalid value encountered in less_equal\n",
      "  keep &= (tmp_a <= last_edge)\n"
     ]
    },
    {
     "data": {
      "image/png": "[encoded data removed]",
      "text/plain": [
       "<Figure size 432x288 with 2 Axes>"
      ]
     },
     "metadata": {
      "needs_background": "light"
     },
     "output_type": "display_data"
    }
   ],
   "source": [
    "## view distribution graphically\n",
    "\n",
    "f, (ax_box, ax_hist) = plt.subplots(2, sharex=True, \n",
    "                                    gridspec_kw={\"height_ratios\": (.90, 1.0)})\n",
    "sns.boxplot(df.median_income, ax=ax_box)\n",
    "#sns.distplot(mREFI.pop_density, ax=ax_hist)\n",
    "plt.hist(df.median_income,bins=100,  edgecolor='k')\n",
    "plt.xlabel('Median income')\n",
    "plt.ylabel('Number of census tracts')\n",
    "ax_box.set(yticks=[])\n",
    "sns.despine(ax=ax_hist)\n",
    "sns.despine(ax=ax_box, left=True)\n",
    "ax_box.set_title(\"Distribution of median household income\", fontweight='bold')\n",
    "ax_box.set_xlabel(\"Median income\")\n",
    "fmt = '{x:,.0f}'\n",
    "tick = mtick.StrMethodFormatter(fmt)\n",
    "ax_hist.yaxis.set_major_formatter(tick) \n",
    "ax_box.xaxis.set_major_formatter(StrMethodFormatter('{x:,.0f}'))\n",
    "plt.savefig('output/images/hh_income.png')## save for memo II"
   ]
  },
  {
   "cell_type": "markdown",
   "metadata": {},
   "source": [
    "Distribution is slightly skewed. Has high value outliers ."
   ]
  },
  {
   "cell_type": "markdown",
   "metadata": {},
   "source": [
    "**`Populaion density`**"
   ]
  },
  {
   "cell_type": "code",
   "execution_count": 32,
   "metadata": {},
   "outputs": [
    {
     "data": {
      "text/plain": [
       "14537"
      ]
     },
     "execution_count": 32,
     "metadata": {},
     "output_type": "execute_result"
    }
   ],
   "source": [
    "## check missingness\n",
    "df.pop_density.isna().sum()"
   ]
  },
  {
   "cell_type": "code",
   "execution_count": 33,
   "metadata": {},
   "outputs": [
    {
     "data": {
      "text/plain": [
       "count     50808.000000\n",
       "mean       5691.527298\n",
       "std       12285.029975\n",
       "min           0.027566\n",
       "25%         415.658503\n",
       "50%        2480.080972\n",
       "75%        5604.027778\n",
       "max      224716.666667\n",
       "Name: pop_density, dtype: float64"
      ]
     },
     "execution_count": 33,
     "metadata": {},
     "output_type": "execute_result"
    }
   ],
   "source": [
    "##check distribution\n",
    "df.pop_density.describe()"
   ]
  },
  {
   "cell_type": "markdown",
   "metadata": {},
   "source": [
    "There are census tracts with really low population density. let's explore them more:"
   ]
  },
  {
   "cell_type": "code",
   "execution_count": 34,
   "metadata": {},
   "outputs": [
    {
     "data": {
      "text/html": [
       "<div>\n",
       "<style scoped>\n",
       "    .dataframe tbody tr th:only-of-type {\n",
       "        vertical-align: middle;\n",
       "    }\n",
       "\n",
       "    .dataframe tbody tr th {\n",
       "        vertical-align: top;\n",
       "    }\n",
       "\n",
       "    .dataframe thead th {\n",
       "        text-align: right;\n",
       "    }\n",
       "</style>\n",
       "<table border=\"1\" class=\"dataframe\">\n",
       "  <thead>\n",
       "    <tr style=\"text-align: right;\">\n",
       "      <th></th>\n",
       "      <th>pop_density</th>\n",
       "      <th>perc_white</th>\n",
       "      <th>perc_black</th>\n",
       "      <th>perc_native</th>\n",
       "      <th>perc_asian</th>\n",
       "      <th>perc_pacific</th>\n",
       "      <th>perc_hispanic</th>\n",
       "    </tr>\n",
       "  </thead>\n",
       "  <tbody>\n",
       "    <tr>\n",
       "      <th>1081</th>\n",
       "      <td>0.526227</td>\n",
       "      <td>5.698083</td>\n",
       "      <td>10.234945</td>\n",
       "      <td>11.639211</td>\n",
       "      <td>52.227923</td>\n",
       "      <td>0.594113</td>\n",
       "      <td>15.473940</td>\n",
       "    </tr>\n",
       "    <tr>\n",
       "      <th>1082</th>\n",
       "      <td>0.709802</td>\n",
       "      <td>34.949267</td>\n",
       "      <td>18.207441</td>\n",
       "      <td>17.643743</td>\n",
       "      <td>18.263811</td>\n",
       "      <td>6.538895</td>\n",
       "      <td>0.732807</td>\n",
       "    </tr>\n",
       "    <tr>\n",
       "      <th>1139</th>\n",
       "      <td>0.427598</td>\n",
       "      <td>3.533383</td>\n",
       "      <td>0.052737</td>\n",
       "      <td>94.093450</td>\n",
       "      <td>0.052737</td>\n",
       "      <td>0.000000</td>\n",
       "      <td>0.348065</td>\n",
       "    </tr>\n",
       "    <tr>\n",
       "      <th>1141</th>\n",
       "      <td>0.071796</td>\n",
       "      <td>16.233766</td>\n",
       "      <td>0.288600</td>\n",
       "      <td>71.500722</td>\n",
       "      <td>0.000000</td>\n",
       "      <td>0.000000</td>\n",
       "      <td>0.000000</td>\n",
       "    </tr>\n",
       "    <tr>\n",
       "      <th>1143</th>\n",
       "      <td>0.089498</td>\n",
       "      <td>87.325175</td>\n",
       "      <td>1.660839</td>\n",
       "      <td>3.758741</td>\n",
       "      <td>0.786713</td>\n",
       "      <td>0.000000</td>\n",
       "      <td>0.786713</td>\n",
       "    </tr>\n",
       "    <tr>\n",
       "      <th>...</th>\n",
       "      <td>...</td>\n",
       "      <td>...</td>\n",
       "      <td>...</td>\n",
       "      <td>...</td>\n",
       "      <td>...</td>\n",
       "      <td>...</td>\n",
       "      <td>...</td>\n",
       "    </tr>\n",
       "    <tr>\n",
       "      <th>65266</th>\n",
       "      <td>0.610223</td>\n",
       "      <td>99.210111</td>\n",
       "      <td>0.000000</td>\n",
       "      <td>0.197472</td>\n",
       "      <td>0.000000</td>\n",
       "      <td>0.000000</td>\n",
       "      <td>0.592417</td>\n",
       "    </tr>\n",
       "    <tr>\n",
       "      <th>65288</th>\n",
       "      <td>0.825447</td>\n",
       "      <td>93.653173</td>\n",
       "      <td>0.249875</td>\n",
       "      <td>2.698651</td>\n",
       "      <td>0.599700</td>\n",
       "      <td>0.000000</td>\n",
       "      <td>0.799600</td>\n",
       "    </tr>\n",
       "    <tr>\n",
       "      <th>65306</th>\n",
       "      <td>0.986315</td>\n",
       "      <td>93.594392</td>\n",
       "      <td>0.555958</td>\n",
       "      <td>0.531786</td>\n",
       "      <td>0.000000</td>\n",
       "      <td>0.000000</td>\n",
       "      <td>3.722504</td>\n",
       "    </tr>\n",
       "    <tr>\n",
       "      <th>65307</th>\n",
       "      <td>0.924647</td>\n",
       "      <td>90.000000</td>\n",
       "      <td>0.864198</td>\n",
       "      <td>1.193416</td>\n",
       "      <td>0.000000</td>\n",
       "      <td>0.000000</td>\n",
       "      <td>5.514403</td>\n",
       "    </tr>\n",
       "    <tr>\n",
       "      <th>65333</th>\n",
       "      <td>0.196877</td>\n",
       "      <td>88.180693</td>\n",
       "      <td>0.000000</td>\n",
       "      <td>0.123762</td>\n",
       "      <td>0.061881</td>\n",
       "      <td>0.000000</td>\n",
       "      <td>8.168317</td>\n",
       "    </tr>\n",
       "  </tbody>\n",
       "</table>\n",
       "<p>117 rows × 7 columns</p>\n",
       "</div>"
      ],
      "text/plain": [
       "       pop_density  perc_white  perc_black  perc_native  perc_asian  \\\n",
       "1081      0.526227    5.698083   10.234945    11.639211   52.227923   \n",
       "1082      0.709802   34.949267   18.207441    17.643743   18.263811   \n",
       "1139      0.427598    3.533383    0.052737    94.093450    0.052737   \n",
       "1141      0.071796   16.233766    0.288600    71.500722    0.000000   \n",
       "1143      0.089498   87.325175    1.660839     3.758741    0.786713   \n",
       "...            ...         ...         ...          ...         ...   \n",
       "65266     0.610223   99.210111    0.000000     0.197472    0.000000   \n",
       "65288     0.825447   93.653173    0.249875     2.698651    0.599700   \n",
       "65306     0.986315   93.594392    0.555958     0.531786    0.000000   \n",
       "65307     0.924647   90.000000    0.864198     1.193416    0.000000   \n",
       "65333     0.196877   88.180693    0.000000     0.123762    0.061881   \n",
       "\n",
       "       perc_pacific  perc_hispanic  \n",
       "1081       0.594113      15.473940  \n",
       "1082       6.538895       0.732807  \n",
       "1139       0.000000       0.348065  \n",
       "1141       0.000000       0.000000  \n",
       "1143       0.000000       0.786713  \n",
       "...             ...            ...  \n",
       "65266      0.000000       0.592417  \n",
       "65288      0.000000       0.799600  \n",
       "65306      0.000000       3.722504  \n",
       "65307      0.000000       5.514403  \n",
       "65333      0.000000       8.168317  \n",
       "\n",
       "[117 rows x 7 columns]"
      ]
     },
     "execution_count": 34,
     "metadata": {},
     "output_type": "execute_result"
    }
   ],
   "source": [
    "df.loc[df['pop_density']<1].filter(['pop_density', 'perc_white', 'perc_black', 'perc_native', 'perc_asian', 'perc_pacific', 'perc_hispanic'])"
   ]
  },
  {
   "cell_type": "markdown",
   "metadata": {},
   "source": [
    "Tracts with pop_density below 1 all seem to be occupied; lets confirm"
   ]
  },
  {
   "cell_type": "code",
   "execution_count": 35,
   "metadata": {},
   "outputs": [
    {
     "data": {
      "text/html": [
       "<div>\n",
       "<style scoped>\n",
       "    .dataframe tbody tr th:only-of-type {\n",
       "        vertical-align: middle;\n",
       "    }\n",
       "\n",
       "    .dataframe tbody tr th {\n",
       "        vertical-align: top;\n",
       "    }\n",
       "\n",
       "    .dataframe thead th {\n",
       "        text-align: right;\n",
       "    }\n",
       "</style>\n",
       "<table border=\"1\" class=\"dataframe\">\n",
       "  <thead>\n",
       "    <tr style=\"text-align: right;\">\n",
       "      <th></th>\n",
       "      <th>state</th>\n",
       "      <th>mrfei</th>\n",
       "      <th>fips_modified</th>\n",
       "      <th>NAME</th>\n",
       "      <th>perc_public_transport</th>\n",
       "      <th>perc_white</th>\n",
       "      <th>perc_black</th>\n",
       "      <th>perc_hispanic</th>\n",
       "      <th>perc_asian</th>\n",
       "      <th>perc_native</th>\n",
       "      <th>...</th>\n",
       "      <th>perc_snap</th>\n",
       "      <th>inequality</th>\n",
       "      <th>unemploy</th>\n",
       "      <th>below_high_school</th>\n",
       "      <th>college_no_degree</th>\n",
       "      <th>associates_degree</th>\n",
       "      <th>bach_or_more</th>\n",
       "      <th>value</th>\n",
       "      <th>perc_no_vehicle</th>\n",
       "      <th>perc_rural</th>\n",
       "    </tr>\n",
       "  </thead>\n",
       "  <tbody>\n",
       "  </tbody>\n",
       "</table>\n",
       "<p>0 rows × 25 columns</p>\n",
       "</div>"
      ],
      "text/plain": [
       "Empty DataFrame\n",
       "Columns: [state, mrfei, fips_modified, NAME, perc_public_transport, perc_white, perc_black, perc_hispanic, perc_asian, perc_native, perc_pacific, median_income, SQMI, pop_density, perc_pov, perc_snap, inequality, unemploy, below_high_school, college_no_degree, associates_degree, bach_or_more, value, perc_no_vehicle, perc_rural]\n",
       "Index: []\n",
       "\n",
       "[0 rows x 25 columns]"
      ]
     },
     "execution_count": 35,
     "metadata": {},
     "output_type": "execute_result"
    }
   ],
   "source": [
    "df.loc[(df['pop_density']<1)&(df['perc_white']==0)&(df['perc_black']==0)& (df['perc_native']==0)& (df['perc_asian']==0)& (df['perc_pacific']==0)&(df['perc_hispanic']==0)]"
   ]
  },
  {
   "cell_type": "markdown",
   "metadata": {},
   "source": [
    "There aren't any unpopulated census tracts in the data set."
   ]
  },
  {
   "cell_type": "code",
   "execution_count": 36,
   "metadata": {},
   "outputs": [
    {
     "name": "stderr",
     "output_type": "stream",
     "text": [
      "/Users/mkbelay/opt/anaconda3/lib/python3.8/site-packages/numpy/lib/histograms.py:839: RuntimeWarning: invalid value encountered in greater_equal\n",
      "  keep = (tmp_a >= first_edge)\n",
      "/Users/mkbelay/opt/anaconda3/lib/python3.8/site-packages/numpy/lib/histograms.py:840: RuntimeWarning: invalid value encountered in less_equal\n",
      "  keep &= (tmp_a <= last_edge)\n"
     ]
    },
    {
     "data": {
      "image/png": "[encoded data removed]",
      "text/plain": [
       "<Figure size 432x288 with 2 Axes>"
      ]
     },
     "metadata": {
      "needs_background": "light"
     },
     "output_type": "display_data"
    }
   ],
   "source": [
    "f, (ax_box, ax_hist) = plt.subplots(2, sharex=True, \n",
    "                                    gridspec_kw={\"height_ratios\": (.90, 1.0)})\n",
    "\n",
    "sns.boxplot(df['pop_density'], ax=ax_box)\n",
    "#sns.distplot(mREFI.pop_density, ax=ax_hist)\n",
    "plt.hist(df['pop_density'],bins=100,  edgecolor='k')\n",
    "plt.xlabel('Population density')\n",
    "plt.ylabel('Number of census tracts')\n",
    "ax_box.set(yticks=[])\n",
    "sns.despine(ax=ax_hist)\n",
    "sns.despine(ax=ax_box, left=True)\n",
    "ax_box.set_title(\"Distribution of population density per square mile\", fontweight='bold')\n",
    "ax_box.set_xlabel(\"Population density\")\n",
    "fmt = '{x:,.0f}'\n",
    "tick = mtick.StrMethodFormatter(fmt)\n",
    "ax_hist.yaxis.set_major_formatter(tick) \n",
    "ax_box.xaxis.set_major_formatter(StrMethodFormatter('{x:,.0f}'))\n",
    "plt.savefig('output/images/pop_density.png')"
   ]
  },
  {
   "cell_type": "markdown",
   "metadata": {},
   "source": [
    "This is a heavily skewed distribution with a lot of tracts that have a population density below 1. As we've seen above, these areas are actually populated."
   ]
  },
  {
   "cell_type": "markdown",
   "metadata": {},
   "source": [
    "#### Create correlation matrix for select variables for project memo"
   ]
  },
  {
   "cell_type": "code",
   "execution_count": 37,
   "metadata": {},
   "outputs": [],
   "source": [
    "## create  object of select variables\n",
    "x=df.filter(['mrfei', 'pop_density', 'perc_public_transport', 'median_income'])"
   ]
  },
  {
   "cell_type": "code",
   "execution_count": 38,
   "metadata": {},
   "outputs": [],
   "source": [
    "##  rename variables\n",
    "x=x.rename(columns={'mrfei':'mRFEI', 'pop_density': 'Population density', 'perc_public_transport': 'Public transport', 'median_income':'Median income'})"
   ]
  },
  {
   "cell_type": "code",
   "execution_count": 39,
   "metadata": {},
   "outputs": [
    {
     "data": {
      "text/html": [
       "<div>\n",
       "<style scoped>\n",
       "    .dataframe tbody tr th:only-of-type {\n",
       "        vertical-align: middle;\n",
       "    }\n",
       "\n",
       "    .dataframe tbody tr th {\n",
       "        vertical-align: top;\n",
       "    }\n",
       "\n",
       "    .dataframe thead th {\n",
       "        text-align: right;\n",
       "    }\n",
       "</style>\n",
       "<table border=\"1\" class=\"dataframe\">\n",
       "  <thead>\n",
       "    <tr style=\"text-align: right;\">\n",
       "      <th></th>\n",
       "      <th>mRFEI</th>\n",
       "      <th>Population density</th>\n",
       "      <th>Public transport</th>\n",
       "      <th>Median income</th>\n",
       "    </tr>\n",
       "  </thead>\n",
       "  <tbody>\n",
       "    <tr>\n",
       "      <th>mRFEI</th>\n",
       "      <td>1.000000</td>\n",
       "      <td>-0.080833</td>\n",
       "      <td>-0.100133</td>\n",
       "      <td>0.074795</td>\n",
       "    </tr>\n",
       "    <tr>\n",
       "      <th>Population density</th>\n",
       "      <td>-0.080833</td>\n",
       "      <td>1.000000</td>\n",
       "      <td>0.762777</td>\n",
       "      <td>-0.054860</td>\n",
       "    </tr>\n",
       "    <tr>\n",
       "      <th>Public transport</th>\n",
       "      <td>-0.100133</td>\n",
       "      <td>0.762777</td>\n",
       "      <td>1.000000</td>\n",
       "      <td>-0.033422</td>\n",
       "    </tr>\n",
       "    <tr>\n",
       "      <th>Median income</th>\n",
       "      <td>0.074795</td>\n",
       "      <td>-0.054860</td>\n",
       "      <td>-0.033422</td>\n",
       "      <td>1.000000</td>\n",
       "    </tr>\n",
       "  </tbody>\n",
       "</table>\n",
       "</div>"
      ],
      "text/plain": [
       "                       mRFEI  Population density  Public transport  \\\n",
       "mRFEI               1.000000           -0.080833         -0.100133   \n",
       "Population density -0.080833            1.000000          0.762777   \n",
       "Public transport   -0.100133            0.762777          1.000000   \n",
       "Median income       0.074795           -0.054860         -0.033422   \n",
       "\n",
       "                    Median income  \n",
       "mRFEI                    0.074795  \n",
       "Population density      -0.054860  \n",
       "Public transport        -0.033422  \n",
       "Median income            1.000000  "
      ]
     },
     "execution_count": 39,
     "metadata": {},
     "output_type": "execute_result"
    }
   ],
   "source": [
    "## compute correlations\n",
    "corr=x.corr()\n",
    "corr"
   ]
  },
  {
   "cell_type": "code",
   "execution_count": 40,
   "metadata": {},
   "outputs": [
    {
     "data": {
      "image/png": "[encoded data removed]",
      "text/plain": [
       "<Figure size 432x288 with 2 Axes>"
      ]
     },
     "metadata": {
      "needs_background": "light"
     },
     "output_type": "display_data"
    }
   ],
   "source": [
    "##plot graph\n",
    "corr_graph=sns.heatmap(corr, mask=np.triu(np.ones_like(corr, dtype=bool)), cmap=\"coolwarm\", vmax=1, vmin=-1, center=0,\n",
    "            linewidths=.5, cbar_kws={\"shrink\": .5}, annot=True)\n",
    "plt.title('Correlation map of selected variables', fontweight='bold')\n",
    "plt.savefig('output/images/corr_graph.png', bbox_inches='tight')"
   ]
  },
  {
   "cell_type": "markdown",
   "metadata": {},
   "source": [
    "_________________________"
   ]
  },
  {
   "cell_type": "markdown",
   "metadata": {},
   "source": [
    "**`Poverty rate`**"
   ]
  },
  {
   "cell_type": "code",
   "execution_count": 41,
   "metadata": {},
   "outputs": [
    {
     "data": {
      "text/plain": [
       "14607"
      ]
     },
     "execution_count": 41,
     "metadata": {},
     "output_type": "execute_result"
    }
   ],
   "source": [
    "## check for missingness\n",
    "df.perc_pov.isna().sum()"
   ]
  },
  {
   "cell_type": "code",
   "execution_count": 42,
   "metadata": {},
   "outputs": [
    {
     "data": {
      "text/plain": [
       "count    50738.000000\n",
       "mean        15.328058\n",
       "std         12.502077\n",
       "min          0.000000\n",
       "25%          6.119494\n",
       "50%         11.900724\n",
       "75%         21.000675\n",
       "max        100.000000\n",
       "Name: perc_pov, dtype: float64"
      ]
     },
     "execution_count": 42,
     "metadata": {},
     "output_type": "execute_result"
    }
   ],
   "source": [
    "##check distribution\n",
    "df.perc_pov.describe()"
   ]
  },
  {
   "cell_type": "code",
   "execution_count": 44,
   "metadata": {},
   "outputs": [
    {
     "name": "stderr",
     "output_type": "stream",
     "text": [
      "/Users/mkbelay/opt/anaconda3/lib/python3.8/site-packages/numpy/lib/histograms.py:839: RuntimeWarning: invalid value encountered in greater_equal\n",
      "  keep = (tmp_a >= first_edge)\n",
      "/Users/mkbelay/opt/anaconda3/lib/python3.8/site-packages/numpy/lib/histograms.py:840: RuntimeWarning: invalid value encountered in less_equal\n",
      "  keep &= (tmp_a <= last_edge)\n"
     ]
    },
    {
     "data": {
      "text/plain": [
       "Text(0.5, 0, 'Percent below poverty rate')"
      ]
     },
     "execution_count": 44,
     "metadata": {},
     "output_type": "execute_result"
    },
    {
     "data": {
      "image/png": "[encoded data removed]",
      "text/plain": [
       "<Figure size 432x288 with 2 Axes>"
      ]
     },
     "metadata": {
      "needs_background": "light"
     },
     "output_type": "display_data"
    }
   ],
   "source": [
    "f, (ax_box, ax_hist) = plt.subplots(2, sharex=True, \n",
    "                                    gridspec_kw={\"height_ratios\": (.90, 1.0)})\n",
    "\n",
    "sns.boxplot(df.perc_pov, ax=ax_box)\n",
    "#sns.distplot(mREFI.pop_density, ax=ax_hist)\n",
    "plt.hist(df.perc_pov,bins=100,  edgecolor='k')\n",
    "plt.xlabel('Percent below poverty rate')\n",
    "plt.ylabel('Number of census tracts')\n",
    "ax_box.set(yticks=[])\n",
    "sns.despine(ax=ax_hist)\n",
    "sns.despine(ax=ax_box, left=True)\n",
    "ax_box.set_title(\"Share of population below poverty rate\", fontweight='bold')\n",
    "ax_box.set_xlabel(\"Percent below poverty rate\")\n"
   ]
  },
  {
   "cell_type": "markdown",
   "metadata": {},
   "source": [
    "**`Households with SNAP`**"
   ]
  },
  {
   "cell_type": "code",
   "execution_count": 45,
   "metadata": {},
   "outputs": [
    {
     "data": {
      "text/plain": [
       "14622"
      ]
     },
     "execution_count": 45,
     "metadata": {},
     "output_type": "execute_result"
    }
   ],
   "source": [
    "df.perc_snap.isna().sum()"
   ]
  },
  {
   "cell_type": "code",
   "execution_count": 46,
   "metadata": {},
   "outputs": [
    {
     "data": {
      "text/plain": [
       "count    50723.000000\n",
       "mean        11.495781\n",
       "std         10.708510\n",
       "min          0.000000\n",
       "25%          3.729985\n",
       "50%          8.304795\n",
       "75%         15.880294\n",
       "max        100.000000\n",
       "Name: perc_snap, dtype: float64"
      ]
     },
     "execution_count": 46,
     "metadata": {},
     "output_type": "execute_result"
    }
   ],
   "source": [
    "## check distribution\n",
    "df.perc_snap.describe()"
   ]
  },
  {
   "cell_type": "code",
   "execution_count": 47,
   "metadata": {},
   "outputs": [
    {
     "name": "stderr",
     "output_type": "stream",
     "text": [
      "/Users/mkbelay/opt/anaconda3/lib/python3.8/site-packages/numpy/lib/histograms.py:839: RuntimeWarning: invalid value encountered in greater_equal\n",
      "  keep = (tmp_a >= first_edge)\n",
      "/Users/mkbelay/opt/anaconda3/lib/python3.8/site-packages/numpy/lib/histograms.py:840: RuntimeWarning: invalid value encountered in less_equal\n",
      "  keep &= (tmp_a <= last_edge)\n"
     ]
    },
    {
     "data": {
      "text/plain": [
       "Text(0.5, 0, 'Percent on SNAP')"
      ]
     },
     "execution_count": 47,
     "metadata": {},
     "output_type": "execute_result"
    },
    {
     "data": {
      "image/png": "[encoded data removed]",
      "text/plain": [
       "<Figure size 432x288 with 2 Axes>"
      ]
     },
     "metadata": {
      "needs_background": "light"
     },
     "output_type": "display_data"
    }
   ],
   "source": [
    "f, (ax_box, ax_hist) = plt.subplots(2, sharex=True, \n",
    "                                    gridspec_kw={\"height_ratios\": (.90, 1.0)})\n",
    "\n",
    "sns.boxplot(df.perc_snap, ax=ax_box)\n",
    "#sns.distplot(mREFI.pop_density, ax=ax_hist)\n",
    "plt.hist(df.perc_snap,bins=100,  edgecolor='k')\n",
    "plt.xlabel('Percent on SNAP')\n",
    "plt.ylabel('Number of census tracts')\n",
    "ax_box.set(yticks=[])\n",
    "sns.despine(ax=ax_hist)\n",
    "sns.despine(ax=ax_box, left=True)\n",
    "ax_box.set_title(\"Share of population on SNAP\", fontweight='bold')\n",
    "ax_box.set_xlabel(\"Percent on SNAP\")"
   ]
  },
  {
   "cell_type": "markdown",
   "metadata": {},
   "source": [
    "**`Inequality`**"
   ]
  },
  {
   "cell_type": "code",
   "execution_count": 48,
   "metadata": {},
   "outputs": [
    {
     "data": {
      "text/plain": [
       "14648"
      ]
     },
     "execution_count": 48,
     "metadata": {},
     "output_type": "execute_result"
    }
   ],
   "source": [
    "df.inequality.isna().sum()"
   ]
  },
  {
   "cell_type": "code",
   "execution_count": 49,
   "metadata": {},
   "outputs": [
    {
     "data": {
      "text/plain": [
       "count    50697.000000\n",
       "mean         0.411784\n",
       "std          0.062907\n",
       "min          0.002000\n",
       "25%          0.369000\n",
       "50%          0.405000\n",
       "75%          0.448000\n",
       "max          0.850000\n",
       "Name: inequality, dtype: float64"
      ]
     },
     "execution_count": 49,
     "metadata": {},
     "output_type": "execute_result"
    }
   ],
   "source": [
    "## check distribution\n",
    "df.inequality.describe()"
   ]
  },
  {
   "cell_type": "code",
   "execution_count": 50,
   "metadata": {},
   "outputs": [
    {
     "name": "stderr",
     "output_type": "stream",
     "text": [
      "/Users/mkbelay/opt/anaconda3/lib/python3.8/site-packages/numpy/lib/histograms.py:839: RuntimeWarning: invalid value encountered in greater_equal\n",
      "  keep = (tmp_a >= first_edge)\n",
      "/Users/mkbelay/opt/anaconda3/lib/python3.8/site-packages/numpy/lib/histograms.py:840: RuntimeWarning: invalid value encountered in less_equal\n",
      "  keep &= (tmp_a <= last_edge)\n"
     ]
    },
    {
     "data": {
      "text/plain": [
       "Text(0.5, 0, 'Inequality(gini index)')"
      ]
     },
     "execution_count": 50,
     "metadata": {},
     "output_type": "execute_result"
    },
    {
     "data": {
      "image/png": "[encoded data removed]",
      "text/plain": [
       "<Figure size 432x288 with 2 Axes>"
      ]
     },
     "metadata": {
      "needs_background": "light"
     },
     "output_type": "display_data"
    }
   ],
   "source": [
    "f, (ax_box, ax_hist) = plt.subplots(2, sharex=True, \n",
    "                                    gridspec_kw={\"height_ratios\": (.90, 1.0)})\n",
    "\n",
    "sns.boxplot(df.inequality, ax=ax_box)\n",
    "#sns.distplot(mREFI.pop_density, ax=ax_hist)\n",
    "plt.hist(df.inequality,bins=100,  edgecolor='k')\n",
    "plt.xlabel('Inequality(gini index)')\n",
    "plt.ylabel('Number of census tracts')\n",
    "ax_box.set(yticks=[])\n",
    "sns.despine(ax=ax_hist)\n",
    "sns.despine(ax=ax_box, left=True)\n",
    "ax_box.set_title(\"Inequality(gini index)\", fontweight='bold')\n",
    "ax_box.set_xlabel(\"Inequality(gini index)\")"
   ]
  },
  {
   "cell_type": "markdown",
   "metadata": {},
   "source": [
    "**`Unemployment`**"
   ]
  },
  {
   "cell_type": "code",
   "execution_count": 51,
   "metadata": {},
   "outputs": [
    {
     "data": {
      "text/plain": [
       "14591"
      ]
     },
     "execution_count": 51,
     "metadata": {},
     "output_type": "execute_result"
    }
   ],
   "source": [
    "df.unemploy.isna().sum()"
   ]
  },
  {
   "cell_type": "code",
   "execution_count": 52,
   "metadata": {},
   "outputs": [
    {
     "data": {
      "text/plain": [
       "count    50754.000000\n",
       "mean         8.699915\n",
       "std          5.754470\n",
       "min          0.000000\n",
       "25%          4.900000\n",
       "50%          7.400000\n",
       "75%         10.900000\n",
       "max        100.000000\n",
       "Name: unemploy, dtype: float64"
      ]
     },
     "execution_count": 52,
     "metadata": {},
     "output_type": "execute_result"
    }
   ],
   "source": [
    "##check distribution\n",
    "df.unemploy.describe()"
   ]
  },
  {
   "cell_type": "code",
   "execution_count": 53,
   "metadata": {},
   "outputs": [
    {
     "name": "stderr",
     "output_type": "stream",
     "text": [
      "/Users/mkbelay/opt/anaconda3/lib/python3.8/site-packages/numpy/lib/histograms.py:839: RuntimeWarning: invalid value encountered in greater_equal\n",
      "  keep = (tmp_a >= first_edge)\n",
      "/Users/mkbelay/opt/anaconda3/lib/python3.8/site-packages/numpy/lib/histograms.py:840: RuntimeWarning: invalid value encountered in less_equal\n",
      "  keep &= (tmp_a <= last_edge)\n"
     ]
    },
    {
     "data": {
      "text/plain": [
       "Text(0.5, 0, 'Unemployment rate')"
      ]
     },
     "execution_count": 53,
     "metadata": {},
     "output_type": "execute_result"
    },
    {
     "data": {
      "image/png": "[encoded data removed]",
      "text/plain": [
       "<Figure size 432x288 with 2 Axes>"
      ]
     },
     "metadata": {
      "needs_background": "light"
     },
     "output_type": "display_data"
    }
   ],
   "source": [
    "f, (ax_box, ax_hist) = plt.subplots(2, sharex=True, \n",
    "                                    gridspec_kw={\"height_ratios\": (.90, 1.0)})\n",
    "\n",
    "sns.boxplot(df.unemploy, ax=ax_box)\n",
    "#sns.distplot(mREFI.pop_density, ax=ax_hist)\n",
    "plt.hist(df.unemploy,bins=100,  edgecolor='k')\n",
    "plt.xlabel('Unemployment rate')\n",
    "plt.ylabel('Number of census tracts')\n",
    "ax_box.set(yticks=[])\n",
    "sns.despine(ax=ax_hist)\n",
    "sns.despine(ax=ax_box, left=True)\n",
    "ax_box.set_title(\"Unemployment rate\", fontweight='bold')\n",
    "ax_box.set_xlabel(\"Unemployment rate\")"
   ]
  },
  {
   "cell_type": "markdown",
   "metadata": {},
   "source": [
    "**`Educational Attainment`**"
   ]
  },
  {
   "cell_type": "code",
   "execution_count": 54,
   "metadata": {},
   "outputs": [
    {
     "data": {
      "text/plain": [
       "below_high_school    14539\n",
       "college_no_degree    14539\n",
       "associates_degree    14539\n",
       "bach_or_more         14539\n",
       "dtype: int64"
      ]
     },
     "execution_count": 54,
     "metadata": {},
     "output_type": "execute_result"
    }
   ],
   "source": [
    "df[['below_high_school',\n",
    "       'college_no_degree', 'associates_degree', 'bach_or_more']].isna().sum()"
   ]
  },
  {
   "cell_type": "code",
   "execution_count": 55,
   "metadata": {},
   "outputs": [
    {
     "data": {
      "text/html": [
       "<div>\n",
       "<style scoped>\n",
       "    .dataframe tbody tr th:only-of-type {\n",
       "        vertical-align: middle;\n",
       "    }\n",
       "\n",
       "    .dataframe tbody tr th {\n",
       "        vertical-align: top;\n",
       "    }\n",
       "\n",
       "    .dataframe thead th {\n",
       "        text-align: right;\n",
       "    }\n",
       "</style>\n",
       "<table border=\"1\" class=\"dataframe\">\n",
       "  <thead>\n",
       "    <tr style=\"text-align: right;\">\n",
       "      <th></th>\n",
       "      <th>below_high_school</th>\n",
       "      <th>college_no_degree</th>\n",
       "      <th>associates_degree</th>\n",
       "      <th>bach_or_more</th>\n",
       "    </tr>\n",
       "  </thead>\n",
       "  <tbody>\n",
       "    <tr>\n",
       "      <th>count</th>\n",
       "      <td>50806.000000</td>\n",
       "      <td>50806.000000</td>\n",
       "      <td>50806.00000</td>\n",
       "      <td>50806.000000</td>\n",
       "    </tr>\n",
       "    <tr>\n",
       "      <th>mean</th>\n",
       "      <td>9.481795</td>\n",
       "      <td>20.302169</td>\n",
       "      <td>7.26541</td>\n",
       "      <td>26.431526</td>\n",
       "    </tr>\n",
       "    <tr>\n",
       "      <th>std</th>\n",
       "      <td>6.474654</td>\n",
       "      <td>6.383870</td>\n",
       "      <td>3.35958</td>\n",
       "      <td>18.309315</td>\n",
       "    </tr>\n",
       "    <tr>\n",
       "      <th>min</th>\n",
       "      <td>0.000000</td>\n",
       "      <td>0.000000</td>\n",
       "      <td>0.00000</td>\n",
       "      <td>0.000000</td>\n",
       "    </tr>\n",
       "    <tr>\n",
       "      <th>25%</th>\n",
       "      <td>4.600000</td>\n",
       "      <td>16.000000</td>\n",
       "      <td>4.90000</td>\n",
       "      <td>12.700000</td>\n",
       "    </tr>\n",
       "    <tr>\n",
       "      <th>50%</th>\n",
       "      <td>8.300000</td>\n",
       "      <td>20.100000</td>\n",
       "      <td>7.10000</td>\n",
       "      <td>21.200000</td>\n",
       "    </tr>\n",
       "    <tr>\n",
       "      <th>75%</th>\n",
       "      <td>13.200000</td>\n",
       "      <td>24.400000</td>\n",
       "      <td>9.30000</td>\n",
       "      <td>36.100000</td>\n",
       "    </tr>\n",
       "    <tr>\n",
       "      <th>max</th>\n",
       "      <td>100.000000</td>\n",
       "      <td>100.000000</td>\n",
       "      <td>52.60000</td>\n",
       "      <td>100.000000</td>\n",
       "    </tr>\n",
       "  </tbody>\n",
       "</table>\n",
       "</div>"
      ],
      "text/plain": [
       "       below_high_school  college_no_degree  associates_degree  bach_or_more\n",
       "count       50806.000000       50806.000000        50806.00000  50806.000000\n",
       "mean            9.481795          20.302169            7.26541     26.431526\n",
       "std             6.474654           6.383870            3.35958     18.309315\n",
       "min             0.000000           0.000000            0.00000      0.000000\n",
       "25%             4.600000          16.000000            4.90000     12.700000\n",
       "50%             8.300000          20.100000            7.10000     21.200000\n",
       "75%            13.200000          24.400000            9.30000     36.100000\n",
       "max           100.000000         100.000000           52.60000    100.000000"
      ]
     },
     "execution_count": 55,
     "metadata": {},
     "output_type": "execute_result"
    }
   ],
   "source": [
    "## check distributions\n",
    "df[['below_high_school',\n",
    "       'college_no_degree', 'associates_degree', 'bach_or_more']].describe()"
   ]
  },
  {
   "cell_type": "code",
   "execution_count": 56,
   "metadata": {},
   "outputs": [
    {
     "data": {
      "text/html": [
       "<div>\n",
       "<style scoped>\n",
       "    .dataframe tbody tr th:only-of-type {\n",
       "        vertical-align: middle;\n",
       "    }\n",
       "\n",
       "    .dataframe tbody tr th {\n",
       "        vertical-align: top;\n",
       "    }\n",
       "\n",
       "    .dataframe thead th {\n",
       "        text-align: right;\n",
       "    }\n",
       "</style>\n",
       "<table border=\"1\" class=\"dataframe\">\n",
       "  <thead>\n",
       "    <tr style=\"text-align: right;\">\n",
       "      <th></th>\n",
       "      <th>variable</th>\n",
       "      <th>value</th>\n",
       "    </tr>\n",
       "  </thead>\n",
       "  <tbody>\n",
       "    <tr>\n",
       "      <th>0</th>\n",
       "      <td>below_high_school</td>\n",
       "      <td>10.5</td>\n",
       "    </tr>\n",
       "    <tr>\n",
       "      <th>1</th>\n",
       "      <td>below_high_school</td>\n",
       "      <td>14.9</td>\n",
       "    </tr>\n",
       "    <tr>\n",
       "      <th>2</th>\n",
       "      <td>below_high_school</td>\n",
       "      <td>9.5</td>\n",
       "    </tr>\n",
       "    <tr>\n",
       "      <th>3</th>\n",
       "      <td>below_high_school</td>\n",
       "      <td>6.2</td>\n",
       "    </tr>\n",
       "    <tr>\n",
       "      <th>4</th>\n",
       "      <td>below_high_school</td>\n",
       "      <td>2.8</td>\n",
       "    </tr>\n",
       "  </tbody>\n",
       "</table>\n",
       "</div>"
      ],
      "text/plain": [
       "            variable  value\n",
       "0  below_high_school   10.5\n",
       "1  below_high_school   14.9\n",
       "2  below_high_school    9.5\n",
       "3  below_high_school    6.2\n",
       "4  below_high_school    2.8"
      ]
     },
     "execution_count": 56,
     "metadata": {},
     "output_type": "execute_result"
    }
   ],
   "source": [
    "##melt copy of dataframe for graphing purposes\n",
    "df_for_graph=df[['below_high_school',\n",
    "       'college_no_degree', 'associates_degree', 'bach_or_more']].melt()\n",
    "df_for_graph.head()"
   ]
  },
  {
   "cell_type": "code",
   "execution_count": 57,
   "metadata": {},
   "outputs": [
    {
     "name": "stderr",
     "output_type": "stream",
     "text": [
      "/Users/mkbelay/opt/anaconda3/lib/python3.8/site-packages/plotnine/layer.py:360: PlotnineWarning: stat_bin : Removed 58156 rows containing non-finite values.\n",
      "  data = self.stat.compute_layer(data, params, layout)\n"
     ]
    },
    {
     "data": {
      "image/png": "[encoded data removed]",
      "text/plain": [
       "<Figure size 1000x500 with 4 Axes>"
      ]
     },
     "metadata": {},
     "output_type": "display_data"
    },
    {
     "data": {
      "text/plain": [
       "<ggplot: (8775165277305)>"
      ]
     },
     "execution_count": 57,
     "metadata": {},
     "output_type": "execute_result"
    }
   ],
   "source": [
    "## plot distributions \n",
    "(\n",
    "    ggplot(df_for_graph,aes(x=\"value\")) +\n",
    "    geom_histogram(bins=25) +\n",
    "    facet_wrap(\"variable\",scales='free') +\n",
    "    theme(figure_size=(10,5),\n",
    "          subplots_adjust={'wspace':0.25})\n",
    ")"
   ]
  },
  {
   "cell_type": "code",
   "execution_count": 58,
   "metadata": {},
   "outputs": [
    {
     "name": "stderr",
     "output_type": "stream",
     "text": [
      "/Users/mkbelay/opt/anaconda3/lib/python3.8/site-packages/plotnine/layer.py:360: PlotnineWarning: stat_boxplot : Removed 58156 rows containing non-finite values.\n",
      "  data = self.stat.compute_layer(data, params, layout)\n"
     ]
    },
    {
     "data": {
      "image/png": "[encoded data removed]",
      "text/plain": [
       "<Figure size 1000x500 with 1 Axes>"
      ]
     },
     "metadata": {},
     "output_type": "display_data"
    },
    {
     "data": {
      "text/plain": [
       "<ggplot: (8775161465712)>"
      ]
     },
     "execution_count": 58,
     "metadata": {},
     "output_type": "execute_result"
    }
   ],
   "source": [
    "## plot distributions \n",
    "(\n",
    "    ggplot(df_for_graph,aes(x=\"variable\", y='value')) +\n",
    "    geom_boxplot() +\n",
    "    theme(figure_size=(10,5),\n",
    "          subplots_adjust={'wspace':0.25})\n",
    ")"
   ]
  },
  {
   "cell_type": "markdown",
   "metadata": {},
   "source": [
    "**`Property value`**"
   ]
  },
  {
   "cell_type": "code",
   "execution_count": 59,
   "metadata": {},
   "outputs": [
    {
     "data": {
      "text/plain": [
       "15060"
      ]
     },
     "execution_count": 59,
     "metadata": {},
     "output_type": "execute_result"
    }
   ],
   "source": [
    "df.value.isna().sum()"
   ]
  },
  {
   "cell_type": "code",
   "execution_count": 60,
   "metadata": {},
   "outputs": [
    {
     "data": {
      "text/plain": [
       "count      50285.000000\n",
       "mean      242036.925525\n",
       "std       193948.635138\n",
       "min        10000.000000\n",
       "25%       104700.000000\n",
       "50%       172400.000000\n",
       "75%       322200.000000\n",
       "max      1000000.000000\n",
       "Name: value, dtype: float64"
      ]
     },
     "execution_count": 60,
     "metadata": {},
     "output_type": "execute_result"
    }
   ],
   "source": [
    "## check distribuion\n",
    "df.value.describe()"
   ]
  },
  {
   "cell_type": "code",
   "execution_count": 61,
   "metadata": {},
   "outputs": [
    {
     "name": "stderr",
     "output_type": "stream",
     "text": [
      "/Users/mkbelay/opt/anaconda3/lib/python3.8/site-packages/numpy/lib/histograms.py:839: RuntimeWarning: invalid value encountered in greater_equal\n",
      "  keep = (tmp_a >= first_edge)\n",
      "/Users/mkbelay/opt/anaconda3/lib/python3.8/site-packages/numpy/lib/histograms.py:840: RuntimeWarning: invalid value encountered in less_equal\n",
      "  keep &= (tmp_a <= last_edge)\n"
     ]
    },
    {
     "data": {
      "image/png": "[encoded data removed]",
      "text/plain": [
       "<Figure size 432x288 with 2 Axes>"
      ]
     },
     "metadata": {
      "needs_background": "light"
     },
     "output_type": "display_data"
    }
   ],
   "source": [
    "f, (ax_box, ax_hist) = plt.subplots(2, sharex=True, \n",
    "                                    gridspec_kw={\"height_ratios\": (.90, 1.0)})\n",
    "\n",
    "sns.boxplot(df.value, ax=ax_box)\n",
    "#sns.distplot(mREFI.pop_density, ax=ax_hist)\n",
    "plt.hist(df.value,bins=100,  edgecolor='k')\n",
    "plt.xlabel('Value')\n",
    "plt.ylabel('Number of census tracts')\n",
    "ax_box.set(yticks=[])\n",
    "sns.despine(ax=ax_hist)\n",
    "sns.despine(ax=ax_box, left=True)\n",
    "ax_box.set_title(\"Value\", fontweight='bold')\n",
    "ax_box.set_xlabel(\"Value\")\n",
    "fmt = '{x:,.0f}'\n",
    "tick = mtick.StrMethodFormatter(fmt)\n",
    "ax_hist.yaxis.set_major_formatter(tick) \n",
    "ax_box.xaxis.set_major_formatter(StrMethodFormatter('{x:,.0f}'))"
   ]
  },
  {
   "cell_type": "markdown",
   "metadata": {},
   "source": [
    "**`No Vehicle`**"
   ]
  },
  {
   "cell_type": "code",
   "execution_count": 62,
   "metadata": {},
   "outputs": [
    {
     "data": {
      "text/plain": [
       "14622"
      ]
     },
     "execution_count": 62,
     "metadata": {},
     "output_type": "execute_result"
    }
   ],
   "source": [
    "df.perc_no_vehicle.isna().sum()"
   ]
  },
  {
   "cell_type": "code",
   "execution_count": 63,
   "metadata": {},
   "outputs": [
    {
     "data": {
      "text/plain": [
       "count    50723.000000\n",
       "mean        10.445777\n",
       "std         13.306962\n",
       "min          0.000000\n",
       "25%          2.715257\n",
       "50%          5.829191\n",
       "75%         12.291800\n",
       "max        100.000000\n",
       "Name: perc_no_vehicle, dtype: float64"
      ]
     },
     "execution_count": 63,
     "metadata": {},
     "output_type": "execute_result"
    }
   ],
   "source": [
    "# check distribution\n",
    "df.perc_no_vehicle.describe()"
   ]
  },
  {
   "cell_type": "code",
   "execution_count": 64,
   "metadata": {},
   "outputs": [
    {
     "name": "stderr",
     "output_type": "stream",
     "text": [
      "/Users/mkbelay/opt/anaconda3/lib/python3.8/site-packages/numpy/lib/histograms.py:839: RuntimeWarning: invalid value encountered in greater_equal\n",
      "  keep = (tmp_a >= first_edge)\n",
      "/Users/mkbelay/opt/anaconda3/lib/python3.8/site-packages/numpy/lib/histograms.py:840: RuntimeWarning: invalid value encountered in less_equal\n",
      "  keep &= (tmp_a <= last_edge)\n"
     ]
    },
    {
     "data": {
      "text/plain": [
       "Text(0.5, 0, 'No vehicle')"
      ]
     },
     "execution_count": 64,
     "metadata": {},
     "output_type": "execute_result"
    },
    {
     "data": {
      "image/png": "[encoded data removed]",
      "text/plain": [
       "<Figure size 432x288 with 2 Axes>"
      ]
     },
     "metadata": {
      "needs_background": "light"
     },
     "output_type": "display_data"
    }
   ],
   "source": [
    "f, (ax_box, ax_hist) = plt.subplots(2, sharex=True, \n",
    "                                    gridspec_kw={\"height_ratios\": (.90, 1.0)})\n",
    "\n",
    "sns.boxplot(df.perc_no_vehicle, ax=ax_box)\n",
    "#sns.distplot(mREFI.pop_density, ax=ax_hist)\n",
    "plt.hist(df.perc_no_vehicle,bins=100,  edgecolor='k')\n",
    "plt.xlabel('No vehicle')\n",
    "plt.ylabel('Number of census tracts')\n",
    "ax_box.set(yticks=[])\n",
    "sns.despine(ax=ax_hist)\n",
    "sns.despine(ax=ax_box, left=True)\n",
    "ax_box.set_title(\"No vehicle\", fontweight='bold')\n",
    "ax_box.set_xlabel(\"No vehicle\")"
   ]
  },
  {
   "cell_type": "markdown",
   "metadata": {},
   "source": [
    "**`Rural Population`**"
   ]
  },
  {
   "cell_type": "code",
   "execution_count": 65,
   "metadata": {},
   "outputs": [
    {
     "data": {
      "text/plain": [
       "14503"
      ]
     },
     "execution_count": 65,
     "metadata": {},
     "output_type": "execute_result"
    }
   ],
   "source": [
    "## check missingness\n",
    "df.perc_rural.isna().sum()"
   ]
  },
  {
   "cell_type": "code",
   "execution_count": 67,
   "metadata": {},
   "outputs": [
    {
     "data": {
      "text/plain": [
       "count    50842.000000\n",
       "mean        18.894970\n",
       "std         35.082566\n",
       "min          0.000000\n",
       "25%          0.000000\n",
       "50%          0.000000\n",
       "75%         14.955045\n",
       "max        100.000000\n",
       "Name: perc_rural, dtype: float64"
      ]
     },
     "execution_count": 67,
     "metadata": {},
     "output_type": "execute_result"
    }
   ],
   "source": [
    "## check descriptives\n",
    "df.perc_rural.describe()"
   ]
  },
  {
   "cell_type": "code",
   "execution_count": 68,
   "metadata": {},
   "outputs": [
    {
     "name": "stderr",
     "output_type": "stream",
     "text": [
      "/Users/mkbelay/opt/anaconda3/lib/python3.8/site-packages/numpy/lib/histograms.py:839: RuntimeWarning: invalid value encountered in greater_equal\n",
      "  keep = (tmp_a >= first_edge)\n",
      "/Users/mkbelay/opt/anaconda3/lib/python3.8/site-packages/numpy/lib/histograms.py:840: RuntimeWarning: invalid value encountered in less_equal\n",
      "  keep &= (tmp_a <= last_edge)\n"
     ]
    },
    {
     "data": {
      "text/plain": [
       "Text(0.5, 0, 'Rural')"
      ]
     },
     "execution_count": 68,
     "metadata": {},
     "output_type": "execute_result"
    },
    {
     "data": {
      "image/png": "[encoded data removed]",
      "text/plain": [
       "<Figure size 432x288 with 2 Axes>"
      ]
     },
     "metadata": {
      "needs_background": "light"
     },
     "output_type": "display_data"
    }
   ],
   "source": [
    "f, (ax_box, ax_hist) = plt.subplots(2, sharex=True, \n",
    "                                    gridspec_kw={\"height_ratios\": (.90, 1.0)})\n",
    "\n",
    "sns.boxplot(df.perc_rural, ax=ax_box)\n",
    "#sns.distplot(mREFI.pop_density, ax=ax_hist)\n",
    "plt.hist(df.perc_rural,bins=100,  edgecolor='k')\n",
    "plt.xlabel('Rural')\n",
    "plt.ylabel('Number of census tracts')\n",
    "ax_box.set(yticks=[])\n",
    "sns.despine(ax=ax_hist)\n",
    "sns.despine(ax=ax_box, left=True)\n",
    "ax_box.set_title(\"Share of the population that lives in the rural part of the census tract\", fontweight='bold')\n",
    "ax_box.set_xlabel(\"Rural\")"
   ]
  },
  {
   "cell_type": "markdown",
   "metadata": {},
   "source": [
    "**`SQMI`**"
   ]
  },
  {
   "cell_type": "code",
   "execution_count": 69,
   "metadata": {},
   "outputs": [
    {
     "data": {
      "text/plain": [
       "14537"
      ]
     },
     "execution_count": 69,
     "metadata": {},
     "output_type": "execute_result"
    }
   ],
   "source": [
    "## check missingness\n",
    "df.SQMI.isna().sum()"
   ]
  },
  {
   "cell_type": "code",
   "execution_count": 70,
   "metadata": {},
   "outputs": [
    {
     "data": {
      "text/plain": [
       "count    50808.000000\n",
       "mean        47.524733\n",
       "std        627.889701\n",
       "min          0.020000\n",
       "25%          0.630000\n",
       "50%          1.600000\n",
       "75%         10.500000\n",
       "max      86166.210000\n",
       "Name: SQMI, dtype: float64"
      ]
     },
     "execution_count": 70,
     "metadata": {},
     "output_type": "execute_result"
    }
   ],
   "source": [
    "##descriptives\n",
    "df.SQMI.describe()"
   ]
  },
  {
   "cell_type": "code",
   "execution_count": 71,
   "metadata": {},
   "outputs": [
    {
     "name": "stderr",
     "output_type": "stream",
     "text": [
      "/Users/mkbelay/opt/anaconda3/lib/python3.8/site-packages/numpy/lib/histograms.py:839: RuntimeWarning: invalid value encountered in greater_equal\n",
      "  keep = (tmp_a >= first_edge)\n",
      "/Users/mkbelay/opt/anaconda3/lib/python3.8/site-packages/numpy/lib/histograms.py:840: RuntimeWarning: invalid value encountered in less_equal\n",
      "  keep &= (tmp_a <= last_edge)\n"
     ]
    },
    {
     "data": {
      "text/plain": [
       "Text(0.5, 0, 'SQMI')"
      ]
     },
     "execution_count": 71,
     "metadata": {},
     "output_type": "execute_result"
    },
    {
     "data": {
      "image/png": "[encoded data removed]",
      "text/plain": [
       "<Figure size 432x288 with 2 Axes>"
      ]
     },
     "metadata": {
      "needs_background": "light"
     },
     "output_type": "display_data"
    }
   ],
   "source": [
    "f, (ax_box, ax_hist) = plt.subplots(2, sharex=True, \n",
    "                                    gridspec_kw={\"height_ratios\": (.90, 1.0)})\n",
    "\n",
    "sns.boxplot(df.SQMI, ax=ax_box)\n",
    "#sns.distplot(mREFI.pop_density, ax=ax_hist)\n",
    "plt.hist(df.SQMI,bins=100,  edgecolor='k')\n",
    "plt.xlabel('SQMI')\n",
    "plt.ylabel('Number of census tracts')\n",
    "ax_box.set(yticks=[])\n",
    "sns.despine(ax=ax_hist)\n",
    "sns.despine(ax=ax_box, left=True)\n",
    "ax_box.set_title(\"Land Area in SQMI\", fontweight='bold')\n",
    "ax_box.set_xlabel(\"SQMI\")"
   ]
  },
  {
   "cell_type": "code",
   "execution_count": 82,
   "metadata": {},
   "outputs": [
    {
     "data": {
      "text/html": [
       "<div>\n",
       "<style scoped>\n",
       "    .dataframe tbody tr th:only-of-type {\n",
       "        vertical-align: middle;\n",
       "    }\n",
       "\n",
       "    .dataframe tbody tr th {\n",
       "        vertical-align: top;\n",
       "    }\n",
       "\n",
       "    .dataframe thead th {\n",
       "        text-align: right;\n",
       "    }\n",
       "</style>\n",
       "<table border=\"1\" class=\"dataframe\">\n",
       "  <thead>\n",
       "    <tr style=\"text-align: right;\">\n",
       "      <th></th>\n",
       "      <th>state</th>\n",
       "      <th>mrfei</th>\n",
       "      <th>fips_modified</th>\n",
       "      <th>NAME</th>\n",
       "      <th>perc_public_transport</th>\n",
       "      <th>perc_white</th>\n",
       "      <th>perc_black</th>\n",
       "      <th>perc_hispanic</th>\n",
       "      <th>perc_asian</th>\n",
       "      <th>perc_native</th>\n",
       "      <th>...</th>\n",
       "      <th>perc_snap</th>\n",
       "      <th>inequality</th>\n",
       "      <th>unemploy</th>\n",
       "      <th>below_high_school</th>\n",
       "      <th>college_no_degree</th>\n",
       "      <th>associates_degree</th>\n",
       "      <th>bach_or_more</th>\n",
       "      <th>value</th>\n",
       "      <th>perc_no_vehicle</th>\n",
       "      <th>perc_rural</th>\n",
       "    </tr>\n",
       "  </thead>\n",
       "  <tbody>\n",
       "  </tbody>\n",
       "</table>\n",
       "<p>0 rows × 25 columns</p>\n",
       "</div>"
      ],
      "text/plain": [
       "Empty DataFrame\n",
       "Columns: [state, mrfei, fips_modified, NAME, perc_public_transport, perc_white, perc_black, perc_hispanic, perc_asian, perc_native, perc_pacific, median_income, SQMI, pop_density, perc_pov, perc_snap, inequality, unemploy, below_high_school, college_no_degree, associates_degree, bach_or_more, value, perc_no_vehicle, perc_rural]\n",
       "Index: []\n",
       "\n",
       "[0 rows x 25 columns]"
      ]
     },
     "execution_count": 82,
     "metadata": {},
     "output_type": "execute_result"
    }
   ],
   "source": [
    "## are these populated census tracts?\n",
    "df.loc[(df['SQMI']<1) & (df['perc_white']==0)&(df['perc_black']==0)&(df['perc_hispanic']==0)& (df['perc_asian']==0)&(df['perc_native']==0)& (df['perc_pacific']==0)]"
   ]
  },
  {
   "cell_type": "markdown",
   "metadata": {},
   "source": [
    "Yes, these census tracts are populated."
   ]
  },
  {
   "cell_type": "markdown",
   "metadata": {},
   "source": [
    "### Correlation of all variables"
   ]
  },
  {
   "cell_type": "code",
   "execution_count": 83,
   "metadata": {},
   "outputs": [
    {
     "data": {
      "text/html": [
       "<div>\n",
       "<style scoped>\n",
       "    .dataframe tbody tr th:only-of-type {\n",
       "        vertical-align: middle;\n",
       "    }\n",
       "\n",
       "    .dataframe tbody tr th {\n",
       "        vertical-align: top;\n",
       "    }\n",
       "\n",
       "    .dataframe thead th {\n",
       "        text-align: right;\n",
       "    }\n",
       "</style>\n",
       "<table border=\"1\" class=\"dataframe\">\n",
       "  <thead>\n",
       "    <tr style=\"text-align: right;\">\n",
       "      <th></th>\n",
       "      <th>mrfei</th>\n",
       "      <th>perc_public_transport</th>\n",
       "      <th>perc_white</th>\n",
       "      <th>perc_black</th>\n",
       "      <th>perc_hispanic</th>\n",
       "      <th>perc_asian</th>\n",
       "      <th>perc_native</th>\n",
       "      <th>perc_pacific</th>\n",
       "      <th>median_income</th>\n",
       "      <th>SQMI</th>\n",
       "      <th>...</th>\n",
       "      <th>perc_snap</th>\n",
       "      <th>inequality</th>\n",
       "      <th>unemploy</th>\n",
       "      <th>below_high_school</th>\n",
       "      <th>college_no_degree</th>\n",
       "      <th>associates_degree</th>\n",
       "      <th>bach_or_more</th>\n",
       "      <th>value</th>\n",
       "      <th>perc_no_vehicle</th>\n",
       "      <th>perc_rural</th>\n",
       "    </tr>\n",
       "  </thead>\n",
       "  <tbody>\n",
       "    <tr>\n",
       "      <th>mrfei</th>\n",
       "      <td>1.000000</td>\n",
       "      <td>-0.100133</td>\n",
       "      <td>0.143246</td>\n",
       "      <td>-0.139939</td>\n",
       "      <td>-0.049742</td>\n",
       "      <td>-0.012762</td>\n",
       "      <td>0.020739</td>\n",
       "      <td>0.016104</td>\n",
       "      <td>0.074795</td>\n",
       "      <td>0.008679</td>\n",
       "      <td>...</td>\n",
       "      <td>-0.108512</td>\n",
       "      <td>-0.045856</td>\n",
       "      <td>-0.102038</td>\n",
       "      <td>-0.095057</td>\n",
       "      <td>0.002695</td>\n",
       "      <td>0.058086</td>\n",
       "      <td>0.036432</td>\n",
       "      <td>0.033887</td>\n",
       "      <td>-0.125796</td>\n",
       "      <td>0.123540</td>\n",
       "    </tr>\n",
       "    <tr>\n",
       "      <th>perc_public_transport</th>\n",
       "      <td>-0.100133</td>\n",
       "      <td>1.000000</td>\n",
       "      <td>-0.403527</td>\n",
       "      <td>0.286543</td>\n",
       "      <td>0.176000</td>\n",
       "      <td>0.235737</td>\n",
       "      <td>-0.041787</td>\n",
       "      <td>0.001565</td>\n",
       "      <td>-0.033422</td>\n",
       "      <td>-0.033304</td>\n",
       "      <td>...</td>\n",
       "      <td>0.219362</td>\n",
       "      <td>0.181900</td>\n",
       "      <td>0.152156</td>\n",
       "      <td>0.115392</td>\n",
       "      <td>-0.267216</td>\n",
       "      <td>-0.174117</td>\n",
       "      <td>0.087473</td>\n",
       "      <td>0.354247</td>\n",
       "      <td>0.760651</td>\n",
       "      <td>-0.241712</td>\n",
       "    </tr>\n",
       "    <tr>\n",
       "      <th>perc_white</th>\n",
       "      <td>0.143246</td>\n",
       "      <td>-0.403527</td>\n",
       "      <td>1.000000</td>\n",
       "      <td>-0.657998</td>\n",
       "      <td>-0.601976</td>\n",
       "      <td>-0.252707</td>\n",
       "      <td>-0.063647</td>\n",
       "      <td>-0.099635</td>\n",
       "      <td>0.315389</td>\n",
       "      <td>0.012105</td>\n",
       "      <td>...</td>\n",
       "      <td>-0.500470</td>\n",
       "      <td>-0.113201</td>\n",
       "      <td>-0.454745</td>\n",
       "      <td>-0.486267</td>\n",
       "      <td>0.078502</td>\n",
       "      <td>0.241626</td>\n",
       "      <td>0.298715</td>\n",
       "      <td>-0.028527</td>\n",
       "      <td>-0.463788</td>\n",
       "      <td>0.364863</td>\n",
       "    </tr>\n",
       "    <tr>\n",
       "      <th>perc_black</th>\n",
       "      <td>-0.139939</td>\n",
       "      <td>0.286543</td>\n",
       "      <td>-0.657998</td>\n",
       "      <td>1.000000</td>\n",
       "      <td>-0.102220</td>\n",
       "      <td>-0.127806</td>\n",
       "      <td>-0.051182</td>\n",
       "      <td>-0.039683</td>\n",
       "      <td>-0.334525</td>\n",
       "      <td>-0.033827</td>\n",
       "      <td>...</td>\n",
       "      <td>0.523445</td>\n",
       "      <td>0.168925</td>\n",
       "      <td>0.501751</td>\n",
       "      <td>0.405352</td>\n",
       "      <td>0.060349</td>\n",
       "      <td>-0.147283</td>\n",
       "      <td>-0.259723</td>\n",
       "      <td>-0.203780</td>\n",
       "      <td>0.401491</td>\n",
       "      <td>-0.186902</td>\n",
       "    </tr>\n",
       "    <tr>\n",
       "      <th>perc_hispanic</th>\n",
       "      <td>-0.049742</td>\n",
       "      <td>0.176000</td>\n",
       "      <td>-0.601976</td>\n",
       "      <td>-0.102220</td>\n",
       "      <td>1.000000</td>\n",
       "      <td>0.073515</td>\n",
       "      <td>-0.024840</td>\n",
       "      <td>0.028138</td>\n",
       "      <td>-0.180524</td>\n",
       "      <td>-0.024028</td>\n",
       "      <td>...</td>\n",
       "      <td>0.196484</td>\n",
       "      <td>-0.020444</td>\n",
       "      <td>0.125909</td>\n",
       "      <td>0.328504</td>\n",
       "      <td>-0.148193</td>\n",
       "      <td>-0.199857</td>\n",
       "      <td>-0.260103</td>\n",
       "      <td>0.079830</td>\n",
       "      <td>0.186405</td>\n",
       "      <td>-0.238020</td>\n",
       "    </tr>\n",
       "    <tr>\n",
       "      <th>perc_asian</th>\n",
       "      <td>-0.012762</td>\n",
       "      <td>0.235737</td>\n",
       "      <td>-0.252707</td>\n",
       "      <td>-0.127806</td>\n",
       "      <td>0.073515</td>\n",
       "      <td>1.000000</td>\n",
       "      <td>-0.036132</td>\n",
       "      <td>0.194255</td>\n",
       "      <td>0.243161</td>\n",
       "      <td>-0.030239</td>\n",
       "      <td>...</td>\n",
       "      <td>-0.166072</td>\n",
       "      <td>-0.009768</td>\n",
       "      <td>-0.089371</td>\n",
       "      <td>-0.166412</td>\n",
       "      <td>-0.151492</td>\n",
       "      <td>-0.007025</td>\n",
       "      <td>0.282255</td>\n",
       "      <td>0.457437</td>\n",
       "      <td>0.087501</td>\n",
       "      <td>-0.225051</td>\n",
       "    </tr>\n",
       "    <tr>\n",
       "      <th>perc_native</th>\n",
       "      <td>0.020739</td>\n",
       "      <td>-0.041787</td>\n",
       "      <td>-0.063647</td>\n",
       "      <td>-0.051182</td>\n",
       "      <td>-0.024840</td>\n",
       "      <td>-0.036132</td>\n",
       "      <td>1.000000</td>\n",
       "      <td>0.006033</td>\n",
       "      <td>-0.065925</td>\n",
       "      <td>0.304176</td>\n",
       "      <td>...</td>\n",
       "      <td>0.083571</td>\n",
       "      <td>0.021482</td>\n",
       "      <td>0.056182</td>\n",
       "      <td>0.048975</td>\n",
       "      <td>0.051004</td>\n",
       "      <td>0.013691</td>\n",
       "      <td>-0.066373</td>\n",
       "      <td>-0.069048</td>\n",
       "      <td>0.023258</td>\n",
       "      <td>0.104057</td>\n",
       "    </tr>\n",
       "    <tr>\n",
       "      <th>perc_pacific</th>\n",
       "      <td>0.016104</td>\n",
       "      <td>0.001565</td>\n",
       "      <td>-0.099635</td>\n",
       "      <td>-0.039683</td>\n",
       "      <td>0.028138</td>\n",
       "      <td>0.194255</td>\n",
       "      <td>0.006033</td>\n",
       "      <td>1.000000</td>\n",
       "      <td>0.015168</td>\n",
       "      <td>0.001393</td>\n",
       "      <td>...</td>\n",
       "      <td>0.008582</td>\n",
       "      <td>-0.033547</td>\n",
       "      <td>-0.002948</td>\n",
       "      <td>-0.012532</td>\n",
       "      <td>0.046196</td>\n",
       "      <td>0.035384</td>\n",
       "      <td>-0.012259</td>\n",
       "      <td>0.086704</td>\n",
       "      <td>-0.011562</td>\n",
       "      <td>-0.047274</td>\n",
       "    </tr>\n",
       "    <tr>\n",
       "      <th>median_income</th>\n",
       "      <td>0.074795</td>\n",
       "      <td>-0.033422</td>\n",
       "      <td>0.315389</td>\n",
       "      <td>-0.334525</td>\n",
       "      <td>-0.180524</td>\n",
       "      <td>0.243161</td>\n",
       "      <td>-0.065925</td>\n",
       "      <td>0.015168</td>\n",
       "      <td>1.000000</td>\n",
       "      <td>-0.021631</td>\n",
       "      <td>...</td>\n",
       "      <td>-0.630301</td>\n",
       "      <td>-0.204639</td>\n",
       "      <td>-0.452445</td>\n",
       "      <td>-0.612696</td>\n",
       "      <td>-0.130800</td>\n",
       "      <td>0.090371</td>\n",
       "      <td>0.721597</td>\n",
       "      <td>0.674950</td>\n",
       "      <td>-0.361881</td>\n",
       "      <td>-0.083329</td>\n",
       "    </tr>\n",
       "    <tr>\n",
       "      <th>SQMI</th>\n",
       "      <td>0.008679</td>\n",
       "      <td>-0.033304</td>\n",
       "      <td>0.012105</td>\n",
       "      <td>-0.033827</td>\n",
       "      <td>-0.024028</td>\n",
       "      <td>-0.030239</td>\n",
       "      <td>0.304176</td>\n",
       "      <td>0.001393</td>\n",
       "      <td>-0.021631</td>\n",
       "      <td>1.000000</td>\n",
       "      <td>...</td>\n",
       "      <td>0.014644</td>\n",
       "      <td>-0.001461</td>\n",
       "      <td>0.014888</td>\n",
       "      <td>0.004306</td>\n",
       "      <td>0.029245</td>\n",
       "      <td>-0.007689</td>\n",
       "      <td>-0.039663</td>\n",
       "      <td>-0.039863</td>\n",
       "      <td>0.019470</td>\n",
       "      <td>0.147915</td>\n",
       "    </tr>\n",
       "    <tr>\n",
       "      <th>pop_density</th>\n",
       "      <td>-0.080833</td>\n",
       "      <td>0.762777</td>\n",
       "      <td>-0.338122</td>\n",
       "      <td>0.112201</td>\n",
       "      <td>0.274656</td>\n",
       "      <td>0.245987</td>\n",
       "      <td>-0.041799</td>\n",
       "      <td>0.020027</td>\n",
       "      <td>-0.054860</td>\n",
       "      <td>-0.034520</td>\n",
       "      <td>...</td>\n",
       "      <td>0.164482</td>\n",
       "      <td>0.145839</td>\n",
       "      <td>0.081879</td>\n",
       "      <td>0.090400</td>\n",
       "      <td>-0.227309</td>\n",
       "      <td>-0.147880</td>\n",
       "      <td>0.065941</td>\n",
       "      <td>0.333577</td>\n",
       "      <td>0.686272</td>\n",
       "      <td>-0.244695</td>\n",
       "    </tr>\n",
       "    <tr>\n",
       "      <th>perc_pov</th>\n",
       "      <td>-0.118584</td>\n",
       "      <td>0.194743</td>\n",
       "      <td>-0.503799</td>\n",
       "      <td>0.455673</td>\n",
       "      <td>0.257102</td>\n",
       "      <td>-0.106807</td>\n",
       "      <td>0.081025</td>\n",
       "      <td>0.001024</td>\n",
       "      <td>-0.675442</td>\n",
       "      <td>-0.002308</td>\n",
       "      <td>...</td>\n",
       "      <td>0.783210</td>\n",
       "      <td>0.404503</td>\n",
       "      <td>0.585745</td>\n",
       "      <td>0.629231</td>\n",
       "      <td>-0.093129</td>\n",
       "      <td>-0.286845</td>\n",
       "      <td>-0.449017</td>\n",
       "      <td>-0.342665</td>\n",
       "      <td>0.527136</td>\n",
       "      <td>-0.105132</td>\n",
       "    </tr>\n",
       "    <tr>\n",
       "      <th>perc_snap</th>\n",
       "      <td>-0.108512</td>\n",
       "      <td>0.219362</td>\n",
       "      <td>-0.500470</td>\n",
       "      <td>0.523445</td>\n",
       "      <td>0.196484</td>\n",
       "      <td>-0.166072</td>\n",
       "      <td>0.083571</td>\n",
       "      <td>0.008582</td>\n",
       "      <td>-0.630301</td>\n",
       "      <td>0.014644</td>\n",
       "      <td>...</td>\n",
       "      <td>1.000000</td>\n",
       "      <td>0.273809</td>\n",
       "      <td>0.632429</td>\n",
       "      <td>0.675471</td>\n",
       "      <td>-0.048543</td>\n",
       "      <td>-0.232922</td>\n",
       "      <td>-0.552868</td>\n",
       "      <td>-0.393533</td>\n",
       "      <td>0.543448</td>\n",
       "      <td>-0.080592</td>\n",
       "    </tr>\n",
       "    <tr>\n",
       "      <th>inequality</th>\n",
       "      <td>-0.045856</td>\n",
       "      <td>0.181900</td>\n",
       "      <td>-0.113201</td>\n",
       "      <td>0.168925</td>\n",
       "      <td>-0.020444</td>\n",
       "      <td>-0.009768</td>\n",
       "      <td>0.021482</td>\n",
       "      <td>-0.033547</td>\n",
       "      <td>-0.204639</td>\n",
       "      <td>-0.001461</td>\n",
       "      <td>...</td>\n",
       "      <td>0.273809</td>\n",
       "      <td>1.000000</td>\n",
       "      <td>0.169042</td>\n",
       "      <td>0.111500</td>\n",
       "      <td>-0.215274</td>\n",
       "      <td>-0.259841</td>\n",
       "      <td>0.151406</td>\n",
       "      <td>0.115970</td>\n",
       "      <td>0.366673</td>\n",
       "      <td>-0.047653</td>\n",
       "    </tr>\n",
       "    <tr>\n",
       "      <th>unemploy</th>\n",
       "      <td>-0.102038</td>\n",
       "      <td>0.152156</td>\n",
       "      <td>-0.454745</td>\n",
       "      <td>0.501751</td>\n",
       "      <td>0.125909</td>\n",
       "      <td>-0.089371</td>\n",
       "      <td>0.056182</td>\n",
       "      <td>-0.002948</td>\n",
       "      <td>-0.452445</td>\n",
       "      <td>0.014888</td>\n",
       "      <td>...</td>\n",
       "      <td>0.632429</td>\n",
       "      <td>0.169042</td>\n",
       "      <td>1.000000</td>\n",
       "      <td>0.520956</td>\n",
       "      <td>0.037714</td>\n",
       "      <td>-0.155132</td>\n",
       "      <td>-0.421001</td>\n",
       "      <td>-0.250212</td>\n",
       "      <td>0.369074</td>\n",
       "      <td>-0.115516</td>\n",
       "    </tr>\n",
       "    <tr>\n",
       "      <th>below_high_school</th>\n",
       "      <td>-0.095057</td>\n",
       "      <td>0.115392</td>\n",
       "      <td>-0.486267</td>\n",
       "      <td>0.405352</td>\n",
       "      <td>0.328504</td>\n",
       "      <td>-0.166412</td>\n",
       "      <td>0.048975</td>\n",
       "      <td>-0.012532</td>\n",
       "      <td>-0.612696</td>\n",
       "      <td>0.004306</td>\n",
       "      <td>...</td>\n",
       "      <td>0.675471</td>\n",
       "      <td>0.111500</td>\n",
       "      <td>0.520956</td>\n",
       "      <td>1.000000</td>\n",
       "      <td>-0.144396</td>\n",
       "      <td>-0.291969</td>\n",
       "      <td>-0.700050</td>\n",
       "      <td>-0.408390</td>\n",
       "      <td>0.367651</td>\n",
       "      <td>0.041525</td>\n",
       "    </tr>\n",
       "    <tr>\n",
       "      <th>college_no_degree</th>\n",
       "      <td>0.002695</td>\n",
       "      <td>-0.267216</td>\n",
       "      <td>0.078502</td>\n",
       "      <td>0.060349</td>\n",
       "      <td>-0.148193</td>\n",
       "      <td>-0.151492</td>\n",
       "      <td>0.051004</td>\n",
       "      <td>0.046196</td>\n",
       "      <td>-0.130800</td>\n",
       "      <td>0.029245</td>\n",
       "      <td>...</td>\n",
       "      <td>-0.048543</td>\n",
       "      <td>-0.215274</td>\n",
       "      <td>0.037714</td>\n",
       "      <td>-0.144396</td>\n",
       "      <td>1.000000</td>\n",
       "      <td>0.252046</td>\n",
       "      <td>-0.240996</td>\n",
       "      <td>-0.242589</td>\n",
       "      <td>-0.243928</td>\n",
       "      <td>0.016796</td>\n",
       "    </tr>\n",
       "    <tr>\n",
       "      <th>associates_degree</th>\n",
       "      <td>0.058086</td>\n",
       "      <td>-0.174117</td>\n",
       "      <td>0.241626</td>\n",
       "      <td>-0.147283</td>\n",
       "      <td>-0.199857</td>\n",
       "      <td>-0.007025</td>\n",
       "      <td>0.013691</td>\n",
       "      <td>0.035384</td>\n",
       "      <td>0.090371</td>\n",
       "      <td>-0.007689</td>\n",
       "      <td>...</td>\n",
       "      <td>-0.232922</td>\n",
       "      <td>-0.259841</td>\n",
       "      <td>-0.155132</td>\n",
       "      <td>-0.291969</td>\n",
       "      <td>0.252046</td>\n",
       "      <td>1.000000</td>\n",
       "      <td>-0.039437</td>\n",
       "      <td>-0.052015</td>\n",
       "      <td>-0.252547</td>\n",
       "      <td>0.091579</td>\n",
       "    </tr>\n",
       "    <tr>\n",
       "      <th>bach_or_more</th>\n",
       "      <td>0.036432</td>\n",
       "      <td>0.087473</td>\n",
       "      <td>0.298715</td>\n",
       "      <td>-0.259723</td>\n",
       "      <td>-0.260103</td>\n",
       "      <td>0.282255</td>\n",
       "      <td>-0.066373</td>\n",
       "      <td>-0.012259</td>\n",
       "      <td>0.721597</td>\n",
       "      <td>-0.039663</td>\n",
       "      <td>...</td>\n",
       "      <td>-0.552868</td>\n",
       "      <td>0.151406</td>\n",
       "      <td>-0.421001</td>\n",
       "      <td>-0.700050</td>\n",
       "      <td>-0.240996</td>\n",
       "      <td>-0.039437</td>\n",
       "      <td>1.000000</td>\n",
       "      <td>0.629532</td>\n",
       "      <td>-0.140428</td>\n",
       "      <td>-0.230452</td>\n",
       "    </tr>\n",
       "    <tr>\n",
       "      <th>value</th>\n",
       "      <td>0.033887</td>\n",
       "      <td>0.354247</td>\n",
       "      <td>-0.028527</td>\n",
       "      <td>-0.203780</td>\n",
       "      <td>0.079830</td>\n",
       "      <td>0.457437</td>\n",
       "      <td>-0.069048</td>\n",
       "      <td>0.086704</td>\n",
       "      <td>0.674950</td>\n",
       "      <td>-0.039863</td>\n",
       "      <td>...</td>\n",
       "      <td>-0.393533</td>\n",
       "      <td>0.115970</td>\n",
       "      <td>-0.250212</td>\n",
       "      <td>-0.408390</td>\n",
       "      <td>-0.242589</td>\n",
       "      <td>-0.052015</td>\n",
       "      <td>0.629532</td>\n",
       "      <td>1.000000</td>\n",
       "      <td>0.079802</td>\n",
       "      <td>-0.239230</td>\n",
       "    </tr>\n",
       "    <tr>\n",
       "      <th>perc_no_vehicle</th>\n",
       "      <td>-0.125796</td>\n",
       "      <td>0.760651</td>\n",
       "      <td>-0.463788</td>\n",
       "      <td>0.401491</td>\n",
       "      <td>0.186405</td>\n",
       "      <td>0.087501</td>\n",
       "      <td>0.023258</td>\n",
       "      <td>-0.011562</td>\n",
       "      <td>-0.361881</td>\n",
       "      <td>0.019470</td>\n",
       "      <td>...</td>\n",
       "      <td>0.543448</td>\n",
       "      <td>0.366673</td>\n",
       "      <td>0.369074</td>\n",
       "      <td>0.367651</td>\n",
       "      <td>-0.243928</td>\n",
       "      <td>-0.252547</td>\n",
       "      <td>-0.140428</td>\n",
       "      <td>0.079802</td>\n",
       "      <td>1.000000</td>\n",
       "      <td>-0.237823</td>\n",
       "    </tr>\n",
       "    <tr>\n",
       "      <th>perc_rural</th>\n",
       "      <td>0.123540</td>\n",
       "      <td>-0.241712</td>\n",
       "      <td>0.364863</td>\n",
       "      <td>-0.186902</td>\n",
       "      <td>-0.238020</td>\n",
       "      <td>-0.225051</td>\n",
       "      <td>0.104057</td>\n",
       "      <td>-0.047274</td>\n",
       "      <td>-0.083329</td>\n",
       "      <td>0.147915</td>\n",
       "      <td>...</td>\n",
       "      <td>-0.080592</td>\n",
       "      <td>-0.047653</td>\n",
       "      <td>-0.115516</td>\n",
       "      <td>0.041525</td>\n",
       "      <td>0.016796</td>\n",
       "      <td>0.091579</td>\n",
       "      <td>-0.230452</td>\n",
       "      <td>-0.239230</td>\n",
       "      <td>-0.237823</td>\n",
       "      <td>1.000000</td>\n",
       "    </tr>\n",
       "  </tbody>\n",
       "</table>\n",
       "<p>22 rows × 22 columns</p>\n",
       "</div>"
      ],
      "text/plain": [
       "                          mrfei  perc_public_transport  perc_white  \\\n",
       "mrfei                  1.000000              -0.100133    0.143246   \n",
       "perc_public_transport -0.100133               1.000000   -0.403527   \n",
       "perc_white             0.143246              -0.403527    1.000000   \n",
       "perc_black            -0.139939               0.286543   -0.657998   \n",
       "perc_hispanic         -0.049742               0.176000   -0.601976   \n",
       "perc_asian            -0.012762               0.235737   -0.252707   \n",
       "perc_native            0.020739              -0.041787   -0.063647   \n",
       "perc_pacific           0.016104               0.001565   -0.099635   \n",
       "median_income          0.074795              -0.033422    0.315389   \n",
       "SQMI                   0.008679              -0.033304    0.012105   \n",
       "pop_density           -0.080833               0.762777   -0.338122   \n",
       "perc_pov              -0.118584               0.194743   -0.503799   \n",
       "perc_snap             -0.108512               0.219362   -0.500470   \n",
       "inequality            -0.045856               0.181900   -0.113201   \n",
       "unemploy              -0.102038               0.152156   -0.454745   \n",
       "below_high_school     -0.095057               0.115392   -0.486267   \n",
       "college_no_degree      0.002695              -0.267216    0.078502   \n",
       "associates_degree      0.058086              -0.174117    0.241626   \n",
       "bach_or_more           0.036432               0.087473    0.298715   \n",
       "value                  0.033887               0.354247   -0.028527   \n",
       "perc_no_vehicle       -0.125796               0.760651   -0.463788   \n",
       "perc_rural             0.123540              -0.241712    0.364863   \n",
       "\n",
       "                       perc_black  perc_hispanic  perc_asian  perc_native  \\\n",
       "mrfei                   -0.139939      -0.049742   -0.012762     0.020739   \n",
       "perc_public_transport    0.286543       0.176000    0.235737    -0.041787   \n",
       "perc_white              -0.657998      -0.601976   -0.252707    -0.063647   \n",
       "perc_black               1.000000      -0.102220   -0.127806    -0.051182   \n",
       "perc_hispanic           -0.102220       1.000000    0.073515    -0.024840   \n",
       "perc_asian              -0.127806       0.073515    1.000000    -0.036132   \n",
       "perc_native             -0.051182      -0.024840   -0.036132     1.000000   \n",
       "perc_pacific            -0.039683       0.028138    0.194255     0.006033   \n",
       "median_income           -0.334525      -0.180524    0.243161    -0.065925   \n",
       "SQMI                    -0.033827      -0.024028   -0.030239     0.304176   \n",
       "pop_density              0.112201       0.274656    0.245987    -0.041799   \n",
       "perc_pov                 0.455673       0.257102   -0.106807     0.081025   \n",
       "perc_snap                0.523445       0.196484   -0.166072     0.083571   \n",
       "inequality               0.168925      -0.020444   -0.009768     0.021482   \n",
       "unemploy                 0.501751       0.125909   -0.089371     0.056182   \n",
       "below_high_school        0.405352       0.328504   -0.166412     0.048975   \n",
       "college_no_degree        0.060349      -0.148193   -0.151492     0.051004   \n",
       "associates_degree       -0.147283      -0.199857   -0.007025     0.013691   \n",
       "bach_or_more            -0.259723      -0.260103    0.282255    -0.066373   \n",
       "value                   -0.203780       0.079830    0.457437    -0.069048   \n",
       "perc_no_vehicle          0.401491       0.186405    0.087501     0.023258   \n",
       "perc_rural              -0.186902      -0.238020   -0.225051     0.104057   \n",
       "\n",
       "                       perc_pacific  median_income      SQMI  ...  perc_snap  \\\n",
       "mrfei                      0.016104       0.074795  0.008679  ...  -0.108512   \n",
       "perc_public_transport      0.001565      -0.033422 -0.033304  ...   0.219362   \n",
       "perc_white                -0.099635       0.315389  0.012105  ...  -0.500470   \n",
       "perc_black                -0.039683      -0.334525 -0.033827  ...   0.523445   \n",
       "perc_hispanic              0.028138      -0.180524 -0.024028  ...   0.196484   \n",
       "perc_asian                 0.194255       0.243161 -0.030239  ...  -0.166072   \n",
       "perc_native                0.006033      -0.065925  0.304176  ...   0.083571   \n",
       "perc_pacific               1.000000       0.015168  0.001393  ...   0.008582   \n",
       "median_income              0.015168       1.000000 -0.021631  ...  -0.630301   \n",
       "SQMI                       0.001393      -0.021631  1.000000  ...   0.014644   \n",
       "pop_density                0.020027      -0.054860 -0.034520  ...   0.164482   \n",
       "perc_pov                   0.001024      -0.675442 -0.002308  ...   0.783210   \n",
       "perc_snap                  0.008582      -0.630301  0.014644  ...   1.000000   \n",
       "inequality                -0.033547      -0.204639 -0.001461  ...   0.273809   \n",
       "unemploy                  -0.002948      -0.452445  0.014888  ...   0.632429   \n",
       "below_high_school         -0.012532      -0.612696  0.004306  ...   0.675471   \n",
       "college_no_degree          0.046196      -0.130800  0.029245  ...  -0.048543   \n",
       "associates_degree          0.035384       0.090371 -0.007689  ...  -0.232922   \n",
       "bach_or_more              -0.012259       0.721597 -0.039663  ...  -0.552868   \n",
       "value                      0.086704       0.674950 -0.039863  ...  -0.393533   \n",
       "perc_no_vehicle           -0.011562      -0.361881  0.019470  ...   0.543448   \n",
       "perc_rural                -0.047274      -0.083329  0.147915  ...  -0.080592   \n",
       "\n",
       "                       inequality  unemploy  below_high_school  \\\n",
       "mrfei                   -0.045856 -0.102038          -0.095057   \n",
       "perc_public_transport    0.181900  0.152156           0.115392   \n",
       "perc_white              -0.113201 -0.454745          -0.486267   \n",
       "perc_black               0.168925  0.501751           0.405352   \n",
       "perc_hispanic           -0.020444  0.125909           0.328504   \n",
       "perc_asian              -0.009768 -0.089371          -0.166412   \n",
       "perc_native              0.021482  0.056182           0.048975   \n",
       "perc_pacific            -0.033547 -0.002948          -0.012532   \n",
       "median_income           -0.204639 -0.452445          -0.612696   \n",
       "SQMI                    -0.001461  0.014888           0.004306   \n",
       "pop_density              0.145839  0.081879           0.090400   \n",
       "perc_pov                 0.404503  0.585745           0.629231   \n",
       "perc_snap                0.273809  0.632429           0.675471   \n",
       "inequality               1.000000  0.169042           0.111500   \n",
       "unemploy                 0.169042  1.000000           0.520956   \n",
       "below_high_school        0.111500  0.520956           1.000000   \n",
       "college_no_degree       -0.215274  0.037714          -0.144396   \n",
       "associates_degree       -0.259841 -0.155132          -0.291969   \n",
       "bach_or_more             0.151406 -0.421001          -0.700050   \n",
       "value                    0.115970 -0.250212          -0.408390   \n",
       "perc_no_vehicle          0.366673  0.369074           0.367651   \n",
       "perc_rural              -0.047653 -0.115516           0.041525   \n",
       "\n",
       "                       college_no_degree  associates_degree  bach_or_more  \\\n",
       "mrfei                           0.002695           0.058086      0.036432   \n",
       "perc_public_transport          -0.267216          -0.174117      0.087473   \n",
       "perc_white                      0.078502           0.241626      0.298715   \n",
       "perc_black                      0.060349          -0.147283     -0.259723   \n",
       "perc_hispanic                  -0.148193          -0.199857     -0.260103   \n",
       "perc_asian                     -0.151492          -0.007025      0.282255   \n",
       "perc_native                     0.051004           0.013691     -0.066373   \n",
       "perc_pacific                    0.046196           0.035384     -0.012259   \n",
       "median_income                  -0.130800           0.090371      0.721597   \n",
       "SQMI                            0.029245          -0.007689     -0.039663   \n",
       "pop_density                    -0.227309          -0.147880      0.065941   \n",
       "perc_pov                       -0.093129          -0.286845     -0.449017   \n",
       "perc_snap                      -0.048543          -0.232922     -0.552868   \n",
       "inequality                     -0.215274          -0.259841      0.151406   \n",
       "unemploy                        0.037714          -0.155132     -0.421001   \n",
       "below_high_school              -0.144396          -0.291969     -0.700050   \n",
       "college_no_degree               1.000000           0.252046     -0.240996   \n",
       "associates_degree               0.252046           1.000000     -0.039437   \n",
       "bach_or_more                   -0.240996          -0.039437      1.000000   \n",
       "value                          -0.242589          -0.052015      0.629532   \n",
       "perc_no_vehicle                -0.243928          -0.252547     -0.140428   \n",
       "perc_rural                      0.016796           0.091579     -0.230452   \n",
       "\n",
       "                          value  perc_no_vehicle  perc_rural  \n",
       "mrfei                  0.033887        -0.125796    0.123540  \n",
       "perc_public_transport  0.354247         0.760651   -0.241712  \n",
       "perc_white            -0.028527        -0.463788    0.364863  \n",
       "perc_black            -0.203780         0.401491   -0.186902  \n",
       "perc_hispanic          0.079830         0.186405   -0.238020  \n",
       "perc_asian             0.457437         0.087501   -0.225051  \n",
       "perc_native           -0.069048         0.023258    0.104057  \n",
       "perc_pacific           0.086704        -0.011562   -0.047274  \n",
       "median_income          0.674950        -0.361881   -0.083329  \n",
       "SQMI                  -0.039863         0.019470    0.147915  \n",
       "pop_density            0.333577         0.686272   -0.244695  \n",
       "perc_pov              -0.342665         0.527136   -0.105132  \n",
       "perc_snap             -0.393533         0.543448   -0.080592  \n",
       "inequality             0.115970         0.366673   -0.047653  \n",
       "unemploy              -0.250212         0.369074   -0.115516  \n",
       "below_high_school     -0.408390         0.367651    0.041525  \n",
       "college_no_degree     -0.242589        -0.243928    0.016796  \n",
       "associates_degree     -0.052015        -0.252547    0.091579  \n",
       "bach_or_more           0.629532        -0.140428   -0.230452  \n",
       "value                  1.000000         0.079802   -0.239230  \n",
       "perc_no_vehicle        0.079802         1.000000   -0.237823  \n",
       "perc_rural            -0.239230        -0.237823    1.000000  \n",
       "\n",
       "[22 rows x 22 columns]"
      ]
     },
     "execution_count": 83,
     "metadata": {},
     "output_type": "execute_result"
    }
   ],
   "source": [
    "## correlation map of all variables \n",
    "corr_all=df.corr()\n",
    "corr_all"
   ]
  },
  {
   "cell_type": "code",
   "execution_count": 84,
   "metadata": {},
   "outputs": [
    {
     "data": {
      "text/plain": [
       "Text(0.5, 1.0, 'Correlation map of all variables')"
      ]
     },
     "execution_count": 84,
     "metadata": {},
     "output_type": "execute_result"
    },
    {
     "data": {
      "image/png": "[encoded data removed]",
      "text/plain": [
       "<Figure size 1440x720 with 2 Axes>"
      ]
     },
     "metadata": {
      "needs_background": "light"
     },
     "output_type": "display_data"
    }
   ],
   "source": [
    "##plot graph\n",
    "fig, ax = plt.subplots(figsize=(20,10)) \n",
    "corr_graph=sns.heatmap(corr_all, mask=np.triu(np.ones_like(corr_all, dtype=bool)),cmap=\"coolwarm\", vmax=1, vmin=-1, center=0,\n",
    "            linewidths=0.5, cbar_kws={\"shrink\": 0.5}, annot=True)\n",
    "plt.title('Correlation map of all variables', fontweight='bold')"
   ]
  },
  {
   "cell_type": "markdown",
   "metadata": {},
   "source": [
    "________"
   ]
  },
  {
   "cell_type": "code",
   "execution_count": null,
   "metadata": {},
   "outputs": [],
   "source": []
  }
 ],
 "metadata": {
  "kernelspec": {
   "display_name": "Python 3",
   "language": "python",
   "name": "python3"
  },
  "language_info": {
   "codemirror_mode": {
    "name": "ipython",
    "version": 3
   },
   "file_extension": ".py",
   "mimetype": "text/x-python",
   "name": "python",
   "nbconvert_exporter": "python",
   "pygments_lexer": "ipython3",
   "version": "3.8.3"
  }
 },
 "nbformat": 4,
 "nbformat_minor": 4
}
