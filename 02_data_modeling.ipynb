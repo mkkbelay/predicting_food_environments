{
 "cells": [
  {
   "cell_type": "code",
   "execution_count": 1,
   "metadata": {},
   "outputs": [],
   "source": [
    "## import required packages\n",
    "import numpy as np\n",
    "import pandas as pd\n",
    "from plotnine import *\n",
    "import seaborn as sns\n",
    "import matplotlib.pyplot as plt\n",
    "%matplotlib inline\n",
    "import matplotlib.ticker as mtick\n",
    "from matplotlib.ticker import FormatStrFormatter, StrMethodFormatter\n",
    "import missingno as ms "
   ]
  },
  {
   "cell_type": "code",
   "execution_count": 2,
   "metadata": {
    "scrolled": false
   },
   "outputs": [
    {
     "name": "stderr",
     "output_type": "stream",
     "text": [
      "/Users/mkbelay/opt/anaconda3/lib/python3.8/site-packages/IPython/core/interactiveshell.py:3071: DtypeWarning: Columns (1) have mixed types.Specify dtype option on import or set low_memory=False.\n",
      "  has_raised = await self.run_ast_nodes(code_ast.body, cell_name,\n"
     ]
    }
   ],
   "source": [
    "## import complete dataset with all variables merged into a single file\n",
    "df=pd.read_csv('combined_data.csv')\n"
   ]
  },
  {
   "cell_type": "code",
   "execution_count": 3,
   "metadata": {},
   "outputs": [
    {
     "data": {
      "text/plain": [
       "(65345, 25)"
      ]
     },
     "execution_count": 3,
     "metadata": {},
     "output_type": "execute_result"
    }
   ],
   "source": [
    "## check dimensions\n",
    "df.shape"
   ]
  },
  {
   "cell_type": "code",
   "execution_count": 4,
   "metadata": {},
   "outputs": [
    {
     "data": {
      "text/plain": [
       "state                        0\n",
       "mrfei                     1221\n",
       "fips_modified                0\n",
       "NAME                     14591\n",
       "perc_public_transport    14591\n",
       "perc_white               14534\n",
       "perc_black               14534\n",
       "perc_hispanic            14534\n",
       "perc_asian               14534\n",
       "perc_native              14534\n",
       "perc_pacific             14534\n",
       "median_income            14671\n",
       "SQMI                     14537\n",
       "pop_density              14537\n",
       "perc_pov                 14607\n",
       "perc_snap                14622\n",
       "inequality               14648\n",
       "unemploy                 14591\n",
       "below_high_school        14539\n",
       "college_no_degree        14539\n",
       "associates_degree        14539\n",
       "bach_or_more             14539\n",
       "value                    15060\n",
       "perc_no_vehicle          14622\n",
       "perc_rural               14503\n",
       "dtype: int64"
      ]
     },
     "execution_count": 4,
     "metadata": {},
     "output_type": "execute_result"
    }
   ],
   "source": [
    "## check missingness\n",
    "df.isna().sum()"
   ]
  },
  {
   "cell_type": "code",
   "execution_count": 5,
   "metadata": {},
   "outputs": [],
   "source": [
    "## save missingness output as csv for use in report\n",
    "missingness=df.drop(columns=['state', 'fips_modified','NAME']).isna().sum()\n",
    "missingness.to_csv('output/tables/missingness.csv')"
   ]
  },
  {
   "cell_type": "code",
   "execution_count": 6,
   "metadata": {},
   "outputs": [
    {
     "data": {
      "text/plain": [
       "(49561, 25)"
      ]
     },
     "execution_count": 6,
     "metadata": {},
     "output_type": "execute_result"
    }
   ],
   "source": [
    "## remove all observations with missing values \n",
    "df=df.dropna()\n",
    "df.shape"
   ]
  },
  {
   "cell_type": "code",
   "execution_count": 7,
   "metadata": {},
   "outputs": [
    {
     "data": {
      "text/plain": [
       "state                     object\n",
       "mrfei                     object\n",
       "fips_modified             object\n",
       "NAME                      object\n",
       "perc_public_transport    float64\n",
       "perc_white               float64\n",
       "perc_black               float64\n",
       "perc_hispanic            float64\n",
       "perc_asian               float64\n",
       "perc_native              float64\n",
       "perc_pacific             float64\n",
       "median_income            float64\n",
       "SQMI                     float64\n",
       "pop_density              float64\n",
       "perc_pov                 float64\n",
       "perc_snap                float64\n",
       "inequality               float64\n",
       "unemploy                 float64\n",
       "below_high_school        float64\n",
       "college_no_degree        float64\n",
       "associates_degree        float64\n",
       "bach_or_more             float64\n",
       "value                    float64\n",
       "perc_no_vehicle          float64\n",
       "perc_rural               float64\n",
       "dtype: object"
      ]
     },
     "execution_count": 7,
     "metadata": {},
     "output_type": "execute_result"
    }
   ],
   "source": [
    "## view dtypes\n",
    "df.dtypes"
   ]
  },
  {
   "cell_type": "code",
   "execution_count": 8,
   "metadata": {},
   "outputs": [],
   "source": [
    "## convert mrfei to float dtype\n",
    "df['mrfei']=pd.to_numeric(df['mrfei'], errors='coerce')"
   ]
  },
  {
   "cell_type": "code",
   "execution_count": 9,
   "metadata": {},
   "outputs": [],
   "source": [
    "## export descriptive statistics as a csv\n",
    "df.describe().to_csv(\"output/tables/descriptive_stats.csv\")"
   ]
  },
  {
   "cell_type": "markdown",
   "metadata": {},
   "source": [
    "### Outcome variable: mRFEI Index"
   ]
  },
  {
   "cell_type": "code",
   "execution_count": 10,
   "metadata": {},
   "outputs": [
    {
     "data": {
      "text/plain": [
       "count    49561.000000\n",
       "mean        11.279686\n",
       "std         11.976780\n",
       "min          0.000000\n",
       "25%          3.125000\n",
       "50%          9.090909\n",
       "75%         15.384615\n",
       "max        100.000000\n",
       "Name: mrfei, dtype: float64"
      ]
     },
     "execution_count": 10,
     "metadata": {},
     "output_type": "execute_result"
    }
   ],
   "source": [
    "## generate descriptives\n",
    "df.mrfei.describe()"
   ]
  },
  {
   "cell_type": "markdown",
   "metadata": {},
   "source": [
    "There will be three separate categorical outcome variables generated from the continious mrfei variable. As such, there will be three separate modeling attempts for each outcome varaible. The first outcome will have a value of 1 if the tracts is a desert and a value of 0 if it is healthful. Desert tracts have an mrfei of 0 and healthful tracts have a mrfei greater than 9.09 (i.e, the median mrfei). Note that tracts with an mrfei greater than 0 and less than or equal to 9.09 will be excluded from the sample. The second outcome will have a value of 1 if the tracts is a swamp (i.e, mrfei >0 & <=9.09) and a value of 0 if a tract is healthful (i.e, mrfei>9.09). Desert swamps will be excluded from the sample. The last outcome will have a value of 1 if the tracts is a desert and a value of zero if the tract is a swamp. Healthful tracts are not included in the sample. "
   ]
  },
  {
   "cell_type": "markdown",
   "metadata": {},
   "source": [
    "**`Features`**: all missing values have been removed to prep the data for logistic regression. Let's look at the distribution of the data to see if any transformations need to be applied and the extent to which outliers are present. "
   ]
  },
  {
   "cell_type": "code",
   "execution_count": 11,
   "metadata": {},
   "outputs": [
    {
     "data": {
      "image/png": "[encoded data removed]",
      "text/plain": [
       "<Figure size 1000x300 with 22 Axes>"
      ]
     },
     "metadata": {},
     "output_type": "display_data"
    },
    {
     "data": {
      "text/plain": [
       "<ggplot: (8787458361420)>"
      ]
     },
     "execution_count": 11,
     "metadata": {},
     "output_type": "execute_result"
    }
   ],
   "source": [
    "## check distribution of features\n",
    "df_for_graph=df.drop(columns=['NAME', 'fips_modified']).melt(id_vars='state')\n",
    "(ggplot(df_for_graph,aes(x='value'))+geom_histogram(bins=25)+facet_wrap('variable', scales='free')+\n",
    " theme(figure_size=(10,3),\n",
    "          subplots_adjust={'wspace':0.25}))"
   ]
  },
  {
   "cell_type": "markdown",
   "metadata": {},
   "source": [
    "There are a substantial amount of attributes with pronounced skews. Lets see if we can transform them by taking the log."
   ]
  },
  {
   "cell_type": "code",
   "execution_count": 12,
   "metadata": {
    "scrolled": true
   },
   "outputs": [],
   "source": [
    "df_for_graph=df\n",
    "df_for_graph[['log_SQMI', 'log_perc_asian', 'log_perc_black', 'log_perc_hispanic', 'log_perc_native', 'log_perc_no_vehicle', 'log_perc_pacific', 'log_perc_public_transport', 'log_perc_rural', 'log_pop_density', 'log_perc_unemploy', 'log_bach_or_more', 'log_below_high_school', 'log_perc_pov','log_perc_snap', 'log_value']]=np.log(df_for_graph[['SQMI', 'perc_asian', 'perc_black', 'perc_hispanic', 'perc_native', 'perc_no_vehicle', 'perc_pacific', 'perc_public_transport', 'perc_rural', 'pop_density', 'unemploy','bach_or_more', 'below_high_school', 'perc_pov','perc_snap', 'value']]+1)"
   ]
  },
  {
   "cell_type": "code",
   "execution_count": 13,
   "metadata": {},
   "outputs": [],
   "source": [
    "df_for_graph=df_for_graph.filter(['log_SQMI', 'log_perc_asian', 'log_perc_black', 'log_perc_hispanic', 'log_perc_native', 'log_perc_no_vehicle', 'log_perc_pacific', 'log_perc_public_transport', 'log_perc_rural', 'log_pop_density', 'log_perc_unemploy', 'log_bach_or_more', 'log_below_high_school', 'log_perc_pov','log_perc_snap', 'log_value'])"
   ]
  },
  {
   "cell_type": "code",
   "execution_count": 14,
   "metadata": {},
   "outputs": [
    {
     "data": {
      "image/png": "[encoded data removed]",
      "text/plain": [
       "<Figure size 1000x300 with 16 Axes>"
      ]
     },
     "metadata": {},
     "output_type": "display_data"
    },
    {
     "data": {
      "text/plain": [
       "<ggplot: (8787458965547)>"
      ]
     },
     "execution_count": 14,
     "metadata": {},
     "output_type": "execute_result"
    }
   ],
   "source": [
    "df_for_graph=df_for_graph.melt()\n",
    "(ggplot(df_for_graph,aes(x='value'))+geom_histogram(bins=25)+facet_wrap('variable', scales='free')+\n",
    " theme(figure_size=(10,3),\n",
    "          subplots_adjust={'wspace':0.25}))"
   ]
  },
  {
   "cell_type": "markdown",
   "metadata": {},
   "source": [
    "log_perc_asian, log_perc_black, log_perc_native, log_perc_pacific, log_perc_public_transport, and log_perc_rural still have skewed distributions but there is a bit more variability introduced. While most of the skewedness was remedied by applying log transformations, there were still a few variables that remained unchanged. Ideally, it would be better to convert these continuous attributes into categorical ones by creating cutoff within the distribution or converting them to binary attributes. This would perhaps improve the accuracy of the models used by eliminating the effects of outliers or skewedness. However, doing so would have implications for interpretability. Additionally, determining the appropriate cutoff for attributes that have more variability but are still skewed would be difficult. For these reasons, and to align with Amin etal’s design process, the skewed distribution will only be log transformed. "
   ]
  },
  {
   "cell_type": "code",
   "execution_count": 15,
   "metadata": {},
   "outputs": [],
   "source": [
    "## modify original dataframe to include the log transformed versions of the above attributes\n",
    "df[['log_SQMI', 'log_perc_asian', 'log_perc_black', 'log_perc_hispanic', 'log_perc_native', 'log_perc_no_vehicle', 'log_perc_pacific', 'log_perc_public_transport', 'log_perc_rural', 'log_pop_density', 'log_perc_unemploy', 'log_bach_or_more', 'log_below_high_school', 'log_perc_pov','log_perc_snap', 'log_value']]=np.log(df[['SQMI', 'perc_asian', 'perc_black', 'perc_hispanic', 'perc_native', 'perc_no_vehicle', 'perc_pacific', 'perc_public_transport', 'perc_rural', 'pop_density', 'unemploy','bach_or_more', 'below_high_school', 'perc_pov','perc_snap', 'value']]+1)"
   ]
  },
  {
   "cell_type": "code",
   "execution_count": 16,
   "metadata": {},
   "outputs": [],
   "source": [
    "## remove original columns\n",
    "df=df.drop(columns=['SQMI', 'perc_asian', 'perc_black', 'perc_hispanic', 'perc_native', 'perc_no_vehicle', 'perc_pacific', 'perc_public_transport', 'perc_rural', 'pop_density', 'unemploy','bach_or_more', 'below_high_school', 'perc_pov','perc_snap', 'value'])"
   ]
  },
  {
   "cell_type": "code",
   "execution_count": 17,
   "metadata": {},
   "outputs": [
    {
     "data": {
      "text/plain": [
       "Index(['state', 'mrfei', 'fips_modified', 'NAME', 'perc_white',\n",
       "       'median_income', 'inequality', 'college_no_degree', 'associates_degree',\n",
       "       'log_SQMI', 'log_perc_asian', 'log_perc_black', 'log_perc_hispanic',\n",
       "       'log_perc_native', 'log_perc_no_vehicle', 'log_perc_pacific',\n",
       "       'log_perc_public_transport', 'log_perc_rural', 'log_pop_density',\n",
       "       'log_perc_unemploy', 'log_bach_or_more', 'log_below_high_school',\n",
       "       'log_perc_pov', 'log_perc_snap', 'log_value'],\n",
       "      dtype='object')"
      ]
     },
     "execution_count": 17,
     "metadata": {},
     "output_type": "execute_result"
    }
   ],
   "source": [
    "##check columns\n",
    "df.columns"
   ]
  },
  {
   "cell_type": "code",
   "execution_count": 18,
   "metadata": {},
   "outputs": [],
   "source": [
    "## remove perc_white variable to avoid multicollinearity; remove fips modified; name; and state\n",
    "df=df.drop(columns=['perc_white', 'NAME', 'state', 'fips_modified'])"
   ]
  },
  {
   "cell_type": "code",
   "execution_count": 19,
   "metadata": {},
   "outputs": [
    {
     "data": {
      "text/plain": [
       "(49561, 21)"
      ]
     },
     "execution_count": 19,
     "metadata": {},
     "output_type": "execute_result"
    }
   ],
   "source": [
    "## check shape\n",
    "df.shape"
   ]
  },
  {
   "cell_type": "markdown",
   "metadata": {},
   "source": [
    "**`Outcome 1: Desert vs. Healthful`**"
   ]
  },
  {
   "cell_type": "code",
   "execution_count": 20,
   "metadata": {},
   "outputs": [
    {
     "data": {
      "text/plain": [
       "(37447, 21)"
      ]
     },
     "execution_count": 20,
     "metadata": {},
     "output_type": "execute_result"
    }
   ],
   "source": [
    "## create dataframe with observations that have mrefi value ==0 | >9.09\n",
    "d_vs_h=df.loc[(df['mrfei']==0) | (df['mrfei']>9.09)]\n",
    "d_vs_h.shape"
   ]
  },
  {
   "cell_type": "code",
   "execution_count": 21,
   "metadata": {},
   "outputs": [
    {
     "data": {
      "text/html": [
       "<div>\n",
       "<style scoped>\n",
       "    .dataframe tbody tr th:only-of-type {\n",
       "        vertical-align: middle;\n",
       "    }\n",
       "\n",
       "    .dataframe tbody tr th {\n",
       "        vertical-align: top;\n",
       "    }\n",
       "\n",
       "    .dataframe thead th {\n",
       "        text-align: right;\n",
       "    }\n",
       "</style>\n",
       "<table border=\"1\" class=\"dataframe\">\n",
       "  <thead>\n",
       "    <tr style=\"text-align: right;\">\n",
       "      <th></th>\n",
       "      <th>mrfei</th>\n",
       "      <th>median_income</th>\n",
       "      <th>inequality</th>\n",
       "      <th>college_no_degree</th>\n",
       "      <th>associates_degree</th>\n",
       "      <th>log_SQMI</th>\n",
       "      <th>log_perc_asian</th>\n",
       "      <th>log_perc_black</th>\n",
       "      <th>log_perc_hispanic</th>\n",
       "      <th>log_perc_native</th>\n",
       "      <th>...</th>\n",
       "      <th>log_perc_pacific</th>\n",
       "      <th>log_perc_public_transport</th>\n",
       "      <th>log_perc_rural</th>\n",
       "      <th>log_pop_density</th>\n",
       "      <th>log_perc_unemploy</th>\n",
       "      <th>log_bach_or_more</th>\n",
       "      <th>log_below_high_school</th>\n",
       "      <th>log_perc_pov</th>\n",
       "      <th>log_perc_snap</th>\n",
       "      <th>log_value</th>\n",
       "    </tr>\n",
       "  </thead>\n",
       "  <tbody>\n",
       "  </tbody>\n",
       "</table>\n",
       "<p>0 rows × 21 columns</p>\n",
       "</div>"
      ],
      "text/plain": [
       "Empty DataFrame\n",
       "Columns: [mrfei, median_income, inequality, college_no_degree, associates_degree, log_SQMI, log_perc_asian, log_perc_black, log_perc_hispanic, log_perc_native, log_perc_no_vehicle, log_perc_pacific, log_perc_public_transport, log_perc_rural, log_pop_density, log_perc_unemploy, log_bach_or_more, log_below_high_school, log_perc_pov, log_perc_snap, log_value]\n",
       "Index: []\n",
       "\n",
       "[0 rows x 21 columns]"
      ]
     },
     "execution_count": 21,
     "metadata": {},
     "output_type": "execute_result"
    }
   ],
   "source": [
    "##confirm that swamps are removed from the dataframe\n",
    "d_vs_h.loc[(d_vs_h['mrfei']>0) & (d_vs_h['mrfei']<=9.09)]"
   ]
  },
  {
   "cell_type": "code",
   "execution_count": 22,
   "metadata": {},
   "outputs": [
    {
     "name": "stderr",
     "output_type": "stream",
     "text": [
      "/Users/mkbelay/opt/anaconda3/lib/python3.8/site-packages/pandas/core/indexing.py:845: SettingWithCopyWarning: \n",
      "A value is trying to be set on a copy of a slice from a DataFrame.\n",
      "Try using .loc[row_indexer,col_indexer] = value instead\n",
      "\n",
      "See the caveats in the documentation: https://pandas.pydata.org/pandas-docs/stable/user_guide/indexing.html#returning-a-view-versus-a-copy\n",
      "  self.obj[key] = _infer_fill_value(value)\n",
      "/Users/mkbelay/opt/anaconda3/lib/python3.8/site-packages/pandas/core/indexing.py:850: SettingWithCopyWarning: \n",
      "A value is trying to be set on a copy of a slice from a DataFrame\n",
      "\n",
      "See the caveats in the documentation: https://pandas.pydata.org/pandas-docs/stable/user_guide/indexing.html#returning-a-view-versus-a-copy\n",
      "  self._setitem_with_indexer(new_indexer, value)\n",
      "/Users/mkbelay/opt/anaconda3/lib/python3.8/site-packages/pandas/core/indexing.py:671: SettingWithCopyWarning: \n",
      "A value is trying to be set on a copy of a slice from a DataFrame\n",
      "\n",
      "See the caveats in the documentation: https://pandas.pydata.org/pandas-docs/stable/user_guide/indexing.html#returning-a-view-versus-a-copy\n",
      "  self._setitem_with_indexer(indexer, value)\n",
      "<ipython-input-22-2c16e5a02ef3>:3: SettingWithCopyWarning: \n",
      "A value is trying to be set on a copy of a slice from a DataFrame\n",
      "\n",
      "See the caveats in the documentation: https://pandas.pydata.org/pandas-docs/stable/user_guide/indexing.html#returning-a-view-versus-a-copy\n",
      "  d_vs_h.loc[d_vs_h['mrfei']>9.09, 'desert']=0\n"
     ]
    },
    {
     "data": {
      "text/plain": [
       "0"
      ]
     },
     "execution_count": 22,
     "metadata": {},
     "output_type": "execute_result"
    }
   ],
   "source": [
    "##create a binary variable differenciating deserts and healthful tracts\n",
    "d_vs_h.loc[d_vs_h['mrfei']==0, 'desert']=1\n",
    "d_vs_h.loc[d_vs_h['mrfei']>9.09, 'desert']=0\n",
    "d_vs_h['desert'].isna().sum()"
   ]
  },
  {
   "cell_type": "code",
   "execution_count": 23,
   "metadata": {},
   "outputs": [
    {
     "data": {
      "text/html": [
       "<div>\n",
       "<style scoped>\n",
       "    .dataframe tbody tr th:only-of-type {\n",
       "        vertical-align: middle;\n",
       "    }\n",
       "\n",
       "    .dataframe tbody tr th {\n",
       "        vertical-align: top;\n",
       "    }\n",
       "\n",
       "    .dataframe thead th {\n",
       "        text-align: right;\n",
       "    }\n",
       "</style>\n",
       "<table border=\"1\" class=\"dataframe\">\n",
       "  <thead>\n",
       "    <tr style=\"text-align: right;\">\n",
       "      <th></th>\n",
       "      <th>median_income</th>\n",
       "      <th>inequality</th>\n",
       "      <th>college_no_degree</th>\n",
       "      <th>associates_degree</th>\n",
       "      <th>log_SQMI</th>\n",
       "      <th>log_perc_asian</th>\n",
       "      <th>log_perc_black</th>\n",
       "      <th>log_perc_hispanic</th>\n",
       "      <th>log_perc_native</th>\n",
       "      <th>log_perc_no_vehicle</th>\n",
       "      <th>...</th>\n",
       "      <th>log_perc_public_transport</th>\n",
       "      <th>log_perc_rural</th>\n",
       "      <th>log_pop_density</th>\n",
       "      <th>log_perc_unemploy</th>\n",
       "      <th>log_bach_or_more</th>\n",
       "      <th>log_below_high_school</th>\n",
       "      <th>log_perc_pov</th>\n",
       "      <th>log_perc_snap</th>\n",
       "      <th>log_value</th>\n",
       "      <th>desert</th>\n",
       "    </tr>\n",
       "  </thead>\n",
       "  <tbody>\n",
       "    <tr>\n",
       "      <th>0</th>\n",
       "      <td>70222.0</td>\n",
       "      <td>0.513</td>\n",
       "      <td>17.7</td>\n",
       "      <td>6.0</td>\n",
       "      <td>1.564441</td>\n",
       "      <td>0.000000</td>\n",
       "      <td>2.844723</td>\n",
       "      <td>0.603872</td>\n",
       "      <td>0.000000</td>\n",
       "      <td>2.102170</td>\n",
       "      <td>...</td>\n",
       "      <td>1.731861</td>\n",
       "      <td>2.869704</td>\n",
       "      <td>6.172893</td>\n",
       "      <td>1.568616</td>\n",
       "      <td>3.273364</td>\n",
       "      <td>2.442347</td>\n",
       "      <td>2.442611</td>\n",
       "      <td>1.909117</td>\n",
       "      <td>11.701072</td>\n",
       "      <td>0.0</td>\n",
       "    </tr>\n",
       "    <tr>\n",
       "      <th>1</th>\n",
       "      <td>41091.0</td>\n",
       "      <td>0.386</td>\n",
       "      <td>17.2</td>\n",
       "      <td>3.3</td>\n",
       "      <td>0.828552</td>\n",
       "      <td>1.124672</td>\n",
       "      <td>4.096981</td>\n",
       "      <td>0.260077</td>\n",
       "      <td>0.000000</td>\n",
       "      <td>2.818603</td>\n",
       "      <td>...</td>\n",
       "      <td>0.000000</td>\n",
       "      <td>0.000000</td>\n",
       "      <td>7.356849</td>\n",
       "      <td>2.186051</td>\n",
       "      <td>3.321432</td>\n",
       "      <td>2.766319</td>\n",
       "      <td>2.757414</td>\n",
       "      <td>2.292950</td>\n",
       "      <td>11.838633</td>\n",
       "      <td>0.0</td>\n",
       "    </tr>\n",
       "    <tr>\n",
       "      <th>2</th>\n",
       "      <td>44031.0</td>\n",
       "      <td>0.405</td>\n",
       "      <td>25.0</td>\n",
       "      <td>8.5</td>\n",
       "      <td>1.121678</td>\n",
       "      <td>0.248614</td>\n",
       "      <td>2.867678</td>\n",
       "      <td>0.742300</td>\n",
       "      <td>0.000000</td>\n",
       "      <td>2.180158</td>\n",
       "      <td>...</td>\n",
       "      <td>0.646009</td>\n",
       "      <td>0.000000</td>\n",
       "      <td>7.445765</td>\n",
       "      <td>1.902108</td>\n",
       "      <td>2.856470</td>\n",
       "      <td>2.351375</td>\n",
       "      <td>2.201493</td>\n",
       "      <td>2.371412</td>\n",
       "      <td>11.619994</td>\n",
       "      <td>0.0</td>\n",
       "    </tr>\n",
       "    <tr>\n",
       "      <th>3</th>\n",
       "      <td>56627.0</td>\n",
       "      <td>0.357</td>\n",
       "      <td>24.5</td>\n",
       "      <td>6.5</td>\n",
       "      <td>1.238374</td>\n",
       "      <td>0.331145</td>\n",
       "      <td>1.198171</td>\n",
       "      <td>1.293254</td>\n",
       "      <td>0.000000</td>\n",
       "      <td>0.709596</td>\n",
       "      <td>...</td>\n",
       "      <td>0.000000</td>\n",
       "      <td>0.000000</td>\n",
       "      <td>7.589088</td>\n",
       "      <td>1.704748</td>\n",
       "      <td>3.269569</td>\n",
       "      <td>1.974081</td>\n",
       "      <td>1.990926</td>\n",
       "      <td>2.039715</td>\n",
       "      <td>11.746423</td>\n",
       "      <td>0.0</td>\n",
       "    </tr>\n",
       "    <tr>\n",
       "      <th>5</th>\n",
       "      <td>45313.0</td>\n",
       "      <td>0.447</td>\n",
       "      <td>27.8</td>\n",
       "      <td>2.7</td>\n",
       "      <td>1.413423</td>\n",
       "      <td>0.000000</td>\n",
       "      <td>2.870014</td>\n",
       "      <td>1.579118</td>\n",
       "      <td>0.567729</td>\n",
       "      <td>1.144437</td>\n",
       "      <td>...</td>\n",
       "      <td>0.000000</td>\n",
       "      <td>1.095335</td>\n",
       "      <td>6.998410</td>\n",
       "      <td>2.208274</td>\n",
       "      <td>3.214868</td>\n",
       "      <td>2.351375</td>\n",
       "      <td>2.444364</td>\n",
       "      <td>2.399284</td>\n",
       "      <td>11.614588</td>\n",
       "      <td>0.0</td>\n",
       "    </tr>\n",
       "    <tr>\n",
       "      <th>...</th>\n",
       "      <td>...</td>\n",
       "      <td>...</td>\n",
       "      <td>...</td>\n",
       "      <td>...</td>\n",
       "      <td>...</td>\n",
       "      <td>...</td>\n",
       "      <td>...</td>\n",
       "      <td>...</td>\n",
       "      <td>...</td>\n",
       "      <td>...</td>\n",
       "      <td>...</td>\n",
       "      <td>...</td>\n",
       "      <td>...</td>\n",
       "      <td>...</td>\n",
       "      <td>...</td>\n",
       "      <td>...</td>\n",
       "      <td>...</td>\n",
       "      <td>...</td>\n",
       "      <td>...</td>\n",
       "      <td>...</td>\n",
       "      <td>...</td>\n",
       "    </tr>\n",
       "    <tr>\n",
       "      <th>65340</th>\n",
       "      <td>53686.0</td>\n",
       "      <td>0.502</td>\n",
       "      <td>21.1</td>\n",
       "      <td>7.0</td>\n",
       "      <td>7.712752</td>\n",
       "      <td>0.490365</td>\n",
       "      <td>0.308707</td>\n",
       "      <td>2.367858</td>\n",
       "      <td>0.894722</td>\n",
       "      <td>0.841155</td>\n",
       "      <td>...</td>\n",
       "      <td>0.313587</td>\n",
       "      <td>4.443061</td>\n",
       "      <td>0.909913</td>\n",
       "      <td>1.704748</td>\n",
       "      <td>3.421000</td>\n",
       "      <td>2.174752</td>\n",
       "      <td>1.228137</td>\n",
       "      <td>2.059563</td>\n",
       "      <td>12.100718</td>\n",
       "      <td>1.0</td>\n",
       "    </tr>\n",
       "    <tr>\n",
       "      <th>65341</th>\n",
       "      <td>40304.0</td>\n",
       "      <td>0.403</td>\n",
       "      <td>23.1</td>\n",
       "      <td>10.0</td>\n",
       "      <td>0.570980</td>\n",
       "      <td>0.000000</td>\n",
       "      <td>0.000000</td>\n",
       "      <td>3.000891</td>\n",
       "      <td>0.000000</td>\n",
       "      <td>1.803092</td>\n",
       "      <td>...</td>\n",
       "      <td>0.000000</td>\n",
       "      <td>0.000000</td>\n",
       "      <td>8.234096</td>\n",
       "      <td>1.902108</td>\n",
       "      <td>2.856470</td>\n",
       "      <td>2.292535</td>\n",
       "      <td>2.349874</td>\n",
       "      <td>2.691720</td>\n",
       "      <td>11.350418</td>\n",
       "      <td>0.0</td>\n",
       "    </tr>\n",
       "    <tr>\n",
       "      <th>65342</th>\n",
       "      <td>56086.0</td>\n",
       "      <td>0.407</td>\n",
       "      <td>26.6</td>\n",
       "      <td>5.5</td>\n",
       "      <td>1.981001</td>\n",
       "      <td>1.064593</td>\n",
       "      <td>0.995036</td>\n",
       "      <td>2.044057</td>\n",
       "      <td>0.000000</td>\n",
       "      <td>1.906041</td>\n",
       "      <td>...</td>\n",
       "      <td>0.000000</td>\n",
       "      <td>2.462966</td>\n",
       "      <td>5.797516</td>\n",
       "      <td>1.252763</td>\n",
       "      <td>3.317816</td>\n",
       "      <td>2.116256</td>\n",
       "      <td>1.827912</td>\n",
       "      <td>0.000000</td>\n",
       "      <td>12.000898</td>\n",
       "      <td>0.0</td>\n",
       "    </tr>\n",
       "    <tr>\n",
       "      <th>65343</th>\n",
       "      <td>52440.0</td>\n",
       "      <td>0.437</td>\n",
       "      <td>24.4</td>\n",
       "      <td>7.6</td>\n",
       "      <td>7.765620</td>\n",
       "      <td>0.000000</td>\n",
       "      <td>0.127358</td>\n",
       "      <td>1.400204</td>\n",
       "      <td>0.557917</td>\n",
       "      <td>1.559998</td>\n",
       "      <td>...</td>\n",
       "      <td>2.038641</td>\n",
       "      <td>4.615121</td>\n",
       "      <td>0.810666</td>\n",
       "      <td>1.526056</td>\n",
       "      <td>2.949688</td>\n",
       "      <td>2.104134</td>\n",
       "      <td>2.162111</td>\n",
       "      <td>0.846403</td>\n",
       "      <td>11.788289</td>\n",
       "      <td>0.0</td>\n",
       "    </tr>\n",
       "    <tr>\n",
       "      <th>65344</th>\n",
       "      <td>54167.0</td>\n",
       "      <td>0.346</td>\n",
       "      <td>24.6</td>\n",
       "      <td>8.2</td>\n",
       "      <td>3.781231</td>\n",
       "      <td>0.898517</td>\n",
       "      <td>0.000000</td>\n",
       "      <td>1.266363</td>\n",
       "      <td>0.427782</td>\n",
       "      <td>1.034318</td>\n",
       "      <td>...</td>\n",
       "      <td>1.919129</td>\n",
       "      <td>2.824047</td>\n",
       "      <td>4.576028</td>\n",
       "      <td>0.875469</td>\n",
       "      <td>2.928524</td>\n",
       "      <td>2.041220</td>\n",
       "      <td>2.208441</td>\n",
       "      <td>1.809909</td>\n",
       "      <td>11.562677</td>\n",
       "      <td>0.0</td>\n",
       "    </tr>\n",
       "  </tbody>\n",
       "</table>\n",
       "<p>37447 rows × 21 columns</p>\n",
       "</div>"
      ],
      "text/plain": [
       "       median_income  inequality  college_no_degree  associates_degree  \\\n",
       "0            70222.0       0.513               17.7                6.0   \n",
       "1            41091.0       0.386               17.2                3.3   \n",
       "2            44031.0       0.405               25.0                8.5   \n",
       "3            56627.0       0.357               24.5                6.5   \n",
       "5            45313.0       0.447               27.8                2.7   \n",
       "...              ...         ...                ...                ...   \n",
       "65340        53686.0       0.502               21.1                7.0   \n",
       "65341        40304.0       0.403               23.1               10.0   \n",
       "65342        56086.0       0.407               26.6                5.5   \n",
       "65343        52440.0       0.437               24.4                7.6   \n",
       "65344        54167.0       0.346               24.6                8.2   \n",
       "\n",
       "       log_SQMI  log_perc_asian  log_perc_black  log_perc_hispanic  \\\n",
       "0      1.564441        0.000000        2.844723           0.603872   \n",
       "1      0.828552        1.124672        4.096981           0.260077   \n",
       "2      1.121678        0.248614        2.867678           0.742300   \n",
       "3      1.238374        0.331145        1.198171           1.293254   \n",
       "5      1.413423        0.000000        2.870014           1.579118   \n",
       "...         ...             ...             ...                ...   \n",
       "65340  7.712752        0.490365        0.308707           2.367858   \n",
       "65341  0.570980        0.000000        0.000000           3.000891   \n",
       "65342  1.981001        1.064593        0.995036           2.044057   \n",
       "65343  7.765620        0.000000        0.127358           1.400204   \n",
       "65344  3.781231        0.898517        0.000000           1.266363   \n",
       "\n",
       "       log_perc_native  log_perc_no_vehicle  ...  log_perc_public_transport  \\\n",
       "0             0.000000             2.102170  ...                   1.731861   \n",
       "1             0.000000             2.818603  ...                   0.000000   \n",
       "2             0.000000             2.180158  ...                   0.646009   \n",
       "3             0.000000             0.709596  ...                   0.000000   \n",
       "5             0.567729             1.144437  ...                   0.000000   \n",
       "...                ...                  ...  ...                        ...   \n",
       "65340         0.894722             0.841155  ...                   0.313587   \n",
       "65341         0.000000             1.803092  ...                   0.000000   \n",
       "65342         0.000000             1.906041  ...                   0.000000   \n",
       "65343         0.557917             1.559998  ...                   2.038641   \n",
       "65344         0.427782             1.034318  ...                   1.919129   \n",
       "\n",
       "       log_perc_rural  log_pop_density  log_perc_unemploy  log_bach_or_more  \\\n",
       "0            2.869704         6.172893           1.568616          3.273364   \n",
       "1            0.000000         7.356849           2.186051          3.321432   \n",
       "2            0.000000         7.445765           1.902108          2.856470   \n",
       "3            0.000000         7.589088           1.704748          3.269569   \n",
       "5            1.095335         6.998410           2.208274          3.214868   \n",
       "...               ...              ...                ...               ...   \n",
       "65340        4.443061         0.909913           1.704748          3.421000   \n",
       "65341        0.000000         8.234096           1.902108          2.856470   \n",
       "65342        2.462966         5.797516           1.252763          3.317816   \n",
       "65343        4.615121         0.810666           1.526056          2.949688   \n",
       "65344        2.824047         4.576028           0.875469          2.928524   \n",
       "\n",
       "       log_below_high_school  log_perc_pov  log_perc_snap  log_value  desert  \n",
       "0                   2.442347      2.442611       1.909117  11.701072     0.0  \n",
       "1                   2.766319      2.757414       2.292950  11.838633     0.0  \n",
       "2                   2.351375      2.201493       2.371412  11.619994     0.0  \n",
       "3                   1.974081      1.990926       2.039715  11.746423     0.0  \n",
       "5                   2.351375      2.444364       2.399284  11.614588     0.0  \n",
       "...                      ...           ...            ...        ...     ...  \n",
       "65340               2.174752      1.228137       2.059563  12.100718     1.0  \n",
       "65341               2.292535      2.349874       2.691720  11.350418     0.0  \n",
       "65342               2.116256      1.827912       0.000000  12.000898     0.0  \n",
       "65343               2.104134      2.162111       0.846403  11.788289     0.0  \n",
       "65344               2.041220      2.208441       1.809909  11.562677     0.0  \n",
       "\n",
       "[37447 rows x 21 columns]"
      ]
     },
     "execution_count": 23,
     "metadata": {},
     "output_type": "execute_result"
    }
   ],
   "source": [
    "## drop continious mrfei variable\n",
    "d_vs_h=d_vs_h.drop(columns=['mrfei'])\n",
    "d_vs_h"
   ]
  },
  {
   "cell_type": "code",
   "execution_count": 24,
   "metadata": {},
   "outputs": [
    {
     "name": "stderr",
     "output_type": "stream",
     "text": [
      "/Users/mkbelay/opt/anaconda3/lib/python3.8/site-packages/plotnine/stats/stat_bin.py:93: PlotnineWarning: 'stat_bin()' using 'bins = 17'. Pick better value with 'binwidth'.\n",
      "  warn(msg.format(params['bins']), PlotnineWarning)\n"
     ]
    },
    {
     "data": {
      "image/png": "[encoded data removed]",
      "text/plain": [
       "<Figure size 640x480 with 1 Axes>"
      ]
     },
     "metadata": {},
     "output_type": "display_data"
    },
    {
     "data": {
      "text/plain": [
       "<ggplot: (8787458965730)>"
      ]
     },
     "execution_count": 24,
     "metadata": {},
     "output_type": "execute_result"
    }
   ],
   "source": [
    "## check distribution of outcome\n",
    "(ggplot(d_vs_h, aes(x='desert'))+geom_histogram())"
   ]
  },
  {
   "cell_type": "markdown",
   "metadata": {},
   "source": [
    "There is some imbalance. Let's make sure that the proprtion of observations that are deserts is not less than 10-20%."
   ]
  },
  {
   "cell_type": "code",
   "execution_count": 25,
   "metadata": {},
   "outputs": [
    {
     "data": {
      "text/plain": [
       "0.0    25840\n",
       "1.0    11607\n",
       "Name: desert, dtype: int64"
      ]
     },
     "execution_count": 25,
     "metadata": {},
     "output_type": "execute_result"
    }
   ],
   "source": [
    "## total number of observations\n",
    "### number of observations classified as deserts\n",
    "#d_vs_h.filter(['state', 'NAME']).loc[d_vs_h['desert']==1].count()\n",
    "d_vs_h['desert'].value_counts()"
   ]
  },
  {
   "cell_type": "markdown",
   "metadata": {},
   "source": [
    "Approximately 30% (i.e, 11,607/37, 447) of the census tracts are deserts. To remedy this, the authors used an adaptive synthetic sampling method. This technique will be applied right after splitting the data into target and feature set."
   ]
  },
  {
   "cell_type": "markdown",
   "metadata": {},
   "source": [
    "**`Outcome 2: Swamp vs. Healthful`**"
   ]
  },
  {
   "cell_type": "code",
   "execution_count": 26,
   "metadata": {},
   "outputs": [
    {
     "data": {
      "text/plain": [
       "(37954, 21)"
      ]
     },
     "execution_count": 26,
     "metadata": {},
     "output_type": "execute_result"
    }
   ],
   "source": [
    "## create dataframe with observations that have mrefi value >0 \n",
    "s_vs_h=df.loc[df['mrfei']>0]\n",
    "s_vs_h.shape"
   ]
  },
  {
   "cell_type": "code",
   "execution_count": 27,
   "metadata": {},
   "outputs": [
    {
     "data": {
      "text/html": [
       "<div>\n",
       "<style scoped>\n",
       "    .dataframe tbody tr th:only-of-type {\n",
       "        vertical-align: middle;\n",
       "    }\n",
       "\n",
       "    .dataframe tbody tr th {\n",
       "        vertical-align: top;\n",
       "    }\n",
       "\n",
       "    .dataframe thead th {\n",
       "        text-align: right;\n",
       "    }\n",
       "</style>\n",
       "<table border=\"1\" class=\"dataframe\">\n",
       "  <thead>\n",
       "    <tr style=\"text-align: right;\">\n",
       "      <th></th>\n",
       "      <th>mrfei</th>\n",
       "      <th>median_income</th>\n",
       "      <th>inequality</th>\n",
       "      <th>college_no_degree</th>\n",
       "      <th>associates_degree</th>\n",
       "      <th>log_SQMI</th>\n",
       "      <th>log_perc_asian</th>\n",
       "      <th>log_perc_black</th>\n",
       "      <th>log_perc_hispanic</th>\n",
       "      <th>log_perc_native</th>\n",
       "      <th>...</th>\n",
       "      <th>log_perc_pacific</th>\n",
       "      <th>log_perc_public_transport</th>\n",
       "      <th>log_perc_rural</th>\n",
       "      <th>log_pop_density</th>\n",
       "      <th>log_perc_unemploy</th>\n",
       "      <th>log_bach_or_more</th>\n",
       "      <th>log_below_high_school</th>\n",
       "      <th>log_perc_pov</th>\n",
       "      <th>log_perc_snap</th>\n",
       "      <th>log_value</th>\n",
       "    </tr>\n",
       "  </thead>\n",
       "  <tbody>\n",
       "  </tbody>\n",
       "</table>\n",
       "<p>0 rows × 21 columns</p>\n",
       "</div>"
      ],
      "text/plain": [
       "Empty DataFrame\n",
       "Columns: [mrfei, median_income, inequality, college_no_degree, associates_degree, log_SQMI, log_perc_asian, log_perc_black, log_perc_hispanic, log_perc_native, log_perc_no_vehicle, log_perc_pacific, log_perc_public_transport, log_perc_rural, log_pop_density, log_perc_unemploy, log_bach_or_more, log_below_high_school, log_perc_pov, log_perc_snap, log_value]\n",
       "Index: []\n",
       "\n",
       "[0 rows x 21 columns]"
      ]
     },
     "execution_count": 27,
     "metadata": {},
     "output_type": "execute_result"
    }
   ],
   "source": [
    "##confirm that deserts are removed from the dataframe\n",
    "s_vs_h.loc[s_vs_h['mrfei']==0]"
   ]
  },
  {
   "cell_type": "code",
   "execution_count": 28,
   "metadata": {},
   "outputs": [
    {
     "name": "stderr",
     "output_type": "stream",
     "text": [
      "/Users/mkbelay/opt/anaconda3/lib/python3.8/site-packages/pandas/core/indexing.py:845: SettingWithCopyWarning: \n",
      "A value is trying to be set on a copy of a slice from a DataFrame.\n",
      "Try using .loc[row_indexer,col_indexer] = value instead\n",
      "\n",
      "See the caveats in the documentation: https://pandas.pydata.org/pandas-docs/stable/user_guide/indexing.html#returning-a-view-versus-a-copy\n",
      "  self.obj[key] = _infer_fill_value(value)\n",
      "/Users/mkbelay/opt/anaconda3/lib/python3.8/site-packages/pandas/core/indexing.py:850: SettingWithCopyWarning: \n",
      "A value is trying to be set on a copy of a slice from a DataFrame\n",
      "\n",
      "See the caveats in the documentation: https://pandas.pydata.org/pandas-docs/stable/user_guide/indexing.html#returning-a-view-versus-a-copy\n",
      "  self._setitem_with_indexer(new_indexer, value)\n",
      "/Users/mkbelay/opt/anaconda3/lib/python3.8/site-packages/pandas/core/indexing.py:671: SettingWithCopyWarning: \n",
      "A value is trying to be set on a copy of a slice from a DataFrame\n",
      "\n",
      "See the caveats in the documentation: https://pandas.pydata.org/pandas-docs/stable/user_guide/indexing.html#returning-a-view-versus-a-copy\n",
      "  self._setitem_with_indexer(indexer, value)\n",
      "<ipython-input-28-37c3d5623f25>:3: SettingWithCopyWarning: \n",
      "A value is trying to be set on a copy of a slice from a DataFrame\n",
      "\n",
      "See the caveats in the documentation: https://pandas.pydata.org/pandas-docs/stable/user_guide/indexing.html#returning-a-view-versus-a-copy\n",
      "  s_vs_h.loc[s_vs_h['mrfei']>9.09, 'swamp']=0\n"
     ]
    },
    {
     "data": {
      "text/plain": [
       "0"
      ]
     },
     "execution_count": 28,
     "metadata": {},
     "output_type": "execute_result"
    }
   ],
   "source": [
    "##create a binary variable differenciating swamps and healthful tracts\n",
    "s_vs_h.loc[s_vs_h['mrfei']<=9.09, 'swamp']=1\n",
    "s_vs_h.loc[s_vs_h['mrfei']>9.09, 'swamp']=0\n",
    "s_vs_h['swamp'].isna().sum()"
   ]
  },
  {
   "cell_type": "code",
   "execution_count": 29,
   "metadata": {},
   "outputs": [
    {
     "data": {
      "text/html": [
       "<div>\n",
       "<style scoped>\n",
       "    .dataframe tbody tr th:only-of-type {\n",
       "        vertical-align: middle;\n",
       "    }\n",
       "\n",
       "    .dataframe tbody tr th {\n",
       "        vertical-align: top;\n",
       "    }\n",
       "\n",
       "    .dataframe thead th {\n",
       "        text-align: right;\n",
       "    }\n",
       "</style>\n",
       "<table border=\"1\" class=\"dataframe\">\n",
       "  <thead>\n",
       "    <tr style=\"text-align: right;\">\n",
       "      <th></th>\n",
       "      <th>median_income</th>\n",
       "      <th>inequality</th>\n",
       "      <th>college_no_degree</th>\n",
       "      <th>associates_degree</th>\n",
       "      <th>log_SQMI</th>\n",
       "      <th>log_perc_asian</th>\n",
       "      <th>log_perc_black</th>\n",
       "      <th>log_perc_hispanic</th>\n",
       "      <th>log_perc_native</th>\n",
       "      <th>log_perc_no_vehicle</th>\n",
       "      <th>...</th>\n",
       "      <th>log_perc_public_transport</th>\n",
       "      <th>log_perc_rural</th>\n",
       "      <th>log_pop_density</th>\n",
       "      <th>log_perc_unemploy</th>\n",
       "      <th>log_bach_or_more</th>\n",
       "      <th>log_below_high_school</th>\n",
       "      <th>log_perc_pov</th>\n",
       "      <th>log_perc_snap</th>\n",
       "      <th>log_value</th>\n",
       "      <th>swamp</th>\n",
       "    </tr>\n",
       "  </thead>\n",
       "  <tbody>\n",
       "    <tr>\n",
       "      <th>0</th>\n",
       "      <td>70222.0</td>\n",
       "      <td>0.513</td>\n",
       "      <td>17.7</td>\n",
       "      <td>6.0</td>\n",
       "      <td>1.564441</td>\n",
       "      <td>0.000000</td>\n",
       "      <td>2.844723</td>\n",
       "      <td>0.603872</td>\n",
       "      <td>0.000000</td>\n",
       "      <td>2.102170</td>\n",
       "      <td>...</td>\n",
       "      <td>1.731861</td>\n",
       "      <td>2.869704</td>\n",
       "      <td>6.172893</td>\n",
       "      <td>1.568616</td>\n",
       "      <td>3.273364</td>\n",
       "      <td>2.442347</td>\n",
       "      <td>2.442611</td>\n",
       "      <td>1.909117</td>\n",
       "      <td>11.701072</td>\n",
       "      <td>0.0</td>\n",
       "    </tr>\n",
       "    <tr>\n",
       "      <th>1</th>\n",
       "      <td>41091.0</td>\n",
       "      <td>0.386</td>\n",
       "      <td>17.2</td>\n",
       "      <td>3.3</td>\n",
       "      <td>0.828552</td>\n",
       "      <td>1.124672</td>\n",
       "      <td>4.096981</td>\n",
       "      <td>0.260077</td>\n",
       "      <td>0.000000</td>\n",
       "      <td>2.818603</td>\n",
       "      <td>...</td>\n",
       "      <td>0.000000</td>\n",
       "      <td>0.000000</td>\n",
       "      <td>7.356849</td>\n",
       "      <td>2.186051</td>\n",
       "      <td>3.321432</td>\n",
       "      <td>2.766319</td>\n",
       "      <td>2.757414</td>\n",
       "      <td>2.292950</td>\n",
       "      <td>11.838633</td>\n",
       "      <td>0.0</td>\n",
       "    </tr>\n",
       "    <tr>\n",
       "      <th>2</th>\n",
       "      <td>44031.0</td>\n",
       "      <td>0.405</td>\n",
       "      <td>25.0</td>\n",
       "      <td>8.5</td>\n",
       "      <td>1.121678</td>\n",
       "      <td>0.248614</td>\n",
       "      <td>2.867678</td>\n",
       "      <td>0.742300</td>\n",
       "      <td>0.000000</td>\n",
       "      <td>2.180158</td>\n",
       "      <td>...</td>\n",
       "      <td>0.646009</td>\n",
       "      <td>0.000000</td>\n",
       "      <td>7.445765</td>\n",
       "      <td>1.902108</td>\n",
       "      <td>2.856470</td>\n",
       "      <td>2.351375</td>\n",
       "      <td>2.201493</td>\n",
       "      <td>2.371412</td>\n",
       "      <td>11.619994</td>\n",
       "      <td>0.0</td>\n",
       "    </tr>\n",
       "    <tr>\n",
       "      <th>3</th>\n",
       "      <td>56627.0</td>\n",
       "      <td>0.357</td>\n",
       "      <td>24.5</td>\n",
       "      <td>6.5</td>\n",
       "      <td>1.238374</td>\n",
       "      <td>0.331145</td>\n",
       "      <td>1.198171</td>\n",
       "      <td>1.293254</td>\n",
       "      <td>0.000000</td>\n",
       "      <td>0.709596</td>\n",
       "      <td>...</td>\n",
       "      <td>0.000000</td>\n",
       "      <td>0.000000</td>\n",
       "      <td>7.589088</td>\n",
       "      <td>1.704748</td>\n",
       "      <td>3.269569</td>\n",
       "      <td>1.974081</td>\n",
       "      <td>1.990926</td>\n",
       "      <td>2.039715</td>\n",
       "      <td>11.746423</td>\n",
       "      <td>0.0</td>\n",
       "    </tr>\n",
       "    <tr>\n",
       "      <th>4</th>\n",
       "      <td>68317.0</td>\n",
       "      <td>0.334</td>\n",
       "      <td>22.4</td>\n",
       "      <td>6.7</td>\n",
       "      <td>1.690096</td>\n",
       "      <td>1.004569</td>\n",
       "      <td>2.532252</td>\n",
       "      <td>1.747352</td>\n",
       "      <td>0.183361</td>\n",
       "      <td>1.940319</td>\n",
       "      <td>...</td>\n",
       "      <td>0.000000</td>\n",
       "      <td>0.036480</td>\n",
       "      <td>7.718426</td>\n",
       "      <td>1.547563</td>\n",
       "      <td>3.650658</td>\n",
       "      <td>1.335001</td>\n",
       "      <td>1.939739</td>\n",
       "      <td>1.556525</td>\n",
       "      <td>12.061053</td>\n",
       "      <td>1.0</td>\n",
       "    </tr>\n",
       "    <tr>\n",
       "      <th>...</th>\n",
       "      <td>...</td>\n",
       "      <td>...</td>\n",
       "      <td>...</td>\n",
       "      <td>...</td>\n",
       "      <td>...</td>\n",
       "      <td>...</td>\n",
       "      <td>...</td>\n",
       "      <td>...</td>\n",
       "      <td>...</td>\n",
       "      <td>...</td>\n",
       "      <td>...</td>\n",
       "      <td>...</td>\n",
       "      <td>...</td>\n",
       "      <td>...</td>\n",
       "      <td>...</td>\n",
       "      <td>...</td>\n",
       "      <td>...</td>\n",
       "      <td>...</td>\n",
       "      <td>...</td>\n",
       "      <td>...</td>\n",
       "      <td>...</td>\n",
       "    </tr>\n",
       "    <tr>\n",
       "      <th>65339</th>\n",
       "      <td>52949.0</td>\n",
       "      <td>0.388</td>\n",
       "      <td>30.3</td>\n",
       "      <td>6.1</td>\n",
       "      <td>4.013677</td>\n",
       "      <td>0.026840</td>\n",
       "      <td>0.039995</td>\n",
       "      <td>2.525206</td>\n",
       "      <td>0.000000</td>\n",
       "      <td>1.382970</td>\n",
       "      <td>...</td>\n",
       "      <td>0.779830</td>\n",
       "      <td>2.988497</td>\n",
       "      <td>4.914648</td>\n",
       "      <td>1.871802</td>\n",
       "      <td>2.791165</td>\n",
       "      <td>2.312535</td>\n",
       "      <td>2.466988</td>\n",
       "      <td>2.294886</td>\n",
       "      <td>12.003963</td>\n",
       "      <td>0.0</td>\n",
       "    </tr>\n",
       "    <tr>\n",
       "      <th>65341</th>\n",
       "      <td>40304.0</td>\n",
       "      <td>0.403</td>\n",
       "      <td>23.1</td>\n",
       "      <td>10.0</td>\n",
       "      <td>0.570980</td>\n",
       "      <td>0.000000</td>\n",
       "      <td>0.000000</td>\n",
       "      <td>3.000891</td>\n",
       "      <td>0.000000</td>\n",
       "      <td>1.803092</td>\n",
       "      <td>...</td>\n",
       "      <td>0.000000</td>\n",
       "      <td>0.000000</td>\n",
       "      <td>8.234096</td>\n",
       "      <td>1.902108</td>\n",
       "      <td>2.856470</td>\n",
       "      <td>2.292535</td>\n",
       "      <td>2.349874</td>\n",
       "      <td>2.691720</td>\n",
       "      <td>11.350418</td>\n",
       "      <td>0.0</td>\n",
       "    </tr>\n",
       "    <tr>\n",
       "      <th>65342</th>\n",
       "      <td>56086.0</td>\n",
       "      <td>0.407</td>\n",
       "      <td>26.6</td>\n",
       "      <td>5.5</td>\n",
       "      <td>1.981001</td>\n",
       "      <td>1.064593</td>\n",
       "      <td>0.995036</td>\n",
       "      <td>2.044057</td>\n",
       "      <td>0.000000</td>\n",
       "      <td>1.906041</td>\n",
       "      <td>...</td>\n",
       "      <td>0.000000</td>\n",
       "      <td>2.462966</td>\n",
       "      <td>5.797516</td>\n",
       "      <td>1.252763</td>\n",
       "      <td>3.317816</td>\n",
       "      <td>2.116256</td>\n",
       "      <td>1.827912</td>\n",
       "      <td>0.000000</td>\n",
       "      <td>12.000898</td>\n",
       "      <td>0.0</td>\n",
       "    </tr>\n",
       "    <tr>\n",
       "      <th>65343</th>\n",
       "      <td>52440.0</td>\n",
       "      <td>0.437</td>\n",
       "      <td>24.4</td>\n",
       "      <td>7.6</td>\n",
       "      <td>7.765620</td>\n",
       "      <td>0.000000</td>\n",
       "      <td>0.127358</td>\n",
       "      <td>1.400204</td>\n",
       "      <td>0.557917</td>\n",
       "      <td>1.559998</td>\n",
       "      <td>...</td>\n",
       "      <td>2.038641</td>\n",
       "      <td>4.615121</td>\n",
       "      <td>0.810666</td>\n",
       "      <td>1.526056</td>\n",
       "      <td>2.949688</td>\n",
       "      <td>2.104134</td>\n",
       "      <td>2.162111</td>\n",
       "      <td>0.846403</td>\n",
       "      <td>11.788289</td>\n",
       "      <td>0.0</td>\n",
       "    </tr>\n",
       "    <tr>\n",
       "      <th>65344</th>\n",
       "      <td>54167.0</td>\n",
       "      <td>0.346</td>\n",
       "      <td>24.6</td>\n",
       "      <td>8.2</td>\n",
       "      <td>3.781231</td>\n",
       "      <td>0.898517</td>\n",
       "      <td>0.000000</td>\n",
       "      <td>1.266363</td>\n",
       "      <td>0.427782</td>\n",
       "      <td>1.034318</td>\n",
       "      <td>...</td>\n",
       "      <td>1.919129</td>\n",
       "      <td>2.824047</td>\n",
       "      <td>4.576028</td>\n",
       "      <td>0.875469</td>\n",
       "      <td>2.928524</td>\n",
       "      <td>2.041220</td>\n",
       "      <td>2.208441</td>\n",
       "      <td>1.809909</td>\n",
       "      <td>11.562677</td>\n",
       "      <td>0.0</td>\n",
       "    </tr>\n",
       "  </tbody>\n",
       "</table>\n",
       "<p>37954 rows × 21 columns</p>\n",
       "</div>"
      ],
      "text/plain": [
       "       median_income  inequality  college_no_degree  associates_degree  \\\n",
       "0            70222.0       0.513               17.7                6.0   \n",
       "1            41091.0       0.386               17.2                3.3   \n",
       "2            44031.0       0.405               25.0                8.5   \n",
       "3            56627.0       0.357               24.5                6.5   \n",
       "4            68317.0       0.334               22.4                6.7   \n",
       "...              ...         ...                ...                ...   \n",
       "65339        52949.0       0.388               30.3                6.1   \n",
       "65341        40304.0       0.403               23.1               10.0   \n",
       "65342        56086.0       0.407               26.6                5.5   \n",
       "65343        52440.0       0.437               24.4                7.6   \n",
       "65344        54167.0       0.346               24.6                8.2   \n",
       "\n",
       "       log_SQMI  log_perc_asian  log_perc_black  log_perc_hispanic  \\\n",
       "0      1.564441        0.000000        2.844723           0.603872   \n",
       "1      0.828552        1.124672        4.096981           0.260077   \n",
       "2      1.121678        0.248614        2.867678           0.742300   \n",
       "3      1.238374        0.331145        1.198171           1.293254   \n",
       "4      1.690096        1.004569        2.532252           1.747352   \n",
       "...         ...             ...             ...                ...   \n",
       "65339  4.013677        0.026840        0.039995           2.525206   \n",
       "65341  0.570980        0.000000        0.000000           3.000891   \n",
       "65342  1.981001        1.064593        0.995036           2.044057   \n",
       "65343  7.765620        0.000000        0.127358           1.400204   \n",
       "65344  3.781231        0.898517        0.000000           1.266363   \n",
       "\n",
       "       log_perc_native  log_perc_no_vehicle  ...  log_perc_public_transport  \\\n",
       "0             0.000000             2.102170  ...                   1.731861   \n",
       "1             0.000000             2.818603  ...                   0.000000   \n",
       "2             0.000000             2.180158  ...                   0.646009   \n",
       "3             0.000000             0.709596  ...                   0.000000   \n",
       "4             0.183361             1.940319  ...                   0.000000   \n",
       "...                ...                  ...  ...                        ...   \n",
       "65339         0.000000             1.382970  ...                   0.779830   \n",
       "65341         0.000000             1.803092  ...                   0.000000   \n",
       "65342         0.000000             1.906041  ...                   0.000000   \n",
       "65343         0.557917             1.559998  ...                   2.038641   \n",
       "65344         0.427782             1.034318  ...                   1.919129   \n",
       "\n",
       "       log_perc_rural  log_pop_density  log_perc_unemploy  log_bach_or_more  \\\n",
       "0            2.869704         6.172893           1.568616          3.273364   \n",
       "1            0.000000         7.356849           2.186051          3.321432   \n",
       "2            0.000000         7.445765           1.902108          2.856470   \n",
       "3            0.000000         7.589088           1.704748          3.269569   \n",
       "4            0.036480         7.718426           1.547563          3.650658   \n",
       "...               ...              ...                ...               ...   \n",
       "65339        2.988497         4.914648           1.871802          2.791165   \n",
       "65341        0.000000         8.234096           1.902108          2.856470   \n",
       "65342        2.462966         5.797516           1.252763          3.317816   \n",
       "65343        4.615121         0.810666           1.526056          2.949688   \n",
       "65344        2.824047         4.576028           0.875469          2.928524   \n",
       "\n",
       "       log_below_high_school  log_perc_pov  log_perc_snap  log_value  swamp  \n",
       "0                   2.442347      2.442611       1.909117  11.701072    0.0  \n",
       "1                   2.766319      2.757414       2.292950  11.838633    0.0  \n",
       "2                   2.351375      2.201493       2.371412  11.619994    0.0  \n",
       "3                   1.974081      1.990926       2.039715  11.746423    0.0  \n",
       "4                   1.335001      1.939739       1.556525  12.061053    1.0  \n",
       "...                      ...           ...            ...        ...    ...  \n",
       "65339               2.312535      2.466988       2.294886  12.003963    0.0  \n",
       "65341               2.292535      2.349874       2.691720  11.350418    0.0  \n",
       "65342               2.116256      1.827912       0.000000  12.000898    0.0  \n",
       "65343               2.104134      2.162111       0.846403  11.788289    0.0  \n",
       "65344               2.041220      2.208441       1.809909  11.562677    0.0  \n",
       "\n",
       "[37954 rows x 21 columns]"
      ]
     },
     "execution_count": 29,
     "metadata": {},
     "output_type": "execute_result"
    }
   ],
   "source": [
    "## drop continious mrfei variable\n",
    "s_vs_h=s_vs_h.drop(columns=['mrfei'])\n",
    "s_vs_h"
   ]
  },
  {
   "cell_type": "code",
   "execution_count": 30,
   "metadata": {},
   "outputs": [
    {
     "name": "stderr",
     "output_type": "stream",
     "text": [
      "/Users/mkbelay/opt/anaconda3/lib/python3.8/site-packages/plotnine/stats/stat_bin.py:93: PlotnineWarning: 'stat_bin()' using 'bins = 17'. Pick better value with 'binwidth'.\n",
      "  warn(msg.format(params['bins']), PlotnineWarning)\n"
     ]
    },
    {
     "data": {
      "image/png": "[encoded data removed]",
      "text/plain": [
       "<Figure size 640x480 with 1 Axes>"
      ]
     },
     "metadata": {},
     "output_type": "display_data"
    },
    {
     "data": {
      "text/plain": [
       "<ggplot: (8787458714709)>"
      ]
     },
     "execution_count": 30,
     "metadata": {},
     "output_type": "execute_result"
    }
   ],
   "source": [
    "## check distribution of outcome\n",
    "(ggplot(s_vs_h, aes(x='swamp'))+geom_histogram())"
   ]
  },
  {
   "cell_type": "markdown",
   "metadata": {},
   "source": [
    "There is some imbalance. Let's make sure that the proprtion of observations that are deserts is not less than 10-20%."
   ]
  },
  {
   "cell_type": "code",
   "execution_count": 31,
   "metadata": {},
   "outputs": [
    {
     "data": {
      "text/plain": [
       "0.0    25840\n",
       "1.0    12114\n",
       "Name: swamp, dtype: int64"
      ]
     },
     "execution_count": 31,
     "metadata": {},
     "output_type": "execute_result"
    }
   ],
   "source": [
    "## total number of observations\n",
    "### number of observations classified as deserts\n",
    "#d_vs_h.filter(['state', 'NAME']).loc[d_vs_h['desert']==1].count()\n",
    "s_vs_h['swamp'].value_counts()"
   ]
  },
  {
   "cell_type": "markdown",
   "metadata": {},
   "source": [
    "Approximately 32% (i.e, 12,114/37,954) of the census tracts are deserts. To remedy this, the authors used an adaptive synthetic sampling method. This technique will be applied right after splitting the data into target and feature set."
   ]
  },
  {
   "cell_type": "markdown",
   "metadata": {},
   "source": [
    "**`Outcome 3: Desert vs. Swamp`**"
   ]
  },
  {
   "cell_type": "code",
   "execution_count": 32,
   "metadata": {},
   "outputs": [
    {
     "data": {
      "text/plain": [
       "(23721, 21)"
      ]
     },
     "execution_count": 32,
     "metadata": {},
     "output_type": "execute_result"
    }
   ],
   "source": [
    "## create dataframe with observations that have mrefi value >0 \n",
    "d_vs_s=df.loc[(df['mrfei']==0) | (df['mrfei']<=9.09)]\n",
    "d_vs_s.shape"
   ]
  },
  {
   "cell_type": "code",
   "execution_count": 33,
   "metadata": {},
   "outputs": [
    {
     "data": {
      "text/html": [
       "<div>\n",
       "<style scoped>\n",
       "    .dataframe tbody tr th:only-of-type {\n",
       "        vertical-align: middle;\n",
       "    }\n",
       "\n",
       "    .dataframe tbody tr th {\n",
       "        vertical-align: top;\n",
       "    }\n",
       "\n",
       "    .dataframe thead th {\n",
       "        text-align: right;\n",
       "    }\n",
       "</style>\n",
       "<table border=\"1\" class=\"dataframe\">\n",
       "  <thead>\n",
       "    <tr style=\"text-align: right;\">\n",
       "      <th></th>\n",
       "      <th>mrfei</th>\n",
       "      <th>median_income</th>\n",
       "      <th>inequality</th>\n",
       "      <th>college_no_degree</th>\n",
       "      <th>associates_degree</th>\n",
       "      <th>log_SQMI</th>\n",
       "      <th>log_perc_asian</th>\n",
       "      <th>log_perc_black</th>\n",
       "      <th>log_perc_hispanic</th>\n",
       "      <th>log_perc_native</th>\n",
       "      <th>...</th>\n",
       "      <th>log_perc_pacific</th>\n",
       "      <th>log_perc_public_transport</th>\n",
       "      <th>log_perc_rural</th>\n",
       "      <th>log_pop_density</th>\n",
       "      <th>log_perc_unemploy</th>\n",
       "      <th>log_bach_or_more</th>\n",
       "      <th>log_below_high_school</th>\n",
       "      <th>log_perc_pov</th>\n",
       "      <th>log_perc_snap</th>\n",
       "      <th>log_value</th>\n",
       "    </tr>\n",
       "  </thead>\n",
       "  <tbody>\n",
       "  </tbody>\n",
       "</table>\n",
       "<p>0 rows × 21 columns</p>\n",
       "</div>"
      ],
      "text/plain": [
       "Empty DataFrame\n",
       "Columns: [mrfei, median_income, inequality, college_no_degree, associates_degree, log_SQMI, log_perc_asian, log_perc_black, log_perc_hispanic, log_perc_native, log_perc_no_vehicle, log_perc_pacific, log_perc_public_transport, log_perc_rural, log_pop_density, log_perc_unemploy, log_bach_or_more, log_below_high_school, log_perc_pov, log_perc_snap, log_value]\n",
       "Index: []\n",
       "\n",
       "[0 rows x 21 columns]"
      ]
     },
     "execution_count": 33,
     "metadata": {},
     "output_type": "execute_result"
    }
   ],
   "source": [
    "##confirm that healthful tracts are removed from the dataframe\n",
    "d_vs_s.loc[d_vs_s['mrfei']>9.09]"
   ]
  },
  {
   "cell_type": "code",
   "execution_count": 34,
   "metadata": {},
   "outputs": [
    {
     "name": "stderr",
     "output_type": "stream",
     "text": [
      "/Users/mkbelay/opt/anaconda3/lib/python3.8/site-packages/pandas/core/indexing.py:845: SettingWithCopyWarning: \n",
      "A value is trying to be set on a copy of a slice from a DataFrame.\n",
      "Try using .loc[row_indexer,col_indexer] = value instead\n",
      "\n",
      "See the caveats in the documentation: https://pandas.pydata.org/pandas-docs/stable/user_guide/indexing.html#returning-a-view-versus-a-copy\n",
      "  self.obj[key] = _infer_fill_value(value)\n",
      "/Users/mkbelay/opt/anaconda3/lib/python3.8/site-packages/pandas/core/indexing.py:850: SettingWithCopyWarning: \n",
      "A value is trying to be set on a copy of a slice from a DataFrame\n",
      "\n",
      "See the caveats in the documentation: https://pandas.pydata.org/pandas-docs/stable/user_guide/indexing.html#returning-a-view-versus-a-copy\n",
      "  self._setitem_with_indexer(new_indexer, value)\n",
      "/Users/mkbelay/opt/anaconda3/lib/python3.8/site-packages/pandas/core/indexing.py:671: SettingWithCopyWarning: \n",
      "A value is trying to be set on a copy of a slice from a DataFrame\n",
      "\n",
      "See the caveats in the documentation: https://pandas.pydata.org/pandas-docs/stable/user_guide/indexing.html#returning-a-view-versus-a-copy\n",
      "  self._setitem_with_indexer(indexer, value)\n",
      "<ipython-input-34-d86769aaa532>:3: SettingWithCopyWarning: \n",
      "A value is trying to be set on a copy of a slice from a DataFrame\n",
      "\n",
      "See the caveats in the documentation: https://pandas.pydata.org/pandas-docs/stable/user_guide/indexing.html#returning-a-view-versus-a-copy\n",
      "  d_vs_s.loc[d_vs_s['mrfei']!=0, 'desert']=0\n"
     ]
    },
    {
     "data": {
      "text/plain": [
       "0"
      ]
     },
     "execution_count": 34,
     "metadata": {},
     "output_type": "execute_result"
    }
   ],
   "source": [
    "##create a binary variable differenciating swamps and deserts\n",
    "d_vs_s.loc[d_vs_s['mrfei']==0, 'desert']=1\n",
    "d_vs_s.loc[d_vs_s['mrfei']!=0, 'desert']=0\n",
    "d_vs_s['desert'].isna().sum()"
   ]
  },
  {
   "cell_type": "code",
   "execution_count": 35,
   "metadata": {},
   "outputs": [
    {
     "data": {
      "text/html": [
       "<div>\n",
       "<style scoped>\n",
       "    .dataframe tbody tr th:only-of-type {\n",
       "        vertical-align: middle;\n",
       "    }\n",
       "\n",
       "    .dataframe tbody tr th {\n",
       "        vertical-align: top;\n",
       "    }\n",
       "\n",
       "    .dataframe thead th {\n",
       "        text-align: right;\n",
       "    }\n",
       "</style>\n",
       "<table border=\"1\" class=\"dataframe\">\n",
       "  <thead>\n",
       "    <tr style=\"text-align: right;\">\n",
       "      <th></th>\n",
       "      <th>median_income</th>\n",
       "      <th>inequality</th>\n",
       "      <th>college_no_degree</th>\n",
       "      <th>associates_degree</th>\n",
       "      <th>log_SQMI</th>\n",
       "      <th>log_perc_asian</th>\n",
       "      <th>log_perc_black</th>\n",
       "      <th>log_perc_hispanic</th>\n",
       "      <th>log_perc_native</th>\n",
       "      <th>log_perc_no_vehicle</th>\n",
       "      <th>...</th>\n",
       "      <th>log_perc_public_transport</th>\n",
       "      <th>log_perc_rural</th>\n",
       "      <th>log_pop_density</th>\n",
       "      <th>log_perc_unemploy</th>\n",
       "      <th>log_bach_or_more</th>\n",
       "      <th>log_below_high_school</th>\n",
       "      <th>log_perc_pov</th>\n",
       "      <th>log_perc_snap</th>\n",
       "      <th>log_value</th>\n",
       "      <th>desert</th>\n",
       "    </tr>\n",
       "  </thead>\n",
       "  <tbody>\n",
       "    <tr>\n",
       "      <th>4</th>\n",
       "      <td>68317.0</td>\n",
       "      <td>0.334</td>\n",
       "      <td>22.4</td>\n",
       "      <td>6.7</td>\n",
       "      <td>1.690096</td>\n",
       "      <td>1.004569</td>\n",
       "      <td>2.532252</td>\n",
       "      <td>1.747352</td>\n",
       "      <td>0.183361</td>\n",
       "      <td>1.940319</td>\n",
       "      <td>...</td>\n",
       "      <td>0.000000</td>\n",
       "      <td>0.036480</td>\n",
       "      <td>7.718426</td>\n",
       "      <td>1.547563</td>\n",
       "      <td>3.650658</td>\n",
       "      <td>1.335001</td>\n",
       "      <td>1.939739</td>\n",
       "      <td>1.556525</td>\n",
       "      <td>12.061053</td>\n",
       "      <td>0.0</td>\n",
       "    </tr>\n",
       "    <tr>\n",
       "      <th>8</th>\n",
       "      <td>48500.0</td>\n",
       "      <td>0.380</td>\n",
       "      <td>21.2</td>\n",
       "      <td>6.0</td>\n",
       "      <td>4.738214</td>\n",
       "      <td>0.424680</td>\n",
       "      <td>2.478944</td>\n",
       "      <td>0.526682</td>\n",
       "      <td>0.424680</td>\n",
       "      <td>1.359836</td>\n",
       "      <td>...</td>\n",
       "      <td>0.000000</td>\n",
       "      <td>4.615121</td>\n",
       "      <td>3.900070</td>\n",
       "      <td>2.302585</td>\n",
       "      <td>2.624669</td>\n",
       "      <td>2.721295</td>\n",
       "      <td>2.389400</td>\n",
       "      <td>2.729332</td>\n",
       "      <td>11.589896</td>\n",
       "      <td>1.0</td>\n",
       "    </tr>\n",
       "    <tr>\n",
       "      <th>10</th>\n",
       "      <td>40078.0</td>\n",
       "      <td>0.426</td>\n",
       "      <td>13.5</td>\n",
       "      <td>8.7</td>\n",
       "      <td>5.252692</td>\n",
       "      <td>0.415722</td>\n",
       "      <td>4.070917</td>\n",
       "      <td>0.780487</td>\n",
       "      <td>0.000000</td>\n",
       "      <td>2.429680</td>\n",
       "      <td>...</td>\n",
       "      <td>0.786553</td>\n",
       "      <td>4.615121</td>\n",
       "      <td>2.909662</td>\n",
       "      <td>2.985682</td>\n",
       "      <td>2.341806</td>\n",
       "      <td>3.100092</td>\n",
       "      <td>2.945013</td>\n",
       "      <td>2.644495</td>\n",
       "      <td>11.211834</td>\n",
       "      <td>1.0</td>\n",
       "    </tr>\n",
       "    <tr>\n",
       "      <th>11</th>\n",
       "      <td>39099.0</td>\n",
       "      <td>0.378</td>\n",
       "      <td>16.6</td>\n",
       "      <td>8.5</td>\n",
       "      <td>5.967658</td>\n",
       "      <td>0.000000</td>\n",
       "      <td>2.894239</td>\n",
       "      <td>0.000000</td>\n",
       "      <td>0.934791</td>\n",
       "      <td>0.570241</td>\n",
       "      <td>...</td>\n",
       "      <td>0.000000</td>\n",
       "      <td>4.615121</td>\n",
       "      <td>2.315259</td>\n",
       "      <td>1.547563</td>\n",
       "      <td>2.406945</td>\n",
       "      <td>2.862201</td>\n",
       "      <td>1.423013</td>\n",
       "      <td>2.297049</td>\n",
       "      <td>11.468984</td>\n",
       "      <td>1.0</td>\n",
       "    </tr>\n",
       "    <tr>\n",
       "      <th>12</th>\n",
       "      <td>42406.0</td>\n",
       "      <td>0.331</td>\n",
       "      <td>24.3</td>\n",
       "      <td>9.2</td>\n",
       "      <td>4.461184</td>\n",
       "      <td>0.000000</td>\n",
       "      <td>2.222593</td>\n",
       "      <td>0.651719</td>\n",
       "      <td>1.108264</td>\n",
       "      <td>1.610183</td>\n",
       "      <td>...</td>\n",
       "      <td>0.000000</td>\n",
       "      <td>4.553195</td>\n",
       "      <td>3.450546</td>\n",
       "      <td>1.774952</td>\n",
       "      <td>2.174752</td>\n",
       "      <td>2.862201</td>\n",
       "      <td>1.840153</td>\n",
       "      <td>2.122942</td>\n",
       "      <td>11.544434</td>\n",
       "      <td>1.0</td>\n",
       "    </tr>\n",
       "    <tr>\n",
       "      <th>...</th>\n",
       "      <td>...</td>\n",
       "      <td>...</td>\n",
       "      <td>...</td>\n",
       "      <td>...</td>\n",
       "      <td>...</td>\n",
       "      <td>...</td>\n",
       "      <td>...</td>\n",
       "      <td>...</td>\n",
       "      <td>...</td>\n",
       "      <td>...</td>\n",
       "      <td>...</td>\n",
       "      <td>...</td>\n",
       "      <td>...</td>\n",
       "      <td>...</td>\n",
       "      <td>...</td>\n",
       "      <td>...</td>\n",
       "      <td>...</td>\n",
       "      <td>...</td>\n",
       "      <td>...</td>\n",
       "      <td>...</td>\n",
       "      <td>...</td>\n",
       "    </tr>\n",
       "    <tr>\n",
       "      <th>65326</th>\n",
       "      <td>53644.0</td>\n",
       "      <td>0.356</td>\n",
       "      <td>28.1</td>\n",
       "      <td>7.2</td>\n",
       "      <td>3.991389</td>\n",
       "      <td>0.299710</td>\n",
       "      <td>0.550362</td>\n",
       "      <td>3.006706</td>\n",
       "      <td>0.498660</td>\n",
       "      <td>1.244050</td>\n",
       "      <td>...</td>\n",
       "      <td>0.483513</td>\n",
       "      <td>2.655601</td>\n",
       "      <td>4.688747</td>\n",
       "      <td>2.230014</td>\n",
       "      <td>2.197225</td>\n",
       "      <td>2.282382</td>\n",
       "      <td>2.618619</td>\n",
       "      <td>1.311719</td>\n",
       "      <td>11.248973</td>\n",
       "      <td>1.0</td>\n",
       "    </tr>\n",
       "    <tr>\n",
       "      <th>65331</th>\n",
       "      <td>65335.0</td>\n",
       "      <td>0.375</td>\n",
       "      <td>33.6</td>\n",
       "      <td>5.7</td>\n",
       "      <td>1.726332</td>\n",
       "      <td>0.607596</td>\n",
       "      <td>0.456651</td>\n",
       "      <td>2.574304</td>\n",
       "      <td>0.176409</td>\n",
       "      <td>2.209767</td>\n",
       "      <td>...</td>\n",
       "      <td>1.970710</td>\n",
       "      <td>0.113727</td>\n",
       "      <td>6.513468</td>\n",
       "      <td>1.974081</td>\n",
       "      <td>2.653242</td>\n",
       "      <td>2.014903</td>\n",
       "      <td>1.884865</td>\n",
       "      <td>1.309556</td>\n",
       "      <td>11.944714</td>\n",
       "      <td>1.0</td>\n",
       "    </tr>\n",
       "    <tr>\n",
       "      <th>65332</th>\n",
       "      <td>84583.0</td>\n",
       "      <td>0.362</td>\n",
       "      <td>24.8</td>\n",
       "      <td>10.6</td>\n",
       "      <td>2.672768</td>\n",
       "      <td>1.145918</td>\n",
       "      <td>0.000000</td>\n",
       "      <td>2.513614</td>\n",
       "      <td>0.000000</td>\n",
       "      <td>0.844262</td>\n",
       "      <td>...</td>\n",
       "      <td>1.735278</td>\n",
       "      <td>0.000000</td>\n",
       "      <td>5.372458</td>\n",
       "      <td>1.280934</td>\n",
       "      <td>3.391147</td>\n",
       "      <td>1.589235</td>\n",
       "      <td>1.928961</td>\n",
       "      <td>0.633489</td>\n",
       "      <td>12.272333</td>\n",
       "      <td>1.0</td>\n",
       "    </tr>\n",
       "    <tr>\n",
       "      <th>65333</th>\n",
       "      <td>73044.0</td>\n",
       "      <td>0.432</td>\n",
       "      <td>31.4</td>\n",
       "      <td>6.7</td>\n",
       "      <td>9.013008</td>\n",
       "      <td>0.060042</td>\n",
       "      <td>0.000000</td>\n",
       "      <td>2.215754</td>\n",
       "      <td>0.116682</td>\n",
       "      <td>0.000000</td>\n",
       "      <td>...</td>\n",
       "      <td>0.000000</td>\n",
       "      <td>4.615121</td>\n",
       "      <td>0.179715</td>\n",
       "      <td>1.840550</td>\n",
       "      <td>2.815409</td>\n",
       "      <td>2.116256</td>\n",
       "      <td>1.955062</td>\n",
       "      <td>0.640200</td>\n",
       "      <td>11.254168</td>\n",
       "      <td>1.0</td>\n",
       "    </tr>\n",
       "    <tr>\n",
       "      <th>65340</th>\n",
       "      <td>53686.0</td>\n",
       "      <td>0.502</td>\n",
       "      <td>21.1</td>\n",
       "      <td>7.0</td>\n",
       "      <td>7.712752</td>\n",
       "      <td>0.490365</td>\n",
       "      <td>0.308707</td>\n",
       "      <td>2.367858</td>\n",
       "      <td>0.894722</td>\n",
       "      <td>0.841155</td>\n",
       "      <td>...</td>\n",
       "      <td>0.313587</td>\n",
       "      <td>4.443061</td>\n",
       "      <td>0.909913</td>\n",
       "      <td>1.704748</td>\n",
       "      <td>3.421000</td>\n",
       "      <td>2.174752</td>\n",
       "      <td>1.228137</td>\n",
       "      <td>2.059563</td>\n",
       "      <td>12.100718</td>\n",
       "      <td>1.0</td>\n",
       "    </tr>\n",
       "  </tbody>\n",
       "</table>\n",
       "<p>23721 rows × 21 columns</p>\n",
       "</div>"
      ],
      "text/plain": [
       "       median_income  inequality  college_no_degree  associates_degree  \\\n",
       "4            68317.0       0.334               22.4                6.7   \n",
       "8            48500.0       0.380               21.2                6.0   \n",
       "10           40078.0       0.426               13.5                8.7   \n",
       "11           39099.0       0.378               16.6                8.5   \n",
       "12           42406.0       0.331               24.3                9.2   \n",
       "...              ...         ...                ...                ...   \n",
       "65326        53644.0       0.356               28.1                7.2   \n",
       "65331        65335.0       0.375               33.6                5.7   \n",
       "65332        84583.0       0.362               24.8               10.6   \n",
       "65333        73044.0       0.432               31.4                6.7   \n",
       "65340        53686.0       0.502               21.1                7.0   \n",
       "\n",
       "       log_SQMI  log_perc_asian  log_perc_black  log_perc_hispanic  \\\n",
       "4      1.690096        1.004569        2.532252           1.747352   \n",
       "8      4.738214        0.424680        2.478944           0.526682   \n",
       "10     5.252692        0.415722        4.070917           0.780487   \n",
       "11     5.967658        0.000000        2.894239           0.000000   \n",
       "12     4.461184        0.000000        2.222593           0.651719   \n",
       "...         ...             ...             ...                ...   \n",
       "65326  3.991389        0.299710        0.550362           3.006706   \n",
       "65331  1.726332        0.607596        0.456651           2.574304   \n",
       "65332  2.672768        1.145918        0.000000           2.513614   \n",
       "65333  9.013008        0.060042        0.000000           2.215754   \n",
       "65340  7.712752        0.490365        0.308707           2.367858   \n",
       "\n",
       "       log_perc_native  log_perc_no_vehicle  ...  log_perc_public_transport  \\\n",
       "4             0.183361             1.940319  ...                   0.000000   \n",
       "8             0.424680             1.359836  ...                   0.000000   \n",
       "10            0.000000             2.429680  ...                   0.786553   \n",
       "11            0.934791             0.570241  ...                   0.000000   \n",
       "12            1.108264             1.610183  ...                   0.000000   \n",
       "...                ...                  ...  ...                        ...   \n",
       "65326         0.498660             1.244050  ...                   0.483513   \n",
       "65331         0.176409             2.209767  ...                   1.970710   \n",
       "65332         0.000000             0.844262  ...                   1.735278   \n",
       "65333         0.116682             0.000000  ...                   0.000000   \n",
       "65340         0.894722             0.841155  ...                   0.313587   \n",
       "\n",
       "       log_perc_rural  log_pop_density  log_perc_unemploy  log_bach_or_more  \\\n",
       "4            0.036480         7.718426           1.547563          3.650658   \n",
       "8            4.615121         3.900070           2.302585          2.624669   \n",
       "10           4.615121         2.909662           2.985682          2.341806   \n",
       "11           4.615121         2.315259           1.547563          2.406945   \n",
       "12           4.553195         3.450546           1.774952          2.174752   \n",
       "...               ...              ...                ...               ...   \n",
       "65326        2.655601         4.688747           2.230014          2.197225   \n",
       "65331        0.113727         6.513468           1.974081          2.653242   \n",
       "65332        0.000000         5.372458           1.280934          3.391147   \n",
       "65333        4.615121         0.179715           1.840550          2.815409   \n",
       "65340        4.443061         0.909913           1.704748          3.421000   \n",
       "\n",
       "       log_below_high_school  log_perc_pov  log_perc_snap  log_value  desert  \n",
       "4                   1.335001      1.939739       1.556525  12.061053     0.0  \n",
       "8                   2.721295      2.389400       2.729332  11.589896     1.0  \n",
       "10                  3.100092      2.945013       2.644495  11.211834     1.0  \n",
       "11                  2.862201      1.423013       2.297049  11.468984     1.0  \n",
       "12                  2.862201      1.840153       2.122942  11.544434     1.0  \n",
       "...                      ...           ...            ...        ...     ...  \n",
       "65326               2.282382      2.618619       1.311719  11.248973     1.0  \n",
       "65331               2.014903      1.884865       1.309556  11.944714     1.0  \n",
       "65332               1.589235      1.928961       0.633489  12.272333     1.0  \n",
       "65333               2.116256      1.955062       0.640200  11.254168     1.0  \n",
       "65340               2.174752      1.228137       2.059563  12.100718     1.0  \n",
       "\n",
       "[23721 rows x 21 columns]"
      ]
     },
     "execution_count": 35,
     "metadata": {},
     "output_type": "execute_result"
    }
   ],
   "source": [
    "## drop continious mrfei variable\n",
    "d_vs_s=d_vs_s.drop(columns=['mrfei'])\n",
    "d_vs_s"
   ]
  },
  {
   "cell_type": "code",
   "execution_count": 36,
   "metadata": {},
   "outputs": [
    {
     "name": "stderr",
     "output_type": "stream",
     "text": [
      "/Users/mkbelay/opt/anaconda3/lib/python3.8/site-packages/plotnine/stats/stat_bin.py:93: PlotnineWarning: 'stat_bin()' using 'bins = 15'. Pick better value with 'binwidth'.\n",
      "  warn(msg.format(params['bins']), PlotnineWarning)\n"
     ]
    },
    {
     "data": {
      "image/png": "[encoded data removed]",
      "text/plain": [
       "<Figure size 640x480 with 1 Axes>"
      ]
     },
     "metadata": {},
     "output_type": "display_data"
    },
    {
     "data": {
      "text/plain": [
       "<ggplot: (8787459432099)>"
      ]
     },
     "execution_count": 36,
     "metadata": {},
     "output_type": "execute_result"
    }
   ],
   "source": [
    "## check distribution of outcome\n",
    "(ggplot(d_vs_s, aes(x='desert'))+geom_histogram())"
   ]
  },
  {
   "cell_type": "markdown",
   "metadata": {},
   "source": [
    "Unlike the previous outcomes, desert and swamps are balanced."
   ]
  },
  {
   "cell_type": "code",
   "execution_count": 37,
   "metadata": {},
   "outputs": [
    {
     "data": {
      "text/plain": [
       "0.0    12114\n",
       "1.0    11607\n",
       "Name: desert, dtype: int64"
      ]
     },
     "execution_count": 37,
     "metadata": {},
     "output_type": "execute_result"
    }
   ],
   "source": [
    "## total number of observations\n",
    "### number of observations classified as deserts\n",
    "#d_vs_h.filter(['state', 'NAME']).loc[d_vs_h['desert']==1].count()\n",
    "d_vs_s['desert'].value_counts()"
   ]
  },
  {
   "cell_type": "markdown",
   "metadata": {},
   "source": [
    "Approximately 48% (i.e, 11607/23721) of the census tracts are deserts. Oversampling techniques don't need to be used for this outcome"
   ]
  },
  {
   "cell_type": "markdown",
   "metadata": {},
   "source": [
    "## Modeling "
   ]
  },
  {
   "cell_type": "code",
   "execution_count": 38,
   "metadata": {},
   "outputs": [],
   "source": [
    "## import sckit-learn packages\n",
    "## split and preprocessing\n",
    "from sklearn.model_selection import train_test_split\n",
    "from sklearn.preprocessing import StandardScaler\n",
    "\n",
    "##Modeling\n",
    "from sklearn.model_selection import cross_val_score, validation_curve, learning_curve, train_test_split\n",
    "from sklearn.tree import DecisionTreeClassifier\n",
    "from sklearn.ensemble import RandomForestClassifier\n",
    "from sklearn.linear_model import LinearRegression, LogisticRegression,Lasso\n",
    "from sklearn.metrics import mean_squared_error, confusion_matrix\n",
    "\n",
    "from imblearn.over_sampling import ADASYN\n",
    "from imblearn.under_sampling import EditedNearestNeighbours\n",
    "from sklearn.metrics import recall_score, f1_score\n",
    "\n",
    "from sklearn.metrics import roc_curve, precision_recall_curve, auc, log_loss"
   ]
  },
  {
   "cell_type": "markdown",
   "metadata": {},
   "source": [
    "**`Outcome 1: Desert vs. Healthful`**"
   ]
  },
  {
   "cell_type": "code",
   "execution_count": 39,
   "metadata": {},
   "outputs": [
    {
     "data": {
      "text/plain": [
       "(37447, 20)"
      ]
     },
     "execution_count": 39,
     "metadata": {},
     "output_type": "execute_result"
    }
   ],
   "source": [
    "## separate outcome from features\n",
    "y=d_vs_h['desert']\n",
    "X=d_vs_h.drop(columns=['desert'])\n",
    "X.shape"
   ]
  },
  {
   "cell_type": "code",
   "execution_count": 40,
   "metadata": {},
   "outputs": [
    {
     "data": {
      "text/html": [
       "<div>\n",
       "<style scoped>\n",
       "    .dataframe tbody tr th:only-of-type {\n",
       "        vertical-align: middle;\n",
       "    }\n",
       "\n",
       "    .dataframe tbody tr th {\n",
       "        vertical-align: top;\n",
       "    }\n",
       "\n",
       "    .dataframe thead th {\n",
       "        text-align: right;\n",
       "    }\n",
       "</style>\n",
       "<table border=\"1\" class=\"dataframe\">\n",
       "  <thead>\n",
       "    <tr style=\"text-align: right;\">\n",
       "      <th></th>\n",
       "      <th>median_income</th>\n",
       "      <th>inequality</th>\n",
       "      <th>college_no_degree</th>\n",
       "      <th>associates_degree</th>\n",
       "      <th>log_SQMI</th>\n",
       "      <th>log_perc_asian</th>\n",
       "      <th>log_perc_black</th>\n",
       "      <th>log_perc_hispanic</th>\n",
       "      <th>log_perc_native</th>\n",
       "      <th>log_perc_no_vehicle</th>\n",
       "      <th>log_perc_pacific</th>\n",
       "      <th>log_perc_public_transport</th>\n",
       "      <th>log_perc_rural</th>\n",
       "      <th>log_pop_density</th>\n",
       "      <th>log_perc_unemploy</th>\n",
       "      <th>log_bach_or_more</th>\n",
       "      <th>log_below_high_school</th>\n",
       "      <th>log_perc_pov</th>\n",
       "      <th>log_perc_snap</th>\n",
       "      <th>log_value</th>\n",
       "    </tr>\n",
       "  </thead>\n",
       "  <tbody>\n",
       "    <tr>\n",
       "      <th>0</th>\n",
       "      <td>0.529824</td>\n",
       "      <td>1.723919</td>\n",
       "      <td>-0.460125</td>\n",
       "      <td>-0.439453</td>\n",
       "      <td>-0.197562</td>\n",
       "      <td>-0.961103</td>\n",
       "      <td>0.910744</td>\n",
       "      <td>-1.021402</td>\n",
       "      <td>-0.519756</td>\n",
       "      <td>0.292217</td>\n",
       "      <td>-0.238775</td>\n",
       "      <td>0.737505</td>\n",
       "      <td>0.734790</td>\n",
       "      <td>-0.345191</td>\n",
       "      <td>-0.966555</td>\n",
       "      <td>0.266485</td>\n",
       "      <td>0.483545</td>\n",
       "      <td>0.001161</td>\n",
       "      <td>-0.223380</td>\n",
       "      <td>-0.538513</td>\n",
       "    </tr>\n",
       "    <tr>\n",
       "      <th>1</th>\n",
       "      <td>-0.549068</td>\n",
       "      <td>-0.376655</td>\n",
       "      <td>-0.542228</td>\n",
       "      <td>-1.265031</td>\n",
       "      <td>-0.627290</td>\n",
       "      <td>0.162290</td>\n",
       "      <td>1.817816</td>\n",
       "      <td>-1.304535</td>\n",
       "      <td>-0.519756</td>\n",
       "      <td>1.110908</td>\n",
       "      <td>-0.238775</td>\n",
       "      <td>-0.906058</td>\n",
       "      <td>-0.752209</td>\n",
       "      <td>0.215664</td>\n",
       "      <td>0.174657</td>\n",
       "      <td>0.335351</td>\n",
       "      <td>0.957642</td>\n",
       "      <td>0.403300</td>\n",
       "      <td>0.206779</td>\n",
       "      <td>-0.350010</td>\n",
       "    </tr>\n",
       "  </tbody>\n",
       "</table>\n",
       "</div>"
      ],
      "text/plain": [
       "   median_income  inequality  college_no_degree  associates_degree  log_SQMI  \\\n",
       "0       0.529824    1.723919          -0.460125          -0.439453 -0.197562   \n",
       "1      -0.549068   -0.376655          -0.542228          -1.265031 -0.627290   \n",
       "\n",
       "   log_perc_asian  log_perc_black  log_perc_hispanic  log_perc_native  \\\n",
       "0       -0.961103        0.910744          -1.021402        -0.519756   \n",
       "1        0.162290        1.817816          -1.304535        -0.519756   \n",
       "\n",
       "   log_perc_no_vehicle  log_perc_pacific  log_perc_public_transport  \\\n",
       "0             0.292217         -0.238775                   0.737505   \n",
       "1             1.110908         -0.238775                  -0.906058   \n",
       "\n",
       "   log_perc_rural  log_pop_density  log_perc_unemploy  log_bach_or_more  \\\n",
       "0        0.734790        -0.345191          -0.966555          0.266485   \n",
       "1       -0.752209         0.215664           0.174657          0.335351   \n",
       "\n",
       "   log_below_high_school  log_perc_pov  log_perc_snap  log_value  \n",
       "0               0.483545      0.001161      -0.223380  -0.538513  \n",
       "1               0.957642      0.403300       0.206779  -0.350010  "
      ]
     },
     "execution_count": 40,
     "metadata": {},
     "output_type": "execute_result"
    }
   ],
   "source": [
    "# standardize features to eliminate issues of scaling\n",
    "scaler = StandardScaler()\n",
    "Xsc = pd.DataFrame(scaler.fit_transform(X), columns = X.columns)\n",
    "Xsc.head(2)"
   ]
  },
  {
   "cell_type": "code",
   "execution_count": 41,
   "metadata": {},
   "outputs": [],
   "source": [
    "## split data; test size is 30% [this was selected to follow what Amin et. al did]\n",
    "Xtrain, Xtest, ytrain, ytest = train_test_split(Xsc, y, test_size=0.3, random_state=10)"
   ]
  },
  {
   "cell_type": "markdown",
   "metadata": {},
   "source": [
    "**`Logistic Regression`**"
   ]
  },
  {
   "cell_type": "code",
   "execution_count": 42,
   "metadata": {},
   "outputs": [
    {
     "name": "stdout",
     "output_type": "stream",
     "text": [
      "Resampled dataset after ADASYN 1.0    19037\n",
      "0.0    18062\n",
      "Name: desert, dtype: int64\n"
     ]
    }
   ],
   "source": [
    "## oversample minority class (i.e, desert)\n",
    "ada=ADASYN(random_state=420)\n",
    "X_ada, y_ada = ada.fit_resample(Xtrain, ytrain)\n",
    "print('Resampled dataset after ADASYN %s' % y_ada.value_counts())"
   ]
  },
  {
   "cell_type": "code",
   "execution_count": 43,
   "metadata": {},
   "outputs": [
    {
     "data": {
      "text/plain": [
       "LogisticRegression()"
      ]
     },
     "execution_count": 43,
     "metadata": {},
     "output_type": "execute_result"
    }
   ],
   "source": [
    "## fit logistic model on resampled set\n",
    "ada_logit = LogisticRegression()\n",
    "ada_logit.fit(X_ada, y_ada)"
   ]
  },
  {
   "cell_type": "code",
   "execution_count": 44,
   "metadata": {
    "scrolled": true
   },
   "outputs": [
    {
     "name": "stdout",
     "output_type": "stream",
     "text": [
      "Accuracy: 0.5838006230529595\n",
      "Recall: 0.6829621058721435\n"
     ]
    },
    {
     "data": {
      "text/plain": [
       "array([[4198, 3580],\n",
       "       [1096, 2361]])"
      ]
     },
     "execution_count": 44,
     "metadata": {},
     "output_type": "execute_result"
    }
   ],
   "source": [
    "# examine classification errors on test set\n",
    "print('Accuracy:', ada_logit.score(Xtest, ytest))\n",
    "print('Recall:', recall_score (ytest, ada_logit.predict(Xtest)))\n",
    "confusion_matrix(ytest, ada_logit.predict(Xtest))"
   ]
  },
  {
   "cell_type": "markdown",
   "metadata": {},
   "source": [
    "The overall accuracy of the logistic regression model is about 0.58. This is just barely better than a coin flip, indicating there is high bias in the data. Conversely, the sensitivity/recall is about 0.68 (i.e., out of all deserts, the model correctly classified approximately 68% as deserts; the remaining 32% were misclassified as healthful tracts). The accuracy is quite low; it wasn't exceptionally good in the previous iteratio either. There is a substantial amount of bias in the data. Next we will see how a LASSO logistic regression will perform in the oversampled data sets. The bias should become worse [given that coefficients are being shrunk to zero], but we will at least be able to compare the coefficient estimates from the two models for inference purposes."
   ]
  },
  {
   "cell_type": "markdown",
   "metadata": {},
   "source": [
    "`LASSO oversampling`"
   ]
  },
  {
   "cell_type": "code",
   "execution_count": 45,
   "metadata": {},
   "outputs": [
    {
     "data": {
      "text/plain": [
       "LogisticRegression(penalty='l1', random_state=10, solver='liblinear')"
      ]
     },
     "execution_count": 45,
     "metadata": {},
     "output_type": "execute_result"
    }
   ],
   "source": [
    "##fit lasso logistic regression using resampled dataset\n",
    "ada_lasso = LogisticRegression(penalty= 'l1', solver= 'liblinear',random_state=10)\n",
    "ada_lasso.fit(X_ada, y_ada)"
   ]
  },
  {
   "cell_type": "code",
   "execution_count": 46,
   "metadata": {},
   "outputs": [
    {
     "data": {
      "text/plain": [
       "array([0.001, 0.006, 0.011, 0.016, 0.021, 0.026])"
      ]
     },
     "execution_count": 46,
     "metadata": {},
     "output_type": "execute_result"
    }
   ],
   "source": [
    "## specify range for alpha/C\n",
    "C=np.arange(0.001,0.03,0.005)\n",
    "C"
   ]
  },
  {
   "cell_type": "markdown",
   "metadata": {},
   "source": [
    "#### Validation Curve: hyper parameter turning for strength of regularization penalty"
   ]
  },
  {
   "cell_type": "code",
   "execution_count": 47,
   "metadata": {},
   "outputs": [
    {
     "data": {
      "text/plain": [
       "array([[0.57186499, 0.57045734, 0.57171524, 0.57213454, 0.57447063,\n",
       "        0.57509958, 0.57548893, 0.57599808, 0.57530923, 0.57637017],\n",
       "       [0.58968523, 0.59073348, 0.59112282, 0.59079338, 0.59474677,\n",
       "        0.59498637, 0.59501632, 0.59621432, 0.59645392, 0.59475891],\n",
       "       [0.59573512, 0.59663362, 0.59747222, 0.59657372, 0.60070682,\n",
       "        0.60154542, 0.60040732, 0.60175507, 0.60142562, 0.60110812],\n",
       "       [0.59777172, 0.59884992, 0.59893977, 0.59893977, 0.60268352,\n",
       "        0.60286322, 0.60190482, 0.60310282, 0.60271347, 0.60320455],\n",
       "       [0.59887987, 0.59914942, 0.60001797, 0.59914942, 0.60316272,\n",
       "        0.60364192, 0.60238402, 0.60457037, 0.60277337, 0.6033543 ],\n",
       "       [0.59974842, 0.59986822, 0.60028752, 0.59968852, 0.60292312,\n",
       "        0.60385157, 0.60316272, 0.60475007, 0.60298302, 0.60395328]])"
      ]
     },
     "execution_count": 47,
     "metadata": {},
     "output_type": "execute_result"
    }
   ],
   "source": [
    "## generate training and test scores using cv 10 fold\n",
    "train_scores, test_scores = validation_curve(ada_lasso, X_ada, y_ada, param_name='C',\n",
    "                                            param_range=C, cv=10)\n",
    "train_scores\n"
   ]
  },
  {
   "cell_type": "code",
   "execution_count": 48,
   "metadata": {},
   "outputs": [
    {
     "data": {
      "text/plain": [
       "array([0.57386951, 0.59222582, 0.59820977, 0.59977318, 0.60079743,\n",
       "       0.60079738])"
      ]
     },
     "execution_count": 48,
     "metadata": {},
     "output_type": "execute_result"
    }
   ],
   "source": [
    "## compute mean train and test scores\n",
    "train_mean = np.mean(train_scores, axis=1)\n",
    "test_mean = np.mean(test_scores, axis=1)\n",
    "test_mean"
   ]
  },
  {
   "cell_type": "code",
   "execution_count": 49,
   "metadata": {},
   "outputs": [
    {
     "data": {
      "image/png": "[encoded data removed]",
      "text/plain": [
       "<Figure size 432x288 with 1 Axes>"
      ]
     },
     "metadata": {
      "needs_background": "light"
     },
     "output_type": "display_data"
    }
   ],
   "source": [
    "## plot curve\n",
    "fig1 = plt.figure()\n",
    "plt.plot(C, train_mean, label='Train')\n",
    "plt.plot(C, test_mean, label='Test')\n",
    "plt.xlabel('C parameter')\n",
    "plt.ylabel('Score')\n",
    "plt.title('LASSO Validation Curve \\n Desert vs. Healthful')\n",
    "plt.xticks(C)\n",
    "plt.legend()\n",
    "plt.savefig('output/images/valid_curve_lasso_desert_healthful.png')"
   ]
  },
  {
   "cell_type": "markdown",
   "metadata": {},
   "source": [
    "Let's pick 0.021 as this is the point where the train and test are close to each other and the test score is the highest. After this point, the test score seems like it remains fairly constant."
   ]
  },
  {
   "cell_type": "code",
   "execution_count": 50,
   "metadata": {},
   "outputs": [
    {
     "data": {
      "text/plain": [
       "LogisticRegression(C=0.021, penalty='l1', random_state=10, solver='liblinear')"
      ]
     },
     "execution_count": 50,
     "metadata": {},
     "output_type": "execute_result"
    }
   ],
   "source": [
    "## fit logistic model on resampled set\n",
    "ada_lasso = LogisticRegression(C=0.021, penalty= 'l1', solver= 'liblinear',random_state=10)\n",
    "ada_lasso.fit(X_ada, y_ada)"
   ]
  },
  {
   "cell_type": "code",
   "execution_count": 51,
   "metadata": {
    "scrolled": true
   },
   "outputs": [
    {
     "name": "stdout",
     "output_type": "stream",
     "text": [
      "Accuracy: 0.585491766800178\n",
      "Recall:  0.6789123517500724\n"
     ]
    },
    {
     "data": {
      "text/plain": [
       "array([[4231, 3547],\n",
       "       [1110, 2347]])"
      ]
     },
     "execution_count": 51,
     "metadata": {},
     "output_type": "execute_result"
    }
   ],
   "source": [
    "# examine classification errors\n",
    "print('Accuracy:', ada_lasso.score(Xtest, ytest))\n",
    "print('Recall: ', recall_score(ytest, ada_lasso.predict(Xtest)))\n",
    "confusion_matrix(ytest, ada_lasso.predict(Xtest))"
   ]
  },
  {
   "cell_type": "markdown",
   "metadata": {},
   "source": [
    "The overall accuracy of the lasso is about the same as the logistic regression aat about 0.58. Again, there is clearly high bias in the data. The sensitivity/recall is slightly less than the logistic regresssion--recall that log. regression has a recall of 0.68 while lasso has 0.67. It seems like shrinking coefficients to zero didn't actually have an impact on the overall accuracy of the lasso. \n",
    "\n",
    "Let's compare the coefficient estimates from these two models."
   ]
  },
  {
   "cell_type": "code",
   "execution_count": 52,
   "metadata": {},
   "outputs": [
    {
     "data": {
      "text/html": [
       "<div>\n",
       "<style scoped>\n",
       "    .dataframe tbody tr th:only-of-type {\n",
       "        vertical-align: middle;\n",
       "    }\n",
       "\n",
       "    .dataframe tbody tr th {\n",
       "        vertical-align: top;\n",
       "    }\n",
       "\n",
       "    .dataframe thead th {\n",
       "        text-align: right;\n",
       "    }\n",
       "</style>\n",
       "<table border=\"1\" class=\"dataframe\">\n",
       "  <thead>\n",
       "    <tr style=\"text-align: right;\">\n",
       "      <th></th>\n",
       "      <th>Variable</th>\n",
       "      <th>Logit Coef</th>\n",
       "      <th>Lasso Coef</th>\n",
       "    </tr>\n",
       "  </thead>\n",
       "  <tbody>\n",
       "    <tr>\n",
       "      <th>0</th>\n",
       "      <td>median_income</td>\n",
       "      <td>0.246257</td>\n",
       "      <td>0.209327</td>\n",
       "    </tr>\n",
       "    <tr>\n",
       "      <th>1</th>\n",
       "      <td>inequality</td>\n",
       "      <td>-0.038200</td>\n",
       "      <td>-0.032318</td>\n",
       "    </tr>\n",
       "    <tr>\n",
       "      <th>2</th>\n",
       "      <td>college_no_degree</td>\n",
       "      <td>0.039135</td>\n",
       "      <td>0.030285</td>\n",
       "    </tr>\n",
       "    <tr>\n",
       "      <th>3</th>\n",
       "      <td>associates_degree</td>\n",
       "      <td>0.031149</td>\n",
       "      <td>0.022059</td>\n",
       "    </tr>\n",
       "    <tr>\n",
       "      <th>4</th>\n",
       "      <td>log_SQMI</td>\n",
       "      <td>-0.995184</td>\n",
       "      <td>-0.719493</td>\n",
       "    </tr>\n",
       "    <tr>\n",
       "      <th>5</th>\n",
       "      <td>log_perc_asian</td>\n",
       "      <td>-0.088051</td>\n",
       "      <td>-0.089394</td>\n",
       "    </tr>\n",
       "    <tr>\n",
       "      <th>6</th>\n",
       "      <td>log_perc_black</td>\n",
       "      <td>0.124046</td>\n",
       "      <td>0.122393</td>\n",
       "    </tr>\n",
       "    <tr>\n",
       "      <th>7</th>\n",
       "      <td>log_perc_hispanic</td>\n",
       "      <td>-0.065865</td>\n",
       "      <td>-0.072861</td>\n",
       "    </tr>\n",
       "    <tr>\n",
       "      <th>8</th>\n",
       "      <td>log_perc_native</td>\n",
       "      <td>-0.000162</td>\n",
       "      <td>0.000000</td>\n",
       "    </tr>\n",
       "    <tr>\n",
       "      <th>9</th>\n",
       "      <td>log_perc_no_vehicle</td>\n",
       "      <td>-0.169864</td>\n",
       "      <td>-0.160560</td>\n",
       "    </tr>\n",
       "    <tr>\n",
       "      <th>10</th>\n",
       "      <td>log_perc_pacific</td>\n",
       "      <td>0.013956</td>\n",
       "      <td>0.006521</td>\n",
       "    </tr>\n",
       "    <tr>\n",
       "      <th>11</th>\n",
       "      <td>log_perc_public_transport</td>\n",
       "      <td>0.225225</td>\n",
       "      <td>0.189957</td>\n",
       "    </tr>\n",
       "    <tr>\n",
       "      <th>12</th>\n",
       "      <td>log_perc_rural</td>\n",
       "      <td>0.249039</td>\n",
       "      <td>0.202928</td>\n",
       "    </tr>\n",
       "    <tr>\n",
       "      <th>13</th>\n",
       "      <td>log_pop_density</td>\n",
       "      <td>-1.097295</td>\n",
       "      <td>-0.841472</td>\n",
       "    </tr>\n",
       "    <tr>\n",
       "      <th>14</th>\n",
       "      <td>log_perc_unemploy</td>\n",
       "      <td>0.091427</td>\n",
       "      <td>0.089930</td>\n",
       "    </tr>\n",
       "    <tr>\n",
       "      <th>15</th>\n",
       "      <td>log_bach_or_more</td>\n",
       "      <td>0.004622</td>\n",
       "      <td>-0.000328</td>\n",
       "    </tr>\n",
       "    <tr>\n",
       "      <th>16</th>\n",
       "      <td>log_below_high_school</td>\n",
       "      <td>0.033635</td>\n",
       "      <td>0.017088</td>\n",
       "    </tr>\n",
       "    <tr>\n",
       "      <th>17</th>\n",
       "      <td>log_perc_pov</td>\n",
       "      <td>0.010398</td>\n",
       "      <td>0.000000</td>\n",
       "    </tr>\n",
       "    <tr>\n",
       "      <th>18</th>\n",
       "      <td>log_perc_snap</td>\n",
       "      <td>0.018221</td>\n",
       "      <td>0.003313</td>\n",
       "    </tr>\n",
       "    <tr>\n",
       "      <th>19</th>\n",
       "      <td>log_value</td>\n",
       "      <td>-0.326890</td>\n",
       "      <td>-0.315999</td>\n",
       "    </tr>\n",
       "  </tbody>\n",
       "</table>\n",
       "</div>"
      ],
      "text/plain": [
       "                     Variable  Logit Coef  Lasso Coef\n",
       "0               median_income    0.246257    0.209327\n",
       "1                  inequality   -0.038200   -0.032318\n",
       "2           college_no_degree    0.039135    0.030285\n",
       "3           associates_degree    0.031149    0.022059\n",
       "4                    log_SQMI   -0.995184   -0.719493\n",
       "5              log_perc_asian   -0.088051   -0.089394\n",
       "6              log_perc_black    0.124046    0.122393\n",
       "7           log_perc_hispanic   -0.065865   -0.072861\n",
       "8             log_perc_native   -0.000162    0.000000\n",
       "9         log_perc_no_vehicle   -0.169864   -0.160560\n",
       "10           log_perc_pacific    0.013956    0.006521\n",
       "11  log_perc_public_transport    0.225225    0.189957\n",
       "12             log_perc_rural    0.249039    0.202928\n",
       "13            log_pop_density   -1.097295   -0.841472\n",
       "14          log_perc_unemploy    0.091427    0.089930\n",
       "15           log_bach_or_more    0.004622   -0.000328\n",
       "16      log_below_high_school    0.033635    0.017088\n",
       "17               log_perc_pov    0.010398    0.000000\n",
       "18              log_perc_snap    0.018221    0.003313\n",
       "19                  log_value   -0.326890   -0.315999"
      ]
     },
     "execution_count": 52,
     "metadata": {},
     "output_type": "execute_result"
    }
   ],
   "source": [
    "x=pd.DataFrame({ 'Variable': X_ada.columns,'Logit Coef': ada_logit.coef_.ravel(), 'Lasso Coef': ada_lasso.coef_.ravel()})\n",
    "x"
   ]
  },
  {
   "cell_type": "code",
   "execution_count": 53,
   "metadata": {},
   "outputs": [],
   "source": [
    "## rename variables\n",
    "x=x.replace({'median_income':'Median income', 'inequality':'Inequality', 'college_no_degree':'College no degree', 'associates_degree':'Some college','log_SQMI': 'Land area', 'log_perc_asian': 'Asian', 'log_perc_black':'Black', 'log_perc_hispanic':'Hispanic', 'log_perc_native':'Alaska Native', 'log_perc_pacific':'Pacific Islander', 'log_perc_public_transport':'Public transport', 'log_perc_rural': 'Rural', 'log_pop_density':'Population density', 'log_perc_unemploy':'Unemployment', 'log_bach_or_more':'Bachelors or more', 'log_below_high_school':'Below high school', 'log_perc_pov':'Poverty rate', 'log_perc_snap':'HH with SNAP', 'log_value': 'Property value', 'log_perc_no_vehicle':'No vehicle'})"
   ]
  },
  {
   "cell_type": "code",
   "execution_count": 54,
   "metadata": {},
   "outputs": [
    {
     "data": {
      "image/png": "[encoded data removed]",
      "text/plain": [
       "<Figure size 432x288 with 1 Axes>"
      ]
     },
     "metadata": {
      "needs_background": "light"
     },
     "output_type": "display_data"
    }
   ],
   "source": [
    "## plot coefficients for logit\n",
    "fig, ax = plt.subplots()\n",
    "ax.barh(x['Variable'],x['Logit Coef'], align='center')\n",
    "ax.set_yticks(x['Variable'])\n",
    "ax.invert_yaxis()  \n",
    "ax.set_xlabel('Estimates')\n",
    "ax.set_title('Logistic Regression Coefficient Estimates \\n Desert vs. Healthful')\n",
    "plt.tight_layout()\n",
    "plt.savefig('output/images/logit_desert_healthful.png')"
   ]
  },
  {
   "cell_type": "code",
   "execution_count": 55,
   "metadata": {},
   "outputs": [
    {
     "data": {
      "image/png": "[encoded data removed]",
      "text/plain": [
       "<Figure size 432x288 with 1 Axes>"
      ]
     },
     "metadata": {
      "needs_background": "light"
     },
     "output_type": "display_data"
    }
   ],
   "source": [
    "## plot lasso coefficient estimates\n",
    "fig, ax = plt.subplots()\n",
    "ax.barh(x['Variable'],x['Lasso Coef'], align='center')\n",
    "ax.set_yticks(x['Variable'])\n",
    "ax.invert_yaxis()  \n",
    "ax.set_xlabel('Estimates')\n",
    "ax.set_title('LASSO Coefficient Estimates \\n Desert vs. Healthful')\n",
    "plt.tight_layout()\n",
    "plt.savefig('output/images/lasso_desert_healthful.png')"
   ]
  },
  {
   "cell_type": "markdown",
   "metadata": {},
   "source": [
    "The actual estimates from both models are pretty similar. However, the log_per_native and log_perc_pov attributes were shrunk to zero in the lasso, but have a negative relationship and a positive relationship , respectively , with the outcome. In both models, median_income has the highest positive magnitude, followed by log_perc_public_transport. We also see that log_pop_density has the lowest/highest positive magnitude. "
   ]
  },
  {
   "cell_type": "markdown",
   "metadata": {},
   "source": [
    "`Random Forest : oversampling`"
   ]
  },
  {
   "cell_type": "code",
   "execution_count": 56,
   "metadata": {},
   "outputs": [
    {
     "data": {
      "text/plain": [
       "RandomForestClassifier()"
      ]
     },
     "execution_count": 56,
     "metadata": {},
     "output_type": "execute_result"
    }
   ],
   "source": [
    "## fit logistic model on resampled set\n",
    "ada_model = RandomForestClassifier()\n",
    "ada_model.fit(X_ada, y_ada)"
   ]
  },
  {
   "cell_type": "code",
   "execution_count": 57,
   "metadata": {
    "scrolled": true
   },
   "outputs": [
    {
     "name": "stdout",
     "output_type": "stream",
     "text": [
      "Accuracy: 0.6731642189586114\n",
      "Recall:  0.46977147816025455\n"
     ]
    },
    {
     "data": {
      "text/plain": [
       "array([[5939, 1839],\n",
       "       [1833, 1624]])"
      ]
     },
     "execution_count": 57,
     "metadata": {},
     "output_type": "execute_result"
    }
   ],
   "source": [
    "# examine classification errors\n",
    "print('Accuracy:', ada_model.score(Xtest, ytest))\n",
    "print('Recall: ', recall_score(ytest, ada_model.predict(Xtest)))\n",
    "confusion_matrix(ytest, ada_model.predict(Xtest))"
   ]
  },
  {
   "cell_type": "markdown",
   "metadata": {},
   "source": [
    "Random forest has a  higher overall accuracy than lasso and logistic. However, the recall is especially poort at about 0.47. This means that only 47% of food desert census tracts were correctly classified as deserts. while the remaining 53% are misclassified as healthful tracts. "
   ]
  },
  {
   "cell_type": "code",
   "execution_count": 58,
   "metadata": {},
   "outputs": [
    {
     "data": {
      "text/html": [
       "<div>\n",
       "<style scoped>\n",
       "    .dataframe tbody tr th:only-of-type {\n",
       "        vertical-align: middle;\n",
       "    }\n",
       "\n",
       "    .dataframe tbody tr th {\n",
       "        vertical-align: top;\n",
       "    }\n",
       "\n",
       "    .dataframe thead th {\n",
       "        text-align: right;\n",
       "    }\n",
       "</style>\n",
       "<table border=\"1\" class=\"dataframe\">\n",
       "  <thead>\n",
       "    <tr style=\"text-align: right;\">\n",
       "      <th></th>\n",
       "      <th>Variables</th>\n",
       "      <th>MDI</th>\n",
       "    </tr>\n",
       "  </thead>\n",
       "  <tbody>\n",
       "    <tr>\n",
       "      <th>0</th>\n",
       "      <td>median_income</td>\n",
       "      <td>0.053477</td>\n",
       "    </tr>\n",
       "    <tr>\n",
       "      <th>1</th>\n",
       "      <td>inequality</td>\n",
       "      <td>0.051346</td>\n",
       "    </tr>\n",
       "    <tr>\n",
       "      <th>2</th>\n",
       "      <td>college_no_degree</td>\n",
       "      <td>0.051970</td>\n",
       "    </tr>\n",
       "    <tr>\n",
       "      <th>3</th>\n",
       "      <td>associates_degree</td>\n",
       "      <td>0.049944</td>\n",
       "    </tr>\n",
       "    <tr>\n",
       "      <th>4</th>\n",
       "      <td>log_SQMI</td>\n",
       "      <td>0.064150</td>\n",
       "    </tr>\n",
       "    <tr>\n",
       "      <th>5</th>\n",
       "      <td>log_perc_asian</td>\n",
       "      <td>0.047418</td>\n",
       "    </tr>\n",
       "    <tr>\n",
       "      <th>6</th>\n",
       "      <td>log_perc_black</td>\n",
       "      <td>0.056582</td>\n",
       "    </tr>\n",
       "    <tr>\n",
       "      <th>7</th>\n",
       "      <td>log_perc_hispanic</td>\n",
       "      <td>0.055913</td>\n",
       "    </tr>\n",
       "    <tr>\n",
       "      <th>8</th>\n",
       "      <td>log_perc_native</td>\n",
       "      <td>0.033474</td>\n",
       "    </tr>\n",
       "    <tr>\n",
       "      <th>9</th>\n",
       "      <td>log_perc_no_vehicle</td>\n",
       "      <td>0.055856</td>\n",
       "    </tr>\n",
       "    <tr>\n",
       "      <th>10</th>\n",
       "      <td>log_perc_pacific</td>\n",
       "      <td>0.010207</td>\n",
       "    </tr>\n",
       "    <tr>\n",
       "      <th>11</th>\n",
       "      <td>log_perc_public_transport</td>\n",
       "      <td>0.049630</td>\n",
       "    </tr>\n",
       "    <tr>\n",
       "      <th>12</th>\n",
       "      <td>log_perc_rural</td>\n",
       "      <td>0.037934</td>\n",
       "    </tr>\n",
       "    <tr>\n",
       "      <th>13</th>\n",
       "      <td>log_pop_density</td>\n",
       "      <td>0.063833</td>\n",
       "    </tr>\n",
       "    <tr>\n",
       "      <th>14</th>\n",
       "      <td>log_perc_unemploy</td>\n",
       "      <td>0.051441</td>\n",
       "    </tr>\n",
       "    <tr>\n",
       "      <th>15</th>\n",
       "      <td>log_bach_or_more</td>\n",
       "      <td>0.051477</td>\n",
       "    </tr>\n",
       "    <tr>\n",
       "      <th>16</th>\n",
       "      <td>log_below_high_school</td>\n",
       "      <td>0.049379</td>\n",
       "    </tr>\n",
       "    <tr>\n",
       "      <th>17</th>\n",
       "      <td>log_perc_pov</td>\n",
       "      <td>0.052188</td>\n",
       "    </tr>\n",
       "    <tr>\n",
       "      <th>18</th>\n",
       "      <td>log_perc_snap</td>\n",
       "      <td>0.051139</td>\n",
       "    </tr>\n",
       "    <tr>\n",
       "      <th>19</th>\n",
       "      <td>log_value</td>\n",
       "      <td>0.062641</td>\n",
       "    </tr>\n",
       "  </tbody>\n",
       "</table>\n",
       "</div>"
      ],
      "text/plain": [
       "                    Variables       MDI\n",
       "0               median_income  0.053477\n",
       "1                  inequality  0.051346\n",
       "2           college_no_degree  0.051970\n",
       "3           associates_degree  0.049944\n",
       "4                    log_SQMI  0.064150\n",
       "5              log_perc_asian  0.047418\n",
       "6              log_perc_black  0.056582\n",
       "7           log_perc_hispanic  0.055913\n",
       "8             log_perc_native  0.033474\n",
       "9         log_perc_no_vehicle  0.055856\n",
       "10           log_perc_pacific  0.010207\n",
       "11  log_perc_public_transport  0.049630\n",
       "12             log_perc_rural  0.037934\n",
       "13            log_pop_density  0.063833\n",
       "14          log_perc_unemploy  0.051441\n",
       "15           log_bach_or_more  0.051477\n",
       "16      log_below_high_school  0.049379\n",
       "17               log_perc_pov  0.052188\n",
       "18              log_perc_snap  0.051139\n",
       "19                  log_value  0.062641"
      ]
     },
     "execution_count": 58,
     "metadata": {},
     "output_type": "execute_result"
    }
   ],
   "source": [
    "## safe feature importance to dataframe\n",
    "x=pd.DataFrame({'Variables':X_ada.columns, 'MDI':ada_model.feature_importances_})\n",
    "x"
   ]
  },
  {
   "cell_type": "code",
   "execution_count": 59,
   "metadata": {},
   "outputs": [],
   "source": [
    "## rename variables\n",
    "x=x.replace({'median_income':'Median income', 'inequality':'Inequality', 'college_no_degree':'College no degree', 'associates_degree':'Some college','log_SQMI': 'Land area', 'log_perc_asian': 'Asian', 'log_perc_black':'Black', 'log_perc_hispanic':'Hispanic', 'log_perc_native':'Alaska Native', 'log_perc_pacific':'Pacific Islander', 'log_perc_public_transport':'Public transport', 'log_perc_rural': 'Rural', 'log_pop_density':'Population density', 'log_perc_unemploy':'Unemployment', 'log_bach_or_more':'Bachelors or more', 'log_below_high_school':'Below high school', 'log_perc_pov':'Poverty rate', 'log_perc_snap':'HH with SNAP', 'log_value': 'Property value', 'log_perc_no_vehicle':'No vehicle'})"
   ]
  },
  {
   "cell_type": "code",
   "execution_count": 60,
   "metadata": {},
   "outputs": [
    {
     "data": {
      "text/html": [
       "<div>\n",
       "<style scoped>\n",
       "    .dataframe tbody tr th:only-of-type {\n",
       "        vertical-align: middle;\n",
       "    }\n",
       "\n",
       "    .dataframe tbody tr th {\n",
       "        vertical-align: top;\n",
       "    }\n",
       "\n",
       "    .dataframe thead th {\n",
       "        text-align: right;\n",
       "    }\n",
       "</style>\n",
       "<table border=\"1\" class=\"dataframe\">\n",
       "  <thead>\n",
       "    <tr style=\"text-align: right;\">\n",
       "      <th></th>\n",
       "      <th>Variables</th>\n",
       "      <th>MDI</th>\n",
       "    </tr>\n",
       "  </thead>\n",
       "  <tbody>\n",
       "    <tr>\n",
       "      <th>4</th>\n",
       "      <td>Land area</td>\n",
       "      <td>0.064150</td>\n",
       "    </tr>\n",
       "    <tr>\n",
       "      <th>13</th>\n",
       "      <td>Population density</td>\n",
       "      <td>0.063833</td>\n",
       "    </tr>\n",
       "    <tr>\n",
       "      <th>19</th>\n",
       "      <td>Property value</td>\n",
       "      <td>0.062641</td>\n",
       "    </tr>\n",
       "    <tr>\n",
       "      <th>6</th>\n",
       "      <td>Black</td>\n",
       "      <td>0.056582</td>\n",
       "    </tr>\n",
       "    <tr>\n",
       "      <th>7</th>\n",
       "      <td>Hispanic</td>\n",
       "      <td>0.055913</td>\n",
       "    </tr>\n",
       "    <tr>\n",
       "      <th>9</th>\n",
       "      <td>No vehicle</td>\n",
       "      <td>0.055856</td>\n",
       "    </tr>\n",
       "    <tr>\n",
       "      <th>0</th>\n",
       "      <td>Median income</td>\n",
       "      <td>0.053477</td>\n",
       "    </tr>\n",
       "    <tr>\n",
       "      <th>17</th>\n",
       "      <td>Poverty rate</td>\n",
       "      <td>0.052188</td>\n",
       "    </tr>\n",
       "    <tr>\n",
       "      <th>2</th>\n",
       "      <td>College no degree</td>\n",
       "      <td>0.051970</td>\n",
       "    </tr>\n",
       "    <tr>\n",
       "      <th>15</th>\n",
       "      <td>Bachelors or more</td>\n",
       "      <td>0.051477</td>\n",
       "    </tr>\n",
       "    <tr>\n",
       "      <th>14</th>\n",
       "      <td>Unemployment</td>\n",
       "      <td>0.051441</td>\n",
       "    </tr>\n",
       "    <tr>\n",
       "      <th>1</th>\n",
       "      <td>Inequality</td>\n",
       "      <td>0.051346</td>\n",
       "    </tr>\n",
       "    <tr>\n",
       "      <th>18</th>\n",
       "      <td>HH with SNAP</td>\n",
       "      <td>0.051139</td>\n",
       "    </tr>\n",
       "    <tr>\n",
       "      <th>3</th>\n",
       "      <td>Some college</td>\n",
       "      <td>0.049944</td>\n",
       "    </tr>\n",
       "    <tr>\n",
       "      <th>11</th>\n",
       "      <td>Public transport</td>\n",
       "      <td>0.049630</td>\n",
       "    </tr>\n",
       "    <tr>\n",
       "      <th>16</th>\n",
       "      <td>Below high school</td>\n",
       "      <td>0.049379</td>\n",
       "    </tr>\n",
       "    <tr>\n",
       "      <th>5</th>\n",
       "      <td>Asian</td>\n",
       "      <td>0.047418</td>\n",
       "    </tr>\n",
       "    <tr>\n",
       "      <th>12</th>\n",
       "      <td>Rural</td>\n",
       "      <td>0.037934</td>\n",
       "    </tr>\n",
       "    <tr>\n",
       "      <th>8</th>\n",
       "      <td>Alaska Native</td>\n",
       "      <td>0.033474</td>\n",
       "    </tr>\n",
       "    <tr>\n",
       "      <th>10</th>\n",
       "      <td>Pacific Islander</td>\n",
       "      <td>0.010207</td>\n",
       "    </tr>\n",
       "  </tbody>\n",
       "</table>\n",
       "</div>"
      ],
      "text/plain": [
       "             Variables       MDI\n",
       "4            Land area  0.064150\n",
       "13  Population density  0.063833\n",
       "19      Property value  0.062641\n",
       "6                Black  0.056582\n",
       "7             Hispanic  0.055913\n",
       "9           No vehicle  0.055856\n",
       "0        Median income  0.053477\n",
       "17        Poverty rate  0.052188\n",
       "2    College no degree  0.051970\n",
       "15   Bachelors or more  0.051477\n",
       "14        Unemployment  0.051441\n",
       "1           Inequality  0.051346\n",
       "18        HH with SNAP  0.051139\n",
       "3         Some college  0.049944\n",
       "11    Public transport  0.049630\n",
       "16   Below high school  0.049379\n",
       "5                Asian  0.047418\n",
       "12               Rural  0.037934\n",
       "8        Alaska Native  0.033474\n",
       "10    Pacific Islander  0.010207"
      ]
     },
     "execution_count": 60,
     "metadata": {},
     "output_type": "execute_result"
    }
   ],
   "source": [
    "x=x.sort_values('MDI', ascending=False)\n",
    "x"
   ]
  },
  {
   "cell_type": "code",
   "execution_count": 61,
   "metadata": {},
   "outputs": [
    {
     "data": {
      "image/png": "[encoded data removed]",
      "text/plain": [
       "<Figure size 432x288 with 1 Axes>"
      ]
     },
     "metadata": {
      "needs_background": "light"
     },
     "output_type": "display_data"
    }
   ],
   "source": [
    "## plot lasso coefficient estimates\n",
    "fig, ax = plt.subplots()\n",
    "ax.barh(x['Variables'],x['MDI'], align='center')\n",
    "ax.set_yticks(x['Variables'])\n",
    "ax.invert_yaxis()  \n",
    "ax.set_xlabel('Feature Importance')\n",
    "ax.set_title('Random Forest Feature Importance \\n Desert vs. Healthful')\n",
    "plt.tight_layout()\n",
    "plt.savefig('output/images/rf_desert_healthful.png')"
   ]
  },
  {
   "cell_type": "code",
   "execution_count": 62,
   "metadata": {},
   "outputs": [
    {
     "data": {
      "text/html": [
       "<div>\n",
       "<style scoped>\n",
       "    .dataframe tbody tr th:only-of-type {\n",
       "        vertical-align: middle;\n",
       "    }\n",
       "\n",
       "    .dataframe tbody tr th {\n",
       "        vertical-align: top;\n",
       "    }\n",
       "\n",
       "    .dataframe thead th {\n",
       "        text-align: right;\n",
       "    }\n",
       "</style>\n",
       "<table border=\"1\" class=\"dataframe\">\n",
       "  <thead>\n",
       "    <tr style=\"text-align: right;\">\n",
       "      <th></th>\n",
       "      <th>Accuracy: RF</th>\n",
       "      <th>Recall: RF</th>\n",
       "      <th>Accuracy:Lasso</th>\n",
       "      <th>Recall: Lasso</th>\n",
       "      <th>Accuracy:Logit</th>\n",
       "      <th>Recall: Logit</th>\n",
       "    </tr>\n",
       "  </thead>\n",
       "  <tbody>\n",
       "    <tr>\n",
       "      <th>0</th>\n",
       "      <td>0.673164</td>\n",
       "      <td>0.469771</td>\n",
       "      <td>0.585492</td>\n",
       "      <td>0.678912</td>\n",
       "      <td>0.583801</td>\n",
       "      <td>0.682962</td>\n",
       "    </tr>\n",
       "  </tbody>\n",
       "</table>\n",
       "</div>"
      ],
      "text/plain": [
       "   Accuracy: RF  Recall: RF  Accuracy:Lasso  Recall: Lasso  Accuracy:Logit  \\\n",
       "0      0.673164    0.469771        0.585492       0.678912        0.583801   \n",
       "\n",
       "   Recall: Logit  \n",
       "0       0.682962  "
      ]
     },
     "execution_count": 62,
     "metadata": {},
     "output_type": "execute_result"
    }
   ],
   "source": [
    "## save overall accuracy and recall score from each model ; will be exported to csv\n",
    "eval_1=pd.DataFrame({'Accuracy: RF':ada_model.score(Xtest, ytest), 'Recall: RF':recall_score(ytest,ada_model.predict(Xtest)), 'Accuracy:Lasso':ada_lasso.score(Xtest, ytest), 'Recall: Lasso':recall_score(ytest, ada_lasso.predict(Xtest)), 'Accuracy:Logit':ada_logit.score(Xtest, ytest), 'Recall: Logit':recall_score(ytest, ada_logit.predict(Xtest))}, index=[0])\n",
    "eval_1"
   ]
  },
  {
   "cell_type": "markdown",
   "metadata": {},
   "source": [
    "  `Plot ROC AUC`"
   ]
  },
  {
   "cell_type": "code",
   "execution_count": 63,
   "metadata": {},
   "outputs": [],
   "source": [
    "## save logistic predictions to object\n",
    "y_pred = ada_logit.predict_proba(Xtest)"
   ]
  },
  {
   "cell_type": "code",
   "execution_count": 64,
   "metadata": {},
   "outputs": [
    {
     "name": "stdout",
     "output_type": "stream",
     "text": [
      "Logistic Regression AUC:  0.6657442168869971\n"
     ]
    }
   ],
   "source": [
    "## generate true positives and false positives for KNN\n",
    "false_positive_rate, true_positive_rate, thresholds = roc_curve(ytest, y_pred[:,1], pos_label=1)\n",
    "logit_rates = pd.DataFrame(dict(fpr=false_positive_rate, tpr=true_positive_rate))\n",
    "logit_auc = auc(logit_rates['fpr'], logit_rates['tpr'])\n",
    "print('Logistic Regression AUC: ', logit_auc)"
   ]
  },
  {
   "cell_type": "code",
   "execution_count": 65,
   "metadata": {},
   "outputs": [],
   "source": [
    "## save lasso predictions to object\n",
    "y_pred = ada_lasso.predict_proba(Xtest)"
   ]
  },
  {
   "cell_type": "code",
   "execution_count": 66,
   "metadata": {},
   "outputs": [
    {
     "name": "stdout",
     "output_type": "stream",
     "text": [
      "LASSO AUC:  0.6662693103598833\n"
     ]
    }
   ],
   "source": [
    "## generate true positives and false positives for log_reg\n",
    "false_positive_rate, true_positive_rate, thresholds = roc_curve(ytest, y_pred[:,1], pos_label=1)\n",
    "lasso_rates = pd.DataFrame(dict(fpr=false_positive_rate, tpr=true_positive_rate))\n",
    "lasso_auc = auc(lasso_rates['fpr'], lasso_rates['tpr'])\n",
    "print('LASSO AUC: ', lasso_auc)"
   ]
  },
  {
   "cell_type": "code",
   "execution_count": 67,
   "metadata": {},
   "outputs": [],
   "source": [
    "## save NB predictions to object\n",
    "y_pred = ada_model.predict_proba(Xtest)"
   ]
  },
  {
   "cell_type": "code",
   "execution_count": 68,
   "metadata": {},
   "outputs": [
    {
     "name": "stdout",
     "output_type": "stream",
     "text": [
      "Random Forest AUC:  0.6771272608046564\n"
     ]
    }
   ],
   "source": [
    "## generate true positives and false positives for NB\n",
    "false_positive_rate, true_positive_rate, thresholds = roc_curve(ytest, y_pred[:,1], pos_label=1)\n",
    "random_forest_rates = pd.DataFrame(dict(fpr=false_positive_rate, tpr=true_positive_rate))\n",
    "random_forest_auc = auc(random_forest_rates['fpr'], random_forest_rates['tpr'])\n",
    "print('Random Forest AUC: ', random_forest_auc)"
   ]
  },
  {
   "cell_type": "code",
   "execution_count": 69,
   "metadata": {},
   "outputs": [
    {
     "data": {
      "image/png": "[encoded data removed]",
      "text/plain": [
       "<Figure size 432x288 with 1 Axes>"
      ]
     },
     "metadata": {
      "needs_background": "light"
     },
     "output_type": "display_data"
    }
   ],
   "source": [
    "## plot ROC for KNN, log-reg, and NB\n",
    "fig3 = plt.figure()\n",
    "plt.plot(logit_rates.fpr, logit_rates.tpr, 'b', label = 'Logistic Regression')\n",
    "plt.plot(lasso_rates.fpr, lasso_rates.tpr, 'g', label = 'LASSO')\n",
    "plt.plot(random_forest_rates.fpr, random_forest_rates.tpr, 'r', label = 'Random Forest')\n",
    "plt.plot([0, 1], [0, 1],'--')\n",
    "plt.xlim([0, 1])\n",
    "plt.ylim([0, 1])\n",
    "plt.ylabel('True Positive Rate')\n",
    "plt.xlabel('False Positive Rate')\n",
    "plt.title('Receiver Operating Characteristic')\n",
    "plt.legend(loc = 'lower right')\n",
    "plt.show()"
   ]
  },
  {
   "cell_type": "markdown",
   "metadata": {},
   "source": [
    "**`Outcome 2: Swamp vs. Healthful`**"
   ]
  },
  {
   "cell_type": "code",
   "execution_count": 70,
   "metadata": {},
   "outputs": [
    {
     "data": {
      "text/plain": [
       "(37954, 20)"
      ]
     },
     "execution_count": 70,
     "metadata": {},
     "output_type": "execute_result"
    }
   ],
   "source": [
    "## separate outcome from features\n",
    "y=s_vs_h['swamp']\n",
    "X=s_vs_h.drop(columns=['swamp'])\n",
    "X.shape"
   ]
  },
  {
   "cell_type": "code",
   "execution_count": 71,
   "metadata": {},
   "outputs": [
    {
     "data": {
      "text/html": [
       "<div>\n",
       "<style scoped>\n",
       "    .dataframe tbody tr th:only-of-type {\n",
       "        vertical-align: middle;\n",
       "    }\n",
       "\n",
       "    .dataframe tbody tr th {\n",
       "        vertical-align: top;\n",
       "    }\n",
       "\n",
       "    .dataframe thead th {\n",
       "        text-align: right;\n",
       "    }\n",
       "</style>\n",
       "<table border=\"1\" class=\"dataframe\">\n",
       "  <thead>\n",
       "    <tr style=\"text-align: right;\">\n",
       "      <th></th>\n",
       "      <th>median_income</th>\n",
       "      <th>inequality</th>\n",
       "      <th>college_no_degree</th>\n",
       "      <th>associates_degree</th>\n",
       "      <th>log_SQMI</th>\n",
       "      <th>log_perc_asian</th>\n",
       "      <th>log_perc_black</th>\n",
       "      <th>log_perc_hispanic</th>\n",
       "      <th>log_perc_native</th>\n",
       "      <th>log_perc_no_vehicle</th>\n",
       "      <th>log_perc_pacific</th>\n",
       "      <th>log_perc_public_transport</th>\n",
       "      <th>log_perc_rural</th>\n",
       "      <th>log_pop_density</th>\n",
       "      <th>log_perc_unemploy</th>\n",
       "      <th>log_bach_or_more</th>\n",
       "      <th>log_below_high_school</th>\n",
       "      <th>log_perc_pov</th>\n",
       "      <th>log_perc_snap</th>\n",
       "      <th>log_value</th>\n",
       "    </tr>\n",
       "  </thead>\n",
       "  <tbody>\n",
       "    <tr>\n",
       "      <th>0</th>\n",
       "      <td>0.572401</td>\n",
       "      <td>1.594824</td>\n",
       "      <td>-0.388015</td>\n",
       "      <td>-0.363446</td>\n",
       "      <td>0.094676</td>\n",
       "      <td>-1.079708</td>\n",
       "      <td>0.773453</td>\n",
       "      <td>-1.201958</td>\n",
       "      <td>-0.520845</td>\n",
       "      <td>0.059454</td>\n",
       "      <td>-0.245388</td>\n",
       "      <td>0.425575</td>\n",
       "      <td>1.209925</td>\n",
       "      <td>-0.747916</td>\n",
       "      <td>-1.029231</td>\n",
       "      <td>0.219925</td>\n",
       "      <td>0.449987</td>\n",
       "      <td>-0.087363</td>\n",
       "      <td>-0.271783</td>\n",
       "      <td>-0.652345</td>\n",
       "    </tr>\n",
       "    <tr>\n",
       "      <th>1</th>\n",
       "      <td>-0.512872</td>\n",
       "      <td>-0.449178</td>\n",
       "      <td>-0.468236</td>\n",
       "      <td>-1.197285</td>\n",
       "      <td>-0.417641</td>\n",
       "      <td>-0.005200</td>\n",
       "      <td>1.676932</td>\n",
       "      <td>-1.478981</td>\n",
       "      <td>-0.520845</td>\n",
       "      <td>0.825608</td>\n",
       "      <td>-0.245388</td>\n",
       "      <td>-1.022187</td>\n",
       "      <td>-0.562468</td>\n",
       "      <td>-0.118306</td>\n",
       "      <td>0.112936</td>\n",
       "      <td>0.287113</td>\n",
       "      <td>0.915056</td>\n",
       "      <td>0.311488</td>\n",
       "      <td>0.149784</td>\n",
       "      <td>-0.466822</td>\n",
       "    </tr>\n",
       "  </tbody>\n",
       "</table>\n",
       "</div>"
      ],
      "text/plain": [
       "   median_income  inequality  college_no_degree  associates_degree  log_SQMI  \\\n",
       "0       0.572401    1.594824          -0.388015          -0.363446  0.094676   \n",
       "1      -0.512872   -0.449178          -0.468236          -1.197285 -0.417641   \n",
       "\n",
       "   log_perc_asian  log_perc_black  log_perc_hispanic  log_perc_native  \\\n",
       "0       -1.079708        0.773453          -1.201958        -0.520845   \n",
       "1       -0.005200        1.676932          -1.478981        -0.520845   \n",
       "\n",
       "   log_perc_no_vehicle  log_perc_pacific  log_perc_public_transport  \\\n",
       "0             0.059454         -0.245388                   0.425575   \n",
       "1             0.825608         -0.245388                  -1.022187   \n",
       "\n",
       "   log_perc_rural  log_pop_density  log_perc_unemploy  log_bach_or_more  \\\n",
       "0        1.209925        -0.747916          -1.029231          0.219925   \n",
       "1       -0.562468        -0.118306           0.112936          0.287113   \n",
       "\n",
       "   log_below_high_school  log_perc_pov  log_perc_snap  log_value  \n",
       "0               0.449987     -0.087363      -0.271783  -0.652345  \n",
       "1               0.915056      0.311488       0.149784  -0.466822  "
      ]
     },
     "execution_count": 71,
     "metadata": {},
     "output_type": "execute_result"
    }
   ],
   "source": [
    "# standardize features to eliminate issues of scaling\n",
    "scaler = StandardScaler()\n",
    "Xsc = pd.DataFrame(scaler.fit_transform(X), columns = X.columns)\n",
    "Xsc.head(2)"
   ]
  },
  {
   "cell_type": "code",
   "execution_count": 72,
   "metadata": {},
   "outputs": [],
   "source": [
    "## split data; test size is 30%\n",
    "Xtrain, Xtest, ytrain, ytest = train_test_split(Xsc, y, test_size=0.3, random_state=10)"
   ]
  },
  {
   "cell_type": "markdown",
   "metadata": {},
   "source": [
    "**`Logistic Regression`**"
   ]
  },
  {
   "cell_type": "code",
   "execution_count": 73,
   "metadata": {},
   "outputs": [
    {
     "name": "stdout",
     "output_type": "stream",
     "text": [
      "Resampled dataset after ADASYN 1.0    18461\n",
      "0.0    18177\n",
      "Name: swamp, dtype: int64\n"
     ]
    }
   ],
   "source": [
    "## oversample minority class (i.e, desert)\n",
    "ada=ADASYN(random_state=420)\n",
    "X_ada, y_ada = ada.fit_resample(Xtrain, ytrain)\n",
    "print('Resampled dataset after ADASYN %s' % y_ada.value_counts())"
   ]
  },
  {
   "cell_type": "code",
   "execution_count": 74,
   "metadata": {},
   "outputs": [
    {
     "data": {
      "text/plain": [
       "LogisticRegression()"
      ]
     },
     "execution_count": 74,
     "metadata": {},
     "output_type": "execute_result"
    }
   ],
   "source": [
    "## fit logistic model on resampled set\n",
    "ada_logit = LogisticRegression()\n",
    "ada_logit.fit(X_ada, y_ada)"
   ]
  },
  {
   "cell_type": "code",
   "execution_count": 75,
   "metadata": {
    "scrolled": true
   },
   "outputs": [
    {
     "name": "stdout",
     "output_type": "stream",
     "text": [
      "Accuracy: 0.6178097830859752\n",
      "Recall: 0.7338882921589689\n"
     ]
    },
    {
     "data": {
      "text/plain": [
       "array([[4302, 3361],\n",
       "       [ 991, 2733]])"
      ]
     },
     "execution_count": 75,
     "metadata": {},
     "output_type": "execute_result"
    }
   ],
   "source": [
    "# examine classification errors\n",
    "print('Accuracy:', ada_logit.score(Xtest, ytest))\n",
    "print('Recall:',recall_score(ytest, ada_logit.predict(Xtest)))\n",
    "confusion_matrix(ytest, ada_logit.predict(Xtest))"
   ]
  },
  {
   "cell_type": "markdown",
   "metadata": {},
   "source": [
    "The accuracy of the logistic regression model is about 0.62--this is a lot higher than when we had desert vs. healthful as the outcome. Additionally the recall is about 0.73 and is also higher than for outcome 1. Swamps are being detected and classified at a higer rate than deserts. The accuracy could also be because the attributes are more correlated with swamps rather than deserts."
   ]
  },
  {
   "cell_type": "markdown",
   "metadata": {},
   "source": [
    "`LASSO oversampling`"
   ]
  },
  {
   "cell_type": "code",
   "execution_count": 76,
   "metadata": {},
   "outputs": [
    {
     "data": {
      "text/plain": [
       "LogisticRegression(penalty='l1', random_state=10, solver='liblinear')"
      ]
     },
     "execution_count": 76,
     "metadata": {},
     "output_type": "execute_result"
    }
   ],
   "source": [
    "##fit lasso logistic regression using resampled dataset\n",
    "ada_lasso = LogisticRegression(penalty= 'l1', solver= 'liblinear',random_state=10)\n",
    "ada_lasso.fit(X_ada, y_ada)"
   ]
  },
  {
   "cell_type": "code",
   "execution_count": 77,
   "metadata": {},
   "outputs": [
    {
     "data": {
      "text/plain": [
       "array([0.001, 0.006, 0.011, 0.016, 0.021, 0.026])"
      ]
     },
     "execution_count": 77,
     "metadata": {},
     "output_type": "execute_result"
    }
   ],
   "source": [
    "## specify range for alpha/C\n",
    "C=np.arange(0.001,0.03,0.005)\n",
    "C"
   ]
  },
  {
   "cell_type": "markdown",
   "metadata": {},
   "source": [
    "#### Validation Curve: hyper parameter turning for strength of regularization penalty"
   ]
  },
  {
   "cell_type": "code",
   "execution_count": 78,
   "metadata": {},
   "outputs": [
    {
     "data": {
      "text/plain": [
       "array([[0.62227816, 0.62224783, 0.62112574, 0.62145933, 0.62488627,\n",
       "        0.62470431, 0.6244617 , 0.62588706, 0.6255345 , 0.62398787],\n",
       "       [0.62370352, 0.62370352, 0.6236732 , 0.62309699, 0.62679687,\n",
       "        0.62622066, 0.62582641, 0.62767635, 0.6270508 , 0.62656558],\n",
       "       [0.62306666, 0.62397647, 0.62285437, 0.62330927, 0.62679687,\n",
       "        0.62706981, 0.62800995, 0.62746406, 0.62726308, 0.62674754],\n",
       "       [0.62400679, 0.6244617 , 0.62246012, 0.62403712, 0.62731243,\n",
       "        0.62822224, 0.62855583, 0.62837387, 0.62817286, 0.62759666],\n",
       "       [0.62400679, 0.6249166 , 0.62282404, 0.62443137, 0.627737  ,\n",
       "        0.62898041, 0.62982956, 0.62797962, 0.62877938, 0.62829416],\n",
       "       [0.62437072, 0.62534118, 0.62352156, 0.62528052, 0.62770668,\n",
       "        0.62907139, 0.63049676, 0.62888943, 0.62908264, 0.62826384]])"
      ]
     },
     "execution_count": 78,
     "metadata": {},
     "output_type": "execute_result"
    }
   ],
   "source": [
    "## generate training and test scores using cv 10 fold\n",
    "train_scores, test_scores = validation_curve(ada_lasso, X_ada, y_ada, param_name='C',\n",
    "                                            param_range=C, cv=10)\n",
    "train_scores\n"
   ]
  },
  {
   "cell_type": "code",
   "execution_count": 79,
   "metadata": {},
   "outputs": [
    {
     "data": {
      "text/plain": [
       "array([0.62293194, 0.62473294, 0.62481493, 0.62549729, 0.62587938,\n",
       "       0.62680738])"
      ]
     },
     "execution_count": 79,
     "metadata": {},
     "output_type": "execute_result"
    }
   ],
   "source": [
    "## compute mean train and test scores\n",
    "train_mean = np.mean(train_scores, axis=1)\n",
    "test_mean = np.mean(test_scores, axis=1)\n",
    "test_mean"
   ]
  },
  {
   "cell_type": "code",
   "execution_count": 80,
   "metadata": {},
   "outputs": [
    {
     "data": {
      "image/png": "[encoded data removed]",
      "text/plain": [
       "<Figure size 432x288 with 1 Axes>"
      ]
     },
     "metadata": {
      "needs_background": "light"
     },
     "output_type": "display_data"
    }
   ],
   "source": [
    "## plot curve\n",
    "fig1 = plt.figure()\n",
    "plt.plot(C, train_mean, label='Train')\n",
    "plt.plot(C, test_mean, label='Test')\n",
    "plt.xlabel('C parameter')\n",
    "plt.ylabel('Score')\n",
    "plt.title('LASSO Validation Curve \\n Swamp vs. Healthful')\n",
    "plt.xticks(C)\n",
    "plt.legend()\n",
    "plt.savefig('output/images/valid_curve_lasso_swamp_healthful.png')"
   ]
  },
  {
   "cell_type": "markdown",
   "metadata": {},
   "source": [
    "let's pick 0.026 because that is the point where the train and test score are the closest and also where the test score is the highest."
   ]
  },
  {
   "cell_type": "code",
   "execution_count": 81,
   "metadata": {},
   "outputs": [
    {
     "data": {
      "text/plain": [
       "LogisticRegression(C=0.026, penalty='l1', random_state=10, solver='liblinear')"
      ]
     },
     "execution_count": 81,
     "metadata": {},
     "output_type": "execute_result"
    }
   ],
   "source": [
    "## fit logistic model on resampled set\n",
    "ada_lasso = LogisticRegression(C=0.026, penalty= 'l1', solver= 'liblinear',random_state=10)\n",
    "ada_lasso.fit(X_ada, y_ada)\n",
    "#print('Validation set Recall: ', \n",
    "      #recall_score(ytest, ada_model.predict(Xtest)))"
   ]
  },
  {
   "cell_type": "code",
   "execution_count": 82,
   "metadata": {
    "scrolled": true
   },
   "outputs": [
    {
     "name": "stdout",
     "output_type": "stream",
     "text": [
      "Accuracy: 0.6178097830859752\n",
      "Recall: 0.7451664876476907\n"
     ]
    },
    {
     "data": {
      "text/plain": [
       "array([[4260, 3403],\n",
       "       [ 949, 2775]])"
      ]
     },
     "execution_count": 82,
     "metadata": {},
     "output_type": "execute_result"
    }
   ],
   "source": [
    "# examine classification errors\n",
    "print('Accuracy:', ada_lasso.score(Xtest, ytest))\n",
    "print('Recall:',recall_score(ytest, ada_lasso.predict(Xtest)))\n",
    "confusion_matrix(ytest, ada_lasso.predict(Xtest))"
   ]
  },
  {
   "cell_type": "code",
   "execution_count": 83,
   "metadata": {},
   "outputs": [
    {
     "data": {
      "text/html": [
       "<div>\n",
       "<style scoped>\n",
       "    .dataframe tbody tr th:only-of-type {\n",
       "        vertical-align: middle;\n",
       "    }\n",
       "\n",
       "    .dataframe tbody tr th {\n",
       "        vertical-align: top;\n",
       "    }\n",
       "\n",
       "    .dataframe thead th {\n",
       "        text-align: right;\n",
       "    }\n",
       "</style>\n",
       "<table border=\"1\" class=\"dataframe\">\n",
       "  <thead>\n",
       "    <tr style=\"text-align: right;\">\n",
       "      <th></th>\n",
       "      <th>Variable</th>\n",
       "      <th>Logit Coef</th>\n",
       "      <th>Lasso Coef</th>\n",
       "    </tr>\n",
       "  </thead>\n",
       "  <tbody>\n",
       "    <tr>\n",
       "      <th>0</th>\n",
       "      <td>median_income</td>\n",
       "      <td>0.016176</td>\n",
       "      <td>0.000000</td>\n",
       "    </tr>\n",
       "    <tr>\n",
       "      <th>1</th>\n",
       "      <td>inequality</td>\n",
       "      <td>0.068534</td>\n",
       "      <td>0.054079</td>\n",
       "    </tr>\n",
       "    <tr>\n",
       "      <th>2</th>\n",
       "      <td>college_no_degree</td>\n",
       "      <td>0.034661</td>\n",
       "      <td>0.020158</td>\n",
       "    </tr>\n",
       "    <tr>\n",
       "      <th>3</th>\n",
       "      <td>associates_degree</td>\n",
       "      <td>-0.031400</td>\n",
       "      <td>-0.026391</td>\n",
       "    </tr>\n",
       "    <tr>\n",
       "      <th>4</th>\n",
       "      <td>log_SQMI</td>\n",
       "      <td>0.274539</td>\n",
       "      <td>0.056706</td>\n",
       "    </tr>\n",
       "    <tr>\n",
       "      <th>5</th>\n",
       "      <td>log_perc_asian</td>\n",
       "      <td>0.027084</td>\n",
       "      <td>0.023217</td>\n",
       "    </tr>\n",
       "    <tr>\n",
       "      <th>6</th>\n",
       "      <td>log_perc_black</td>\n",
       "      <td>0.218652</td>\n",
       "      <td>0.222342</td>\n",
       "    </tr>\n",
       "    <tr>\n",
       "      <th>7</th>\n",
       "      <td>log_perc_hispanic</td>\n",
       "      <td>0.145246</td>\n",
       "      <td>0.141607</td>\n",
       "    </tr>\n",
       "    <tr>\n",
       "      <th>8</th>\n",
       "      <td>log_perc_native</td>\n",
       "      <td>-0.019705</td>\n",
       "      <td>-0.013423</td>\n",
       "    </tr>\n",
       "    <tr>\n",
       "      <th>9</th>\n",
       "      <td>log_perc_no_vehicle</td>\n",
       "      <td>0.088633</td>\n",
       "      <td>0.085949</td>\n",
       "    </tr>\n",
       "    <tr>\n",
       "      <th>10</th>\n",
       "      <td>log_perc_pacific</td>\n",
       "      <td>-0.064724</td>\n",
       "      <td>-0.060902</td>\n",
       "    </tr>\n",
       "    <tr>\n",
       "      <th>11</th>\n",
       "      <td>log_perc_public_transport</td>\n",
       "      <td>0.019557</td>\n",
       "      <td>0.022734</td>\n",
       "    </tr>\n",
       "    <tr>\n",
       "      <th>12</th>\n",
       "      <td>log_perc_rural</td>\n",
       "      <td>-0.319283</td>\n",
       "      <td>-0.253441</td>\n",
       "    </tr>\n",
       "    <tr>\n",
       "      <th>13</th>\n",
       "      <td>log_pop_density</td>\n",
       "      <td>0.548253</td>\n",
       "      <td>0.378174</td>\n",
       "    </tr>\n",
       "    <tr>\n",
       "      <th>14</th>\n",
       "      <td>log_perc_unemploy</td>\n",
       "      <td>0.018047</td>\n",
       "      <td>0.009234</td>\n",
       "    </tr>\n",
       "    <tr>\n",
       "      <th>15</th>\n",
       "      <td>log_bach_or_more</td>\n",
       "      <td>0.206960</td>\n",
       "      <td>0.177109</td>\n",
       "    </tr>\n",
       "    <tr>\n",
       "      <th>16</th>\n",
       "      <td>log_below_high_school</td>\n",
       "      <td>0.120689</td>\n",
       "      <td>0.098034</td>\n",
       "    </tr>\n",
       "    <tr>\n",
       "      <th>17</th>\n",
       "      <td>log_perc_pov</td>\n",
       "      <td>-0.021006</td>\n",
       "      <td>0.000000</td>\n",
       "    </tr>\n",
       "    <tr>\n",
       "      <th>18</th>\n",
       "      <td>log_perc_snap</td>\n",
       "      <td>0.023839</td>\n",
       "      <td>0.015617</td>\n",
       "    </tr>\n",
       "    <tr>\n",
       "      <th>19</th>\n",
       "      <td>log_value</td>\n",
       "      <td>-0.178322</td>\n",
       "      <td>-0.135881</td>\n",
       "    </tr>\n",
       "  </tbody>\n",
       "</table>\n",
       "</div>"
      ],
      "text/plain": [
       "                     Variable  Logit Coef  Lasso Coef\n",
       "0               median_income    0.016176    0.000000\n",
       "1                  inequality    0.068534    0.054079\n",
       "2           college_no_degree    0.034661    0.020158\n",
       "3           associates_degree   -0.031400   -0.026391\n",
       "4                    log_SQMI    0.274539    0.056706\n",
       "5              log_perc_asian    0.027084    0.023217\n",
       "6              log_perc_black    0.218652    0.222342\n",
       "7           log_perc_hispanic    0.145246    0.141607\n",
       "8             log_perc_native   -0.019705   -0.013423\n",
       "9         log_perc_no_vehicle    0.088633    0.085949\n",
       "10           log_perc_pacific   -0.064724   -0.060902\n",
       "11  log_perc_public_transport    0.019557    0.022734\n",
       "12             log_perc_rural   -0.319283   -0.253441\n",
       "13            log_pop_density    0.548253    0.378174\n",
       "14          log_perc_unemploy    0.018047    0.009234\n",
       "15           log_bach_or_more    0.206960    0.177109\n",
       "16      log_below_high_school    0.120689    0.098034\n",
       "17               log_perc_pov   -0.021006    0.000000\n",
       "18              log_perc_snap    0.023839    0.015617\n",
       "19                  log_value   -0.178322   -0.135881"
      ]
     },
     "execution_count": 83,
     "metadata": {},
     "output_type": "execute_result"
    }
   ],
   "source": [
    "x=pd.DataFrame({ 'Variable': X_ada.columns,'Logit Coef': ada_logit.coef_.ravel(), 'Lasso Coef': ada_lasso.coef_.ravel()})\n",
    "x"
   ]
  },
  {
   "cell_type": "code",
   "execution_count": 84,
   "metadata": {},
   "outputs": [],
   "source": [
    "## rename variables\n",
    "x=x.replace({'median_income':'Median income', 'inequality':'Inequality', 'college_no_degree':'College no degree', 'associates_degree':'Some college','log_SQMI': 'Land area', 'log_perc_asian': 'Asian', 'log_perc_black':'Black', 'log_perc_hispanic':'Hispanic', 'log_perc_native':'Alaska Native', 'log_perc_pacific':'Pacific Islander', 'log_perc_public_transport':'Public transport', 'log_perc_rural': 'Rural', 'log_pop_density':'Population density', 'log_perc_unemploy':'Unemployment', 'log_bach_or_more':'Bachelors or more', 'log_below_high_school':'Below high school', 'log_perc_pov':'Poverty rate', 'log_perc_snap':'HH with SNAP', 'log_value': 'Property value', 'log_perc_no_vehicle':'No vehicle'})"
   ]
  },
  {
   "cell_type": "code",
   "execution_count": 85,
   "metadata": {},
   "outputs": [
    {
     "data": {
      "image/png": "[encoded data removed]",
      "text/plain": [
       "<Figure size 432x288 with 1 Axes>"
      ]
     },
     "metadata": {
      "needs_background": "light"
     },
     "output_type": "display_data"
    }
   ],
   "source": [
    "## plot coefficients for logit\n",
    "fig, ax = plt.subplots()\n",
    "ax.barh(x['Variable'],x['Logit Coef'], align='center')\n",
    "ax.set_yticks(x['Variable'])\n",
    "ax.invert_yaxis()  \n",
    "ax.set_xlabel('Estimates')\n",
    "ax.set_title('Logistic Regression Coefficient Estimates \\n Swamp vs. Healthful')\n",
    "plt.tight_layout()\n",
    "plt.savefig('output/images/logit_swamp_healthful.png')"
   ]
  },
  {
   "cell_type": "code",
   "execution_count": 86,
   "metadata": {},
   "outputs": [
    {
     "data": {
      "image/png": "[encoded data removed]",
      "text/plain": [
       "<Figure size 432x288 with 1 Axes>"
      ]
     },
     "metadata": {
      "needs_background": "light"
     },
     "output_type": "display_data"
    }
   ],
   "source": [
    "## plot lasso coefficient estimates\n",
    "fig, ax = plt.subplots()\n",
    "ax.barh(x['Variable'],x['Lasso Coef'], align='center')\n",
    "ax.set_yticks(x['Variable'])\n",
    "ax.invert_yaxis()  \n",
    "ax.set_xlabel('Estimates')\n",
    "ax.set_title('LASSO Coefficient Estimates \\n Swamp vs. Healthful')\n",
    "plt.tight_layout()\n",
    "plt.savefig('output/images/lasso_swamp_healthful.png')"
   ]
  },
  {
   "cell_type": "markdown",
   "metadata": {},
   "source": [
    "`Random Forest : oversampling`"
   ]
  },
  {
   "cell_type": "code",
   "execution_count": 87,
   "metadata": {},
   "outputs": [
    {
     "data": {
      "text/plain": [
       "RandomForestClassifier()"
      ]
     },
     "execution_count": 87,
     "metadata": {},
     "output_type": "execute_result"
    }
   ],
   "source": [
    "## fit logistic model on resampled set\n",
    "ada_model = RandomForestClassifier()\n",
    "ada_model.fit(X_ada, y_ada)\n"
   ]
  },
  {
   "cell_type": "code",
   "execution_count": 88,
   "metadata": {
    "scrolled": true
   },
   "outputs": [
    {
     "name": "stdout",
     "output_type": "stream",
     "text": [
      "Accuracy: 0.6709405462369369\n",
      "Recall: 0.5128893662728249\n"
     ]
    },
    {
     "data": {
      "text/plain": [
       "array([[5730, 1933],\n",
       "       [1814, 1910]])"
      ]
     },
     "execution_count": 88,
     "metadata": {},
     "output_type": "execute_result"
    }
   ],
   "source": [
    "# examine classification errors\n",
    "print('Accuracy:', ada_model.score(Xtest, ytest))\n",
    "print('Recall:',recall_score(ytest, ada_model.predict(Xtest)))\n",
    "confusion_matrix(ytest, ada_model.predict(Xtest))"
   ]
  },
  {
   "cell_type": "code",
   "execution_count": 89,
   "metadata": {},
   "outputs": [
    {
     "data": {
      "text/html": [
       "<div>\n",
       "<style scoped>\n",
       "    .dataframe tbody tr th:only-of-type {\n",
       "        vertical-align: middle;\n",
       "    }\n",
       "\n",
       "    .dataframe tbody tr th {\n",
       "        vertical-align: top;\n",
       "    }\n",
       "\n",
       "    .dataframe thead th {\n",
       "        text-align: right;\n",
       "    }\n",
       "</style>\n",
       "<table border=\"1\" class=\"dataframe\">\n",
       "  <thead>\n",
       "    <tr style=\"text-align: right;\">\n",
       "      <th></th>\n",
       "      <th>Variables</th>\n",
       "      <th>MDI</th>\n",
       "    </tr>\n",
       "  </thead>\n",
       "  <tbody>\n",
       "    <tr>\n",
       "      <th>0</th>\n",
       "      <td>median_income</td>\n",
       "      <td>0.048948</td>\n",
       "    </tr>\n",
       "    <tr>\n",
       "      <th>1</th>\n",
       "      <td>inequality</td>\n",
       "      <td>0.050132</td>\n",
       "    </tr>\n",
       "    <tr>\n",
       "      <th>2</th>\n",
       "      <td>college_no_degree</td>\n",
       "      <td>0.049184</td>\n",
       "    </tr>\n",
       "    <tr>\n",
       "      <th>3</th>\n",
       "      <td>associates_degree</td>\n",
       "      <td>0.050135</td>\n",
       "    </tr>\n",
       "    <tr>\n",
       "      <th>4</th>\n",
       "      <td>log_SQMI</td>\n",
       "      <td>0.063651</td>\n",
       "    </tr>\n",
       "    <tr>\n",
       "      <th>5</th>\n",
       "      <td>log_perc_asian</td>\n",
       "      <td>0.048870</td>\n",
       "    </tr>\n",
       "    <tr>\n",
       "      <th>6</th>\n",
       "      <td>log_perc_black</td>\n",
       "      <td>0.068401</td>\n",
       "    </tr>\n",
       "    <tr>\n",
       "      <th>7</th>\n",
       "      <td>log_perc_hispanic</td>\n",
       "      <td>0.052635</td>\n",
       "    </tr>\n",
       "    <tr>\n",
       "      <th>8</th>\n",
       "      <td>log_perc_native</td>\n",
       "      <td>0.030489</td>\n",
       "    </tr>\n",
       "    <tr>\n",
       "      <th>9</th>\n",
       "      <td>log_perc_no_vehicle</td>\n",
       "      <td>0.057693</td>\n",
       "    </tr>\n",
       "    <tr>\n",
       "      <th>10</th>\n",
       "      <td>log_perc_pacific</td>\n",
       "      <td>0.010318</td>\n",
       "    </tr>\n",
       "    <tr>\n",
       "      <th>11</th>\n",
       "      <td>log_perc_public_transport</td>\n",
       "      <td>0.056531</td>\n",
       "    </tr>\n",
       "    <tr>\n",
       "      <th>12</th>\n",
       "      <td>log_perc_rural</td>\n",
       "      <td>0.042328</td>\n",
       "    </tr>\n",
       "    <tr>\n",
       "      <th>13</th>\n",
       "      <td>log_pop_density</td>\n",
       "      <td>0.070946</td>\n",
       "    </tr>\n",
       "    <tr>\n",
       "      <th>14</th>\n",
       "      <td>log_perc_unemploy</td>\n",
       "      <td>0.049441</td>\n",
       "    </tr>\n",
       "    <tr>\n",
       "      <th>15</th>\n",
       "      <td>log_bach_or_more</td>\n",
       "      <td>0.047565</td>\n",
       "    </tr>\n",
       "    <tr>\n",
       "      <th>16</th>\n",
       "      <td>log_below_high_school</td>\n",
       "      <td>0.048634</td>\n",
       "    </tr>\n",
       "    <tr>\n",
       "      <th>17</th>\n",
       "      <td>log_perc_pov</td>\n",
       "      <td>0.051090</td>\n",
       "    </tr>\n",
       "    <tr>\n",
       "      <th>18</th>\n",
       "      <td>log_perc_snap</td>\n",
       "      <td>0.051952</td>\n",
       "    </tr>\n",
       "    <tr>\n",
       "      <th>19</th>\n",
       "      <td>log_value</td>\n",
       "      <td>0.051059</td>\n",
       "    </tr>\n",
       "  </tbody>\n",
       "</table>\n",
       "</div>"
      ],
      "text/plain": [
       "                    Variables       MDI\n",
       "0               median_income  0.048948\n",
       "1                  inequality  0.050132\n",
       "2           college_no_degree  0.049184\n",
       "3           associates_degree  0.050135\n",
       "4                    log_SQMI  0.063651\n",
       "5              log_perc_asian  0.048870\n",
       "6              log_perc_black  0.068401\n",
       "7           log_perc_hispanic  0.052635\n",
       "8             log_perc_native  0.030489\n",
       "9         log_perc_no_vehicle  0.057693\n",
       "10           log_perc_pacific  0.010318\n",
       "11  log_perc_public_transport  0.056531\n",
       "12             log_perc_rural  0.042328\n",
       "13            log_pop_density  0.070946\n",
       "14          log_perc_unemploy  0.049441\n",
       "15           log_bach_or_more  0.047565\n",
       "16      log_below_high_school  0.048634\n",
       "17               log_perc_pov  0.051090\n",
       "18              log_perc_snap  0.051952\n",
       "19                  log_value  0.051059"
      ]
     },
     "execution_count": 89,
     "metadata": {},
     "output_type": "execute_result"
    }
   ],
   "source": [
    "## safe feature importance to dataframe\n",
    "x=pd.DataFrame({'Variables':X_ada.columns, 'MDI':ada_model.feature_importances_})\n",
    "x"
   ]
  },
  {
   "cell_type": "code",
   "execution_count": 90,
   "metadata": {},
   "outputs": [],
   "source": [
    "## rename variables\n",
    "x=x.replace({'median_income':'Median income', 'inequality':'Inequality', 'college_no_degree':'College no degree', 'associates_degree':'Some college','log_SQMI': 'Land area', 'log_perc_asian': 'Asian', 'log_perc_black':'Black', 'log_perc_hispanic':'Hispanic', 'log_perc_native':'Alaska Native', 'log_perc_pacific':'Pacific Islander', 'log_perc_public_transport':'Public transport', 'log_perc_rural': 'Rural', 'log_pop_density':'Population density', 'log_perc_unemploy':'Unemployment', 'log_bach_or_more':'Bachelors or more', 'log_below_high_school':'Below high school', 'log_perc_pov':'Poverty rate', 'log_perc_snap':'HH with SNAP', 'log_value': 'Property value', 'log_perc_no_vehicle':'No vehicle'})"
   ]
  },
  {
   "cell_type": "code",
   "execution_count": 91,
   "metadata": {},
   "outputs": [
    {
     "data": {
      "text/html": [
       "<div>\n",
       "<style scoped>\n",
       "    .dataframe tbody tr th:only-of-type {\n",
       "        vertical-align: middle;\n",
       "    }\n",
       "\n",
       "    .dataframe tbody tr th {\n",
       "        vertical-align: top;\n",
       "    }\n",
       "\n",
       "    .dataframe thead th {\n",
       "        text-align: right;\n",
       "    }\n",
       "</style>\n",
       "<table border=\"1\" class=\"dataframe\">\n",
       "  <thead>\n",
       "    <tr style=\"text-align: right;\">\n",
       "      <th></th>\n",
       "      <th>Variables</th>\n",
       "      <th>MDI</th>\n",
       "    </tr>\n",
       "  </thead>\n",
       "  <tbody>\n",
       "    <tr>\n",
       "      <th>13</th>\n",
       "      <td>Population density</td>\n",
       "      <td>0.070946</td>\n",
       "    </tr>\n",
       "    <tr>\n",
       "      <th>6</th>\n",
       "      <td>Black</td>\n",
       "      <td>0.068401</td>\n",
       "    </tr>\n",
       "    <tr>\n",
       "      <th>4</th>\n",
       "      <td>Land area</td>\n",
       "      <td>0.063651</td>\n",
       "    </tr>\n",
       "    <tr>\n",
       "      <th>9</th>\n",
       "      <td>No vehicle</td>\n",
       "      <td>0.057693</td>\n",
       "    </tr>\n",
       "    <tr>\n",
       "      <th>11</th>\n",
       "      <td>Public transport</td>\n",
       "      <td>0.056531</td>\n",
       "    </tr>\n",
       "    <tr>\n",
       "      <th>7</th>\n",
       "      <td>Hispanic</td>\n",
       "      <td>0.052635</td>\n",
       "    </tr>\n",
       "    <tr>\n",
       "      <th>18</th>\n",
       "      <td>HH with SNAP</td>\n",
       "      <td>0.051952</td>\n",
       "    </tr>\n",
       "    <tr>\n",
       "      <th>17</th>\n",
       "      <td>Poverty rate</td>\n",
       "      <td>0.051090</td>\n",
       "    </tr>\n",
       "    <tr>\n",
       "      <th>19</th>\n",
       "      <td>Property value</td>\n",
       "      <td>0.051059</td>\n",
       "    </tr>\n",
       "    <tr>\n",
       "      <th>3</th>\n",
       "      <td>Some college</td>\n",
       "      <td>0.050135</td>\n",
       "    </tr>\n",
       "    <tr>\n",
       "      <th>1</th>\n",
       "      <td>Inequality</td>\n",
       "      <td>0.050132</td>\n",
       "    </tr>\n",
       "    <tr>\n",
       "      <th>14</th>\n",
       "      <td>Unemployment</td>\n",
       "      <td>0.049441</td>\n",
       "    </tr>\n",
       "    <tr>\n",
       "      <th>2</th>\n",
       "      <td>College no degree</td>\n",
       "      <td>0.049184</td>\n",
       "    </tr>\n",
       "    <tr>\n",
       "      <th>0</th>\n",
       "      <td>Median income</td>\n",
       "      <td>0.048948</td>\n",
       "    </tr>\n",
       "    <tr>\n",
       "      <th>5</th>\n",
       "      <td>Asian</td>\n",
       "      <td>0.048870</td>\n",
       "    </tr>\n",
       "    <tr>\n",
       "      <th>16</th>\n",
       "      <td>Below high school</td>\n",
       "      <td>0.048634</td>\n",
       "    </tr>\n",
       "    <tr>\n",
       "      <th>15</th>\n",
       "      <td>Bachelors or more</td>\n",
       "      <td>0.047565</td>\n",
       "    </tr>\n",
       "    <tr>\n",
       "      <th>12</th>\n",
       "      <td>Rural</td>\n",
       "      <td>0.042328</td>\n",
       "    </tr>\n",
       "    <tr>\n",
       "      <th>8</th>\n",
       "      <td>Alaska Native</td>\n",
       "      <td>0.030489</td>\n",
       "    </tr>\n",
       "    <tr>\n",
       "      <th>10</th>\n",
       "      <td>Pacific Islander</td>\n",
       "      <td>0.010318</td>\n",
       "    </tr>\n",
       "  </tbody>\n",
       "</table>\n",
       "</div>"
      ],
      "text/plain": [
       "             Variables       MDI\n",
       "13  Population density  0.070946\n",
       "6                Black  0.068401\n",
       "4            Land area  0.063651\n",
       "9           No vehicle  0.057693\n",
       "11    Public transport  0.056531\n",
       "7             Hispanic  0.052635\n",
       "18        HH with SNAP  0.051952\n",
       "17        Poverty rate  0.051090\n",
       "19      Property value  0.051059\n",
       "3         Some college  0.050135\n",
       "1           Inequality  0.050132\n",
       "14        Unemployment  0.049441\n",
       "2    College no degree  0.049184\n",
       "0        Median income  0.048948\n",
       "5                Asian  0.048870\n",
       "16   Below high school  0.048634\n",
       "15   Bachelors or more  0.047565\n",
       "12               Rural  0.042328\n",
       "8        Alaska Native  0.030489\n",
       "10    Pacific Islander  0.010318"
      ]
     },
     "execution_count": 91,
     "metadata": {},
     "output_type": "execute_result"
    }
   ],
   "source": [
    "x=x.sort_values('MDI', ascending=False)\n",
    "x"
   ]
  },
  {
   "cell_type": "code",
   "execution_count": 92,
   "metadata": {},
   "outputs": [
    {
     "data": {
      "image/png": "[encoded data removed]",
      "text/plain": [
       "<Figure size 432x288 with 1 Axes>"
      ]
     },
     "metadata": {
      "needs_background": "light"
     },
     "output_type": "display_data"
    }
   ],
   "source": [
    "## plot lasso coefficient estimates\n",
    "fig, ax = plt.subplots()\n",
    "ax.barh(x['Variables'],x['MDI'], align='center')\n",
    "ax.set_yticks(x['Variables'])\n",
    "ax.invert_yaxis()  \n",
    "ax.set_xlabel('Feature Importance')\n",
    "ax.set_title('Random Forest Feature Importance \\n Swamp vs. Healthful')\n",
    "plt.tight_layout()\n",
    "plt.savefig('output/images/rf_swamp_healthful.png')"
   ]
  },
  {
   "cell_type": "code",
   "execution_count": 93,
   "metadata": {},
   "outputs": [
    {
     "data": {
      "text/html": [
       "<div>\n",
       "<style scoped>\n",
       "    .dataframe tbody tr th:only-of-type {\n",
       "        vertical-align: middle;\n",
       "    }\n",
       "\n",
       "    .dataframe tbody tr th {\n",
       "        vertical-align: top;\n",
       "    }\n",
       "\n",
       "    .dataframe thead th {\n",
       "        text-align: right;\n",
       "    }\n",
       "</style>\n",
       "<table border=\"1\" class=\"dataframe\">\n",
       "  <thead>\n",
       "    <tr style=\"text-align: right;\">\n",
       "      <th></th>\n",
       "      <th>Accuracy: RF</th>\n",
       "      <th>Recall: RF</th>\n",
       "      <th>Accuracy:Lasso</th>\n",
       "      <th>Recall: Lasso</th>\n",
       "      <th>Accuracy:Logit</th>\n",
       "      <th>Recall: Logit</th>\n",
       "    </tr>\n",
       "  </thead>\n",
       "  <tbody>\n",
       "    <tr>\n",
       "      <th>0</th>\n",
       "      <td>0.670941</td>\n",
       "      <td>0.512889</td>\n",
       "      <td>0.61781</td>\n",
       "      <td>0.745166</td>\n",
       "      <td>0.61781</td>\n",
       "      <td>0.733888</td>\n",
       "    </tr>\n",
       "  </tbody>\n",
       "</table>\n",
       "</div>"
      ],
      "text/plain": [
       "   Accuracy: RF  Recall: RF  Accuracy:Lasso  Recall: Lasso  Accuracy:Logit  \\\n",
       "0      0.670941    0.512889         0.61781       0.745166         0.61781   \n",
       "\n",
       "   Recall: Logit  \n",
       "0       0.733888  "
      ]
     },
     "execution_count": 93,
     "metadata": {},
     "output_type": "execute_result"
    }
   ],
   "source": [
    "## save overall accuracy and recall score from each model \n",
    "eval_2=pd.DataFrame({'Accuracy: RF':ada_model.score(Xtest, ytest), 'Recall: RF':recall_score(ytest,ada_model.predict(Xtest)), 'Accuracy:Lasso':ada_lasso.score(Xtest, ytest), 'Recall: Lasso':recall_score(ytest, ada_lasso.predict(Xtest)), 'Accuracy:Logit':ada_logit.score(Xtest, ytest), 'Recall: Logit':recall_score(ytest, ada_logit.predict(Xtest))}, index=[0])\n",
    "eval_2"
   ]
  },
  {
   "cell_type": "markdown",
   "metadata": {},
   "source": [
    "**`Outcome 3: Desert vs. Swamp`**"
   ]
  },
  {
   "cell_type": "code",
   "execution_count": 94,
   "metadata": {},
   "outputs": [
    {
     "data": {
      "text/plain": [
       "(23721, 20)"
      ]
     },
     "execution_count": 94,
     "metadata": {},
     "output_type": "execute_result"
    }
   ],
   "source": [
    "## separate outcome from features\n",
    "y=d_vs_s['desert']\n",
    "X=d_vs_s.drop(columns=['desert'])\n",
    "X.shape"
   ]
  },
  {
   "cell_type": "code",
   "execution_count": 95,
   "metadata": {},
   "outputs": [
    {
     "data": {
      "text/html": [
       "<div>\n",
       "<style scoped>\n",
       "    .dataframe tbody tr th:only-of-type {\n",
       "        vertical-align: middle;\n",
       "    }\n",
       "\n",
       "    .dataframe tbody tr th {\n",
       "        vertical-align: top;\n",
       "    }\n",
       "\n",
       "    .dataframe thead th {\n",
       "        text-align: right;\n",
       "    }\n",
       "</style>\n",
       "<table border=\"1\" class=\"dataframe\">\n",
       "  <thead>\n",
       "    <tr style=\"text-align: right;\">\n",
       "      <th></th>\n",
       "      <th>median_income</th>\n",
       "      <th>inequality</th>\n",
       "      <th>college_no_degree</th>\n",
       "      <th>associates_degree</th>\n",
       "      <th>log_SQMI</th>\n",
       "      <th>log_perc_asian</th>\n",
       "      <th>log_perc_black</th>\n",
       "      <th>log_perc_hispanic</th>\n",
       "      <th>log_perc_native</th>\n",
       "      <th>log_perc_no_vehicle</th>\n",
       "      <th>log_perc_pacific</th>\n",
       "      <th>log_perc_public_transport</th>\n",
       "      <th>log_perc_rural</th>\n",
       "      <th>log_pop_density</th>\n",
       "      <th>log_perc_unemploy</th>\n",
       "      <th>log_bach_or_more</th>\n",
       "      <th>log_below_high_school</th>\n",
       "      <th>log_perc_pov</th>\n",
       "      <th>log_perc_snap</th>\n",
       "      <th>log_value</th>\n",
       "    </tr>\n",
       "  </thead>\n",
       "  <tbody>\n",
       "    <tr>\n",
       "      <th>0</th>\n",
       "      <td>0.610878</td>\n",
       "      <td>-1.265588</td>\n",
       "      <td>0.350975</td>\n",
       "      <td>-0.117801</td>\n",
       "      <td>0.054291</td>\n",
       "      <td>0.008843</td>\n",
       "      <td>0.407431</td>\n",
       "      <td>-0.195112</td>\n",
       "      <td>-0.123071</td>\n",
       "      <td>-0.136350</td>\n",
       "      <td>-0.223226</td>\n",
       "      <td>-1.010927</td>\n",
       "      <td>-0.601304</td>\n",
       "      <td>0.177627</td>\n",
       "      <td>-1.096155</td>\n",
       "      <td>0.859303</td>\n",
       "      <td>-1.258220</td>\n",
       "      <td>-0.798835</td>\n",
       "      <td>-0.767826</td>\n",
       "      <td>-0.014507</td>\n",
       "    </tr>\n",
       "    <tr>\n",
       "      <th>1</th>\n",
       "      <td>-0.145118</td>\n",
       "      <td>-0.546379</td>\n",
       "      <td>0.160387</td>\n",
       "      <td>-0.327244</td>\n",
       "      <td>1.877457</td>\n",
       "      <td>-0.563601</td>\n",
       "      <td>0.371147</td>\n",
       "      <td>-1.157170</td>\n",
       "      <td>0.376734</td>\n",
       "      <td>-0.718945</td>\n",
       "      <td>-0.223226</td>\n",
       "      <td>-1.010927</td>\n",
       "      <td>1.891937</td>\n",
       "      <td>-1.578548</td>\n",
       "      <td>0.230405</td>\n",
       "      <td>-0.561004</td>\n",
       "      <td>0.748195</td>\n",
       "      <td>-0.241436</td>\n",
       "      <td>0.520841</td>\n",
       "      <td>-0.654367</td>\n",
       "    </tr>\n",
       "  </tbody>\n",
       "</table>\n",
       "</div>"
      ],
      "text/plain": [
       "   median_income  inequality  college_no_degree  associates_degree  log_SQMI  \\\n",
       "0       0.610878   -1.265588           0.350975          -0.117801  0.054291   \n",
       "1      -0.145118   -0.546379           0.160387          -0.327244  1.877457   \n",
       "\n",
       "   log_perc_asian  log_perc_black  log_perc_hispanic  log_perc_native  \\\n",
       "0        0.008843        0.407431          -0.195112        -0.123071   \n",
       "1       -0.563601        0.371147          -1.157170         0.376734   \n",
       "\n",
       "   log_perc_no_vehicle  log_perc_pacific  log_perc_public_transport  \\\n",
       "0            -0.136350         -0.223226                  -1.010927   \n",
       "1            -0.718945         -0.223226                  -1.010927   \n",
       "\n",
       "   log_perc_rural  log_pop_density  log_perc_unemploy  log_bach_or_more  \\\n",
       "0       -0.601304         0.177627          -1.096155          0.859303   \n",
       "1        1.891937        -1.578548           0.230405         -0.561004   \n",
       "\n",
       "   log_below_high_school  log_perc_pov  log_perc_snap  log_value  \n",
       "0              -1.258220     -0.798835      -0.767826  -0.014507  \n",
       "1               0.748195     -0.241436       0.520841  -0.654367  "
      ]
     },
     "execution_count": 95,
     "metadata": {},
     "output_type": "execute_result"
    }
   ],
   "source": [
    "# standardize features to eliminate issues of scaling\n",
    "scaler = StandardScaler()\n",
    "Xsc = pd.DataFrame(scaler.fit_transform(X), columns = X.columns)\n",
    "Xsc.head(2)"
   ]
  },
  {
   "cell_type": "code",
   "execution_count": 96,
   "metadata": {},
   "outputs": [],
   "source": [
    "## split data; test size is 30%\n",
    "Xtrain, Xtest, ytrain, ytest = train_test_split(Xsc, y, test_size=0.3, random_state=10)"
   ]
  },
  {
   "cell_type": "markdown",
   "metadata": {},
   "source": [
    "**`Logistic Regression`**"
   ]
  },
  {
   "cell_type": "code",
   "execution_count": 97,
   "metadata": {},
   "outputs": [
    {
     "data": {
      "text/plain": [
       "LogisticRegression()"
      ]
     },
     "execution_count": 97,
     "metadata": {},
     "output_type": "execute_result"
    }
   ],
   "source": [
    "## model fitting\n",
    "logit = LogisticRegression()\n",
    "logit.fit(Xtrain, ytrain)"
   ]
  },
  {
   "cell_type": "code",
   "execution_count": 98,
   "metadata": {},
   "outputs": [
    {
     "name": "stdout",
     "output_type": "stream",
     "text": [
      "Accuracy: 0.735843754390895\n",
      "Recall: 0.6510894495412844\n"
     ]
    },
    {
     "data": {
      "text/plain": [
       "array([[2966,  663],\n",
       "       [1217, 2271]])"
      ]
     },
     "execution_count": 98,
     "metadata": {},
     "output_type": "execute_result"
    }
   ],
   "source": [
    "## examine classification errors\n",
    "print('Accuracy:', logit.score(Xtest, ytest))\n",
    "print('Recall:',recall_score(ytest, logit.predict(Xtest)))\n",
    "confusion_matrix(ytest, logit.predict(Xtest))"
   ]
  },
  {
   "cell_type": "markdown",
   "metadata": {},
   "source": [
    "**`LASSO Logistic Regression`**"
   ]
  },
  {
   "cell_type": "code",
   "execution_count": 100,
   "metadata": {},
   "outputs": [
    {
     "data": {
      "text/plain": [
       "LogisticRegression(penalty='l1', random_state=10, solver='liblinear')"
      ]
     },
     "execution_count": 100,
     "metadata": {},
     "output_type": "execute_result"
    }
   ],
   "source": [
    "##fit lasso logistic regression\n",
    "lasso = LogisticRegression(penalty= 'l1', solver= 'liblinear',random_state=10)\n",
    "lasso.fit(Xsc, y)"
   ]
  },
  {
   "cell_type": "code",
   "execution_count": 101,
   "metadata": {},
   "outputs": [
    {
     "data": {
      "text/plain": [
       "array([0.001, 0.006, 0.011, 0.016, 0.021, 0.026])"
      ]
     },
     "execution_count": 101,
     "metadata": {},
     "output_type": "execute_result"
    }
   ],
   "source": [
    "## specify range for alpha/C\n",
    "C=np.arange(0.001,0.03,0.005)\n",
    "C"
   ]
  },
  {
   "cell_type": "markdown",
   "metadata": {},
   "source": [
    "#### Validation Curve: hyper parameter turning for strength of regularization penalty"
   ]
  },
  {
   "cell_type": "code",
   "execution_count": 102,
   "metadata": {},
   "outputs": [
    {
     "data": {
      "text/plain": [
       "array([[0.71280682, 0.71015036, 0.70654363, 0.71656752, 0.71211766,\n",
       "        0.70776149, 0.70584102, 0.71422549, 0.70986931, 0.71015036],\n",
       "       [0.71800637, 0.71787906, 0.71211766, 0.7241557 , 0.71872219,\n",
       "        0.71385077, 0.71338236, 0.72073633, 0.71581807, 0.71633332],\n",
       "       [0.72067641, 0.72059581, 0.71361656, 0.726123  , 0.71998688,\n",
       "        0.71736381, 0.71567755, 0.72214155, 0.71872219, 0.7194248 ],\n",
       "       [0.72465805, 0.72382781, 0.71675488, 0.73029182, 0.72331257,\n",
       "        0.72031477, 0.72040845, 0.72677877, 0.72143894, 0.72162631],\n",
       "       [0.72746862, 0.72504567, 0.7181601 , 0.73207176, 0.72518619,\n",
       "        0.72190735, 0.72120474, 0.72846503, 0.72279732, 0.72373413],\n",
       "       [0.72812441, 0.72537355, 0.71890955, 0.73277437, 0.72635721,\n",
       "        0.72209471, 0.72040845, 0.72991709, 0.72434306, 0.72424938]])"
      ]
     },
     "execution_count": 102,
     "metadata": {},
     "output_type": "execute_result"
    }
   ],
   "source": [
    "## generate training and test scores using cv 10 fold\n",
    "train_scores, test_scores = validation_curve(lasso, Xsc, y, param_name='C',\n",
    "                                            param_range=C, cv=10)\n",
    "train_scores\n"
   ]
  },
  {
   "cell_type": "code",
   "execution_count": 103,
   "metadata": {},
   "outputs": [
    {
     "data": {
      "text/plain": [
       "array([0.70498759, 0.70958325, 0.70857127, 0.71211257, 0.71346159,\n",
       "       0.71392533])"
      ]
     },
     "execution_count": 103,
     "metadata": {},
     "output_type": "execute_result"
    }
   ],
   "source": [
    "## compute mean train and test scores\n",
    "train_mean = np.mean(train_scores, axis=1)\n",
    "test_mean = np.mean(test_scores, axis=1)\n",
    "test_mean"
   ]
  },
  {
   "cell_type": "code",
   "execution_count": 104,
   "metadata": {},
   "outputs": [
    {
     "data": {
      "image/png": "[encoded data removed]",
      "text/plain": [
       "<Figure size 432x288 with 1 Axes>"
      ]
     },
     "metadata": {
      "needs_background": "light"
     },
     "output_type": "display_data"
    }
   ],
   "source": [
    "## plot curve\n",
    "fig1 = plt.figure()\n",
    "plt.plot(C, train_mean, label='Train')\n",
    "plt.plot(C, test_mean, label='Test')\n",
    "plt.xlabel('C parameter')\n",
    "plt.ylabel('Score')\n",
    "plt.title('LASSO Validation Curve \\n Desert vs. Swamp')\n",
    "plt.xticks(C)\n",
    "plt.legend()\n",
    "plt.savefig('output/images/valid_curve_lasso_desert_swamp.png')"
   ]
  },
  {
   "cell_type": "markdown",
   "metadata": {},
   "source": [
    "Let's pick 0.001 to reduce variance . The higher test score associated with 0.006 is not worth the increase in variance."
   ]
  },
  {
   "cell_type": "code",
   "execution_count": 105,
   "metadata": {},
   "outputs": [
    {
     "data": {
      "text/plain": [
       "LogisticRegression(C=0.001, penalty='l1', random_state=10, solver='liblinear')"
      ]
     },
     "execution_count": 105,
     "metadata": {},
     "output_type": "execute_result"
    }
   ],
   "source": [
    "##fit lasso logistic regression\n",
    "lasso = LogisticRegression(C=0.001, penalty= 'l1', solver= 'liblinear',random_state=10)\n",
    "lasso.fit(Xtrain, ytrain)"
   ]
  },
  {
   "cell_type": "code",
   "execution_count": 106,
   "metadata": {},
   "outputs": [
    {
     "name": "stdout",
     "output_type": "stream",
     "text": [
      "Accuracy: 0.7116762680904876\n",
      "Recall: 0.5665137614678899\n"
     ]
    },
    {
     "data": {
      "text/plain": [
       "array([[3089,  540],\n",
       "       [1512, 1976]])"
      ]
     },
     "execution_count": 106,
     "metadata": {},
     "output_type": "execute_result"
    }
   ],
   "source": [
    "## examine classification errors\n",
    "print('Accuracy:', lasso.score(Xtest, ytest))\n",
    "print('Recall:',recall_score(ytest, lasso.predict(Xtest)))\n",
    "confusion_matrix(ytest, lasso.predict(Xtest))"
   ]
  },
  {
   "cell_type": "code",
   "execution_count": 107,
   "metadata": {},
   "outputs": [
    {
     "data": {
      "text/html": [
       "<div>\n",
       "<style scoped>\n",
       "    .dataframe tbody tr th:only-of-type {\n",
       "        vertical-align: middle;\n",
       "    }\n",
       "\n",
       "    .dataframe tbody tr th {\n",
       "        vertical-align: top;\n",
       "    }\n",
       "\n",
       "    .dataframe thead th {\n",
       "        text-align: right;\n",
       "    }\n",
       "</style>\n",
       "<table border=\"1\" class=\"dataframe\">\n",
       "  <thead>\n",
       "    <tr style=\"text-align: right;\">\n",
       "      <th></th>\n",
       "      <th>Variable</th>\n",
       "      <th>Logit Coef</th>\n",
       "      <th>Lasso Coef</th>\n",
       "    </tr>\n",
       "  </thead>\n",
       "  <tbody>\n",
       "    <tr>\n",
       "      <th>0</th>\n",
       "      <td>median_income</td>\n",
       "      <td>0.251675</td>\n",
       "      <td>0.000000</td>\n",
       "    </tr>\n",
       "    <tr>\n",
       "      <th>1</th>\n",
       "      <td>inequality</td>\n",
       "      <td>-0.084262</td>\n",
       "      <td>0.000000</td>\n",
       "    </tr>\n",
       "    <tr>\n",
       "      <th>2</th>\n",
       "      <td>college_no_degree</td>\n",
       "      <td>0.015037</td>\n",
       "      <td>0.000000</td>\n",
       "    </tr>\n",
       "    <tr>\n",
       "      <th>3</th>\n",
       "      <td>associates_degree</td>\n",
       "      <td>0.065084</td>\n",
       "      <td>0.000000</td>\n",
       "    </tr>\n",
       "    <tr>\n",
       "      <th>4</th>\n",
       "      <td>log_SQMI</td>\n",
       "      <td>-1.333940</td>\n",
       "      <td>0.000000</td>\n",
       "    </tr>\n",
       "    <tr>\n",
       "      <th>5</th>\n",
       "      <td>log_perc_asian</td>\n",
       "      <td>-0.161279</td>\n",
       "      <td>0.000000</td>\n",
       "    </tr>\n",
       "    <tr>\n",
       "      <th>6</th>\n",
       "      <td>log_perc_black</td>\n",
       "      <td>-0.072003</td>\n",
       "      <td>0.000000</td>\n",
       "    </tr>\n",
       "    <tr>\n",
       "      <th>7</th>\n",
       "      <td>log_perc_hispanic</td>\n",
       "      <td>-0.251109</td>\n",
       "      <td>-0.087259</td>\n",
       "    </tr>\n",
       "    <tr>\n",
       "      <th>8</th>\n",
       "      <td>log_perc_native</td>\n",
       "      <td>0.026910</td>\n",
       "      <td>0.000000</td>\n",
       "    </tr>\n",
       "    <tr>\n",
       "      <th>9</th>\n",
       "      <td>log_perc_no_vehicle</td>\n",
       "      <td>-0.286081</td>\n",
       "      <td>-0.035112</td>\n",
       "    </tr>\n",
       "    <tr>\n",
       "      <th>10</th>\n",
       "      <td>log_perc_pacific</td>\n",
       "      <td>0.069512</td>\n",
       "      <td>0.000000</td>\n",
       "    </tr>\n",
       "    <tr>\n",
       "      <th>11</th>\n",
       "      <td>log_perc_public_transport</td>\n",
       "      <td>0.149357</td>\n",
       "      <td>0.000000</td>\n",
       "    </tr>\n",
       "    <tr>\n",
       "      <th>12</th>\n",
       "      <td>log_perc_rural</td>\n",
       "      <td>0.786442</td>\n",
       "      <td>0.123121</td>\n",
       "    </tr>\n",
       "    <tr>\n",
       "      <th>13</th>\n",
       "      <td>log_pop_density</td>\n",
       "      <td>-1.621419</td>\n",
       "      <td>-0.701331</td>\n",
       "    </tr>\n",
       "    <tr>\n",
       "      <th>14</th>\n",
       "      <td>log_perc_unemploy</td>\n",
       "      <td>0.059182</td>\n",
       "      <td>0.000000</td>\n",
       "    </tr>\n",
       "    <tr>\n",
       "      <th>15</th>\n",
       "      <td>log_bach_or_more</td>\n",
       "      <td>-0.171625</td>\n",
       "      <td>0.000000</td>\n",
       "    </tr>\n",
       "    <tr>\n",
       "      <th>16</th>\n",
       "      <td>log_below_high_school</td>\n",
       "      <td>-0.102773</td>\n",
       "      <td>0.000000</td>\n",
       "    </tr>\n",
       "    <tr>\n",
       "      <th>17</th>\n",
       "      <td>log_perc_pov</td>\n",
       "      <td>0.075033</td>\n",
       "      <td>0.000000</td>\n",
       "    </tr>\n",
       "    <tr>\n",
       "      <th>18</th>\n",
       "      <td>log_perc_snap</td>\n",
       "      <td>0.017039</td>\n",
       "      <td>0.000000</td>\n",
       "    </tr>\n",
       "    <tr>\n",
       "      <th>19</th>\n",
       "      <td>log_value</td>\n",
       "      <td>-0.186467</td>\n",
       "      <td>0.000000</td>\n",
       "    </tr>\n",
       "  </tbody>\n",
       "</table>\n",
       "</div>"
      ],
      "text/plain": [
       "                     Variable  Logit Coef  Lasso Coef\n",
       "0               median_income    0.251675    0.000000\n",
       "1                  inequality   -0.084262    0.000000\n",
       "2           college_no_degree    0.015037    0.000000\n",
       "3           associates_degree    0.065084    0.000000\n",
       "4                    log_SQMI   -1.333940    0.000000\n",
       "5              log_perc_asian   -0.161279    0.000000\n",
       "6              log_perc_black   -0.072003    0.000000\n",
       "7           log_perc_hispanic   -0.251109   -0.087259\n",
       "8             log_perc_native    0.026910    0.000000\n",
       "9         log_perc_no_vehicle   -0.286081   -0.035112\n",
       "10           log_perc_pacific    0.069512    0.000000\n",
       "11  log_perc_public_transport    0.149357    0.000000\n",
       "12             log_perc_rural    0.786442    0.123121\n",
       "13            log_pop_density   -1.621419   -0.701331\n",
       "14          log_perc_unemploy    0.059182    0.000000\n",
       "15           log_bach_or_more   -0.171625    0.000000\n",
       "16      log_below_high_school   -0.102773    0.000000\n",
       "17               log_perc_pov    0.075033    0.000000\n",
       "18              log_perc_snap    0.017039    0.000000\n",
       "19                  log_value   -0.186467    0.000000"
      ]
     },
     "execution_count": 107,
     "metadata": {},
     "output_type": "execute_result"
    }
   ],
   "source": [
    "x=pd.DataFrame({'Variable': Xsc.columns,'Logit Coef': logit.coef_.ravel(), 'Lasso Coef': lasso.coef_.ravel()})\n",
    "x"
   ]
  },
  {
   "cell_type": "code",
   "execution_count": 108,
   "metadata": {},
   "outputs": [],
   "source": [
    "## rename variables\n",
    "x=x.replace({'median_income':'Median income', 'inequality':'Inequality', 'college_no_degree':'College no degree', 'associates_degree':'Some college','log_SQMI': 'Land area', 'log_perc_asian': 'Asian', 'log_perc_black':'Black', 'log_perc_hispanic':'Hispanic', 'log_perc_native':'Alaska Native', 'log_perc_pacific':'Pacific Islander', 'log_perc_public_transport':'Public transport', 'log_perc_rural': 'Rural', 'log_pop_density':'Population density', 'log_perc_unemploy':'Unemployment', 'log_bach_or_more':'Bachelors or more', 'log_below_high_school':'Below high school', 'log_perc_pov':'Poverty rate', 'log_perc_snap':'HH with SNAP', 'log_value': 'Property value', 'log_perc_no_vehicle':'No vehicle'})"
   ]
  },
  {
   "cell_type": "code",
   "execution_count": 109,
   "metadata": {},
   "outputs": [
    {
     "data": {
      "image/png": "[encoded data removed]",
      "text/plain": [
       "<Figure size 432x288 with 1 Axes>"
      ]
     },
     "metadata": {
      "needs_background": "light"
     },
     "output_type": "display_data"
    }
   ],
   "source": [
    "## plot coefficients for logit\n",
    "fig, ax = plt.subplots()\n",
    "ax.barh(x['Variable'],x['Logit Coef'], align='center')\n",
    "ax.set_yticks(x['Variable'])\n",
    "ax.invert_yaxis()  \n",
    "ax.set_xlabel('Estimates')\n",
    "ax.set_title('Logistic Regression Coefficient Estimates \\n Desert vs. Swamp')\n",
    "plt.tight_layout()\n",
    "plt.savefig('output/images/logit_desert_swamp.png')"
   ]
  },
  {
   "cell_type": "code",
   "execution_count": 110,
   "metadata": {},
   "outputs": [
    {
     "data": {
      "image/png": "[encoded data removed]",
      "text/plain": [
       "<Figure size 432x288 with 1 Axes>"
      ]
     },
     "metadata": {
      "needs_background": "light"
     },
     "output_type": "display_data"
    }
   ],
   "source": [
    "## plot lasso coefficient estimates\n",
    "fig, ax = plt.subplots()\n",
    "ax.barh(x['Variable'],x['Lasso Coef'], align='center')\n",
    "ax.set_yticks(x['Variable'])\n",
    "ax.invert_yaxis()  \n",
    "ax.set_xlabel('Estimates')\n",
    "ax.set_title('LASSO Coefficient Estimates \\n Desert vs. Swamp')\n",
    "plt.tight_layout()\n",
    "plt.savefig('output/images/lasso_desert_swamp.png')"
   ]
  },
  {
   "cell_type": "markdown",
   "metadata": {},
   "source": [
    "`Random Forest`"
   ]
  },
  {
   "cell_type": "code",
   "execution_count": 111,
   "metadata": {},
   "outputs": [
    {
     "data": {
      "text/plain": [
       "RandomForestClassifier()"
      ]
     },
     "execution_count": 111,
     "metadata": {},
     "output_type": "execute_result"
    }
   ],
   "source": [
    "## model fitting\n",
    "random_forest = RandomForestClassifier()\n",
    "random_forest.fit(Xtrain, ytrain)"
   ]
  },
  {
   "cell_type": "code",
   "execution_count": 112,
   "metadata": {},
   "outputs": [
    {
     "name": "stdout",
     "output_type": "stream",
     "text": [
      "Accuracy: 0.7375298580862724\n",
      "Recall: 0.6327408256880734\n"
     ]
    },
    {
     "data": {
      "text/plain": [
       "array([[3042,  587],\n",
       "       [1281, 2207]])"
      ]
     },
     "execution_count": 112,
     "metadata": {},
     "output_type": "execute_result"
    }
   ],
   "source": [
    "## examine classification errors\n",
    "print('Accuracy:', random_forest.score(Xtest, ytest))\n",
    "print('Recall:',recall_score(ytest, random_forest.predict(Xtest)))\n",
    "confusion_matrix(ytest, random_forest.predict(Xtest))"
   ]
  },
  {
   "cell_type": "code",
   "execution_count": 113,
   "metadata": {},
   "outputs": [
    {
     "data": {
      "text/html": [
       "<div>\n",
       "<style scoped>\n",
       "    .dataframe tbody tr th:only-of-type {\n",
       "        vertical-align: middle;\n",
       "    }\n",
       "\n",
       "    .dataframe tbody tr th {\n",
       "        vertical-align: top;\n",
       "    }\n",
       "\n",
       "    .dataframe thead th {\n",
       "        text-align: right;\n",
       "    }\n",
       "</style>\n",
       "<table border=\"1\" class=\"dataframe\">\n",
       "  <thead>\n",
       "    <tr style=\"text-align: right;\">\n",
       "      <th></th>\n",
       "      <th>Variables</th>\n",
       "      <th>MDI</th>\n",
       "    </tr>\n",
       "  </thead>\n",
       "  <tbody>\n",
       "    <tr>\n",
       "      <th>0</th>\n",
       "      <td>median_income</td>\n",
       "      <td>0.043361</td>\n",
       "    </tr>\n",
       "    <tr>\n",
       "      <th>1</th>\n",
       "      <td>inequality</td>\n",
       "      <td>0.042442</td>\n",
       "    </tr>\n",
       "    <tr>\n",
       "      <th>2</th>\n",
       "      <td>college_no_degree</td>\n",
       "      <td>0.040651</td>\n",
       "    </tr>\n",
       "    <tr>\n",
       "      <th>3</th>\n",
       "      <td>associates_degree</td>\n",
       "      <td>0.040290</td>\n",
       "    </tr>\n",
       "    <tr>\n",
       "      <th>4</th>\n",
       "      <td>log_SQMI</td>\n",
       "      <td>0.106123</td>\n",
       "    </tr>\n",
       "    <tr>\n",
       "      <th>5</th>\n",
       "      <td>log_perc_asian</td>\n",
       "      <td>0.043058</td>\n",
       "    </tr>\n",
       "    <tr>\n",
       "      <th>6</th>\n",
       "      <td>log_perc_black</td>\n",
       "      <td>0.046877</td>\n",
       "    </tr>\n",
       "    <tr>\n",
       "      <th>7</th>\n",
       "      <td>log_perc_hispanic</td>\n",
       "      <td>0.062302</td>\n",
       "    </tr>\n",
       "    <tr>\n",
       "      <th>8</th>\n",
       "      <td>log_perc_native</td>\n",
       "      <td>0.020790</td>\n",
       "    </tr>\n",
       "    <tr>\n",
       "      <th>9</th>\n",
       "      <td>log_perc_no_vehicle</td>\n",
       "      <td>0.059680</td>\n",
       "    </tr>\n",
       "    <tr>\n",
       "      <th>10</th>\n",
       "      <td>log_perc_pacific</td>\n",
       "      <td>0.006916</td>\n",
       "    </tr>\n",
       "    <tr>\n",
       "      <th>11</th>\n",
       "      <td>log_perc_public_transport</td>\n",
       "      <td>0.046612</td>\n",
       "    </tr>\n",
       "    <tr>\n",
       "      <th>12</th>\n",
       "      <td>log_perc_rural</td>\n",
       "      <td>0.080786</td>\n",
       "    </tr>\n",
       "    <tr>\n",
       "      <th>13</th>\n",
       "      <td>log_pop_density</td>\n",
       "      <td>0.111195</td>\n",
       "    </tr>\n",
       "    <tr>\n",
       "      <th>14</th>\n",
       "      <td>log_perc_unemploy</td>\n",
       "      <td>0.038205</td>\n",
       "    </tr>\n",
       "    <tr>\n",
       "      <th>15</th>\n",
       "      <td>log_bach_or_more</td>\n",
       "      <td>0.039015</td>\n",
       "    </tr>\n",
       "    <tr>\n",
       "      <th>16</th>\n",
       "      <td>log_below_high_school</td>\n",
       "      <td>0.039055</td>\n",
       "    </tr>\n",
       "    <tr>\n",
       "      <th>17</th>\n",
       "      <td>log_perc_pov</td>\n",
       "      <td>0.042958</td>\n",
       "    </tr>\n",
       "    <tr>\n",
       "      <th>18</th>\n",
       "      <td>log_perc_snap</td>\n",
       "      <td>0.040172</td>\n",
       "    </tr>\n",
       "    <tr>\n",
       "      <th>19</th>\n",
       "      <td>log_value</td>\n",
       "      <td>0.049511</td>\n",
       "    </tr>\n",
       "  </tbody>\n",
       "</table>\n",
       "</div>"
      ],
      "text/plain": [
       "                    Variables       MDI\n",
       "0               median_income  0.043361\n",
       "1                  inequality  0.042442\n",
       "2           college_no_degree  0.040651\n",
       "3           associates_degree  0.040290\n",
       "4                    log_SQMI  0.106123\n",
       "5              log_perc_asian  0.043058\n",
       "6              log_perc_black  0.046877\n",
       "7           log_perc_hispanic  0.062302\n",
       "8             log_perc_native  0.020790\n",
       "9         log_perc_no_vehicle  0.059680\n",
       "10           log_perc_pacific  0.006916\n",
       "11  log_perc_public_transport  0.046612\n",
       "12             log_perc_rural  0.080786\n",
       "13            log_pop_density  0.111195\n",
       "14          log_perc_unemploy  0.038205\n",
       "15           log_bach_or_more  0.039015\n",
       "16      log_below_high_school  0.039055\n",
       "17               log_perc_pov  0.042958\n",
       "18              log_perc_snap  0.040172\n",
       "19                  log_value  0.049511"
      ]
     },
     "execution_count": 113,
     "metadata": {},
     "output_type": "execute_result"
    }
   ],
   "source": [
    "## safe feature importance to dataframe\n",
    "x=pd.DataFrame({'Variables':Xtrain.columns, 'MDI':random_forest.feature_importances_})\n",
    "x"
   ]
  },
  {
   "cell_type": "code",
   "execution_count": 114,
   "metadata": {},
   "outputs": [],
   "source": [
    "## rename variables\n",
    "x=x.replace({'median_income':'Median income', 'inequality':'Inequality', 'college_no_degree':'College no degree', 'associates_degree':'Some college','log_SQMI': 'Land area', 'log_perc_asian': 'Asian', 'log_perc_black':'Black', 'log_perc_hispanic':'Hispanic', 'log_perc_native':'Alaska Native', 'log_perc_pacific':'Pacific Islander', 'log_perc_public_transport':'Public transport', 'log_perc_rural': 'Rural', 'log_pop_density':'Population density', 'log_perc_unemploy':'Unemployment', 'log_bach_or_more':'Bachelors or more', 'log_below_high_school':'Below high school', 'log_perc_pov':'Poverty rate', 'log_perc_snap':'HH with SNAP', 'log_value': 'Property value', 'log_perc_no_vehicle':'No vehicle'})"
   ]
  },
  {
   "cell_type": "code",
   "execution_count": 115,
   "metadata": {},
   "outputs": [
    {
     "data": {
      "text/html": [
       "<div>\n",
       "<style scoped>\n",
       "    .dataframe tbody tr th:only-of-type {\n",
       "        vertical-align: middle;\n",
       "    }\n",
       "\n",
       "    .dataframe tbody tr th {\n",
       "        vertical-align: top;\n",
       "    }\n",
       "\n",
       "    .dataframe thead th {\n",
       "        text-align: right;\n",
       "    }\n",
       "</style>\n",
       "<table border=\"1\" class=\"dataframe\">\n",
       "  <thead>\n",
       "    <tr style=\"text-align: right;\">\n",
       "      <th></th>\n",
       "      <th>Variables</th>\n",
       "      <th>MDI</th>\n",
       "    </tr>\n",
       "  </thead>\n",
       "  <tbody>\n",
       "    <tr>\n",
       "      <th>13</th>\n",
       "      <td>Population density</td>\n",
       "      <td>0.111195</td>\n",
       "    </tr>\n",
       "    <tr>\n",
       "      <th>4</th>\n",
       "      <td>Land area</td>\n",
       "      <td>0.106123</td>\n",
       "    </tr>\n",
       "    <tr>\n",
       "      <th>12</th>\n",
       "      <td>Rural</td>\n",
       "      <td>0.080786</td>\n",
       "    </tr>\n",
       "    <tr>\n",
       "      <th>7</th>\n",
       "      <td>Hispanic</td>\n",
       "      <td>0.062302</td>\n",
       "    </tr>\n",
       "    <tr>\n",
       "      <th>9</th>\n",
       "      <td>No vehicle</td>\n",
       "      <td>0.059680</td>\n",
       "    </tr>\n",
       "    <tr>\n",
       "      <th>19</th>\n",
       "      <td>Property value</td>\n",
       "      <td>0.049511</td>\n",
       "    </tr>\n",
       "    <tr>\n",
       "      <th>6</th>\n",
       "      <td>Black</td>\n",
       "      <td>0.046877</td>\n",
       "    </tr>\n",
       "    <tr>\n",
       "      <th>11</th>\n",
       "      <td>Public transport</td>\n",
       "      <td>0.046612</td>\n",
       "    </tr>\n",
       "    <tr>\n",
       "      <th>0</th>\n",
       "      <td>Median income</td>\n",
       "      <td>0.043361</td>\n",
       "    </tr>\n",
       "    <tr>\n",
       "      <th>5</th>\n",
       "      <td>Asian</td>\n",
       "      <td>0.043058</td>\n",
       "    </tr>\n",
       "    <tr>\n",
       "      <th>17</th>\n",
       "      <td>Poverty rate</td>\n",
       "      <td>0.042958</td>\n",
       "    </tr>\n",
       "    <tr>\n",
       "      <th>1</th>\n",
       "      <td>Inequality</td>\n",
       "      <td>0.042442</td>\n",
       "    </tr>\n",
       "    <tr>\n",
       "      <th>2</th>\n",
       "      <td>College no degree</td>\n",
       "      <td>0.040651</td>\n",
       "    </tr>\n",
       "    <tr>\n",
       "      <th>3</th>\n",
       "      <td>Some college</td>\n",
       "      <td>0.040290</td>\n",
       "    </tr>\n",
       "    <tr>\n",
       "      <th>18</th>\n",
       "      <td>HH with SNAP</td>\n",
       "      <td>0.040172</td>\n",
       "    </tr>\n",
       "    <tr>\n",
       "      <th>16</th>\n",
       "      <td>Below high school</td>\n",
       "      <td>0.039055</td>\n",
       "    </tr>\n",
       "    <tr>\n",
       "      <th>15</th>\n",
       "      <td>Bachelors or more</td>\n",
       "      <td>0.039015</td>\n",
       "    </tr>\n",
       "    <tr>\n",
       "      <th>14</th>\n",
       "      <td>Unemployment</td>\n",
       "      <td>0.038205</td>\n",
       "    </tr>\n",
       "    <tr>\n",
       "      <th>8</th>\n",
       "      <td>Alaska Native</td>\n",
       "      <td>0.020790</td>\n",
       "    </tr>\n",
       "    <tr>\n",
       "      <th>10</th>\n",
       "      <td>Pacific Islander</td>\n",
       "      <td>0.006916</td>\n",
       "    </tr>\n",
       "  </tbody>\n",
       "</table>\n",
       "</div>"
      ],
      "text/plain": [
       "             Variables       MDI\n",
       "13  Population density  0.111195\n",
       "4            Land area  0.106123\n",
       "12               Rural  0.080786\n",
       "7             Hispanic  0.062302\n",
       "9           No vehicle  0.059680\n",
       "19      Property value  0.049511\n",
       "6                Black  0.046877\n",
       "11    Public transport  0.046612\n",
       "0        Median income  0.043361\n",
       "5                Asian  0.043058\n",
       "17        Poverty rate  0.042958\n",
       "1           Inequality  0.042442\n",
       "2    College no degree  0.040651\n",
       "3         Some college  0.040290\n",
       "18        HH with SNAP  0.040172\n",
       "16   Below high school  0.039055\n",
       "15   Bachelors or more  0.039015\n",
       "14        Unemployment  0.038205\n",
       "8        Alaska Native  0.020790\n",
       "10    Pacific Islander  0.006916"
      ]
     },
     "execution_count": 115,
     "metadata": {},
     "output_type": "execute_result"
    }
   ],
   "source": [
    "x=x.sort_values('MDI', ascending=False)\n",
    "x"
   ]
  },
  {
   "cell_type": "code",
   "execution_count": 116,
   "metadata": {},
   "outputs": [
    {
     "data": {
      "image/png": "[encoded data removed]",
      "text/plain": [
       "<Figure size 432x288 with 1 Axes>"
      ]
     },
     "metadata": {
      "needs_background": "light"
     },
     "output_type": "display_data"
    }
   ],
   "source": [
    "## plot lasso coefficient estimates\n",
    "fig, ax = plt.subplots()\n",
    "ax.barh(x['Variables'],x['MDI'], align='center')\n",
    "ax.set_yticks(x['Variables'])\n",
    "ax.invert_yaxis()  \n",
    "ax.set_xlabel('Feature Importance')\n",
    "ax.set_title('Random Forest Feature Importance \\n Desert vs. Swamp')\n",
    "plt.tight_layout()\n",
    "plt.savefig('output/images/rf_desert_swamp.png')"
   ]
  },
  {
   "cell_type": "code",
   "execution_count": 117,
   "metadata": {},
   "outputs": [
    {
     "data": {
      "text/html": [
       "<div>\n",
       "<style scoped>\n",
       "    .dataframe tbody tr th:only-of-type {\n",
       "        vertical-align: middle;\n",
       "    }\n",
       "\n",
       "    .dataframe tbody tr th {\n",
       "        vertical-align: top;\n",
       "    }\n",
       "\n",
       "    .dataframe thead th {\n",
       "        text-align: right;\n",
       "    }\n",
       "</style>\n",
       "<table border=\"1\" class=\"dataframe\">\n",
       "  <thead>\n",
       "    <tr style=\"text-align: right;\">\n",
       "      <th></th>\n",
       "      <th>Accuracy: RF</th>\n",
       "      <th>Recall: RF</th>\n",
       "      <th>Accuracy:Lasso</th>\n",
       "      <th>Recall: Lasso</th>\n",
       "      <th>Accuracy:Logit</th>\n",
       "      <th>Recall: Logit</th>\n",
       "    </tr>\n",
       "  </thead>\n",
       "  <tbody>\n",
       "    <tr>\n",
       "      <th>0</th>\n",
       "      <td>0.73753</td>\n",
       "      <td>0.632741</td>\n",
       "      <td>0.711676</td>\n",
       "      <td>0.566514</td>\n",
       "      <td>0.735844</td>\n",
       "      <td>0.651089</td>\n",
       "    </tr>\n",
       "  </tbody>\n",
       "</table>\n",
       "</div>"
      ],
      "text/plain": [
       "   Accuracy: RF  Recall: RF  Accuracy:Lasso  Recall: Lasso  Accuracy:Logit  \\\n",
       "0       0.73753    0.632741        0.711676       0.566514        0.735844   \n",
       "\n",
       "   Recall: Logit  \n",
       "0       0.651089  "
      ]
     },
     "execution_count": 117,
     "metadata": {},
     "output_type": "execute_result"
    }
   ],
   "source": [
    "## save overall accuracy and recall score from each model \n",
    "eval_3=pd.DataFrame({'Accuracy: RF':random_forest.score(Xtest, ytest), 'Recall: RF':recall_score(ytest,random_forest.predict(Xtest)), 'Accuracy:Lasso':lasso.score(Xtest, ytest), 'Recall: Lasso':recall_score(ytest, lasso.predict(Xtest)), 'Accuracy:Logit':logit.score(Xtest, ytest), 'Recall: Logit':recall_score(ytest, logit.predict(Xtest))}, index=[0])\n",
    "eval_3"
   ]
  },
  {
   "cell_type": "markdown",
   "metadata": {},
   "source": [
    "**Complile and export evaluation scores from each model to csv format**"
   ]
  },
  {
   "cell_type": "code",
   "execution_count": 118,
   "metadata": {},
   "outputs": [],
   "source": [
    "## rename index to differenciate evaluation scores\n",
    "eval_1=eval_1.rename(index={0: \"desert vs. healthful\"})\n",
    "eval_2=eval_2.rename(index={0: \"swamp vs. healthful\"})\n",
    "eval_3=eval_3.rename(index={0: \"desert vs. swamp\"})"
   ]
  },
  {
   "cell_type": "code",
   "execution_count": 119,
   "metadata": {},
   "outputs": [],
   "source": [
    "## concatenate and export\n",
    "eval_combined=pd.concat([eval_1, eval_2, eval_3])\n",
    "eval_combined.to_csv('output/tables/evaluation_scores.csv')"
   ]
  },
  {
   "cell_type": "code",
   "execution_count": 120,
   "metadata": {},
   "outputs": [
    {
     "data": {
      "text/html": [
       "<div>\n",
       "<style scoped>\n",
       "    .dataframe tbody tr th:only-of-type {\n",
       "        vertical-align: middle;\n",
       "    }\n",
       "\n",
       "    .dataframe tbody tr th {\n",
       "        vertical-align: top;\n",
       "    }\n",
       "\n",
       "    .dataframe thead th {\n",
       "        text-align: right;\n",
       "    }\n",
       "</style>\n",
       "<table border=\"1\" class=\"dataframe\">\n",
       "  <thead>\n",
       "    <tr style=\"text-align: right;\">\n",
       "      <th></th>\n",
       "      <th>Accuracy: RF</th>\n",
       "      <th>Recall: RF</th>\n",
       "      <th>Accuracy:Lasso</th>\n",
       "      <th>Recall: Lasso</th>\n",
       "      <th>Accuracy:Logit</th>\n",
       "      <th>Recall: Logit</th>\n",
       "    </tr>\n",
       "  </thead>\n",
       "  <tbody>\n",
       "    <tr>\n",
       "      <th>desert vs. healthful</th>\n",
       "      <td>0.673164</td>\n",
       "      <td>0.469771</td>\n",
       "      <td>0.585492</td>\n",
       "      <td>0.678912</td>\n",
       "      <td>0.583801</td>\n",
       "      <td>0.682962</td>\n",
       "    </tr>\n",
       "    <tr>\n",
       "      <th>swamp vs. healthful</th>\n",
       "      <td>0.670941</td>\n",
       "      <td>0.512889</td>\n",
       "      <td>0.617810</td>\n",
       "      <td>0.745166</td>\n",
       "      <td>0.617810</td>\n",
       "      <td>0.733888</td>\n",
       "    </tr>\n",
       "    <tr>\n",
       "      <th>desert vs. swamp</th>\n",
       "      <td>0.737530</td>\n",
       "      <td>0.632741</td>\n",
       "      <td>0.711676</td>\n",
       "      <td>0.566514</td>\n",
       "      <td>0.735844</td>\n",
       "      <td>0.651089</td>\n",
       "    </tr>\n",
       "  </tbody>\n",
       "</table>\n",
       "</div>"
      ],
      "text/plain": [
       "                      Accuracy: RF  Recall: RF  Accuracy:Lasso  Recall: Lasso  \\\n",
       "desert vs. healthful      0.673164    0.469771        0.585492       0.678912   \n",
       "swamp vs. healthful       0.670941    0.512889        0.617810       0.745166   \n",
       "desert vs. swamp          0.737530    0.632741        0.711676       0.566514   \n",
       "\n",
       "                      Accuracy:Logit  Recall: Logit  \n",
       "desert vs. healthful        0.583801       0.682962  \n",
       "swamp vs. healthful         0.617810       0.733888  \n",
       "desert vs. swamp            0.735844       0.651089  "
      ]
     },
     "execution_count": 120,
     "metadata": {},
     "output_type": "execute_result"
    }
   ],
   "source": [
    "## view exported dataframe\n",
    "eval_combined"
   ]
  },
  {
   "cell_type": "markdown",
   "metadata": {},
   "source": [
    "  `Plot ROC AUC`"
   ]
  },
  {
   "cell_type": "code",
   "execution_count": 121,
   "metadata": {},
   "outputs": [],
   "source": [
    "## save logistic predictions to object\n",
    "y_pred = logit.predict_proba(Xtest)"
   ]
  },
  {
   "cell_type": "code",
   "execution_count": 122,
   "metadata": {},
   "outputs": [
    {
     "name": "stdout",
     "output_type": "stream",
     "text": [
      "Logistic Regression AUC:  0.814279987789494\n"
     ]
    }
   ],
   "source": [
    "## generate true positives and false positives for KNN\n",
    "false_positive_rate, true_positive_rate, thresholds = roc_curve(ytest, y_pred[:,1], pos_label=1)\n",
    "logit_rates = pd.DataFrame(dict(fpr=false_positive_rate, tpr=true_positive_rate))\n",
    "logit_auc = auc(logit_rates['fpr'], logit_rates['tpr'])\n",
    "print('Logistic Regression AUC: ', logit_auc)"
   ]
  },
  {
   "cell_type": "code",
   "execution_count": 123,
   "metadata": {},
   "outputs": [],
   "source": [
    "## save lasso predictions to object\n",
    "y_pred = lasso.predict_proba(Xtest)"
   ]
  },
  {
   "cell_type": "code",
   "execution_count": 124,
   "metadata": {},
   "outputs": [
    {
     "name": "stdout",
     "output_type": "stream",
     "text": [
      "LASSO AUC:  0.7875037762822927\n"
     ]
    }
   ],
   "source": [
    "## generate true positives and false positives for log_reg\n",
    "false_positive_rate, true_positive_rate, thresholds = roc_curve(ytest, y_pred[:,1], pos_label=1)\n",
    "lasso_rates = pd.DataFrame(dict(fpr=false_positive_rate, tpr=true_positive_rate))\n",
    "lasso_auc = auc(lasso_rates['fpr'], lasso_rates['tpr'])\n",
    "print('LASSO AUC: ', lasso_auc)"
   ]
  },
  {
   "cell_type": "code",
   "execution_count": 125,
   "metadata": {},
   "outputs": [],
   "source": [
    "## save NB predictions to object\n",
    "y_pred = random_forest.predict_proba(Xtest)"
   ]
  },
  {
   "cell_type": "code",
   "execution_count": 126,
   "metadata": {},
   "outputs": [
    {
     "name": "stdout",
     "output_type": "stream",
     "text": [
      "Random Forest AUC:  0.8244786360384366\n"
     ]
    }
   ],
   "source": [
    "## generate true positives and false positives for NB\n",
    "false_positive_rate, true_positive_rate, thresholds = roc_curve(ytest, y_pred[:,1], pos_label=1)\n",
    "random_forest_rates = pd.DataFrame(dict(fpr=false_positive_rate, tpr=true_positive_rate))\n",
    "random_forest_auc = auc(random_forest_rates['fpr'], random_forest_rates['tpr'])\n",
    "print('Random Forest AUC: ', random_forest_auc)"
   ]
  },
  {
   "cell_type": "code",
   "execution_count": 127,
   "metadata": {},
   "outputs": [
    {
     "data": {
      "image/png": "[encoded data removed]",
      "text/plain": [
       "<Figure size 432x288 with 1 Axes>"
      ]
     },
     "metadata": {
      "needs_background": "light"
     },
     "output_type": "display_data"
    }
   ],
   "source": [
    "## plot ROC for KNN, log-reg, and NB\n",
    "fig3 = plt.figure()\n",
    "plt.plot(logit_rates.fpr, logit_rates.tpr, 'b', label = 'Logistic Regression')\n",
    "plt.plot(lasso_rates.fpr, lasso_rates.tpr, 'g', label = 'LASSO')\n",
    "plt.plot(random_forest_rates.fpr, random_forest_rates.tpr, 'r', label = 'Random Forest')\n",
    "plt.plot([0, 1], [0, 1],'--')\n",
    "plt.xlim([0, 1])\n",
    "plt.ylim([0, 1])\n",
    "plt.ylabel('True Positive Rate')\n",
    "plt.xlabel('False Positive Rate')\n",
    "plt.title('Receiver Operating Characteristic')\n",
    "plt.legend(loc = 'lower right')\n",
    "plt.show()"
   ]
  },
  {
   "cell_type": "code",
   "execution_count": null,
   "metadata": {},
   "outputs": [],
   "source": []
  },
  {
   "cell_type": "code",
   "execution_count": null,
   "metadata": {},
   "outputs": [],
   "source": []
  }
 ],
 "metadata": {
  "kernelspec": {
   "display_name": "Python 3",
   "language": "python",
   "name": "python3"
  },
  "language_info": {
   "codemirror_mode": {
    "name": "ipython",
    "version": 3
   },
   "file_extension": ".py",
   "mimetype": "text/x-python",
   "name": "python",
   "nbconvert_exporter": "python",
   "pygments_lexer": "ipython3",
   "version": "3.8.3"
  }
 },
 "nbformat": 4,
 "nbformat_minor": 4
}
